{
 "cells": [
  {
   "cell_type": "markdown",
   "metadata": {},
   "source": [
    "# SnpData"
   ]
  },
  {
   "cell_type": "markdown",
   "metadata": {},
   "source": [
    "`SnpData` stores all SNP information in addition to genotypes. We initialize `SnpData` from Plink binary files. Note all three Plink files `.bed`, `.bim` and `.fam` need to be present."
   ]
  },
  {
   "cell_type": "code",
   "execution_count": 1,
   "metadata": {
    "collapsed": false
   },
   "outputs": [
    {
     "data": {
      "text/plain": [
       "14-element Array{Symbol,1}:\n",
       " :people             \n",
       " :snps               \n",
       " :personid           \n",
       " :snpid              \n",
       " :chromosome         \n",
       " :genetic_distance   \n",
       " :basepairs          \n",
       " :allele1            \n",
       " :allele2            \n",
       " :maf                \n",
       " :minor_allele       \n",
       " :snpmatrix          \n",
       " :missings_per_person\n",
       " :missings_per_snp   "
      ]
     },
     "execution_count": 1,
     "metadata": {},
     "output_type": "execute_result"
    }
   ],
   "source": [
    "using SnpArrays\n",
    "hapmap_snpdata = SnpData(\"hapmap3\")\n",
    "fieldnames(hapmap_snpdata)"
   ]
  },
  {
   "cell_type": "code",
   "execution_count": 2,
   "metadata": {
    "collapsed": false
   },
   "outputs": [
    {
     "data": {
      "text/plain": [
       "10-element Array{AbstractString,1}:\n",
       " \"rs10458597\"\n",
       " \"rs12562034\"\n",
       " \"rs2710875\" \n",
       " \"rs11260566\"\n",
       " \"rs1312568\" \n",
       " \"rs35154105\"\n",
       " \"rs16824508\"\n",
       " \"rs2678939\" \n",
       " \"rs7553178\" \n",
       " \"rs13376356\""
      ]
     },
     "execution_count": 2,
     "metadata": {},
     "output_type": "execute_result"
    }
   ],
   "source": [
    "hapmap_snpdata.snpid[1:10]"
   ]
  },
  {
   "cell_type": "code",
   "execution_count": 3,
   "metadata": {
    "collapsed": false
   },
   "outputs": [
    {
     "data": {
      "text/plain": [
       "10-element Array{AbstractString,1}:\n",
       " \"NA19916\"\n",
       " \"NA19835\"\n",
       " \"NA20282\"\n",
       " \"NA19703\"\n",
       " \"NA19901\"\n",
       " \"NA19908\"\n",
       " \"NA19914\"\n",
       " \"NA20287\"\n",
       " \"NA19713\"\n",
       " \"NA19904\""
      ]
     },
     "execution_count": 3,
     "metadata": {},
     "output_type": "execute_result"
    }
   ],
   "source": [
    "hapmap_snpdata.personid[1:10]"
   ]
  },
  {
   "cell_type": "markdown",
   "metadata": {},
   "source": [
    "To write `SnpData` to Plink **bed** and **bim** files, we use `writeplink(filename, snpdata)`."
   ]
  },
  {
   "cell_type": "code",
   "execution_count": 4,
   "metadata": {
    "collapsed": true
   },
   "outputs": [],
   "source": [
    "#writeplink(filename, hapmap_snpdata)"
   ]
  }
 ],
 "metadata": {
  "kernelspec": {
   "display_name": "Julia 0.4.6",
   "language": "julia",
   "name": "julia-0.4"
  },
  "language_info": {
   "file_extension": ".jl",
   "mimetype": "application/julia",
   "name": "julia",
   "version": "0.4.6"
  }
 },
 "nbformat": 4,
 "nbformat_minor": 0
}
