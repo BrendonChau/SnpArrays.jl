{
 "cells": [
  {
   "cell_type": "markdown",
   "metadata": {},
   "source": [
    "# HaplotypeArray"
   ]
  },
  {
   "cell_type": "markdown",
   "metadata": {},
   "source": [
    "The `HaplotypeArray` type is similar to [SnpArray](@ref), but with two key differences:  \n",
    "\n",
    "* The two alleles are ordered, therefore (A1, A2) is different from (A2, A1);  \n",
    "* The code `(true,false)` means the genotype (A2, A1), instead of the missing genotype in `SnpArray`.  \n",
    "\n",
    "| Genotype | HaplotypeArray |  \n",
    "|:---:|:---:|  \n",
    "| A1,A1 | (false,false) |  \n",
    "| A1,A2 | (false,true) |  \n",
    "| A2,A1 | (true,false) |  \n",
    "| A2,A2 | (true,true) |  \n",
    "Each bit `true` in `HaplotypeArray` indicates a copy of the A2 allele. "
   ]
  },
  {
   "cell_type": "markdown",
   "metadata": {},
   "source": [
    "## Constructor\n",
    "\n",
    "There are various ways to initialize a `HaplotypeArray`.  \n",
    "\n",
    "* `HaplotypeArray` can be intialized from two `BitArray`s. Each `BitArray` indicates an A2 allele copy in the first and second positions respectively."
   ]
  },
  {
   "cell_type": "code",
   "execution_count": 35,
   "metadata": {
    "collapsed": false
   },
   "outputs": [
    {
     "data": {
      "text/plain": [
       "5×3 SnpArrays.HaplotypeArray{2}:\n",
       " (true, false)  (false, true)   (true, false) \n",
       " (true, true)   (false, false)  (true, false) \n",
       " (true, false)  (true, true)    (true, false) \n",
       " (true, false)  (false, false)  (false, false)\n",
       " (false, true)  (true, false)   (false, false)"
      ]
     },
     "execution_count": 35,
     "metadata": {},
     "output_type": "execute_result"
    }
   ],
   "source": [
    "using SnpArrays\n",
    "h = HaplotypeArray(bitrand(5, 3), bitrand(5, 3))"
   ]
  },
  {
   "cell_type": "markdown",
   "metadata": {},
   "source": [
    "* `HaplotypeArray` can be intialized from a `SnpArray`."
   ]
  },
  {
   "cell_type": "code",
   "execution_count": 36,
   "metadata": {
    "collapsed": false
   },
   "outputs": [
    {
     "data": {
      "text/plain": [
       "5×3 SnpArrays.HaplotypeArray{2}:\n",
       " (false, true)   (true, true)    (false, true) \n",
       " (true, false)   (true, false)   (true, true)  \n",
       " (false, false)  (false, false)  (false, true) \n",
       " (false, false)  (false, false)  (true, false) \n",
       " (true, true)    (true, false)   (false, false)"
      ]
     },
     "execution_count": 36,
     "metadata": {},
     "output_type": "execute_result"
    }
   ],
   "source": [
    "s = SnpArray(bitrand(5, 3), bitrand(5, 3))\n",
    "h = HaplotypeArray(s)"
   ]
  },
  {
   "cell_type": "markdown",
   "metadata": {},
   "source": [
    "This constructor does **not** copy data from `SnpArray`. Therefore both `h` and `s` points to the same patch of memory. Only the interpretation of `(true, false)` changes."
   ]
  },
  {
   "cell_type": "code",
   "execution_count": 37,
   "metadata": {
    "collapsed": false
   },
   "outputs": [
    {
     "data": {
      "text/plain": [
       "5×3 BitArray{2}:\n",
       " false  false  false\n",
       "  true   true  false\n",
       " false  false  false\n",
       " false  false   true\n",
       " false   true  false"
      ]
     },
     "execution_count": 37,
     "metadata": {},
     "output_type": "execute_result"
    }
   ],
   "source": [
    "isnan(s)"
   ]
  },
  {
   "cell_type": "code",
   "execution_count": 38,
   "metadata": {
    "collapsed": false
   },
   "outputs": [
    {
     "data": {
      "text/plain": [
       "5×3 BitArray{2}:\n",
       " false  false  false\n",
       " false  false  false\n",
       " false  false  false\n",
       " false  false  false\n",
       " false  false  false"
      ]
     },
     "execution_count": 38,
     "metadata": {},
     "output_type": "execute_result"
    }
   ],
   "source": [
    "isnan(h)"
   ]
  },
  {
   "cell_type": "markdown",
   "metadata": {},
   "source": [
    "Changes to `h` also effect `s`."
   ]
  },
  {
   "cell_type": "code",
   "execution_count": 39,
   "metadata": {
    "collapsed": false
   },
   "outputs": [
    {
     "data": {
      "text/plain": [
       "5×3 BitArray{2}:\n",
       " false  false  false\n",
       " false  false  false\n",
       " false  false  false\n",
       " false  false  false\n",
       " false  false  false"
      ]
     },
     "execution_count": 39,
     "metadata": {},
     "output_type": "execute_result"
    }
   ],
   "source": [
    "h[isnan(s)] = (true, true)\n",
    "isnan(s)"
   ]
  },
  {
   "cell_type": "markdown",
   "metadata": {},
   "source": [
    "* `HaplotypeArray(m, n)` generates an m by n `HaplotypeArray` of all A1 alleles."
   ]
  },
  {
   "cell_type": "code",
   "execution_count": 40,
   "metadata": {
    "collapsed": false
   },
   "outputs": [
    {
     "data": {
      "text/plain": [
       "5×3 SnpArrays.HaplotypeArray{2}:\n",
       " (false, false)  (false, false)  (false, false)\n",
       " (false, false)  (false, false)  (false, false)\n",
       " (false, false)  (false, false)  (false, false)\n",
       " (false, false)  (false, false)  (false, false)\n",
       " (false, false)  (false, false)  (false, false)"
      ]
     },
     "execution_count": 40,
     "metadata": {},
     "output_type": "execute_result"
    }
   ],
   "source": [
    "HaplotypeArray(5, 3)"
   ]
  },
  {
   "cell_type": "markdown",
   "metadata": {},
   "source": [
    "## Summary statistics\n",
    "\n",
    "`summarize` when applied to a `HaplotypeArray` only computes  \n",
    "\n",
    "* `maf`: minor allele frequencies, taking into account of missingness.  \n",
    "* `minor_allele`: a `BitVector` indicating the minor allele for each SNP.   `minor_allele[j]==true` means A1 is the minor allele for SNP j; `minor_allele[j]==false` means A2 is the minor allele for SNP j.  "
   ]
  },
  {
   "cell_type": "code",
   "execution_count": 41,
   "metadata": {
    "collapsed": false
   },
   "outputs": [
    {
     "data": {
      "text/plain": [
       "([0.5, 0.4, 0.4], Bool[false, true, true])"
      ]
     },
     "execution_count": 41,
     "metadata": {},
     "output_type": "execute_result"
    }
   ],
   "source": [
    "maf, minor_allele = summarize(h)"
   ]
  },
  {
   "cell_type": "markdown",
   "metadata": {},
   "source": [
    "## Subsetting and assignment\n",
    "\n",
    "Subsetting and assignment work the same as [SnpArray](@ref)."
   ]
  },
  {
   "cell_type": "markdown",
   "metadata": {
    "collapsed": true
   },
   "source": [
    "## Copy and convert\n",
    "\n",
    "Copying or converting a `HaplotypeArray` or slices of it to numeric arrays of **minor allele counts** is similar to `SnpArray` with the exception there are no missing genotypes in `HaplotypeArray`. So the keyword `impute` is not relevant anymore."
   ]
  },
  {
   "cell_type": "code",
   "execution_count": 42,
   "metadata": {
    "collapsed": false
   },
   "outputs": [
    {
     "data": {
      "text/plain": [
       "5×3 Array{Float64,2}:\n",
       " 1.0  0.0  1.0\n",
       " 2.0  0.0  0.0\n",
       " 0.0  2.0  1.0\n",
       " 0.0  2.0  0.0\n",
       " 2.0  0.0  2.0"
      ]
     },
     "execution_count": 42,
     "metadata": {},
     "output_type": "execute_result"
    }
   ],
   "source": [
    "# convert to Matrix{Float64}\n",
    "h_f64 = convert(Matrix{Float64}, h)"
   ]
  },
  {
   "cell_type": "markdown",
   "metadata": {},
   "source": [
    "By default `convert` translates genotypes according to the *additive* SNP model, which essentially counts the number of **minor allele** (0, 1 or 2) per genotype. Other SNP models are *dominant* and *recessive*, both in terms of the **minor allele**. When `A1` is the minor allele, genotypes are translated to real number according to\n",
    "\n",
    "| Genotype | `HaplotypeArray` | `model=:additive` | `model=:dominant` | `model=:recessive` |    \n",
    "|:---:|:---:|:---:|:---:|:---:|  \n",
    "| A1,A1 | 00 | 2 | 1 | 1 |  \n",
    "| A1,A2 | 01 | 1 | 1 | 0 |  \n",
    "| A2,A1 | 10 | 1 | 1 | 0 |  \n",
    "| A2,A2 | 11 | 0 | 0 | 0 |  \n",
    "\n",
    "When `A2` is the minor allele, genotypes are translated according to\n",
    "\n",
    "| Genotype | `HaplotypeArray` | `model=:additive` | `model=:dominant` | `model=:recessive` |    \n",
    "|:---:|:---:|:---:|:---:|:---:|  \n",
    "| A1,A1 | 00 | 0 | 0 | 0 |  \n",
    "| A1,A2 | 01 | 1 | 1 | 0 |  \n",
    "| A2,A1 | 01 | 1 | 1 | 0 |  \n",
    "| A2,A2 | 11 | 2 | 1 | 1 |  "
   ]
  },
  {
   "cell_type": "code",
   "execution_count": 43,
   "metadata": {
    "collapsed": false
   },
   "outputs": [
    {
     "data": {
      "text/plain": [
       "5×3 Array{Float64,2}:\n",
       " 1.0  1.0  0.0\n",
       " 0.0  0.0  0.0\n",
       " 1.0  1.0  0.0\n",
       " 0.0  0.0  0.0\n",
       " 2.0  1.0  1.0"
      ]
     },
     "execution_count": 43,
     "metadata": {},
     "output_type": "execute_result"
    }
   ],
   "source": [
    "[convert(Vector{Float64}, h[1:5, 3]; model = :additive) convert(Vector{Float64}, h[1:5, 3]; model = :dominant) convert(Vector{Float64}, h[1:5, 3]; model = :recessive)]"
   ]
  },
  {
   "cell_type": "markdown",
   "metadata": {},
   "source": [
    "By default `convert` does **not** center and scale genotypes. Setting the optional arguments `center=true, scale=true` centers genotypes at 2MAF and scales them by $[2 \\cdot \\text{MAF} \\cdot (1 - \\text{MAF})]^{-1/2}$. Mono-allelic SNPs (MAF=0) are not scaled."
   ]
  },
  {
   "cell_type": "code",
   "execution_count": 44,
   "metadata": {
    "collapsed": false
   },
   "outputs": [
    {
     "data": {
      "text/plain": [
       "5×2 Array{Float64,2}:\n",
       " 1.0   0.288675\n",
       " 0.0  -1.1547  \n",
       " 1.0   0.288675\n",
       " 0.0  -1.1547  \n",
       " 2.0   1.73205 "
      ]
     },
     "execution_count": 44,
     "metadata": {},
     "output_type": "execute_result"
    }
   ],
   "source": [
    "[convert(Vector{Float64}, h[:, 3]) convert(Vector{Float64}, h[:, 3]; center = true, scale = true)]"
   ]
  },
  {
   "cell_type": "markdown",
   "metadata": {},
   "source": [
    "`copy!` is the in-place version of `convert()`. Options such as GWAS loop over SNPs and perform statistical anlaysis for each SNP. This can be achieved by"
   ]
  },
  {
   "cell_type": "code",
   "execution_count": 45,
   "metadata": {
    "collapsed": false
   },
   "outputs": [],
   "source": [
    "g = zeros(size(h, 1))\n",
    "for j = 1:size(h, 2)\n",
    "    copy!(g, h[:, j]; model = :additive)\n",
    "    # do statistical anlaysis\n",
    "end"
   ]
  }
 ],
 "metadata": {
  "anaconda-cloud": {},
  "kernelspec": {
   "display_name": "Julia 0.6.0",
   "language": "julia",
   "name": "julia-0.6"
  },
  "language_info": {
   "file_extension": ".jl",
   "mimetype": "application/julia",
   "name": "julia",
   "version": "0.6.0"
  }
 },
 "nbformat": 4,
 "nbformat_minor": 0
}
