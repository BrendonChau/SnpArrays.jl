{
 "cells": [
  {
   "cell_type": "markdown",
   "metadata": {},
   "source": [
    "# SnpArrays.jl"
   ]
  },
  {
   "cell_type": "markdown",
   "metadata": {},
   "source": [
    "The module `SnpArrays` implements the `SnpArray` type for handling biallelic genotypes. `SnpArray` is an array of `Tuple{Bool,Bool}` and adopts the same coding as the [Plink binary format](http://pngu.mgh.harvard.edu/~purcell/plink/binary.shtml). If `A1` and `A2` are two alleles, the coding rule is  \n",
    "\n",
    "| Genotype | SnpArray |  \n",
    "|---|---|---|  \n",
    "| A1,A1 | 00 |  \n",
    "| A1,A2 | 01 |  \n",
    "| A2,A2 | 11 |  \n",
    "| missing | 10 |  \n",
    "The code `10==(true,false)` is reserved for missing genotype. Otherwise the bit `1==true` represents one copy of allele `A2`. For a two-dimensional `SnpArray`, it assumes each row is a person and each column is a SNP.\n",
    "\n",
    "## Constructor\n",
    "\n",
    "There are various ways to initialize a `SnpArray`.  \n",
    "\n",
    "* `SnpArray` can be initialized from [Plink binary files](http://pngu.mgh.harvard.edu/~purcell/plink/binary.shtml), say an example data set of the MAP4 gene on chromosome 3:"
   ]
  },
  {
   "cell_type": "code",
   "execution_count": 1,
   "metadata": {
    "collapsed": false
   },
   "outputs": [
    {
     "name": "stdout",
     "output_type": "stream",
     "text": [
      "-rw-r--r--  1 hzhou3  staff  215043 Jul 16  2014 chr3-map4-geno.bed\n",
      "-rw-r--r--  1 hzhou3  staff   25088 Jul 16  2014 chr3-map4-geno.bim\n",
      "-rw-r--r--  1 hzhou3  staff   39356 Jul 16  2014 chr3-map4-geno.fam\n",
      "-rw-r--r--  1 hzhou3  staff    2321 Jul 16  2014 chr3-map4-geno.log\n"
     ]
    }
   ],
   "source": [
    ";ls -al chr3-map4-geno.*"
   ]
  },
  {
   "cell_type": "code",
   "execution_count": 2,
   "metadata": {
    "collapsed": false
   },
   "outputs": [
    {
     "data": {
      "text/plain": [
       "959x896 SnpArrays.SnpArray{2}:\n",
       " (true,true)   (true,true)  (true,true)   …  (false,true)   (true,true)\n",
       " (false,true)  (true,true)  (true,true)      (false,true)   (true,true)\n",
       " (true,true)   (true,true)  (true,true)      (true,true)    (true,true)\n",
       " (false,true)  (true,true)  (true,true)      (false,true)   (true,true)\n",
       " (true,true)   (true,true)  (true,true)      (true,true)    (true,true)\n",
       " (true,true)   (true,true)  (true,true)   …  (true,true)    (true,true)\n",
       " (false,true)  (true,true)  (true,true)      (false,false)  (true,true)\n",
       " (true,true)   (true,true)  (true,true)      (false,true)   (true,true)\n",
       " (true,true)   (true,true)  (false,true)     (false,true)   (true,true)\n",
       " (true,true)   (true,true)  (true,true)      (true,true)    (true,true)\n",
       " (true,true)   (true,true)  (true,true)   …  (true,true)    (true,true)\n",
       " (true,true)   (true,true)  (true,true)      (true,true)    (true,true)\n",
       " (false,true)  (true,true)  (true,true)      (false,true)   (true,true)\n",
       " ⋮                                        ⋱                 ⋮          \n",
       " (true,true)   (true,true)  (true,true)      (true,true)    (true,true)\n",
       " (true,true)   (true,true)  (true,true)      (true,true)    (true,true)\n",
       " (true,true)   (true,true)  (true,true)      (true,true)    (true,true)\n",
       " (true,true)   (true,true)  (true,true)   …  (true,true)    (true,true)\n",
       " (false,true)  (true,true)  (true,true)      (false,true)   (true,true)\n",
       " (false,true)  (true,true)  (true,true)      (false,true)   (true,true)\n",
       " (false,true)  (true,true)  (true,true)      (false,true)   (true,true)\n",
       " (false,true)  (true,true)  (true,true)      (false,true)   (true,true)\n",
       " (false,true)  (true,true)  (true,true)   …  (false,true)   (true,true)\n",
       " (false,true)  (true,true)  (true,true)      (false,true)   (true,true)\n",
       " (true,true)   (true,true)  (true,true)      (true,true)    (true,true)\n",
       " (true,true)   (true,true)  (true,true)      (false,true)   (true,true)"
      ]
     },
     "execution_count": 2,
     "metadata": {},
     "output_type": "execute_result"
    }
   ],
   "source": [
    "include(\"../src/SnpArrays.jl\")\n",
    "using SnpArrays\n",
    "map4 = SnpArray(\"chr3-map4-geno\")"
   ]
  },
  {
   "cell_type": "code",
   "execution_count": 3,
   "metadata": {
    "collapsed": false
   },
   "outputs": [
    {
     "data": {
      "text/plain": [
       "(959,896)"
      ]
     },
     "execution_count": 3,
     "metadata": {},
     "output_type": "execute_result"
    }
   ],
   "source": [
    "# rows are persons; columns are SNPs\n",
    "people, snps = size(map4)"
   ]
  },
  {
   "cell_type": "markdown",
   "metadata": {},
   "source": [
    "Internally `SnpArray` stores data as `BitArray`s and consumes approximately amount of memrory as the Plink `bed` file size."
   ]
  },
  {
   "cell_type": "code",
   "execution_count": 4,
   "metadata": {
    "collapsed": false
   },
   "outputs": [
    {
     "data": {
      "text/plain": [
       "214896"
      ]
     },
     "execution_count": 4,
     "metadata": {},
     "output_type": "execute_result"
    }
   ],
   "source": [
    "# memory usage\n",
    "Base.summarysize(map4)"
   ]
  },
  {
   "cell_type": "markdown",
   "metadata": {},
   "source": [
    "* `SnpArray` can be initialized from a matrix of A1 allele counts."
   ]
  },
  {
   "cell_type": "code",
   "execution_count": 5,
   "metadata": {
    "collapsed": false
   },
   "outputs": [
    {
     "data": {
      "text/plain": [
       "5x3 SnpArrays.SnpArray{2}:\n",
       " (false,false)  (false,false)  (true,true)  \n",
       " (false,false)  (true,true)    (false,true) \n",
       " (false,false)  (true,true)    (false,true) \n",
       " (false,true)   (true,true)    (false,false)\n",
       " (false,false)  (false,true)   (false,true) "
      ]
     },
     "execution_count": 5,
     "metadata": {},
     "output_type": "execute_result"
    }
   ],
   "source": [
    "SnpArray(rand(0:2, 5, 3))"
   ]
  },
  {
   "cell_type": "markdown",
   "metadata": {},
   "source": [
    "* `SnpArray(m, n)` generates an m by n `SnpArray` with all A1 alleles."
   ]
  },
  {
   "cell_type": "code",
   "execution_count": 6,
   "metadata": {
    "collapsed": false
   },
   "outputs": [
    {
     "data": {
      "text/plain": [
       "5x3 SnpArrays.SnpArray{2}:\n",
       " (false,false)  (false,false)  (false,false)\n",
       " (false,false)  (false,false)  (false,false)\n",
       " (false,false)  (false,false)  (false,false)\n",
       " (false,false)  (false,false)  (false,false)\n",
       " (false,false)  (false,false)  (false,false)"
      ]
     },
     "execution_count": 6,
     "metadata": {},
     "output_type": "execute_result"
    }
   ],
   "source": [
    "s = SnpArray(5, 3)"
   ]
  },
  {
   "cell_type": "markdown",
   "metadata": {},
   "source": [
    "## Summary statistics\n",
    "\n",
    "`summarize()` computes  \n",
    "* `maf`: minor allele frequencies, taking into account of missingness.  \n",
    "* `minor_allele`: a BitVector indicating the minor allele for each SNP. `minor_allele[j]==true` means A1 is the minor allele for SNP j. \n",
    "* `missings_by_snp`: number of missing genotypes for each snp.  \n",
    "* `missing_by_person`: number of missing genotypes for each person."
   ]
  },
  {
   "cell_type": "code",
   "execution_count": 7,
   "metadata": {
    "collapsed": false
   },
   "outputs": [
    {
     "data": {
      "text/plain": [
       "1x896 Array{Float64,2}:\n",
       " 0.226799  0.00208551  0.0260688  …  0.00260688  0.382046  0.00260688"
      ]
     },
     "execution_count": 7,
     "metadata": {},
     "output_type": "execute_result"
    }
   ],
   "source": [
    "maf, minor_allele, missings_by_snp, missings_by_person = summarize(map4)\n",
    "# minor allele frequencies\n",
    "maf'"
   ]
  },
  {
   "cell_type": "code",
   "execution_count": 8,
   "metadata": {
    "collapsed": false
   },
   "outputs": [
    {
     "data": {
      "text/plain": [
       "(218,218)"
      ]
     },
     "execution_count": 8,
     "metadata": {},
     "output_type": "execute_result"
    }
   ],
   "source": [
    "# total number of missing genotypes\n",
    "sum(missings_by_snp), sum(missings_by_person)"
   ]
  },
  {
   "cell_type": "markdown",
   "metadata": {},
   "source": [
    "## Random genotypes\n",
    "\n",
    "`randgeno(a1freq)` generates a random genotype according to allele A1 frequency `a1freq`."
   ]
  },
  {
   "cell_type": "code",
   "execution_count": 9,
   "metadata": {
    "collapsed": false
   },
   "outputs": [
    {
     "data": {
      "text/plain": [
       "(true,true)"
      ]
     },
     "execution_count": 9,
     "metadata": {},
     "output_type": "execute_result"
    }
   ],
   "source": [
    "randgeno(0.5)"
   ]
  },
  {
   "cell_type": "markdown",
   "metadata": {},
   "source": [
    "`randgeno(maf, minor_allele)` generates a random genotype according to minor allele frequency `maf` and whether the minor allele is A1 (`minor_allele==true`) or A2 (`minor_allele==false`)."
   ]
  },
  {
   "cell_type": "code",
   "execution_count": 10,
   "metadata": {
    "collapsed": false
   },
   "outputs": [
    {
     "data": {
      "text/plain": [
       "(true,true)"
      ]
     },
     "execution_count": 10,
     "metadata": {},
     "output_type": "execute_result"
    }
   ],
   "source": [
    "randgeno(0.5, true)"
   ]
  },
  {
   "cell_type": "markdown",
   "metadata": {},
   "source": [
    "`randgeno(n, maf, minor_allele)` generates a vector of random genotypes according to a common minor allele frequency `maf` and the minor allele."
   ]
  },
  {
   "cell_type": "code",
   "execution_count": 11,
   "metadata": {
    "collapsed": false
   },
   "outputs": [
    {
     "data": {
      "text/plain": [
       "10-element SnpArrays.SnpArray{1}:\n",
       " (false,true) \n",
       " (false,true) \n",
       " (false,false)\n",
       " (true,true)  \n",
       " (false,true) \n",
       " (true,true)  \n",
       " (false,false)\n",
       " (true,true)  \n",
       " (true,true)  \n",
       " (false,true) "
      ]
     },
     "execution_count": 11,
     "metadata": {},
     "output_type": "execute_result"
    }
   ],
   "source": [
    "randgeno(10, 0.25, true)"
   ]
  },
  {
   "cell_type": "markdown",
   "metadata": {},
   "source": [
    "`randgeno(m, n, maf, minor_allele)` generates a random $m$-by-$n$ `SnpArray` according to a vector of minor allele frequencies `maf` and a minor allele indicator vector. Lengths of both vectors should be $n$."
   ]
  },
  {
   "cell_type": "code",
   "execution_count": 12,
   "metadata": {
    "collapsed": false
   },
   "outputs": [
    {
     "data": {
      "text/plain": [
       "959x896 SnpArrays.SnpArray{2}:\n",
       " (false,true)   (true,true)  (true,true)   …  (false,true)   (true,true) \n",
       " (true,true)    (true,true)  (true,true)      (false,true)   (true,true) \n",
       " (false,true)   (true,true)  (true,true)      (true,true)    (true,true) \n",
       " (true,true)    (true,true)  (true,true)      (true,true)    (true,true) \n",
       " (false,true)   (true,true)  (true,true)      (false,true)   (false,true)\n",
       " (false,true)   (true,true)  (true,true)   …  (false,true)   (true,true) \n",
       " (true,true)    (true,true)  (true,true)      (false,true)   (true,true) \n",
       " (true,true)    (true,true)  (true,true)      (false,true)   (true,true) \n",
       " (false,true)   (true,true)  (true,true)      (true,true)    (true,true) \n",
       " (false,true)   (true,true)  (true,true)      (false,true)   (true,true) \n",
       " (false,true)   (true,true)  (true,true)   …  (false,true)   (true,true) \n",
       " (false,true)   (true,true)  (true,true)      (true,true)    (true,true) \n",
       " (true,true)    (true,true)  (true,true)      (true,true)    (true,true) \n",
       " ⋮                                         ⋱                 ⋮           \n",
       " (true,true)    (true,true)  (true,true)      (true,true)    (true,true) \n",
       " (true,true)    (true,true)  (true,true)      (false,true)   (true,true) \n",
       " (true,true)    (true,true)  (true,true)      (false,true)   (true,true) \n",
       " (false,false)  (true,true)  (true,true)   …  (true,true)    (true,true) \n",
       " (true,true)    (true,true)  (true,true)      (false,true)   (true,true) \n",
       " (false,true)   (true,true)  (false,true)     (true,true)    (true,true) \n",
       " (false,true)   (true,true)  (true,true)      (false,true)   (true,true) \n",
       " (true,true)    (true,true)  (false,true)     (true,true)    (true,true) \n",
       " (true,true)    (true,true)  (true,true)   …  (false,false)  (true,true) \n",
       " (true,true)    (true,true)  (true,true)      (false,true)   (true,true) \n",
       " (true,true)    (true,true)  (true,true)      (false,true)   (true,true) \n",
       " (true,true)    (true,true)  (false,true)     (false,true)   (true,true) "
      ]
     },
     "execution_count": 12,
     "metadata": {},
     "output_type": "execute_result"
    }
   ],
   "source": [
    "# this is a random replicate of map4 data\n",
    "randgeno(size(map4), maf, minor_allele)"
   ]
  },
  {
   "cell_type": "markdown",
   "metadata": {},
   "source": [
    "## Subsetting\n",
    "\n",
    "Subsetting a `SnpArray` works the same way as subsetting any other arrays."
   ]
  },
  {
   "cell_type": "code",
   "execution_count": 13,
   "metadata": {
    "collapsed": false
   },
   "outputs": [
    {
     "data": {
      "text/plain": [
       "1x896 SnpArrays.SnpArray{2}:\n",
       " (true,true)  (true,true)  (true,true)  …  (false,true)  (true,true)"
      ]
     },
     "execution_count": 13,
     "metadata": {},
     "output_type": "execute_result"
    }
   ],
   "source": [
    "# genotypes of the 1st individual\n",
    "map4[1, :]"
   ]
  },
  {
   "cell_type": "code",
   "execution_count": 14,
   "metadata": {
    "collapsed": false
   },
   "outputs": [
    {
     "data": {
      "text/plain": [
       "959-element SnpArrays.SnpArray{1}:\n",
       " (true,true)\n",
       " (true,true)\n",
       " (true,true)\n",
       " (true,true)\n",
       " (true,true)\n",
       " (true,true)\n",
       " (true,true)\n",
       " (true,true)\n",
       " (true,true)\n",
       " (true,true)\n",
       " (true,true)\n",
       " (true,true)\n",
       " (true,true)\n",
       " ⋮          \n",
       " (true,true)\n",
       " (true,true)\n",
       " (true,true)\n",
       " (true,true)\n",
       " (true,true)\n",
       " (true,true)\n",
       " (true,true)\n",
       " (true,true)\n",
       " (true,true)\n",
       " (true,true)\n",
       " (true,true)\n",
       " (true,true)"
      ]
     },
     "execution_count": 14,
     "metadata": {},
     "output_type": "execute_result"
    }
   ],
   "source": [
    "# genotypes of the 5th SNP\n",
    "map4[:, 5]"
   ]
  },
  {
   "cell_type": "code",
   "execution_count": 15,
   "metadata": {
    "collapsed": false
   },
   "outputs": [
    {
     "data": {
      "text/plain": [
       "5x6 SnpArrays.SnpArray{2}:\n",
       " (true,true)  (false,true)  (true,true)  …  (true,true)  (true,true)\n",
       " (true,true)  (false,true)  (true,true)     (true,true)  (true,true)\n",
       " (true,true)  (true,true)   (true,true)     (true,true)  (true,true)\n",
       " (true,true)  (false,true)  (true,true)     (true,true)  (true,true)\n",
       " (true,true)  (true,true)   (true,true)     (true,true)  (true,true)"
      ]
     },
     "execution_count": 15,
     "metadata": {},
     "output_type": "execute_result"
    }
   ],
   "source": [
    "# subsetting both individuals and SNPs\n",
    "map4[1:5, 5:10]"
   ]
  },
  {
   "cell_type": "code",
   "execution_count": 16,
   "metadata": {
    "collapsed": false
   },
   "outputs": [
    {
     "data": {
      "text/plain": [
       "959x150 SnpArrays.SnpArray{2}:\n",
       " (true,true)   (false,true)   (true,true)   …  (false,true)   (false,true) \n",
       " (false,true)  (false,true)   (false,true)     (false,true)   (false,true) \n",
       " (true,true)   (true,true)    (true,true)      (true,true)    (true,true)  \n",
       " (false,true)  (false,true)   (true,true)      (false,true)   (false,true) \n",
       " (true,true)   (true,true)    (false,true)     (true,true)    (true,true)  \n",
       " (true,true)   (true,true)    (true,true)   …  (true,true)    (true,true)  \n",
       " (false,true)  (false,false)  (true,true)      (false,false)  (false,false)\n",
       " (true,true)   (true,true)    (true,true)      (true,true)    (false,true) \n",
       " (true,true)   (false,false)  (true,true)      (false,false)  (false,true) \n",
       " (true,true)   (false,true)   (true,true)      (false,true)   (true,true)  \n",
       " (true,true)   (true,true)    (true,true)   …  (true,true)    (true,true)  \n",
       " (true,true)   (true,true)    (true,true)      (true,true)    (true,true)  \n",
       " (false,true)  (false,true)   (true,true)      (false,true)   (false,true) \n",
       " ⋮                                          ⋱                              \n",
       " (true,true)   (true,true)    (false,true)     (true,true)    (true,true)  \n",
       " (true,true)   (true,true)    (false,true)     (true,true)    (true,true)  \n",
       " (true,true)   (true,true)    (false,true)     (true,true)    (true,true)  \n",
       " (true,true)   (true,true)    (false,true)  …  (true,true)    (true,true)  \n",
       " (false,true)  (false,true)   (false,true)     (false,true)   (false,true) \n",
       " (false,true)  (false,true)   (true,true)      (false,true)   (false,true) \n",
       " (false,true)  (false,true)   (true,true)      (false,true)   (false,true) \n",
       " (false,true)  (false,true)   (true,true)      (false,true)   (false,true) \n",
       " (false,true)  (false,true)   (true,true)   …  (false,true)   (false,true) \n",
       " (false,true)  (false,true)   (true,true)      (false,true)   (false,true) \n",
       " (true,true)   (true,true)    (false,true)     (true,true)    (true,true)  \n",
       " (true,true)   (false,true)   (true,true)      (false,true)   (false,true) "
      ]
     },
     "execution_count": 16,
     "metadata": {},
     "output_type": "execute_result"
    }
   ],
   "source": [
    "# filter out rare SNPs with MAF < 0.05\n",
    "map4[:, maf .>= 0.05]"
   ]
  },
  {
   "cell_type": "code",
   "execution_count": 17,
   "metadata": {
    "collapsed": false
   },
   "outputs": [
    {
     "data": {
      "text/plain": [
       "817x896 SnpArrays.SnpArray{2}:\n",
       " (true,true)    (true,true)  (true,true)   …  (false,true)   (true,true)\n",
       " (false,true)   (true,true)  (true,true)      (false,true)   (true,true)\n",
       " (true,true)    (true,true)  (true,true)      (true,true)    (true,true)\n",
       " (false,true)   (true,true)  (true,true)      (false,true)   (true,true)\n",
       " (true,true)    (true,true)  (true,true)      (true,true)    (true,true)\n",
       " (true,true)    (true,true)  (true,true)   …  (true,true)    (true,true)\n",
       " (false,true)   (true,true)  (true,true)      (false,false)  (true,true)\n",
       " (true,true)    (true,true)  (true,true)      (false,true)   (true,true)\n",
       " (true,true)    (true,true)  (false,true)     (false,true)   (true,true)\n",
       " (true,true)    (true,true)  (true,true)      (true,true)    (true,true)\n",
       " (true,true)    (true,true)  (true,true)   …  (true,true)    (true,true)\n",
       " (false,true)   (true,true)  (true,true)      (false,true)   (true,true)\n",
       " (false,false)  (true,true)  (true,true)      (false,false)  (true,true)\n",
       " ⋮                                         ⋱                 ⋮          \n",
       " (true,true)    (true,true)  (true,true)   …  (false,true)   (true,true)\n",
       " (true,true)    (true,true)  (true,true)      (true,true)    (true,true)\n",
       " (true,true)    (true,true)  (true,true)      (true,true)    (true,true)\n",
       " (true,true)    (true,true)  (true,true)      (true,true)    (true,true)\n",
       " (true,true)    (true,true)  (true,true)      (true,true)    (true,true)\n",
       " (true,true)    (true,true)  (true,true)   …  (true,true)    (true,true)\n",
       " (false,true)   (true,true)  (true,true)      (false,true)   (true,true)\n",
       " (false,true)   (true,true)  (true,true)      (false,true)   (true,true)\n",
       " (false,true)   (true,true)  (true,true)      (false,true)   (true,true)\n",
       " (false,true)   (true,true)  (true,true)      (false,true)   (true,true)\n",
       " (true,true)    (true,true)  (true,true)   …  (true,true)    (true,true)\n",
       " (true,true)    (true,true)  (true,true)      (false,true)   (true,true)"
      ]
     },
     "execution_count": 17,
     "metadata": {},
     "output_type": "execute_result"
    }
   ],
   "source": [
    "# filter out individuals with genotyping success rate < 0.999\n",
    "map4[missings_by_person / people .< 0.001, :]"
   ]
  },
  {
   "cell_type": "markdown",
   "metadata": {},
   "source": [
    "`sub()` and `slice()` create views of subarray without copying data and improve efficiency in many calculations."
   ]
  },
  {
   "cell_type": "code",
   "execution_count": 18,
   "metadata": {
    "collapsed": false
   },
   "outputs": [
    {
     "data": {
      "text/plain": [
       "1x150 Array{Float64,2}:\n",
       " 0.226799  0.397704  0.0630865  0.206465  …  0.354015  0.390511  0.382046"
      ]
     },
     "execution_count": 18,
     "metadata": {},
     "output_type": "execute_result"
    }
   ],
   "source": [
    "mafcommon, = summarize(sub(map4, :, maf .>= 0.05))\n",
    "mafcommon'"
   ]
  },
  {
   "cell_type": "markdown",
   "metadata": {},
   "source": [
    "## Assignment\n",
    "\n",
    "It is possible to assign specific genotypes to a `SnpArray` entry."
   ]
  },
  {
   "cell_type": "code",
   "execution_count": 19,
   "metadata": {
    "collapsed": false
   },
   "outputs": [
    {
     "data": {
      "text/plain": [
       "(true,true)"
      ]
     },
     "execution_count": 19,
     "metadata": {},
     "output_type": "execute_result"
    }
   ],
   "source": [
    "map4[1, 1]"
   ]
  },
  {
   "cell_type": "code",
   "execution_count": 20,
   "metadata": {
    "collapsed": false
   },
   "outputs": [
    {
     "data": {
      "text/plain": [
       "(false,true)"
      ]
     },
     "execution_count": 20,
     "metadata": {},
     "output_type": "execute_result"
    }
   ],
   "source": [
    "map4[1, 1] = (false, true)\n",
    "map4[1, 1]"
   ]
  },
  {
   "cell_type": "code",
   "execution_count": 21,
   "metadata": {
    "collapsed": false
   },
   "outputs": [
    {
     "data": {
      "text/plain": [
       "(true,false)"
      ]
     },
     "execution_count": 21,
     "metadata": {},
     "output_type": "execute_result"
    }
   ],
   "source": [
    "map4[1, 1] = NaN\n",
    "map4[1, 1]"
   ]
  },
  {
   "cell_type": "code",
   "execution_count": 22,
   "metadata": {
    "collapsed": false
   },
   "outputs": [
    {
     "data": {
      "text/plain": [
       "(true,true)"
      ]
     },
     "execution_count": 22,
     "metadata": {},
     "output_type": "execute_result"
    }
   ],
   "source": [
    "map4[1, 1] = 2\n",
    "map4[1, 1]"
   ]
  },
  {
   "cell_type": "markdown",
   "metadata": {},
   "source": [
    "Subsetted assignment such as `map4[:, 1] = NaN` is also valid."
   ]
  },
  {
   "cell_type": "markdown",
   "metadata": {
    "collapsed": true
   },
   "source": [
    "## Copy, convert, and imputation\n",
    "\n",
    "In most analysis we convert the whole `SnpArray` or slices of it to numeric arrays for computations. Keep in mind the storage of resultant data can be up to 32 fold that of `SnpArray`. Below are estimates of memory usage for some common data types with $n$ individuals and $p$ SNPs. Here MAF denotes the **average** minor allele frequencies.\n",
    "\n",
    "* `SnpArray`: $0.25np$ bytes  \n",
    "* `Matrix{Int8}`: $np$ bytes  \n",
    "* `Matrix{Float32}`: $4np$ bytes  \n",
    "* `Matrix{Float64}`: $8np$ bytes  \n",
    "* `SparseMatrixCSC{Float64,Int64}`: $16 \\cdot \\text{NNZ} + 8(p+1) \\approx 16np(2\\text{MAF}(1-\\text{MAF})+\\text{MAF}^2) + 8(p+1) = 16np \\cdot \\text{MAF}(2-\\text{MAF}) + 8(p+1)$ bytes. When average MAF=0.25, it is about $7np$ bytes. When MAF=0.025, it is about $0.8np$ bypes, 10 fold smaller than `Matrix{Float64}` type.  \n",
    "* `SparseMatrixCSC{Bool,Int64}`: $2np \\cdot \\text{MAF} \\cdot 9 + 16(p+1) = 18 np \\cdot \\text{MAF} + 16(p+1)$ bytes. When average MAF=0.25, it is about $4.5np$ bytes. When MAF=0.045, it is about $0.8np$ bytes, 10 fold smaller than `Matrix{Float64}` type.  \n",
    "\n",
    "To be concrete, consider 2 typical data sets:  \n",
    "* COPD (GWAS): $n = 6670$ individuals, $p = 630998$ SNPs, average MAF is 0.2454.\n",
    "* GAW19 (sequencing study): $n = 1943$ individuals, $p = 1711766$ SNPs, average MAF is 0.00499.  \n",
    "\n",
    "| Data Type | COPD | GAW19 |  \n",
    "|---|---|---|  \n",
    "| `SnpArray` | 1.05GB | 0.83GB |  \n",
    "| `Matrix{Float64}` | 33.67GB | 26.61GB |  \n",
    "| `SparseMatrixCSC{Float64,Int64}` | 29GB | 0.543GB |  \n",
    "| `SparseMatrixCSC{Bool,Int64}` | 18.6GB | 0.326GB |  \n",
    "\n",
    "Apparently for data sets with majority of rare variants, converting to sparse matrices saves memory usage and often brings computational advantages too. When choosing the integer type of the row indices `rowval` and column pointer `colptr` in the `SparseMatrixCSC` format, make sure its maximum is larger than the number of nonzeros in the matrix."
   ]
  },
  {
   "cell_type": "code",
   "execution_count": 23,
   "metadata": {
    "collapsed": false
   },
   "outputs": [
    {
     "data": {
      "text/plain": [
       "6874112"
      ]
     },
     "execution_count": 23,
     "metadata": {},
     "output_type": "execute_result"
    }
   ],
   "source": [
    "map4f64 = convert(Matrix{Float64}, map4)\n",
    "# memory usage if convert to Float64\n",
    "Base.summarysize(map4f64)"
   ]
  },
  {
   "cell_type": "code",
   "execution_count": 24,
   "metadata": {
    "collapsed": false
   },
   "outputs": [
    {
     "data": {
      "text/plain": [
       "0.059234694204908275"
      ]
     },
     "execution_count": 24,
     "metadata": {},
     "output_type": "execute_result"
    }
   ],
   "source": [
    "# average maf\n",
    "mean(maf)"
   ]
  },
  {
   "cell_type": "code",
   "execution_count": 25,
   "metadata": {
    "collapsed": false
   },
   "outputs": [
    {
     "data": {
      "text/plain": [
       "1390144"
      ]
     },
     "execution_count": 25,
     "metadata": {},
     "output_type": "execute_result"
    }
   ],
   "source": [
    "map4f64sp = convert(SparseMatrixCSC{Float64, Int64}, map4)\n",
    "# memory usage if convert to sparse Float64 matrix\n",
    "Base.summarysize(map4f64sp)"
   ]
  },
  {
   "cell_type": "code",
   "execution_count": 26,
   "metadata": {
    "collapsed": false
   },
   "outputs": [
    {
     "data": {
      "text/plain": [
       "695092"
      ]
     },
     "execution_count": 26,
     "metadata": {},
     "output_type": "execute_result"
    }
   ],
   "source": [
    "map4f32sp = convert(SparseMatrixCSC{Float32, UInt32}, map4)\n",
    "# memory usage if convert to sparse Float32 matrix\n",
    "Base.summarysize(map4f32sp)"
   ]
  },
  {
   "cell_type": "markdown",
   "metadata": {},
   "source": [
    "By default `convert()` method does **not** impute missing genotypes but convert them to `NaN`."
   ]
  },
  {
   "cell_type": "code",
   "execution_count": 27,
   "metadata": {
    "collapsed": false
   },
   "outputs": [
    {
     "data": {
      "text/plain": [
       "(218,218)"
      ]
     },
     "execution_count": 27,
     "metadata": {},
     "output_type": "execute_result"
    }
   ],
   "source": [
    "# number of missing genotypes\n",
    "countnz(isnan(map4)), countnz(isnan(map4f64))"
   ]
  },
  {
   "cell_type": "markdown",
   "metadata": {},
   "source": [
    "We can enforce imputation by setting optional argument `impute=true`. Imputation is done by generating two random alleles according to the minor allele frequency. This is not an optimal strategy and users should make sure genotypes are imputed with high quality using other advanced methods."
   ]
  },
  {
   "cell_type": "code",
   "execution_count": 28,
   "metadata": {
    "collapsed": false
   },
   "outputs": [
    {
     "data": {
      "text/plain": [
       "0"
      ]
     },
     "execution_count": 28,
     "metadata": {},
     "output_type": "execute_result"
    }
   ],
   "source": [
    "map4f64impute = convert(Matrix{Float64}, map4; impute = true)\n",
    "countnz(isnan(map4f64impute))"
   ]
  },
  {
   "cell_type": "markdown",
   "metadata": {},
   "source": [
    "By default `convert()` translates genotypes according to the *additive* SNP model, which essentially is the **minor allele** counts (0, 1 or 2). Other SNP models are *dominant* and *recessive*, both in terms of the **minor allele**. When `A1` is the minor allele, genotype is translated to real number according to\n",
    "\n",
    "| Genotype | `SnpArray` | `model=:additive` | `model=:dominant` | `model=:recessive` |    \n",
    "|---|---|---|---|---|  \n",
    "| A1,A1 | 00 | 2 | 1 | 1 |  \n",
    "| A1,A2 | 01 | 1 | 1 | 0 |  \n",
    "| A2,A2 | 11 | 0 | 0 | 0 |  \n",
    "| missing | 10 | NaN | NaN | NaN | \n",
    "\n",
    "When `A2` is the minor allele, genotype is translated according to\n",
    "\n",
    "| Genotype | `SnpArray` | `model=:additive` | `model=:dominant` | `model=:recessive` |    \n",
    "|---|---|---|---|---|  \n",
    "| A1,A1 | 00 | 0 | 0 | 0 |  \n",
    "| A1,A2 | 01 | 1 | 1 | 0 |  \n",
    "| A2,A2 | 11 | 2 | 1 | 1 |  \n",
    "| missing | 10 | NaN | NaN | NaN |"
   ]
  },
  {
   "cell_type": "code",
   "execution_count": 29,
   "metadata": {
    "collapsed": false
   },
   "outputs": [
    {
     "data": {
      "text/plain": [
       "10x3 Array{Float64,2}:\n",
       " 0.0  0.0  0.0\n",
       " 1.0  1.0  0.0\n",
       " 0.0  0.0  0.0\n",
       " 1.0  1.0  0.0\n",
       " 0.0  0.0  0.0\n",
       " 0.0  0.0  0.0\n",
       " 1.0  1.0  0.0\n",
       " 0.0  0.0  0.0\n",
       " 0.0  0.0  0.0\n",
       " 0.0  0.0  0.0"
      ]
     },
     "execution_count": 29,
     "metadata": {},
     "output_type": "execute_result"
    }
   ],
   "source": [
    "[convert(Vector{Float64}, map4[1:10, 1]; model = :additive) convert(Vector{Float64}, map4[1:10, 1]; model = :dominant) convert(Vector{Float64}, map4[1:10, 1]; model = :recessive)]"
   ]
  },
  {
   "cell_type": "markdown",
   "metadata": {},
   "source": [
    "By default `convert()` does **not** center and scale genotypes. Setting optional arguments `center=true, scale=true` centers genotypes at 2MAF and scales them by $[2 \\cdot MAF \\cdot (1 - MAF)]^{-1/2}$. Mono-allelic SNPs (MAF=0) are not scaled."
   ]
  },
  {
   "cell_type": "code",
   "execution_count": 30,
   "metadata": {
    "collapsed": false
   },
   "outputs": [
    {
     "data": {
      "text/plain": [
       "959x2 Array{Float64,2}:\n",
       " 0.0  -0.76593 \n",
       " 1.0   0.922637\n",
       " 0.0  -0.76593 \n",
       " 1.0   0.922637\n",
       " 0.0  -0.76593 \n",
       " 0.0  -0.76593 \n",
       " 1.0   0.922637\n",
       " 0.0  -0.76593 \n",
       " 0.0  -0.76593 \n",
       " 0.0  -0.76593 \n",
       " 0.0  -0.76593 \n",
       " 0.0  -0.76593 \n",
       " 1.0   0.922637\n",
       " ⋮             \n",
       " 0.0  -0.76593 \n",
       " 0.0  -0.76593 \n",
       " 0.0  -0.76593 \n",
       " 0.0  -0.76593 \n",
       " 1.0   0.922637\n",
       " 1.0   0.922637\n",
       " 1.0   0.922637\n",
       " 1.0   0.922637\n",
       " 1.0   0.922637\n",
       " 1.0   0.922637\n",
       " 0.0  -0.76593 \n",
       " 0.0  -0.76593 "
      ]
     },
     "execution_count": 30,
     "metadata": {},
     "output_type": "execute_result"
    }
   ],
   "source": [
    "[convert(Vector{Float64}, map4[:, 1]) convert(Vector{Float64}, map4[:, 1]; center = true, scale = true)]"
   ]
  },
  {
   "cell_type": "markdown",
   "metadata": {},
   "source": [
    "`copy!()` is the in-place version of `convert()`. Options such as GWAS loop over SNPs and perform statistical anlaysis for each SNP. This can be achieved by"
   ]
  },
  {
   "cell_type": "code",
   "execution_count": 31,
   "metadata": {
    "collapsed": false
   },
   "outputs": [],
   "source": [
    "g = zeros(size(map4, 1))\n",
    "for j = 1:size(map4, 2)\n",
    "    copy!(g, map4[:, j]; model = :additive, impute = true)\n",
    "    # do statistical anlaysis\n",
    "end"
   ]
  },
  {
   "cell_type": "markdown",
   "metadata": {},
   "source": [
    "## Empirical kinship\n",
    "\n",
    "`grm()` computes the empirical kinship matrix using either the genetic relationship matrix (`model=:GRM`, default) or the method of moment method (`model=:MoM`). Missing genotypes are imputed according to minor allele frequencies on the fly."
   ]
  },
  {
   "cell_type": "code",
   "execution_count": 32,
   "metadata": {
    "collapsed": false
   },
   "outputs": [
    {
     "data": {
      "text/plain": [
       "959x959 Array{Float64,2}:\n",
       "  0.380544    -0.001171     -0.0288245  …  -0.028186    0.0197438  \n",
       " -0.001171     0.0910801    -0.0226232     -0.0126247  -0.000119002\n",
       " -0.0288245   -0.0226232     0.641305       0.0814241  -0.0255233  \n",
       " -0.0050335    0.0150372    -0.0215443     -0.025145   -0.0039815  \n",
       " -0.024474    -0.022623      0.073076       0.142048   -0.0285776  \n",
       " -0.024404    -0.0256074     0.076275   …   0.0715203  -0.0285076  \n",
       "  0.0453891    0.0370275    -0.130117      -0.128325    0.0418238  \n",
       " -0.0218192   -0.0230977     0.0714131      0.0720706  -0.0243318  \n",
       "  0.032136    -0.00637036   -0.124575      -0.122782    0.016663   \n",
       " -0.00733452  -0.0426735    -0.0116094     -0.0109709  -0.0417872  \n",
       " -0.0311827   -0.0220789     0.089408   …   0.080414   -0.0266451  \n",
       " -0.0300756   -0.0226379     0.0839075      0.081521   -0.025538   \n",
       " -0.00867467   0.0113961    -0.0251854     -0.0287862  -0.00762267 \n",
       "  ⋮                                     ⋱                          \n",
       " -0.0215018   -0.0196507     0.0749234      0.0814968  -0.0256054  \n",
       " -0.0220613   -0.0202102     0.0743639      0.0809373  -0.0261649  \n",
       " -0.0220613   -0.0202102     0.0743639      0.0809373  -0.0261649  \n",
       " -0.0220613   -0.0202102     0.0743639  …   0.0809373  -0.0261649  \n",
       " -0.00495618   0.0221063    -0.0292284      0.0459888  -0.00390418 \n",
       "  0.00452624   0.0131579    -0.031806      -0.0311675  -0.00419474 \n",
       "  0.00452624   0.0131579    -0.031806      -0.0311675  -0.00419474 \n",
       " -0.00537141   0.0130332    -0.0272561     -0.0242493   0.246261   \n",
       " -0.00499065   0.013414     -0.0281089  …  -0.0251022   0.246642   \n",
       "  0.00284541   0.0114771    -0.0334868     -0.0328483  -0.00587557 \n",
       " -0.028186    -0.0126247     0.0814241      0.157856   -0.0225166  \n",
       "  0.0197438   -0.000119002  -0.0255233     -0.0225166   0.380877   "
      ]
     },
     "execution_count": 32,
     "metadata": {},
     "output_type": "execute_result"
    }
   ],
   "source": [
    "# GRM using all SNPs\n",
    "grm(map4)"
   ]
  },
  {
   "cell_type": "code",
   "execution_count": 33,
   "metadata": {
    "collapsed": false
   },
   "outputs": [
    {
     "data": {
      "text/plain": [
       "959x959 Array{Float64,2}:\n",
       "  0.07881      -0.000853301  -0.0235223  …  -0.0231723    0.0184407  \n",
       " -0.000853301   0.0354295    -0.0250093     -0.00734379  -0.000482591\n",
       " -0.0235223    -0.0250093     0.656679       0.0801822   -0.0209578  \n",
       " -0.00124231    0.0177249    -0.0253983     -0.0250484   -0.000871595\n",
       " -0.0204739    -0.0210335     0.0720974      0.123584    -0.0264231  \n",
       " -0.0174959    -0.0274966     0.0705212  …   0.0685633   -0.0234451  \n",
       "  0.0395097     0.0410407    -0.129707      -0.127049     0.0376866  \n",
       " -0.0157941    -0.0219088     0.0735532      0.0715953   -0.0178573  \n",
       "  0.0320641    -0.0128681    -0.129525      -0.126867     0.00642591 \n",
       " -0.0098777    -0.0480998    -0.0183572     -0.0180072   -0.0440483  \n",
       " -0.0189452    -0.0226958     0.0799405  …   0.0779826   -0.0186442  \n",
       " -0.0201318    -0.0238824     0.0787539      0.076796    -0.0198309  \n",
       " -0.0035757     0.0153915    -0.0277317     -0.0273818   -0.00320499 \n",
       "  ⋮                                      ⋱                           \n",
       " -0.0145687    -0.0151283     0.075753       0.0832363   -0.0205179  \n",
       " -0.0156877    -0.0162473     0.074634       0.0821173   -0.0216369  \n",
       " -0.0156877    -0.0162473     0.074634       0.0821173   -0.0216369  \n",
       " -0.0156877    -0.0162473     0.074634   …   0.0821173   -0.0216369  \n",
       " -0.00614428    0.0301385    -0.0326082      0.0313691   -0.00577357 \n",
       "  0.00408071    0.0145343    -0.0331664     -0.0328164   -0.00406228 \n",
       "  0.00408071    0.0145343    -0.0331664     -0.0328164   -0.00406228 \n",
       " -0.00236423    0.016603     -0.0265203     -0.0261703   -0.00199352 \n",
       " -0.00236423    0.016603     -0.0265203  …  -0.0261703   -0.00199352 \n",
       "  0.00295879    0.0134123    -0.0342883     -0.0339384   -0.0051842  \n",
       " -0.0231723    -0.00734379    0.0801822      0.141852    -0.0206078  \n",
       "  0.0184407    -0.000482591  -0.0209578     -0.0206078    0.135924   "
      ]
     },
     "execution_count": 33,
     "metadata": {},
     "output_type": "execute_result"
    }
   ],
   "source": [
    "# GRM using every other SNP\n",
    "grm(sub(map4, :, 1:2:snps))"
   ]
  },
  {
   "cell_type": "code",
   "execution_count": 34,
   "metadata": {
    "collapsed": false
   },
   "outputs": [
    {
     "data": {
      "text/plain": [
       "959x959 Array{Float64,2}:\n",
       "  0.140001     -0.00682793   0.0211395    …   0.0281314     0.0281314 \n",
       " -0.00682793    0.119026     0.0630907        0.0910581    -0.0138198 \n",
       "  0.0211395     0.0630907    0.92309          0.874147      0.0281314 \n",
       " -0.0417872     0.0560988    0.049107         0.0421151    -0.0487791 \n",
       "  0.0211395     0.0281314    0.804228         0.853171     -0.00682793\n",
       "  0.0211395     0.0281314    0.81122      …   0.797236     -0.00682793\n",
       " -0.00682793   -0.00682793  -0.775933        -0.761949     -0.0417872 \n",
       "  0.0630907     0.0630907    0.81122          0.818212      0.0351232 \n",
       " -0.237559     -0.321462    -0.831867        -0.817884     -0.27951   \n",
       " -0.293494     -0.342437     0.0281314        0.0351232    -0.363413  \n",
       "  0.000163934   0.0560988    0.88813      …   0.860163      0.0141477 \n",
       "  0.000163934   0.0560988    0.860163         0.867155      0.0141477 \n",
       " -0.0837384     0.0141477    0.00715579       0.000163934  -0.0907303 \n",
       "  ⋮                                       ⋱                           \n",
       "  0.0560988     0.0630907    0.832195         0.853171      0.0281314 \n",
       "  0.049107      0.0560988    0.825203         0.846179      0.0211395 \n",
       "  0.049107      0.0560988    0.825203         0.846179      0.0211395 \n",
       "  0.049107      0.0560988    0.825203     …   0.846179      0.0211395 \n",
       " -0.055771      0.049107     0.000163934      0.0700825    -0.0627628 \n",
       "  0.0141477     0.0560988    0.00715579       0.0141477    -0.0417872 \n",
       "  0.0141477     0.0560988    0.00715579       0.0141477    -0.0417872 \n",
       " -0.0487791     0.0421151    0.0281314        0.049107     -0.0347954 \n",
       " -0.0487791     0.0421151    0.0141477    …   0.0351232    -0.0347954 \n",
       " -0.00682793    0.0351232   -0.0138198       -0.00682793   -0.0627628 \n",
       "  0.0281314     0.0910581    0.874147         0.951057      0.049107  \n",
       "  0.0281314    -0.0138198    0.0281314        0.049107      0.0910581 "
      ]
     },
     "execution_count": 34,
     "metadata": {},
     "output_type": "execute_result"
    }
   ],
   "source": [
    "# MoM using all SNPs\n",
    "grm(map4; method = :MoM)"
   ]
  },
  {
   "cell_type": "markdown",
   "metadata": {},
   "source": [
    "## Principal component analysis \n",
    "\n",
    "Principal compoenent analysis is widely used in genomics for adjusting population substructure. `pca(A, pcs)` computes the top `pcs` principal components based on SNP data `A`. Missing genotypes are imputed according minor allele frequencies on the fly. This means, in presence of missing genotypes, running the function on the same `SnpArray` twice may produce slightly different answers. Each SNP is centered at $2\\text{MAF}$ and scaled by $[2\\text{MAF}(1-\\text{MAF})]^{-1/2}$. Internally `pca()` converts `SnpArray` to the matrix of minor allele counts. The default is `Matrix{Float64}`, which can easily exceed memory size. Users can optionally choose single precision matrix format in the third argument `pca(A, pcs, Matrix{Float32})`. The output is  \n",
    "\n",
    "* `pcscore`: the `pcs` eigen-SNPs, or principal scores, in each column  \n",
    "* `pcloading`: the `pcs` eigen-vectors, or principal loadings, in each column  \n",
    "* `pcvariance`: the `pcs` eigen-values, or principal variances"
   ]
  },
  {
   "cell_type": "code",
   "execution_count": 35,
   "metadata": {
    "collapsed": false
   },
   "outputs": [
    {
     "data": {
      "text/plain": [
       "(\n",
       "959x3 Array{Float64,2}:\n",
       "   3.10871    0.609436    1.40923  \n",
       "   3.18514    0.967911    2.01049  \n",
       " -12.2077     1.13888     0.0260712\n",
       "   3.76373    1.0381      2.33647  \n",
       " -12.3111     0.571372   -0.251602 \n",
       " -12.1212     1.10989    -0.184244 \n",
       "  18.8282     0.682441    3.80209  \n",
       " -11.3023     1.18534     0.122347 \n",
       "  18.0564    -4.58311   -30.8036   \n",
       "  -6.42758  -75.3048     10.4511   \n",
       " -12.5002     1.21314    -0.134413 \n",
       " -12.364      0.793268   -0.020948 \n",
       "   4.41182    1.15213     2.7549   \n",
       "   ⋮                               \n",
       " -11.9735     1.15731    -0.381319 \n",
       " -12.0806     1.17853    -0.388299 \n",
       " -12.0806     1.17853    -0.388299 \n",
       " -12.0806     1.17853    -0.388299 \n",
       "   3.56885    0.883671    2.3137   \n",
       "   4.13172    0.997728    2.26763  \n",
       "   4.13172    0.997728    2.26763  \n",
       "   3.82445    1.0956      2.39448  \n",
       "   4.07383    1.09186     2.44804  \n",
       "   4.31087    1.0474      2.37593  \n",
       " -12.1906     0.95165    -0.106233 \n",
       "   3.38863    0.668819    1.38409  ,\n",
       "\n",
       "896x3 Array{Float64,2}:\n",
       "  0.0683538     0.0107719     0.0387464  \n",
       "  0.00245355    0.00135061    0.00369879 \n",
       "  0.0176757    -0.0173363    -0.129588   \n",
       " -0.0129779     0.00346388    0.00135461 \n",
       " -0.00492639    0.00104044   -0.00023064 \n",
       "  0.0891951    -0.0131734    -0.0012559  \n",
       "  0.0110636     0.00368948    0.0116341  \n",
       " -0.000732466   0.00155798    0.00263784 \n",
       "  0.00553658   -0.0377288    -0.00186929 \n",
       " -0.00703385    0.00113871   -0.0111957  \n",
       " -0.0190792     0.00173888   -0.00272605 \n",
       " -0.0016177     0.00087319   -0.000219267\n",
       " -0.00262461   -0.004618      0.00351777 \n",
       "  ⋮                                      \n",
       "  0.00474704    0.000654259   0.00291086 \n",
       "  0.00643536   -0.00303801    0.00244357 \n",
       "  0.00834684    0.000800186   0.00510209 \n",
       "  0.00835119    0.000800603   0.00510475 \n",
       " -0.00649932    0.00201525    0.00132641 \n",
       "  0.0122308    -0.0154606    -0.0844929  \n",
       " -0.00389597   -0.089696      0.0147327  \n",
       "  0.00875969    0.000830122   0.00470829 \n",
       " -0.00389597   -0.089696      0.0147327  \n",
       " -0.00164094    0.00135985    0.00194632 \n",
       "  0.076942      0.00640593    0.041709   \n",
       " -0.00583554    0.00148864    0.0003935  ,\n",
       "\n",
       "[113.91538203708846,54.41533825020697,46.32715025031172])"
      ]
     },
     "execution_count": 35,
     "metadata": {},
     "output_type": "execute_result"
    }
   ],
   "source": [
    "pcscore, pcloading, pcvariance = pca(map4, 3)"
   ]
  },
  {
   "cell_type": "code",
   "execution_count": 36,
   "metadata": {
    "collapsed": false
   },
   "outputs": [
    {
     "data": {
      "text/plain": [
       "(\n",
       "959x3 Array{Float64,2}:\n",
       "  1.72009    0.650044    1.12881 \n",
       "  2.30166    0.910005    1.54832 \n",
       " -8.68676    0.775582   -0.367164\n",
       "  2.82714    0.950579    1.74903 \n",
       " -8.85737    0.356183   -0.502523\n",
       " -8.54455    0.880991   -0.476607\n",
       " 13.0628     0.936325    3.33578 \n",
       " -7.81507    0.78786    -0.265526\n",
       " 13.8132    -5.83978   -22.1125  \n",
       " -4.8833   -57.5106     14.8825  \n",
       " -8.36141    0.781483   -0.543623\n",
       " -8.24859    0.389077   -0.353896\n",
       "  3.08666    1.01915     1.92353 \n",
       "  ⋮                              \n",
       " -8.3019     0.787893   -0.453856\n",
       " -8.4542     0.815059   -0.470537\n",
       " -8.4542     0.815059   -0.470537\n",
       " -8.4542     0.815059   -0.470537\n",
       "  2.58737    0.98336     1.79521 \n",
       "  2.87896    0.981337    1.76161 \n",
       "  2.87896    0.981337    1.76161 \n",
       "  2.94132    0.963903    1.74712 \n",
       "  2.94132    0.963903    1.74712 \n",
       "  2.99314    0.994661    1.7597  \n",
       " -8.61823    0.718674   -0.489189\n",
       "  2.05817    0.649151    1.10201 ,\n",
       "\n",
       "448x3 Array{Float64,2}:\n",
       "  0.0973563    0.0203351     0.0530207  \n",
       "  0.0311161   -0.0426899    -0.169069   \n",
       " -0.00720205   0.00133862   -0.000967666\n",
       "  0.0161687    0.00721666    0.0162985  \n",
       "  0.00733807  -0.0504548     0.00544795 \n",
       " -0.0275924    0.00136165   -0.00609151 \n",
       " -0.00413005  -0.00592391    0.00518738 \n",
       "  0.0114362    0.000200626  -0.000512987\n",
       "  0.00967416  -0.0109495    -0.0533414  \n",
       "  0.00549935   0.0028389     0.00538343 \n",
       "  0.00621299   0.00141729    0.00396317 \n",
       "  0.0113584   -0.00189258   -0.00733545 \n",
       " -0.00785682  -0.164193      0.0471659  \n",
       "  ⋮                                     \n",
       "  0.00654738   0.00108894    0.00426276 \n",
       "  0.0153874    0.000370495  -0.00503546 \n",
       "  0.00161171   0.00106995    0.00209527 \n",
       "  0.0201107   -0.00208096   -0.00246274 \n",
       " -0.0160782    0.00326269   -0.00439838 \n",
       " -0.0130479    0.00261027   -0.000529135\n",
       "  0.00643681   0.00145262    0.00412637 \n",
       "  0.0116448    0.00164622    0.00673839 \n",
       " -0.00968448   0.00315589    0.000690618\n",
       " -0.00607882  -0.125664      0.035104   \n",
       " -0.00607882  -0.125664      0.035104   \n",
       "  0.108413     0.0154478     0.0598901  ,\n",
       "\n",
       "[55.9614927983375,29.771413391295745,27.648917641050712])"
      ]
     },
     "execution_count": 36,
     "metadata": {},
     "output_type": "execute_result"
    }
   ],
   "source": [
    "# principal components using every other SNP\n",
    "pcscore, pcloading, pcvariance = pca(map4[:, 1:2:snps], 3)"
   ]
  },
  {
   "cell_type": "markdown",
   "metadata": {},
   "source": [
    "For large data sets with majority of rare variants, `pca_sp()` is more efficient by first converting `SnpArray` to a sparse matrix (default `SparseMatrixCSC{Float64, Int64}`) and then computing principal components using iterative algorithms. "
   ]
  },
  {
   "cell_type": "code",
   "execution_count": 37,
   "metadata": {
    "collapsed": false
   },
   "outputs": [
    {
     "data": {
      "text/plain": [
       "(\n",
       "959x3 Array{Float64,2}:\n",
       "   3.10831    0.608452    1.4096   \n",
       "   3.18625    0.968882    2.01008  \n",
       " -12.2094     1.13682     0.0253001\n",
       "   3.76257    1.03993     2.33681  \n",
       " -12.3112     0.569563   -0.251509 \n",
       " -12.1206     1.10748    -0.186229 \n",
       "  18.8266     0.685152    3.80294  \n",
       " -11.3028     1.18306     0.117167 \n",
       "  18.0608    -4.58264   -30.8032   \n",
       "  -6.41371  -75.3046     10.454    \n",
       " -12.5017     1.2108     -0.135174 \n",
       " -12.2753     0.773877   -0.0255436\n",
       "   4.41113    1.15452     2.75612  \n",
       "   ⋮                               \n",
       " -11.9746     1.15521    -0.382019 \n",
       " -12.0816     1.1764     -0.389029 \n",
       " -12.0816     1.1764     -0.389029 \n",
       " -12.0816     1.1764     -0.389029 \n",
       "   3.57006    0.885198    2.31334  \n",
       "   4.13114    0.999646    2.26812  \n",
       "   4.13114    0.999646    2.26812  \n",
       "   3.82322    1.09754     2.39476  \n",
       "   4.0728     1.09387     2.4484   \n",
       "   4.31023    1.04946     2.37648  \n",
       " -12.1899     0.949322   -0.107583 \n",
       "   3.388      0.667561    1.38386  ,\n",
       "\n",
       "896x3 Array{Float64,2}:\n",
       "  0.0683355     0.010818      0.0387742  \n",
       "  0.00245409    0.00135237    0.00370071 \n",
       "  0.0176925    -0.0173263    -0.129596   \n",
       " -0.0129728     0.00345705    0.00135006 \n",
       " -0.00492372    0.00103749   -0.000231792\n",
       "  0.0891338    -0.0131578    -0.00131165 \n",
       "  0.0110595     0.00369849    0.0116378  \n",
       " -0.000731148   0.00155795    0.00263851 \n",
       "  0.00555763   -0.0377317    -0.001845   \n",
       " -0.00703294    0.00113517   -0.0112003  \n",
       " -0.0190753     0.00173028   -0.00273525 \n",
       " -0.00163858    0.000822107  -0.000211959\n",
       " -0.00263089   -0.00461995    0.00351841 \n",
       "  ⋮                                      \n",
       "  0.00474557    0.000655667   0.00291227 \n",
       "  0.00645767   -0.00302676    0.00250158 \n",
       "  0.00834447    0.00080494    0.00510551 \n",
       "  0.00834913    0.00080531    0.00510818 \n",
       " -0.0064951     0.0020124     0.00132573 \n",
       "  0.0122309    -0.0154551    -0.0845118  \n",
       " -0.00388444   -0.0896929     0.014738   \n",
       "  0.00875815    0.00083268    0.00471064 \n",
       " -0.00388749   -0.0896924     0.0147379  \n",
       " -0.00163887    0.00135895    0.00194649 \n",
       "  0.0772546     0.00637156    0.0417325  \n",
       " -0.0058335     0.00148615    0.000389605,\n",
       "\n",
       "[113.94885066476981,54.417144811449674,46.315986434529314])"
      ]
     },
     "execution_count": 37,
     "metadata": {},
     "output_type": "execute_result"
    }
   ],
   "source": [
    "pcscore, pcloading, pcvariance = pca_sp(map4, 3)"
   ]
  },
  {
   "cell_type": "code",
   "execution_count": 38,
   "metadata": {
    "collapsed": false
   },
   "outputs": [
    {
     "name": "stdout",
     "output_type": "stream",
     "text": [
      "Julia Version 0.4.5\n",
      "Commit 2ac304d (2016-03-18 00:58 UTC)\n",
      "Platform Info:\n",
      "  System: Darwin (x86_64-apple-darwin13.4.0)\n",
      "  CPU: Intel(R) Core(TM) i7-3720QM CPU @ 2.60GHz\n",
      "  WORD_SIZE: 64\n",
      "  BLAS: libopenblas (USE64BITINT DYNAMIC_ARCH NO_AFFINITY Sandybridge)\n",
      "  LAPACK: libopenblas64_\n",
      "  LIBM: libopenlibm\n",
      "  LLVM: libLLVM-3.3\n"
     ]
    }
   ],
   "source": [
    "versioninfo()"
   ]
  },
  {
   "cell_type": "code",
   "execution_count": null,
   "metadata": {
    "collapsed": true
   },
   "outputs": [],
   "source": []
  }
 ],
 "metadata": {
  "kernelspec": {
   "display_name": "Julia 0.4.5",
   "language": "julia",
   "name": "julia-0.4"
  },
  "language_info": {
   "file_extension": ".jl",
   "mimetype": "application/julia",
   "name": "julia",
   "version": "0.4.5"
  }
 },
 "nbformat": 4,
 "nbformat_minor": 0
}
