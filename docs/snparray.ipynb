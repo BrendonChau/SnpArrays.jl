{
 "cells": [
  {
   "cell_type": "markdown",
   "metadata": {},
   "source": [
    "# SnpArray"
   ]
  },
  {
   "cell_type": "markdown",
   "metadata": {},
   "source": [
    "The module `SnpArrays` implements the `SnpArray` type for handling biallelic genotypes. `SnpArray` is an array of `Tuple{Bool,Bool}` and adopts the same coding as the [Plink binary format](http://pngu.mgh.harvard.edu/~purcell/plink/binary.shtml). If `A1` and `A2` are the two alleles, the coding rule is  \n",
    "\n",
    "| Genotype | SnpArray |  \n",
    "|---|---|---|  \n",
    "| A1,A1 | 00 |  \n",
    "| A1,A2 | 01 |  \n",
    "| A2,A2 | 11 |  \n",
    "| missing | 10 |  \n",
    "The code `10==(true,false)` is reserved for missing genotype. Otherwise, the bit `1==true` represents one copy of allele `A2`. In a two-dimensional `SnpArray`, each row is a person and each column is a SNP.\n",
    "\n",
    "## Constructor\n",
    "\n",
    "There are various ways to initialize a `SnpArray`.  \n",
    "\n",
    "* `SnpArray` can be initialized from [Plink binary files](http://pngu.mgh.harvard.edu/~purcell/plink/binary.shtml), say the sample data set hapmap3:"
   ]
  },
  {
   "cell_type": "code",
   "execution_count": 1,
   "metadata": {
    "collapsed": false
   },
   "outputs": [
    {
     "name": "stdout",
     "output_type": "stream",
     "text": [
      "-rw-r--r--  1 hzhou3  staff  1128171 Jul  9 13:23 hapmap3.bed\n",
      "-rw-r--r--  1 hzhou3  staff   388672 Jul  7 18:09 hapmap3.bim\n",
      "-rw-r--r--  1 hzhou3  staff     7136 Jul  7 18:09 hapmap3.fam\n",
      "-rw-r--r--  1 hzhou3  staff   332960 Jul  7 18:09 hapmap3.map\n"
     ]
    }
   ],
   "source": [
    ";ls -al hapmap3.*"
   ]
  },
  {
   "cell_type": "code",
   "execution_count": 2,
   "metadata": {
    "collapsed": false
   },
   "outputs": [
    {
     "data": {
      "text/plain": [
       "324x13928 SnpArrays.SnpArray{2}:\n",
       " (true,true)  (true,true)   (false,false)  …  (true,true)   (true,true)\n",
       " (true,true)  (false,true)  (false,true)      (false,true)  (true,true)\n",
       " (true,true)  (true,true)   (false,true)      (true,true)   (true,true)\n",
       " (true,true)  (true,true)   (false,true)      (true,true)   (true,true)\n",
       " (true,true)  (true,true)   (false,true)      (true,true)   (true,true)\n",
       " (true,true)  (false,true)  (true,true)    …  (true,true)   (true,true)\n",
       " (true,true)  (true,true)   (true,true)       (true,true)   (true,true)\n",
       " (true,true)  (true,true)   (false,false)     (true,true)   (true,true)\n",
       " (true,true)  (true,true)   (false,true)      (true,true)   (true,true)\n",
       " (true,true)  (true,true)   (false,true)      (true,true)   (true,true)\n",
       " (true,true)  (true,true)   (false,true)   …  (true,true)   (true,true)\n",
       " (true,true)  (true,true)   (true,true)       (true,true)   (true,true)\n",
       " (true,true)  (true,true)   (false,false)     (true,true)   (true,true)\n",
       " ⋮                                         ⋱                           \n",
       " (true,true)  (true,true)   (false,true)      (true,true)   (true,true)\n",
       " (true,true)  (true,true)   (false,false)     (true,true)   (true,true)\n",
       " (true,true)  (true,true)   (false,false)     (true,true)   (true,true)\n",
       " (true,true)  (true,true)   (false,false)  …  (true,true)   (true,true)\n",
       " (true,true)  (true,true)   (false,true)      (true,true)   (true,true)\n",
       " (true,true)  (true,true)   (true,true)       (true,true)   (true,true)\n",
       " (true,true)  (true,true)   (false,true)      (true,true)   (true,true)\n",
       " (true,true)  (true,true)   (false,true)      (true,true)   (true,true)\n",
       " (true,true)  (true,true)   (false,false)  …  (true,true)   (true,true)\n",
       " (true,true)  (true,true)   (false,true)      (true,true)   (true,true)\n",
       " (true,true)  (true,true)   (false,false)     (true,true)   (true,true)\n",
       " (true,true)  (true,true)   (false,false)     (true,true)   (true,true)"
      ]
     },
     "execution_count": 2,
     "metadata": {},
     "output_type": "execute_result"
    }
   ],
   "source": [
    "using SnpArrays\n",
    "hapmap = SnpArray(\"hapmap3\")"
   ]
  },
  {
   "cell_type": "markdown",
   "metadata": {},
   "source": [
    "By default, the constructor figures out the number of individuals and SNPs from the `.bim` and `.fam` files."
   ]
  },
  {
   "cell_type": "code",
   "execution_count": 3,
   "metadata": {
    "collapsed": false
   },
   "outputs": [
    {
     "data": {
      "text/plain": [
       "(324,13928)"
      ]
     },
     "execution_count": 3,
     "metadata": {},
     "output_type": "execute_result"
    }
   ],
   "source": [
    "# rows are people; columns are SNPs\n",
    "people, snps = size(hapmap)"
   ]
  },
  {
   "cell_type": "markdown",
   "metadata": {},
   "source": [
    "Alternatively, users can supply keyword arguments `people` and `snps` to the constructor. In this case only the `.bed` file needs to be present."
   ]
  },
  {
   "cell_type": "code",
   "execution_count": 4,
   "metadata": {
    "collapsed": false
   },
   "outputs": [
    {
     "data": {
      "text/plain": [
       "324x13928 SnpArrays.SnpArray{2}:\n",
       " (true,true)  (true,true)   (false,false)  …  (true,true)   (true,true)\n",
       " (true,true)  (false,true)  (false,true)      (false,true)  (true,true)\n",
       " (true,true)  (true,true)   (false,true)      (true,true)   (true,true)\n",
       " (true,true)  (true,true)   (false,true)      (true,true)   (true,true)\n",
       " (true,true)  (true,true)   (false,true)      (true,true)   (true,true)\n",
       " (true,true)  (false,true)  (true,true)    …  (true,true)   (true,true)\n",
       " (true,true)  (true,true)   (true,true)       (true,true)   (true,true)\n",
       " (true,true)  (true,true)   (false,false)     (true,true)   (true,true)\n",
       " (true,true)  (true,true)   (false,true)      (true,true)   (true,true)\n",
       " (true,true)  (true,true)   (false,true)      (true,true)   (true,true)\n",
       " (true,true)  (true,true)   (false,true)   …  (true,true)   (true,true)\n",
       " (true,true)  (true,true)   (true,true)       (true,true)   (true,true)\n",
       " (true,true)  (true,true)   (false,false)     (true,true)   (true,true)\n",
       " ⋮                                         ⋱                           \n",
       " (true,true)  (true,true)   (false,true)      (true,true)   (true,true)\n",
       " (true,true)  (true,true)   (false,false)     (true,true)   (true,true)\n",
       " (true,true)  (true,true)   (false,false)     (true,true)   (true,true)\n",
       " (true,true)  (true,true)   (false,false)  …  (true,true)   (true,true)\n",
       " (true,true)  (true,true)   (false,true)      (true,true)   (true,true)\n",
       " (true,true)  (true,true)   (true,true)       (true,true)   (true,true)\n",
       " (true,true)  (true,true)   (false,true)      (true,true)   (true,true)\n",
       " (true,true)  (true,true)   (false,true)      (true,true)   (true,true)\n",
       " (true,true)  (true,true)   (false,false)  …  (true,true)   (true,true)\n",
       " (true,true)  (true,true)   (false,true)      (true,true)   (true,true)\n",
       " (true,true)  (true,true)   (false,false)     (true,true)   (true,true)\n",
       " (true,true)  (true,true)   (false,false)     (true,true)   (true,true)"
      ]
     },
     "execution_count": 4,
     "metadata": {},
     "output_type": "execute_result"
    }
   ],
   "source": [
    "hapmap = SnpArray(\"hapmap3\"; people=324, snps=13928)"
   ]
  },
  {
   "cell_type": "markdown",
   "metadata": {},
   "source": [
    "Internally `SnpArray` stores data as `BitArray`s and consumes approximately the same amount of memory as the Plink `bed` file size."
   ]
  },
  {
   "cell_type": "code",
   "execution_count": 5,
   "metadata": {
    "collapsed": false
   },
   "outputs": [
    {
     "data": {
      "text/plain": [
       "1128256"
      ]
     },
     "execution_count": 5,
     "metadata": {},
     "output_type": "execute_result"
    }
   ],
   "source": [
    "# memory usage\n",
    "Base.summarysize(hapmap)"
   ]
  },
  {
   "cell_type": "markdown",
   "metadata": {},
   "source": [
    "* `SnpArray` can be initialized from a matrix of A1 allele counts."
   ]
  },
  {
   "cell_type": "code",
   "execution_count": 6,
   "metadata": {
    "collapsed": false
   },
   "outputs": [
    {
     "data": {
      "text/plain": [
       "5x3 SnpArrays.SnpArray{2}:\n",
       " (false,false)  (false,false)  (false,false)\n",
       " (true,true)    (true,true)    (false,true) \n",
       " (false,true)   (false,false)  (false,false)\n",
       " (true,true)    (false,true)   (true,true)  \n",
       " (true,true)    (true,true)    (true,true)  "
      ]
     },
     "execution_count": 6,
     "metadata": {},
     "output_type": "execute_result"
    }
   ],
   "source": [
    "SnpArray(rand(0:2, 5, 3))"
   ]
  },
  {
   "cell_type": "markdown",
   "metadata": {},
   "source": [
    "* `SnpArray(m, n)` generates an m by n `SnpArray` of all A1 alleles."
   ]
  },
  {
   "cell_type": "code",
   "execution_count": 7,
   "metadata": {
    "collapsed": false
   },
   "outputs": [
    {
     "data": {
      "text/plain": [
       "5x3 SnpArrays.SnpArray{2}:\n",
       " (false,false)  (false,false)  (false,false)\n",
       " (false,false)  (false,false)  (false,false)\n",
       " (false,false)  (false,false)  (false,false)\n",
       " (false,false)  (false,false)  (false,false)\n",
       " (false,false)  (false,false)  (false,false)"
      ]
     },
     "execution_count": 7,
     "metadata": {},
     "output_type": "execute_result"
    }
   ],
   "source": [
    "s = SnpArray(5, 3)"
   ]
  },
  {
   "cell_type": "markdown",
   "metadata": {},
   "source": [
    "## Summary statistics\n",
    "\n",
    "`summarize()` computes  \n",
    "* `maf`: minor allele frequencies, taking into account of missingness.  \n",
    "* `minor_allele`: a `BitVector` indicating the minor allele for each SNP. `minor_allele[j]==true` means A1 is the minor allele for SNP j; `minor_allele[j]==false` means A2 is the minor allele for SNP j.  \n",
    "* `missings_by_snp`: number of missing genotypes for each snp.  \n",
    "* `missings_by_person`: number of missing genotypes for each person."
   ]
  },
  {
   "cell_type": "code",
   "execution_count": 8,
   "metadata": {
    "collapsed": false
   },
   "outputs": [
    {
     "data": {
      "text/plain": [
       "1x13928 Array{Float64,2}:\n",
       " 0.0  0.0776398  0.324074  0.191589  …  0.00154321  0.0417957  0.00617284"
      ]
     },
     "execution_count": 8,
     "metadata": {},
     "output_type": "execute_result"
    }
   ],
   "source": [
    "maf, minor_allele, missings_by_snp, missings_by_person = summarize(hapmap)\n",
    "# minor allele frequencies\n",
    "maf'"
   ]
  },
  {
   "cell_type": "code",
   "execution_count": 9,
   "metadata": {
    "collapsed": false
   },
   "outputs": [
    {
     "data": {
      "text/plain": [
       "(11894,11894)"
      ]
     },
     "execution_count": 9,
     "metadata": {},
     "output_type": "execute_result"
    }
   ],
   "source": [
    "# total number of missing genotypes\n",
    "sum(missings_by_snp), sum(missings_by_person)"
   ]
  },
  {
   "cell_type": "code",
   "execution_count": 10,
   "metadata": {
    "collapsed": false
   },
   "outputs": [
    {
     "data": {
      "text/plain": [
       "0.0026356890108565393"
      ]
     },
     "execution_count": 10,
     "metadata": {},
     "output_type": "execute_result"
    }
   ],
   "source": [
    "# proportion of missing genotypes\n",
    "sum(missings_by_snp) / length(hapmap)"
   ]
  },
  {
   "cell_type": "markdown",
   "metadata": {},
   "source": [
    "## Filtering"
   ]
  },
  {
   "cell_type": "markdown",
   "metadata": {},
   "source": [
    "In all SNP based analyses, SNPs and individuals with low genotyping rates are ignored. This filtering step is an important tool for removing likely false positives from association testing, as genotyping failure often occurs preferentially in cases or controls, or is correlated with the quantitative trait. `filter()` function does filtering according to the specified success rates for SNPs and people. Default is 0.98 for both."
   ]
  },
  {
   "cell_type": "code",
   "execution_count": 11,
   "metadata": {
    "collapsed": false
   },
   "outputs": [],
   "source": [
    "# filtering SNPs and people to have both success rates above 0.98\n",
    "snp_idx, person_idx = filter(hapmap, 0.98, 0.98)\n",
    "# summary statistics of the filtered SnpArray\n",
    "_, _, missings_by_snp_filtered, missings_by_person_filtered = summarize(sub(hapmap, person_idx, snp_idx));"
   ]
  },
  {
   "cell_type": "code",
   "execution_count": 12,
   "metadata": {
    "collapsed": false
   },
   "outputs": [
    {
     "data": {
      "text/plain": [
       "0.9813084112149533"
      ]
     },
     "execution_count": 12,
     "metadata": {},
     "output_type": "execute_result"
    }
   ],
   "source": [
    "# minimum SNP genotyping success rate after filtering ≥ 0.98\n",
    "1.0 - maximum(missings_by_snp_filtered) / length(missings_by_person_filtered)"
   ]
  },
  {
   "cell_type": "code",
   "execution_count": 13,
   "metadata": {
    "collapsed": false
   },
   "outputs": [
    {
     "data": {
      "text/plain": [
       "0.9818511796733213"
      ]
     },
     "execution_count": 13,
     "metadata": {},
     "output_type": "execute_result"
    }
   ],
   "source": [
    "# minimum person genotyping success rate after filtering ≥ 0.98\n",
    "1.0 - maximum(missings_by_person_filtered) / length(missings_by_snp_filtered)"
   ]
  },
  {
   "cell_type": "markdown",
   "metadata": {},
   "source": [
    "## Random genotypes\n",
    "\n",
    "`randgeno(a1freq)` generates a random genotype according to A1 allele frequency `a1freq`."
   ]
  },
  {
   "cell_type": "code",
   "execution_count": 14,
   "metadata": {
    "collapsed": false
   },
   "outputs": [
    {
     "data": {
      "text/plain": [
       "(false,true)"
      ]
     },
     "execution_count": 14,
     "metadata": {},
     "output_type": "execute_result"
    }
   ],
   "source": [
    "randgeno(0.5)"
   ]
  },
  {
   "cell_type": "markdown",
   "metadata": {},
   "source": [
    "`randgeno(maf, minor_allele)` generates a random genotype according to minor allele frequency `maf` and whether the minor allele is A1 (`minor_allele==true`) or A2 (`minor_allele==false`)."
   ]
  },
  {
   "cell_type": "code",
   "execution_count": 15,
   "metadata": {
    "collapsed": false
   },
   "outputs": [
    {
     "data": {
      "text/plain": [
       "(true,true)"
      ]
     },
     "execution_count": 15,
     "metadata": {},
     "output_type": "execute_result"
    }
   ],
   "source": [
    "randgeno(0.25, true)"
   ]
  },
  {
   "cell_type": "markdown",
   "metadata": {},
   "source": [
    "`randgeno(n, maf, minor_allele)` generates a vector of random genotypes according to a common minor allele frequency `maf` and the minor allele."
   ]
  },
  {
   "cell_type": "code",
   "execution_count": 16,
   "metadata": {
    "collapsed": false
   },
   "outputs": [
    {
     "data": {
      "text/plain": [
       "10-element SnpArrays.SnpArray{1}:\n",
       " (true,true)  \n",
       " (true,true)  \n",
       " (false,true) \n",
       " (true,true)  \n",
       " (true,true)  \n",
       " (false,true) \n",
       " (false,true) \n",
       " (true,true)  \n",
       " (false,false)\n",
       " (true,true)  "
      ]
     },
     "execution_count": 16,
     "metadata": {},
     "output_type": "execute_result"
    }
   ],
   "source": [
    "randgeno(10, 0.25, true)"
   ]
  },
  {
   "cell_type": "markdown",
   "metadata": {},
   "source": [
    "`randgeno(m, n, maf, minor_allele)` generates a random $m$-by-$n$ `SnpArray` according to a vector of minor allele frequencies `maf` and a minor allele indicator vector. The lengths of both vectors should be `n`."
   ]
  },
  {
   "cell_type": "code",
   "execution_count": 17,
   "metadata": {
    "collapsed": false
   },
   "outputs": [
    {
     "data": {
      "text/plain": [
       "324x13928 SnpArrays.SnpArray{2}:\n",
       " (true,true)  (true,true)    (false,true)   …  (true,true)   (true,true)\n",
       " (true,true)  (true,true)    (false,true)      (true,true)   (true,true)\n",
       " (true,true)  (false,true)   (false,true)      (true,true)   (true,true)\n",
       " (true,true)  (false,true)   (true,true)       (true,true)   (true,true)\n",
       " (true,true)  (true,true)    (true,true)       (true,true)   (true,true)\n",
       " (true,true)  (true,true)    (true,true)    …  (true,true)   (true,true)\n",
       " (true,true)  (false,false)  (true,true)       (true,true)   (true,true)\n",
       " (true,true)  (false,true)   (true,true)       (true,true)   (true,true)\n",
       " (true,true)  (true,true)    (false,false)     (true,true)   (true,true)\n",
       " (true,true)  (true,true)    (false,true)      (true,true)   (true,true)\n",
       " (true,true)  (true,true)    (true,true)    …  (true,true)   (true,true)\n",
       " (true,true)  (true,true)    (true,true)       (true,true)   (true,true)\n",
       " (true,true)  (true,true)    (true,true)       (true,true)   (true,true)\n",
       " ⋮                                          ⋱                           \n",
       " (true,true)  (true,true)    (true,true)       (true,true)   (true,true)\n",
       " (true,true)  (true,true)    (true,true)       (true,true)   (true,true)\n",
       " (true,true)  (true,true)    (false,true)      (true,true)   (true,true)\n",
       " (true,true)  (true,true)    (true,true)    …  (true,true)   (true,true)\n",
       " (true,true)  (true,true)    (true,true)       (true,true)   (true,true)\n",
       " (true,true)  (true,true)    (true,true)       (true,true)   (true,true)\n",
       " (true,true)  (true,true)    (true,true)       (true,true)   (true,true)\n",
       " (true,true)  (false,true)   (true,true)       (true,true)   (true,true)\n",
       " (true,true)  (true,true)    (false,false)  …  (false,true)  (true,true)\n",
       " (true,true)  (false,true)   (false,true)      (true,true)   (true,true)\n",
       " (true,true)  (true,true)    (false,true)      (true,true)   (true,true)\n",
       " (true,true)  (true,true)    (false,false)     (true,true)   (true,true)"
      ]
     },
     "execution_count": 17,
     "metadata": {},
     "output_type": "execute_result"
    }
   ],
   "source": [
    "# this is a random replicate of the hapmap data\n",
    "randgeno(size(hapmap), maf, minor_allele)"
   ]
  },
  {
   "cell_type": "markdown",
   "metadata": {},
   "source": [
    "## Subsetting\n",
    "\n",
    "Subsetting a `SnpArray` works the same way as subsetting any other arrays."
   ]
  },
  {
   "cell_type": "code",
   "execution_count": 18,
   "metadata": {
    "collapsed": false
   },
   "outputs": [
    {
     "data": {
      "text/plain": [
       "1x13928 SnpArrays.SnpArray{2}:\n",
       " (true,true)  (true,true)  (false,false)  …  (true,true)  (true,true)"
      ]
     },
     "execution_count": 18,
     "metadata": {},
     "output_type": "execute_result"
    }
   ],
   "source": [
    "# genotypes of the 1st person\n",
    "hapmap[1, :]"
   ]
  },
  {
   "cell_type": "code",
   "execution_count": 19,
   "metadata": {
    "collapsed": false
   },
   "outputs": [
    {
     "data": {
      "text/plain": [
       "324-element SnpArrays.SnpArray{1}:\n",
       " (true,true)  \n",
       " (true,true)  \n",
       " (false,true) \n",
       " (false,true) \n",
       " (true,true)  \n",
       " (false,false)\n",
       " (false,false)\n",
       " (true,true)  \n",
       " (true,true)  \n",
       " (true,true)  \n",
       " (true,true)  \n",
       " (true,true)  \n",
       " (false,true) \n",
       " ⋮            \n",
       " (false,false)\n",
       " (true,true)  \n",
       " (false,true) \n",
       " (true,true)  \n",
       " (true,true)  \n",
       " (true,true)  \n",
       " (true,true)  \n",
       " (true,true)  \n",
       " (false,true) \n",
       " (true,true)  \n",
       " (true,true)  \n",
       " (true,true)  "
      ]
     },
     "execution_count": 19,
     "metadata": {},
     "output_type": "execute_result"
    }
   ],
   "source": [
    "# genotypes of the 5th SNP\n",
    "hapmap[:, 5]"
   ]
  },
  {
   "cell_type": "code",
   "execution_count": 20,
   "metadata": {
    "collapsed": false
   },
   "outputs": [
    {
     "data": {
      "text/plain": [
       "5x6 SnpArrays.SnpArray{2}:\n",
       " (true,true)   (true,true)  (false,true)  …  (true,true)   (false,true)\n",
       " (true,true)   (true,true)  (true,true)      (true,true)   (false,true)\n",
       " (false,true)  (true,true)  (true,true)      (false,true)  (true,true) \n",
       " (false,true)  (true,true)  (true,true)      (true,true)   (false,true)\n",
       " (true,true)   (true,true)  (true,true)      (true,true)   (false,true)"
      ]
     },
     "execution_count": 20,
     "metadata": {},
     "output_type": "execute_result"
    }
   ],
   "source": [
    "# subsetting both persons and SNPs\n",
    "hapmap[1:5, 5:10]"
   ]
  },
  {
   "cell_type": "code",
   "execution_count": 21,
   "metadata": {
    "collapsed": false
   },
   "outputs": [
    {
     "data": {
      "text/plain": [
       "324x12085 SnpArrays.SnpArray{2}:\n",
       " (true,true)   (false,false)  (true,true)   …  (false,true)  (false,true)\n",
       " (false,true)  (false,true)   (false,true)     (true,true)   (true,true) \n",
       " (true,true)   (false,true)   (false,true)     (true,true)   (true,true) \n",
       " (true,true)   (false,true)   (true,true)      (false,true)  (false,true)\n",
       " (true,true)   (false,true)   (false,true)     (true,true)   (true,true) \n",
       " (false,true)  (true,true)    (true,true)   …  (false,true)  (false,true)\n",
       " (true,true)   (true,true)    (true,true)      (true,true)   (true,true) \n",
       " (true,true)   (false,false)  (true,true)      (true,true)   (true,true) \n",
       " (true,true)   (false,true)   (false,true)     (true,true)   (true,true) \n",
       " (true,true)   (false,true)   (true,true)      (false,true)  (false,true)\n",
       " (true,true)   (false,true)   (true,true)   …  (true,true)   (true,true) \n",
       " (true,true)   (true,true)    (false,true)     (false,true)  (false,true)\n",
       " (true,true)   (false,false)  (true,true)      (false,true)  (false,true)\n",
       " ⋮                                          ⋱                            \n",
       " (true,true)   (false,true)   (true,true)      (false,true)  (false,true)\n",
       " (true,true)   (false,false)  (true,true)      (false,true)  (false,true)\n",
       " (true,true)   (false,false)  (true,true)      (true,true)   (true,true) \n",
       " (true,true)   (false,false)  (false,true)  …  (true,true)   (true,true) \n",
       " (true,true)   (false,true)   (true,true)      (true,true)   (true,true) \n",
       " (true,true)   (true,true)    (false,true)     (false,true)  (false,true)\n",
       " (true,true)   (false,true)   (false,true)     (false,true)  (false,true)\n",
       " (true,true)   (false,true)   (true,true)      (true,true)   (true,true) \n",
       " (true,true)   (false,false)  (true,true)   …  (false,true)  (false,true)\n",
       " (true,true)   (false,true)   (false,true)     (false,true)  (false,true)\n",
       " (true,true)   (false,false)  (false,true)     (false,true)  (false,true)\n",
       " (true,true)   (false,false)  (true,true)      (true,true)   (true,true) "
      ]
     },
     "execution_count": 21,
     "metadata": {},
     "output_type": "execute_result"
    }
   ],
   "source": [
    "# filter out rare SNPs with MAF < 0.05\n",
    "hapmap[:, maf .≥ 0.05]"
   ]
  },
  {
   "cell_type": "code",
   "execution_count": 22,
   "metadata": {
    "collapsed": false
   },
   "outputs": [
    {
     "data": {
      "text/plain": [
       "220x13928 SnpArrays.SnpArray{2}:\n",
       " (true,true)  (true,true)   (false,false)  …  (true,true)   (true,true)\n",
       " (true,true)  (false,true)  (false,true)      (false,true)  (true,true)\n",
       " (true,true)  (true,true)   (false,true)      (true,true)   (true,true)\n",
       " (true,true)  (true,true)   (true,true)       (true,true)   (true,true)\n",
       " (true,true)  (true,true)   (false,false)     (true,true)   (true,true)\n",
       " (true,true)  (true,true)   (false,true)   …  (true,true)   (true,true)\n",
       " (true,true)  (true,true)   (false,true)      (true,true)   (true,true)\n",
       " (true,true)  (true,true)   (false,true)      (true,true)   (true,true)\n",
       " (true,true)  (true,true)   (false,false)     (true,true)   (true,true)\n",
       " (true,true)  (true,true)   (false,true)      (true,true)   (true,true)\n",
       " (true,true)  (false,true)  (false,true)   …  (true,true)   (true,true)\n",
       " (true,true)  (true,true)   (true,true)       (true,true)   (true,true)\n",
       " (true,true)  (true,true)   (true,true)       (true,true)   (true,true)\n",
       " ⋮                                         ⋱                           \n",
       " (true,true)  (true,true)   (false,false)     (true,true)   (true,true)\n",
       " (true,true)  (true,true)   (false,false)     (true,true)   (true,true)\n",
       " (true,true)  (true,true)   (false,false)  …  (true,true)   (true,true)\n",
       " (true,true)  (true,true)   (false,true)      (true,true)   (true,true)\n",
       " (true,true)  (true,true)   (false,false)     (true,true)   (true,true)\n",
       " (true,true)  (true,true)   (false,false)     (true,true)   (true,true)\n",
       " (true,true)  (true,true)   (false,false)     (true,true)   (true,true)\n",
       " (true,true)  (true,true)   (false,true)   …  (true,true)   (true,true)\n",
       " (true,true)  (true,true)   (false,false)     (true,true)   (true,true)\n",
       " (true,true)  (true,true)   (false,true)      (true,true)   (true,true)\n",
       " (true,true)  (true,true)   (false,false)     (true,true)   (true,true)\n",
       " (true,true)  (true,true)   (false,false)     (true,true)   (true,true)"
      ]
     },
     "execution_count": 22,
     "metadata": {},
     "output_type": "execute_result"
    }
   ],
   "source": [
    "# filter out individuals with genotyping success rate < 0.90\n",
    "hapmap[missings_by_person / people .< 0.1, :]"
   ]
  },
  {
   "cell_type": "markdown",
   "metadata": {},
   "source": [
    "`sub()` and `slice()` create views of subarray without copying data and improve efficiency in many calculations."
   ]
  },
  {
   "cell_type": "code",
   "execution_count": 23,
   "metadata": {
    "collapsed": false
   },
   "outputs": [
    {
     "data": {
      "text/plain": [
       "1x12085 Array{Float64,2}:\n",
       " 0.0776398  0.324074  0.191589  …  0.310937  0.23913  0.23913  0.23913"
      ]
     },
     "execution_count": 23,
     "metadata": {},
     "output_type": "execute_result"
    }
   ],
   "source": [
    "mafcommon, = summarize(sub(hapmap, :, maf .≥ 0.05))\n",
    "mafcommon'"
   ]
  },
  {
   "cell_type": "markdown",
   "metadata": {},
   "source": [
    "## Assignment\n",
    "\n",
    "It is possible to assign specific genotypes to a `SnpArray` entry."
   ]
  },
  {
   "cell_type": "code",
   "execution_count": 24,
   "metadata": {
    "collapsed": false
   },
   "outputs": [
    {
     "data": {
      "text/plain": [
       "(true,true)"
      ]
     },
     "execution_count": 24,
     "metadata": {},
     "output_type": "execute_result"
    }
   ],
   "source": [
    "hapmap[1, 1]"
   ]
  },
  {
   "cell_type": "code",
   "execution_count": 25,
   "metadata": {
    "collapsed": false
   },
   "outputs": [
    {
     "data": {
      "text/plain": [
       "(false,true)"
      ]
     },
     "execution_count": 25,
     "metadata": {},
     "output_type": "execute_result"
    }
   ],
   "source": [
    "hapmap[1, 1] = (false, true)\n",
    "hapmap[1, 1]"
   ]
  },
  {
   "cell_type": "code",
   "execution_count": 26,
   "metadata": {
    "collapsed": false
   },
   "outputs": [
    {
     "data": {
      "text/plain": [
       "(true,false)"
      ]
     },
     "execution_count": 26,
     "metadata": {},
     "output_type": "execute_result"
    }
   ],
   "source": [
    "hapmap[1, 1] = NaN\n",
    "hapmap[1, 1]"
   ]
  },
  {
   "cell_type": "code",
   "execution_count": 27,
   "metadata": {
    "collapsed": false
   },
   "outputs": [
    {
     "data": {
      "text/plain": [
       "(true,true)"
      ]
     },
     "execution_count": 27,
     "metadata": {},
     "output_type": "execute_result"
    }
   ],
   "source": [
    "hapmap[1, 1] = 2\n",
    "hapmap[1, 1]"
   ]
  },
  {
   "cell_type": "markdown",
   "metadata": {},
   "source": [
    "Subsetted assignment such as `hapmap[:, 1] = Nan` is also valid."
   ]
  },
  {
   "cell_type": "markdown",
   "metadata": {
    "collapsed": true
   },
   "source": [
    "## Copy, convert, and imputation\n",
    "\n",
    "In most analyses we convert a whole `SnpArray` or slices of it to numeric arrays (matrix of **minor allele counts**) for computational purposes. Keep in mind that the storage of resultant data can be up to 32 fold larger than that of the original `SnpArray`. Fortunately, rich collection of data types in `Julia` can allow us choose one that fits into memory. Below are estimates of memory usage for some common data types with `n` persons and `p` SNPs. Here MAF denotes the **average** minor allele frequencies.\n",
    "\n",
    "* `SnpArray`: $0.25np$ bytes  \n",
    "* `Matrix{Int8}`: $np$ bytes  \n",
    "* `Matrix{Float16}`: $2np$ bytes  \n",
    "* `Matrix{Float32}`: $4np$ bytes  \n",
    "* `Matrix{Float64}`: $8np$ bytes  \n",
    "* `SparseMatrixCSC{Float64,Int64}`: $16 \\cdot \\text{NNZ} + 8(p+1) \\approx 16np(2\\text{MAF}(1-\\text{MAF})+\\text{MAF}^2) + 8(p+1) = 16np \\cdot \\text{MAF}(2-\\text{MAF}) + 8(p+1)$ bytes. When the average MAF=0.25, this is about $7np$ bytes. When MAF=0.025, this is about $0.8np$ bypes, 10 fold smaller than the `Matrix{Float64}` type.  \n",
    "* `SparseMatrixCSC{Int8,UInt32}`: $5 \\cdot \\text{NNZ} + 4(p+1) \\approx 5np(2\\text{MAF}(1-\\text{MAF})+\\text{MAF}^2) + 4(p+1) = 5np \\cdot \\text{MAF}(2-\\text{MAF}) + 4(p+1)$ bytes. When the average MAF=0.25, this is about $2.2np$ bytes. When MAF=0.08, this is about $0.8np$ bypes, 10 fold smaller than `Matrix{Float64}` type.  \n",
    "* Two `SparseMatrixCSC{Bool,Int64}`: $2np \\cdot \\text{MAF} \\cdot 9 + 16(p+1) = 18 np \\cdot \\text{MAF} + 16(p+1)$ bytes. When the average MAF=0.25, this is about $4.5np$ bytes. When MAF=0.045, this is about $0.8np$ bytes, 10 fold smaller than `Matrix{Float64}` type.  \n",
    "\n",
    "To be concrete, consider 2 typical data sets:  \n",
    "* COPD (GWAS): $n = 6670$ individuals, $p = 630998$ SNPs, average MAF is 0.2454.\n",
    "* GAW19 (sequencing study): $n = 959$ individuals, $p = 8348674$ SNPs, average MAF is 0.085.  \n",
    "\n",
    "| Data Type | COPD | GAW19 |  \n",
    "|---|---|---|  \n",
    "| `SnpArray` | 1.05GB | 2GB |  \n",
    "| `Matrix{Float64}` | 33.67GB | 64.05GB |  \n",
    "| `SparseMatrixCSC{Float64,Int64}` | 29GB | 20.82GB |  \n",
    "| `SparseMatrixCSC{Bool,Int64}` | 18.6GB | 12.386GB |  \n",
    "\n",
    "Apparently for data sets with a majority of rare variants, converting to sparse matrices saves memory and often brings computational advantages too. In the `SparseMatrixCSC` format, the integer type of the row indices `rowval` and column pointer `colptr` should have maximal larger than the number of nonzeros in the matrix. The `InexactError()` error encountered during conversion often indicates that the integer type has a too small range. The utility function `estimatesize()` conveniently estimates memory usage in bytes for the input data type."
   ]
  },
  {
   "cell_type": "code",
   "execution_count": 28,
   "metadata": {
    "collapsed": false
   },
   "outputs": [
    {
     "data": {
      "text/plain": [
       "3.6101376e7"
      ]
     },
     "execution_count": 28,
     "metadata": {},
     "output_type": "execute_result"
    }
   ],
   "source": [
    "# estimated memory usage if convert to Matrix{Float64}\n",
    "estimatesize(people, snps, Matrix{Float64})"
   ]
  },
  {
   "cell_type": "code",
   "execution_count": 29,
   "metadata": {
    "collapsed": false
   },
   "outputs": [
    {
     "data": {
      "text/plain": [
       "324x13928 Array{Float64,2}:\n",
       " 0.0  0.0  2.0  0.0  0.0  0.0  1.0  1.0  …  1.0  1.0  1.0  1.0  0.0  0.0  0.0\n",
       " 0.0  1.0  1.0  1.0  0.0  0.0  0.0  1.0     0.0  0.0  0.0  0.0  0.0  1.0  0.0\n",
       " 0.0  0.0  1.0  1.0  1.0  0.0  0.0  2.0     1.0  0.0  0.0  0.0  0.0  0.0  0.0\n",
       " 0.0  0.0  1.0  0.0  1.0  0.0  0.0  1.0     1.0  1.0  1.0  1.0  0.0  0.0  0.0\n",
       " 0.0  0.0  1.0  1.0  0.0  0.0  0.0  2.0     0.0  0.0  0.0  0.0  0.0  0.0  0.0\n",
       " 0.0  1.0  0.0  0.0  2.0  0.0  0.0  0.0  …  2.0  1.0  1.0  1.0  0.0  0.0  0.0\n",
       " 0.0  0.0  0.0  0.0  2.0  0.0  0.0  2.0     1.0  0.0  0.0  0.0  0.0  0.0  0.0\n",
       " 0.0  0.0  2.0  0.0  0.0  0.0  0.0  1.0     0.0  0.0  0.0  0.0  0.0  0.0  0.0\n",
       " 0.0  0.0  1.0  1.0  0.0  0.0  0.0  2.0     0.0  0.0  0.0  0.0  0.0  0.0  0.0\n",
       " 0.0  0.0  1.0  0.0  0.0  0.0  0.0  2.0     1.0  1.0  1.0  1.0  0.0  0.0  0.0\n",
       " 0.0  0.0  1.0  0.0  0.0  0.0  0.0  2.0  …  0.0  0.0  0.0  0.0  0.0  0.0  0.0\n",
       " 0.0  0.0  0.0  1.0  0.0  0.0  0.0  2.0     1.0  1.0  1.0  1.0  0.0  0.0  0.0\n",
       " 0.0  0.0  2.0  0.0  1.0  0.0  0.0  1.0     2.0  1.0  1.0  1.0  0.0  0.0  0.0\n",
       " ⋮                        ⋮              ⋱                      ⋮            \n",
       " 0.0  0.0  1.0  0.0  2.0  0.0  0.0  1.0     2.0  1.0  1.0  1.0  0.0  0.0  0.0\n",
       " 0.0  0.0  2.0  0.0  0.0  0.0  0.0  2.0     2.0  1.0  1.0  1.0  0.0  0.0  0.0\n",
       " 0.0  0.0  2.0  0.0  1.0  0.0  0.0  1.0     0.0  0.0  0.0  0.0  0.0  0.0  0.0\n",
       " 0.0  0.0  2.0  1.0  0.0  0.0  0.0  1.0  …  0.0  0.0  0.0  0.0  0.0  0.0  0.0\n",
       " 0.0  0.0  1.0  0.0  0.0  0.0  0.0  1.0     1.0  0.0  0.0  0.0  0.0  0.0  0.0\n",
       " 0.0  0.0  0.0  1.0  0.0  0.0  0.0  1.0     2.0  1.0  1.0  1.0  0.0  0.0  0.0\n",
       " 0.0  0.0  1.0  1.0  0.0  0.0  0.0  2.0     1.0  1.0  1.0  1.0  0.0  0.0  0.0\n",
       " 0.0  0.0  1.0  0.0  0.0  0.0  0.0  2.0     0.0  0.0  0.0  0.0  0.0  0.0  0.0\n",
       " 0.0  0.0  2.0  0.0  1.0  0.0  0.0  1.0  …  1.0  1.0  1.0  1.0  0.0  0.0  0.0\n",
       " 0.0  0.0  1.0  1.0  0.0  0.0  0.0  1.0     1.0  1.0  1.0  1.0  0.0  0.0  0.0\n",
       " 0.0  0.0  2.0  1.0  0.0  0.0  0.0  2.0     1.0  1.0  1.0  1.0  0.0  0.0  0.0\n",
       " 0.0  0.0  2.0  0.0  0.0  0.0  0.0  2.0     0.0  0.0  0.0  0.0  0.0  0.0  0.0"
      ]
     },
     "execution_count": 29,
     "metadata": {},
     "output_type": "execute_result"
    }
   ],
   "source": [
    "# convert to Matrix{Float64}\n",
    "hapmapf64 = convert(Matrix{Float64}, hapmap)"
   ]
  },
  {
   "cell_type": "code",
   "execution_count": 30,
   "metadata": {
    "collapsed": false
   },
   "outputs": [
    {
     "data": {
      "text/plain": [
       "36101376"
      ]
     },
     "execution_count": 30,
     "metadata": {},
     "output_type": "execute_result"
    }
   ],
   "source": [
    "# actual memory usage of Matrix{Float64}\n",
    "Base.summarysize(hapmapf64)"
   ]
  },
  {
   "cell_type": "code",
   "execution_count": 31,
   "metadata": {
    "collapsed": false
   },
   "outputs": [
    {
     "data": {
      "text/plain": [
       "0.222585591341583"
      ]
     },
     "execution_count": 31,
     "metadata": {},
     "output_type": "execute_result"
    }
   ],
   "source": [
    "# average maf of the hapmap3 data set\n",
    "mean(maf)"
   ]
  },
  {
   "cell_type": "code",
   "execution_count": 32,
   "metadata": {
    "collapsed": false
   },
   "outputs": [
    {
     "data": {
      "text/plain": [
       "1.4338389205819245e7"
      ]
     },
     "execution_count": 32,
     "metadata": {},
     "output_type": "execute_result"
    }
   ],
   "source": [
    "# estimated memory usage if convert to SparseMatrixCSC{Float32, UInt32} matrix\n",
    "estimatesize(people, snps, SparseMatrixCSC{Float32, UInt32}, mean(maf))"
   ]
  },
  {
   "cell_type": "code",
   "execution_count": 33,
   "metadata": {
    "collapsed": false
   },
   "outputs": [
    {
     "data": {
      "text/plain": [
       "324x13928 sparse matrix with 1614876 Float32 entries:\n",
       "\t[2    ,     2]  =  1.0\n",
       "\t[6    ,     2]  =  1.0\n",
       "\t[15   ,     2]  =  1.0\n",
       "\t[31   ,     2]  =  1.0\n",
       "\t[33   ,     2]  =  1.0\n",
       "\t[35   ,     2]  =  1.0\n",
       "\t[43   ,     2]  =  1.0\n",
       "\t[44   ,     2]  =  1.0\n",
       "\t[50   ,     2]  =  1.0\n",
       "\t[54   ,     2]  =  1.0\n",
       "\t⋮\n",
       "\t[135  , 13927]  =  1.0\n",
       "\t[148  , 13927]  =  1.0\n",
       "\t[160  , 13927]  =  1.0\n",
       "\t[164  , 13927]  =  2.0\n",
       "\t[167  , 13927]  =  1.0\n",
       "\t[185  , 13927]  =  1.0\n",
       "\t[266  , 13927]  =  1.0\n",
       "\t[280  , 13927]  =  1.0\n",
       "\t[288  , 13927]  =  1.0\n",
       "\t[118  , 13928]  =  2.0\n",
       "\t[231  , 13928]  =  2.0"
      ]
     },
     "execution_count": 33,
     "metadata": {},
     "output_type": "execute_result"
    }
   ],
   "source": [
    "# convert to SparseMatrixCSC{Float32, UInt32} matrix\n",
    "hapmapf32sp = convert(SparseMatrixCSC{Float32, UInt32}, hapmap)"
   ]
  },
  {
   "cell_type": "code",
   "execution_count": 34,
   "metadata": {
    "collapsed": false
   },
   "outputs": [
    {
     "data": {
      "text/plain": [
       "12974764"
      ]
     },
     "execution_count": 34,
     "metadata": {},
     "output_type": "execute_result"
    }
   ],
   "source": [
    "# actual memory usage if convert to SparseMatrixCSC{Float32, UInt32} matrix\n",
    "Base.summarysize(hapmapf32sp)"
   ]
  },
  {
   "cell_type": "markdown",
   "metadata": {},
   "source": [
    "By default the `convert()` method converts missing genotypes to `NaN`."
   ]
  },
  {
   "cell_type": "code",
   "execution_count": 35,
   "metadata": {
    "collapsed": false
   },
   "outputs": [
    {
     "data": {
      "text/plain": [
       "(11894,11894)"
      ]
     },
     "execution_count": 35,
     "metadata": {},
     "output_type": "execute_result"
    }
   ],
   "source": [
    "# number of missing genotypes\n",
    "countnz(isnan(hapmap)), countnz(isnan(hapmapf64))"
   ]
  },
  {
   "cell_type": "markdown",
   "metadata": {},
   "source": [
    "One can enforce **crude imputation** by setting the optional argument `impute=true`. Imputation is done by generating two random alleles according to the minor allele frequency. This is a neutral but not an optimal strategy, and users should impute missing genotypes by more advanced methods."
   ]
  },
  {
   "cell_type": "code",
   "execution_count": 36,
   "metadata": {
    "collapsed": false
   },
   "outputs": [
    {
     "data": {
      "text/plain": [
       "0"
      ]
     },
     "execution_count": 36,
     "metadata": {},
     "output_type": "execute_result"
    }
   ],
   "source": [
    "hapmapf64impute = convert(Matrix{Float64}, hapmap; impute = true)\n",
    "countnz(isnan(hapmapf64impute))"
   ]
  },
  {
   "cell_type": "markdown",
   "metadata": {},
   "source": [
    "By default `convert()` translates genotypes according to the *additive* SNP model, which essentially counts the number of **minor allele** (0, 1 or 2) per genotype. Other SNP models are *dominant* and *recessive*, both in terms of the **minor allele**. When `A1` is the minor allele, genotypes are translated to real number according to\n",
    "\n",
    "| Genotype | `SnpArray` | `model=:additive` | `model=:dominant` | `model=:recessive` |    \n",
    "|---|---|---|---|---|  \n",
    "| A1,A1 | 00 | 2 | 1 | 1 |  \n",
    "| A1,A2 | 01 | 1 | 1 | 0 |  \n",
    "| A2,A2 | 11 | 0 | 0 | 0 |  \n",
    "| missing | 10 | NaN | NaN | NaN | \n",
    "\n",
    "When `A2` is the minor allele, genotypes are translated according to\n",
    "\n",
    "| Genotype | `SnpArray` | `model=:additive` | `model=:dominant` | `model=:recessive` |    \n",
    "|---|---|---|---|---|  \n",
    "| A1,A1 | 00 | 0 | 0 | 0 |  \n",
    "| A1,A2 | 01 | 1 | 1 | 0 |  \n",
    "| A2,A2 | 11 | 2 | 1 | 1 |  \n",
    "| missing | 10 | NaN | NaN | NaN |"
   ]
  },
  {
   "cell_type": "code",
   "execution_count": 37,
   "metadata": {
    "collapsed": false
   },
   "outputs": [
    {
     "data": {
      "text/plain": [
       "10x3 Array{Float64,2}:\n",
       " 0.0  0.0  0.0\n",
       " 0.0  0.0  0.0\n",
       " 1.0  1.0  0.0\n",
       " 1.0  1.0  0.0\n",
       " 0.0  0.0  0.0\n",
       " 2.0  1.0  1.0\n",
       " 2.0  1.0  1.0\n",
       " 0.0  0.0  0.0\n",
       " 0.0  0.0  0.0\n",
       " 0.0  0.0  0.0"
      ]
     },
     "execution_count": 37,
     "metadata": {},
     "output_type": "execute_result"
    }
   ],
   "source": [
    "[convert(Vector{Float64}, hapmap[1:10, 5]; model = :additive) convert(Vector{Float64}, hapmap[1:10, 5]; model = :dominant) convert(Vector{Float64}, hapmap[1:10, 5]; model = :recessive)]"
   ]
  },
  {
   "cell_type": "markdown",
   "metadata": {},
   "source": [
    "By default `convert()` does **not** center and scale genotypes. Setting the optional arguments `center=true, scale=true` centers genotypes at 2MAF and scales them by $[2 \\cdot \\text{MAF} \\cdot (1 - \\text{MAF})]^{-1/2}$. Mono-allelic SNPs (MAF=0) are not scaled."
   ]
  },
  {
   "cell_type": "code",
   "execution_count": 38,
   "metadata": {
    "collapsed": false
   },
   "outputs": [
    {
     "data": {
      "text/plain": [
       "324x2 Array{Float64,2}:\n",
       " 0.0  -1.25702 \n",
       " 0.0  -1.25702 \n",
       " 1.0   0.167017\n",
       " 1.0   0.167017\n",
       " 0.0  -1.25702 \n",
       " 2.0   1.59106 \n",
       " 2.0   1.59106 \n",
       " 0.0  -1.25702 \n",
       " 0.0  -1.25702 \n",
       " 0.0  -1.25702 \n",
       " 0.0  -1.25702 \n",
       " 0.0  -1.25702 \n",
       " 1.0   0.167017\n",
       " ⋮             \n",
       " 2.0   1.59106 \n",
       " 0.0  -1.25702 \n",
       " 1.0   0.167017\n",
       " 0.0  -1.25702 \n",
       " 0.0  -1.25702 \n",
       " 0.0  -1.25702 \n",
       " 0.0  -1.25702 \n",
       " 0.0  -1.25702 \n",
       " 1.0   0.167017\n",
       " 0.0  -1.25702 \n",
       " 0.0  -1.25702 \n",
       " 0.0  -1.25702 "
      ]
     },
     "execution_count": 38,
     "metadata": {},
     "output_type": "execute_result"
    }
   ],
   "source": [
    "[convert(Vector{Float64}, hapmap[:, 5]) convert(Vector{Float64}, hapmap[:, 5]; center = true, scale = true)]"
   ]
  },
  {
   "cell_type": "markdown",
   "metadata": {},
   "source": [
    "`copy!()` is the in-place version of `convert()`. Options such as GWAS loop over SNPs and perform statistical anlaysis for each SNP. This can be achieved by"
   ]
  },
  {
   "cell_type": "code",
   "execution_count": 39,
   "metadata": {
    "collapsed": false
   },
   "outputs": [],
   "source": [
    "g = zeros(people)\n",
    "for j = 1:snps\n",
    "    copy!(g, hapmap[:, j]; model = :additive, impute = true)\n",
    "    # do statistical anlaysis\n",
    "end"
   ]
  },
  {
   "cell_type": "markdown",
   "metadata": {},
   "source": [
    "## Empirical kinship\n",
    "\n",
    "`grm()` computes the empirical kinship matrix using either the genetic relationship matrix (`model=:GRM`, default) or the method of moment method (`model=:MoM`). Missing genotypes are imputed according to minor allele frequencies on the fly."
   ]
  },
  {
   "cell_type": "code",
   "execution_count": 40,
   "metadata": {
    "collapsed": false
   },
   "outputs": [
    {
     "data": {
      "text/plain": [
       "324x324 Array{Float64,2}:\n",
       " 0.566722   0.0442399  0.0187464  …  0.0629651  0.0685274  0.0622324\n",
       " 0.0442399  0.530497   0.0320924     0.0491272  0.0430533  0.0606491\n",
       " 0.0187464  0.0320924  0.517498      0.0446243  0.0286774  0.035213 \n",
       " 0.0462981  0.0353521  0.027697      0.057452   0.063078   0.0577883\n",
       " 0.0506927  0.0409681  0.0245576     0.0691998  0.056067   0.0632921\n",
       " 0.0428707  0.0306135  0.0373282  …  0.0672412  0.0547206  0.0623897\n",
       " 0.0378283  0.0212274  0.0115703     0.0425003  0.0364859  0.0357192\n",
       " 0.0395778  0.0366763  0.0208179     0.0555122  0.0525635  0.0638465\n",
       " 0.0283857  0.030225   0.0165172     0.0329677  0.044589   0.0367454\n",
       " 0.0379611  0.0403544  0.0249763     0.0641777  0.0554103  0.0471589\n",
       " 0.0458073  0.0436903  0.0225732  …  0.0565036  0.0646751  0.0588069\n",
       " 0.0581899  0.0373627  0.0358488     0.0635098  0.0561255  0.0695579\n",
       " 0.0343808  0.0419732  0.025284      0.0550475  0.0673039  0.0612998\n",
       " ⋮                                ⋱                                 \n",
       " 0.063315   0.0529575  0.0373223     0.0830001  0.0834063  0.0932822\n",
       " 0.064656   0.0498884  0.0315471     0.0879802  0.0768551  0.0851833\n",
       " 0.0653651  0.0538163  0.0368378     0.0863049  0.0809441  0.0822508\n",
       " 0.0627328  0.0545339  0.0386503  …  0.0844553  0.0738013  0.0856683\n",
       " 0.0600449  0.0538668  0.0346671     0.0758629  0.0708841  0.0785306\n",
       " 0.0627298  0.0588856  0.0377098     0.0856558  0.0886386  0.0799798\n",
       " 0.059498   0.0591615  0.0367827     0.0795256  0.0814561  0.0783304\n",
       " 0.0594173  0.0605832  0.0319912     0.0899094  0.0861879  0.0832987\n",
       " 0.0633789  0.0606417  0.0313951  …  0.093548   0.0766974  0.0832063\n",
       " 0.0629651  0.0491272  0.0446243     0.607498   0.0793058  0.0869165\n",
       " 0.0685274  0.0430533  0.0286774     0.0793058  0.583659   0.0791769\n",
       " 0.0622324  0.0606491  0.035213      0.0869165  0.0791769  0.575565 "
      ]
     },
     "execution_count": 40,
     "metadata": {},
     "output_type": "execute_result"
    }
   ],
   "source": [
    "# GRM using all SNPs\n",
    "grm(hapmap)"
   ]
  },
  {
   "cell_type": "code",
   "execution_count": 41,
   "metadata": {
    "collapsed": false
   },
   "outputs": [
    {
     "data": {
      "text/plain": [
       "324x324 Array{Float64,2}:\n",
       " 0.555485   0.0413625  0.0272365  …  0.0650061  0.0709634  0.0649002\n",
       " 0.0413625  0.545139   0.0352938     0.055775   0.043683   0.0539014\n",
       " 0.0272365  0.0352938  0.502767      0.0382169  0.0373074  0.0450708\n",
       " 0.0432714  0.0440743  0.0258285     0.0492282  0.0591737  0.0545333\n",
       " 0.0506335  0.0463987  0.0260006     0.0647262  0.0545687  0.0633793\n",
       " 0.0502046  0.0391531  0.0381669  …  0.0740697  0.0595923  0.0509084\n",
       " 0.0377453  0.0258611  0.0167105     0.0453479  0.0332081  0.0328613\n",
       " 0.0457565  0.0366633  0.0261864     0.0567865  0.0553254  0.0667705\n",
       " 0.0252178  0.0227994  0.0194948     0.0321382  0.0414657  0.0352938\n",
       " 0.0302101  0.0385664  0.0234034     0.0573072  0.039685   0.0487369\n",
       " 0.0469609  0.0486326  0.0197519  …  0.0603773  0.063631   0.0518035\n",
       " 0.059793   0.0471458  0.0383875     0.063645   0.0614822  0.0620791\n",
       " 0.0237126  0.0410878  0.0216049     0.0525996  0.066059   0.061258 \n",
       " ⋮                                ⋱                                 \n",
       " 0.0582856  0.0486607  0.0395072     0.0838136  0.0820373  0.0980511\n",
       " 0.0637348  0.0582177  0.029545      0.085894   0.073341   0.0842682\n",
       " 0.0666901  0.0519341  0.0377633     0.0814593  0.0786845  0.0927694\n",
       " 0.0629835  0.0565009  0.0386835  …  0.089894   0.0732914  0.0789778\n",
       " 0.0620861  0.0591605  0.0394069     0.0702648  0.0671471  0.0845828\n",
       " 0.0634592  0.0614351  0.0400612     0.0738396  0.0798197  0.0855887\n",
       " 0.0610879  0.0617874  0.0311989     0.0832033  0.0888984  0.0798843\n",
       " 0.0578035  0.0596343  0.0331127     0.091183   0.0875372  0.0803947\n",
       " 0.0735971  0.0639076  0.0382967  …  0.0981214  0.0717998  0.0864856\n",
       " 0.0650061  0.055775   0.0382169     0.599362   0.0669996  0.092131 \n",
       " 0.0709634  0.043683   0.0373074     0.0669996  0.563178   0.0735587\n",
       " 0.0649002  0.0539014  0.0450708     0.092131   0.0735587  0.576423 "
      ]
     },
     "execution_count": 41,
     "metadata": {},
     "output_type": "execute_result"
    }
   ],
   "source": [
    "# GRM using every other SNP\n",
    "grm(sub(hapmap, :, 1:2:snps))"
   ]
  },
  {
   "cell_type": "code",
   "execution_count": 42,
   "metadata": {
    "collapsed": false
   },
   "outputs": [
    {
     "data": {
      "text/plain": [
       "324x324 Array{Float64,2}:\n",
       " 0.53945     0.034852   0.00261352  …  0.0538645  0.0633117  0.0510303\n",
       " 0.034852    0.518076   0.0146587      0.0424098  0.0394575  0.0502037\n",
       " 0.00261352  0.0146587  0.499063       0.0329626  0.0215079  0.0200908\n",
       " 0.0430002   0.0290656  0.0233973      0.0522112  0.06898    0.0491409\n",
       " 0.0448897   0.0327264  0.0158396      0.0648468  0.0562263  0.0555177\n",
       " 0.032136    0.0205632  0.0268219   …  0.0596509  0.0497313  0.0496133\n",
       " 0.0248144   0.0112341  0.00344015     0.0318998  0.0309551  0.0248144\n",
       " 0.0259953   0.0290656  0.00922655     0.0388671  0.0464248  0.0467791\n",
       " 0.0210355   0.0268219  0.0132416      0.0296561  0.0485505  0.0304827\n",
       " 0.0220983   0.0263496  0.0118245      0.0535102  0.0510303  0.0324902\n",
       " 0.036151    0.0331988  0.00580194  …  0.0498494  0.0557539  0.0502037\n",
       " 0.0481962   0.0323721  0.0271762      0.0556358  0.0551635  0.051857 \n",
       " 0.0314274   0.0420555  0.024224       0.0587062  0.070279   0.0576434\n",
       " ⋮                                  ⋱                                 \n",
       " 0.0422917   0.0418193  0.0267038      0.0712237  0.0792538  0.0818518\n",
       " 0.0622489   0.0486685  0.0272943      0.0918894  0.0790176  0.083505 \n",
       " 0.0546911   0.0457163  0.0259953      0.0805528  0.0814975  0.0725227\n",
       " 0.0455982   0.042646   0.0239878   …  0.0727589  0.0627212  0.0699247\n",
       " 0.0561082   0.053156   0.0288295      0.0778367  0.070279   0.0739398\n",
       " 0.0529198   0.0546911  0.0309551      0.0788995  0.086103   0.0718141\n",
       " 0.0516208   0.0507942  0.0296561      0.0777186  0.082206   0.0740578\n",
       " 0.0489047   0.0529198  0.0209174      0.082206   0.0840955  0.0719322\n",
       " 0.050558    0.0483143  0.0217441   …  0.0882286  0.0733493  0.06898  \n",
       " 0.0538645   0.0424098  0.0329626      0.561533   0.0809071  0.0764196\n",
       " 0.0633117   0.0394575  0.0215079      0.0809071  0.566847   0.0690981\n",
       " 0.0510303   0.0502037  0.0200908      0.0764196  0.0690981  0.533781 "
      ]
     },
     "execution_count": 42,
     "metadata": {},
     "output_type": "execute_result"
    }
   ],
   "source": [
    "# MoM using all SNPs\n",
    "grm(hapmap; method = :MoM)"
   ]
  },
  {
   "cell_type": "markdown",
   "metadata": {},
   "source": [
    "## Principal component analysis \n",
    "\n",
    "Principal compoenent analysis is widely used in genome-wide association analysis (GWAS) for adjusting population substructure. `pca(A, pcs)` computes the top `pcs` principal components based on the `SnpArray` `A`. Each SNP is centered at $2\\text{MAF}$ and scaled by $[2\\text{MAF}(1-\\text{MAF})]^{-1/2}$. The output is  \n",
    "\n",
    "* `pcscore`: top `pcs` eigen-SNPs, or principal scores, in each column  \n",
    "* `pcloading`: top `pcs` eigen-vectors, or principal loadings, in each column  \n",
    "* `pcvariance`: top `pcs` eigen-values, or principal variances\n",
    "\n",
    "Missing genotypes are imputed according the minor allele frequencies on the fly. This implies that, in the presence of missing genotypes, running the function on the same `SnpArray` twice may produce slightly different answers. For reproducibility, it is a good practice to set the random seed before each function that does imputation on the fly."
   ]
  },
  {
   "cell_type": "code",
   "execution_count": 43,
   "metadata": {
    "collapsed": false
   },
   "outputs": [
    {
     "data": {
      "text/plain": [
       "(\n",
       "324x3 Array{Float64,2}:\n",
       " -38.7231  -1.2983     -7.00541  \n",
       " -32.6096  -1.21052    -3.3232   \n",
       " -23.0215  -0.505397   12.1751   \n",
       " -35.692   -2.76103    -2.40055  \n",
       " -37.1815  -0.132498   -3.66829  \n",
       " -34.9285  -1.11368     6.14167  \n",
       " -22.0323  -5.70536     2.02968  \n",
       " -30.9994  -2.28269    -0.0893283\n",
       " -22.8432  -3.76024     7.97486  \n",
       " -32.2024  -0.239253    2.91168  \n",
       " -36.344   -0.773184   -5.31525  \n",
       " -35.886   -0.807234    0.279053 \n",
       " -33.9423  -3.78982     7.35677  \n",
       "   ⋮                             \n",
       " -49.1282   0.913683   10.4061   \n",
       " -46.9862  -0.9654     -0.435579 \n",
       " -48.5334  -1.05076    -0.15223  \n",
       " -49.0331   0.379279    5.65431  \n",
       " -47.8714  -0.406195   -7.14605  \n",
       " -48.2028  -1.41369    -0.564107 \n",
       " -46.7128  -3.36643    -4.44341  \n",
       " -48.9006  -1.69293     0.0467995\n",
       " -48.5574   1.34936    -1.89814  \n",
       " -50.2291   0.0865293  -1.94494  \n",
       " -48.9263  -2.06102     2.17374  \n",
       " -48.8627   0.274894    6.49518  ,\n",
       "\n",
       "13928x3 Array{Float64,2}:\n",
       "  9.66817e-20   7.35949e-19   5.79015e-19\n",
       "  0.00143962   -0.0042375    -0.00311816 \n",
       " -0.0183601    -0.00512036    0.00322409 \n",
       " -0.00956451   -0.004523     -0.00478078 \n",
       "  0.0211999    -0.0226285     0.0110026  \n",
       " -1.82e-19     -1.35541e-18  -1.07856e-18\n",
       " -0.00230269   -0.000231224  -0.00339487 \n",
       " -0.0202126    -0.0025855     8.10915e-5 \n",
       "  0.00631175   -0.0181213     0.00582407 \n",
       "  0.000691273  -0.00158342   -0.0121338  \n",
       " -6.34042e-19  -3.71923e-18  -2.90818e-18\n",
       "  0.0186933     7.92095e-5    0.00276918 \n",
       " -0.0127722     0.00765991    0.0134646  \n",
       "  ⋮                                      \n",
       "  0.000732677   0.000506129   0.00241864 \n",
       "  0.000632772   0.000487763   0.00243887 \n",
       " -0.000604616  -0.000224069  -0.00294191 \n",
       "  0.000769648   0.000534368   0.00250158 \n",
       "  0.000410429   0.000371501   0.00266287 \n",
       " -0.00115497   -0.00172623    0.00106324 \n",
       "  0.00051705    0.000728929   0.00249755 \n",
       "  0.000652703   0.000748617   0.0023053  \n",
       "  0.000643944  -0.000151043   0.00242307 \n",
       " -0.00149825   -0.000183435  -0.00454919 \n",
       "  0.00313326   -0.00427486   -0.0152038  \n",
       " -9.09523e-5   -0.00287777    0.0037855  ,\n",
       "\n",
       "[1841.3950939952633,225.32365874997188,70.70835685208192])"
      ]
     },
     "execution_count": 43,
     "metadata": {},
     "output_type": "execute_result"
    }
   ],
   "source": [
    "srand(123) # set seed\n",
    "pcscore, pcloading, pcvariance = pca(hapmap, 3)"
   ]
  },
  {
   "cell_type": "markdown",
   "metadata": {},
   "source": [
    "To use eigen-SNPs for plotting or covariates in GWAS, we typically scale them by their standard deviations so that they have mean zero and unit variance."
   ]
  },
  {
   "cell_type": "code",
   "execution_count": 44,
   "metadata": {
    "collapsed": false
   },
   "outputs": [
    {
     "data": {
      "text/plain": [
       "1x3 Array{Float64,2}:\n",
       " 1.0  1.0  1.0"
      ]
     },
     "execution_count": 44,
     "metadata": {},
     "output_type": "execute_result"
    }
   ],
   "source": [
    "# standardize eigen-SNPs before plotting or GWAS\n",
    "scale!(pcscore, 1.0 ./ √(pcvariance))\n",
    "std(pcscore, 1)"
   ]
  },
  {
   "cell_type": "markdown",
   "metadata": {},
   "source": [
    "Internally `pca()` converts `SnpArray` to the matrix of minor allele counts. The default format is `Matrix{Float64}`, which can easily exceed memory limit. Users have several options when the default `Matrix{Float64}` cannot fit into memory.  \n",
    "\n",
    "* Use other intermediate matrix types."
   ]
  },
  {
   "cell_type": "code",
   "execution_count": 45,
   "metadata": {
    "collapsed": false
   },
   "outputs": [
    {
     "data": {
      "text/plain": [
       "3-element Array{Float32,1}:\n",
       " 1841.39  \n",
       "  225.324 \n",
       "   70.7085"
      ]
     },
     "execution_count": 45,
     "metadata": {},
     "output_type": "execute_result"
    }
   ],
   "source": [
    "# use single precision matrix and display the principal variances\n",
    "# approximately same answer as double precision\n",
    "srand(123)\n",
    "pca(hapmap, 3, Matrix{Float32})[3]"
   ]
  },
  {
   "cell_type": "markdown",
   "metadata": {
    "collapsed": true
   },
   "source": [
    "* Use subset of SNPs"
   ]
  },
  {
   "cell_type": "code",
   "execution_count": 46,
   "metadata": {
    "collapsed": false
   },
   "outputs": [
    {
     "data": {
      "text/plain": [
       "3-element Array{Float64,1}:\n",
       " 926.622 \n",
       " 113.188 \n",
       "  36.4866"
      ]
     },
     "execution_count": 46,
     "metadata": {},
     "output_type": "execute_result"
    }
   ],
   "source": [
    "# principal components using every other SNP capture about half the variance\n",
    "srand(123)\n",
    "pca(sub(hapmap, :, 1:2:snps), 3)[3]"
   ]
  },
  {
   "cell_type": "markdown",
   "metadata": {},
   "source": [
    "* Use sparse matrix. For large data sets with majority of rare variants, `pca_sp()` is more efficient by first converting `SnpArray` to a sparse matrix (default is `SparseMatrixCSC{Float64, Int64}`) and then computing principal components using iterative algorithms. "
   ]
  },
  {
   "cell_type": "code",
   "execution_count": 47,
   "metadata": {
    "collapsed": false
   },
   "outputs": [
    {
     "data": {
      "text/plain": [
       "3-element Array{Float64,1}:\n",
       " 1841.4   \n",
       "  225.31  \n",
       "   70.7094"
      ]
     },
     "execution_count": 47,
     "metadata": {},
     "output_type": "execute_result"
    }
   ],
   "source": [
    "# approximately same answer if we use Float16 sparse matrix\n",
    "srand(123)\n",
    "pca_sp(hapmap, 3, SparseMatrixCSC{Float16, UInt32})[3]"
   ]
  },
  {
   "cell_type": "code",
   "execution_count": 48,
   "metadata": {
    "collapsed": false
   },
   "outputs": [
    {
     "data": {
      "text/plain": [
       "3-element Array{Float64,1}:\n",
       " 1841.4   \n",
       "  225.328 \n",
       "   70.7119"
      ]
     },
     "execution_count": 48,
     "metadata": {},
     "output_type": "execute_result"
    }
   ],
   "source": [
    "# approximately same answer if we use Int8 sparse matrix\n",
    "srand(123)\n",
    "pca_sp(hapmap, 3, SparseMatrixCSC{Int8, UInt32})[3]"
   ]
  },
  {
   "cell_type": "markdown",
   "metadata": {},
   "source": [
    "## SnpData"
   ]
  },
  {
   "cell_type": "markdown",
   "metadata": {},
   "source": [
    "`SnpData` type stores all SNP information besides genotypes. We initialize `SnpData` form Plink binary files."
   ]
  },
  {
   "cell_type": "code",
   "execution_count": 49,
   "metadata": {
    "collapsed": false
   },
   "outputs": [
    {
     "data": {
      "text/plain": [
       "14-element Array{Symbol,1}:\n",
       " :people             \n",
       " :snps               \n",
       " :personid           \n",
       " :snpid              \n",
       " :chromosome         \n",
       " :genetic_distance   \n",
       " :basepairs          \n",
       " :allele1            \n",
       " :allele2            \n",
       " :maf                \n",
       " :minor_allele       \n",
       " :snpmatrix          \n",
       " :missings_per_person\n",
       " :missings_per_snp   "
      ]
     },
     "execution_count": 49,
     "metadata": {},
     "output_type": "execute_result"
    }
   ],
   "source": [
    "hapmap_snpdata = SnpData(\"hapmap3\")\n",
    "fieldnames(hapmap_snpdata)"
   ]
  },
  {
   "cell_type": "code",
   "execution_count": 50,
   "metadata": {
    "collapsed": false
   },
   "outputs": [
    {
     "data": {
      "text/plain": [
       "10-element Array{AbstractString,1}:\n",
       " \"rs10458597\"\n",
       " \"rs12562034\"\n",
       " \"rs2710875\" \n",
       " \"rs11260566\"\n",
       " \"rs1312568\" \n",
       " \"rs35154105\"\n",
       " \"rs16824508\"\n",
       " \"rs2678939\" \n",
       " \"rs7553178\" \n",
       " \"rs13376356\""
      ]
     },
     "execution_count": 50,
     "metadata": {},
     "output_type": "execute_result"
    }
   ],
   "source": [
    "hapmap_snpdata.snpid[1:10]"
   ]
  },
  {
   "cell_type": "code",
   "execution_count": 51,
   "metadata": {
    "collapsed": false
   },
   "outputs": [
    {
     "data": {
      "text/plain": [
       "10-element Array{AbstractString,1}:\n",
       " \"NA19916\"\n",
       " \"NA19835\"\n",
       " \"NA20282\"\n",
       " \"NA19703\"\n",
       " \"NA19901\"\n",
       " \"NA19908\"\n",
       " \"NA19914\"\n",
       " \"NA20287\"\n",
       " \"NA19713\"\n",
       " \"NA19904\""
      ]
     },
     "execution_count": 51,
     "metadata": {},
     "output_type": "execute_result"
    }
   ],
   "source": [
    "hapmap_snpdata.personid[1:10]"
   ]
  },
  {
   "cell_type": "markdown",
   "metadata": {},
   "source": [
    "To write `SnpData` to Plink **bed** and **bim** files, we use the `writeplink` function."
   ]
  },
  {
   "cell_type": "code",
   "execution_count": 52,
   "metadata": {
    "collapsed": true
   },
   "outputs": [],
   "source": [
    "#writeplink(filename, hapmap_snpdata)"
   ]
  },
  {
   "cell_type": "code",
   "execution_count": 53,
   "metadata": {
    "collapsed": false
   },
   "outputs": [
    {
     "name": "stdout",
     "output_type": "stream",
     "text": [
      "Julia Version 0.4.6\n",
      "Commit 2e358ce (2016-06-19 17:16 UTC)\n",
      "Platform Info:\n",
      "  System: Darwin (x86_64-apple-darwin13.4.0)\n",
      "  CPU: Intel(R) Core(TM) i7-3720QM CPU @ 2.60GHz\n",
      "  WORD_SIZE: 64\n",
      "  BLAS: libopenblas (USE64BITINT DYNAMIC_ARCH NO_AFFINITY Sandybridge)\n",
      "  LAPACK: libopenblas64_\n",
      "  LIBM: libopenlibm\n",
      "  LLVM: libLLVM-3.3\n"
     ]
    }
   ],
   "source": [
    "versioninfo()"
   ]
  },
  {
   "cell_type": "code",
   "execution_count": null,
   "metadata": {
    "collapsed": true
   },
   "outputs": [],
   "source": []
  }
 ],
 "metadata": {
  "kernelspec": {
   "display_name": "Julia 0.4.6",
   "language": "julia",
   "name": "julia-0.4"
  },
  "language_info": {
   "file_extension": ".jl",
   "mimetype": "application/julia",
   "name": "julia",
   "version": "0.4.6"
  }
 },
 "nbformat": 4,
 "nbformat_minor": 0
}
