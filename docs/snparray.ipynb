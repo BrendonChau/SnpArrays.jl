{
 "cells": [
  {
   "cell_type": "markdown",
   "metadata": {},
   "source": [
    "# SnpArrays.jl"
   ]
  },
  {
   "cell_type": "markdown",
   "metadata": {},
   "source": [
    "The module `SnpArrays` implements the `SnpArray` type for handling biallelic genotypes. `SnpArray` is an array of `Tuple{Bool,Bool}` and adopts the same coding as the [Plink binary format](http://pngu.mgh.harvard.edu/~purcell/plink/binary.shtml). If `A1` and `A2` are the two alleles, the coding rule is  \n",
    "\n",
    "| Genotype | SnpArray |  \n",
    "|---|---|---|  \n",
    "| A1,A1 | 00 |  \n",
    "| A1,A2 | 01 |  \n",
    "| A2,A2 | 11 |  \n",
    "| missing | 10 |  \n",
    "The code `10==(true,false)` is reserved for missing genotype. Otherwise, the bit `1==true` represents one copy of allele `A2`. In a two-dimensional `SnpArray`, each row is a person and each column is a SNP.\n",
    "\n",
    "## Constructor\n",
    "\n",
    "There are various ways to initialize a `SnpArray`.  \n",
    "\n",
    "* `SnpArray` can be initialized from [Plink binary files](http://pngu.mgh.harvard.edu/~purcell/plink/binary.shtml), say the sample data set hapmap3:"
   ]
  },
  {
   "cell_type": "code",
   "execution_count": 1,
   "metadata": {
    "collapsed": false
   },
   "outputs": [
    {
     "name": "stdout",
     "output_type": "stream",
     "text": [
      "-rw-r--r--  1 hzhou3  staff  1128171 Jun 17 12:54 hapmap3.bed\n",
      "-rw-r--r--  1 hzhou3  staff   388672 Jun 17 12:54 hapmap3.bim\n",
      "-rw-r--r--  1 hzhou3  staff     7136 Jun 17 12:54 hapmap3.fam\n",
      "-rw-r--r--  1 hzhou3  staff   332960 Jun 17 12:54 hapmap3.map\n"
     ]
    }
   ],
   "source": [
    ";ls -al hapmap3.*"
   ]
  },
  {
   "cell_type": "code",
   "execution_count": 2,
   "metadata": {
    "collapsed": false
   },
   "outputs": [
    {
     "data": {
      "text/plain": [
       "324x13928 SnpArrays.SnpArray{2}:\n",
       " (true,true)  (true,true)   (false,false)  …  (true,true)   (true,true)\n",
       " (true,true)  (false,true)  (false,true)      (false,true)  (true,true)\n",
       " (true,true)  (true,true)   (false,true)      (true,true)   (true,true)\n",
       " (true,true)  (true,true)   (false,true)      (true,true)   (true,true)\n",
       " (true,true)  (true,true)   (false,true)      (true,true)   (true,true)\n",
       " (true,true)  (false,true)  (true,true)    …  (true,true)   (true,true)\n",
       " (true,true)  (true,true)   (true,true)       (true,true)   (true,true)\n",
       " (true,true)  (true,true)   (false,false)     (true,true)   (true,true)\n",
       " (true,true)  (true,true)   (false,true)      (true,true)   (true,true)\n",
       " (true,true)  (true,true)   (false,true)      (true,true)   (true,true)\n",
       " (true,true)  (true,true)   (false,true)   …  (true,true)   (true,true)\n",
       " (true,true)  (true,true)   (true,true)       (true,true)   (true,true)\n",
       " (true,true)  (true,true)   (false,false)     (true,true)   (true,true)\n",
       " ⋮                                         ⋱                           \n",
       " (true,true)  (true,true)   (false,true)      (true,true)   (true,true)\n",
       " (true,true)  (true,true)   (false,false)     (true,true)   (true,true)\n",
       " (true,true)  (true,true)   (false,false)     (true,true)   (true,true)\n",
       " (true,true)  (true,true)   (false,false)  …  (true,true)   (true,true)\n",
       " (true,true)  (true,true)   (false,true)      (true,true)   (true,true)\n",
       " (true,true)  (true,true)   (true,true)       (true,true)   (true,true)\n",
       " (true,true)  (true,true)   (false,true)      (true,true)   (true,true)\n",
       " (true,true)  (true,true)   (false,true)      (true,true)   (true,true)\n",
       " (true,true)  (true,true)   (false,false)  …  (true,true)   (true,true)\n",
       " (true,true)  (true,true)   (false,true)      (true,true)   (true,true)\n",
       " (true,true)  (true,true)   (false,false)     (true,true)   (true,true)\n",
       " (true,true)  (true,true)   (false,false)     (true,true)   (true,true)"
      ]
     },
     "execution_count": 2,
     "metadata": {},
     "output_type": "execute_result"
    }
   ],
   "source": [
    "using SnpArrays\n",
    "hapmap = SnpArray(\"hapmap3\")"
   ]
  },
  {
   "cell_type": "markdown",
   "metadata": {},
   "source": [
    "By default, the constructor figures out the number of individuals and SNPs from the `.bim` and `.fam` files. Alternatively, users can supply them (`people` and `snps`) to the constructor: `hapmap = SnpArray(\"hapmap3\", 324, 13928)`. In this case only the `.bed` file needs to be present."
   ]
  },
  {
   "cell_type": "code",
   "execution_count": 3,
   "metadata": {
    "collapsed": false
   },
   "outputs": [
    {
     "data": {
      "text/plain": [
       "(324,13928)"
      ]
     },
     "execution_count": 3,
     "metadata": {},
     "output_type": "execute_result"
    }
   ],
   "source": [
    "# rows are people; columns are SNPs\n",
    "people, snps = size(hapmap)"
   ]
  },
  {
   "cell_type": "markdown",
   "metadata": {},
   "source": [
    "Internally `SnpArray` stores data as `BitArray`s and consumes approximately the same amount of memory as the Plink `bed` file size."
   ]
  },
  {
   "cell_type": "code",
   "execution_count": 4,
   "metadata": {
    "collapsed": false
   },
   "outputs": [
    {
     "data": {
      "text/plain": [
       "1128256"
      ]
     },
     "execution_count": 4,
     "metadata": {},
     "output_type": "execute_result"
    }
   ],
   "source": [
    "# memory usage\n",
    "Base.summarysize(hapmap)"
   ]
  },
  {
   "cell_type": "markdown",
   "metadata": {},
   "source": [
    "* `SnpArray` can be initialized from a matrix of A1 allele counts."
   ]
  },
  {
   "cell_type": "code",
   "execution_count": 5,
   "metadata": {
    "collapsed": false
   },
   "outputs": [
    {
     "data": {
      "text/plain": [
       "5x3 SnpArrays.SnpArray{2}:\n",
       " (false,true)   (false,true)   (false,true) \n",
       " (false,false)  (false,true)   (false,true) \n",
       " (false,false)  (false,false)  (true,true)  \n",
       " (false,false)  (true,true)    (true,true)  \n",
       " (false,false)  (true,true)    (false,false)"
      ]
     },
     "execution_count": 5,
     "metadata": {},
     "output_type": "execute_result"
    }
   ],
   "source": [
    "SnpArray(rand(0:2, 5, 3))"
   ]
  },
  {
   "cell_type": "markdown",
   "metadata": {},
   "source": [
    "* `SnpArray(m, n)` generates an m by n `SnpArray` of all A1 alleles."
   ]
  },
  {
   "cell_type": "code",
   "execution_count": 6,
   "metadata": {
    "collapsed": false
   },
   "outputs": [
    {
     "data": {
      "text/plain": [
       "5x3 SnpArrays.SnpArray{2}:\n",
       " (false,false)  (false,false)  (false,false)\n",
       " (false,false)  (false,false)  (false,false)\n",
       " (false,false)  (false,false)  (false,false)\n",
       " (false,false)  (false,false)  (false,false)\n",
       " (false,false)  (false,false)  (false,false)"
      ]
     },
     "execution_count": 6,
     "metadata": {},
     "output_type": "execute_result"
    }
   ],
   "source": [
    "s = SnpArray(5, 3)"
   ]
  },
  {
   "cell_type": "markdown",
   "metadata": {},
   "source": [
    "## Summary statistics\n",
    "\n",
    "`summarize()` computes  \n",
    "* `maf`: minor allele frequencies, taking into account of missingness.  \n",
    "* `minor_allele`: a `BitVector` indicating the minor allele for each SNP. `minor_allele[j]==true` means A1 is the minor allele for SNP j; `minor_allele[j]==false` means A2 is the minor allele for SNP j.  \n",
    "* `missings_by_snp`: number of missing genotypes for each snp.  \n",
    "* `missings_by_person`: number of missing genotypes for each person."
   ]
  },
  {
   "cell_type": "code",
   "execution_count": 7,
   "metadata": {
    "collapsed": false
   },
   "outputs": [
    {
     "data": {
      "text/plain": [
       "1x13928 Array{Float64,2}:\n",
       " 0.0  0.0776398  0.324074  0.191589  …  0.00154321  0.0417957  0.00617284"
      ]
     },
     "execution_count": 7,
     "metadata": {},
     "output_type": "execute_result"
    }
   ],
   "source": [
    "maf, minor_allele, missings_by_snp, missings_by_person = summarize(hapmap)\n",
    "# minor allele frequencies\n",
    "maf'"
   ]
  },
  {
   "cell_type": "code",
   "execution_count": 8,
   "metadata": {
    "collapsed": false
   },
   "outputs": [
    {
     "data": {
      "text/plain": [
       "(11894,11894)"
      ]
     },
     "execution_count": 8,
     "metadata": {},
     "output_type": "execute_result"
    }
   ],
   "source": [
    "# total number of missing genotypes\n",
    "sum(missings_by_snp), sum(missings_by_person)"
   ]
  },
  {
   "cell_type": "code",
   "execution_count": 45,
   "metadata": {
    "collapsed": false
   },
   "outputs": [
    {
     "data": {
      "text/plain": [
       "0.0026356890108565393"
      ]
     },
     "execution_count": 45,
     "metadata": {},
     "output_type": "execute_result"
    }
   ],
   "source": [
    "# proportion of missing genotypes\n",
    "sum(missings_by_snp) / length(hapmap)"
   ]
  },
  {
   "cell_type": "markdown",
   "metadata": {},
   "source": [
    "## Random genotypes\n",
    "\n",
    "`randgeno(a1freq)` generates a random genotype according to A1 allele frequency `a1freq`."
   ]
  },
  {
   "cell_type": "code",
   "execution_count": 9,
   "metadata": {
    "collapsed": false
   },
   "outputs": [
    {
     "data": {
      "text/plain": [
       "(true,true)"
      ]
     },
     "execution_count": 9,
     "metadata": {},
     "output_type": "execute_result"
    }
   ],
   "source": [
    "randgeno(0.5)"
   ]
  },
  {
   "cell_type": "markdown",
   "metadata": {},
   "source": [
    "`randgeno(maf, minor_allele)` generates a random genotype according to minor allele frequency `maf` and whether the minor allele is A1 (`minor_allele==true`) or A2 (`minor_allele==false`)."
   ]
  },
  {
   "cell_type": "code",
   "execution_count": 10,
   "metadata": {
    "collapsed": false
   },
   "outputs": [
    {
     "data": {
      "text/plain": [
       "(false,true)"
      ]
     },
     "execution_count": 10,
     "metadata": {},
     "output_type": "execute_result"
    }
   ],
   "source": [
    "randgeno(0.25, true)"
   ]
  },
  {
   "cell_type": "markdown",
   "metadata": {},
   "source": [
    "`randgeno(n, maf, minor_allele)` generates a vector of random genotypes according to a common minor allele frequency `maf` and the minor allele."
   ]
  },
  {
   "cell_type": "code",
   "execution_count": 11,
   "metadata": {
    "collapsed": false
   },
   "outputs": [
    {
     "data": {
      "text/plain": [
       "10-element SnpArrays.SnpArray{1}:\n",
       " (false,true) \n",
       " (false,false)\n",
       " (false,true) \n",
       " (false,false)\n",
       " (true,true)  \n",
       " (false,false)\n",
       " (false,true) \n",
       " (true,true)  \n",
       " (false,true) \n",
       " (true,true)  "
      ]
     },
     "execution_count": 11,
     "metadata": {},
     "output_type": "execute_result"
    }
   ],
   "source": [
    "randgeno(10, 0.25, true)"
   ]
  },
  {
   "cell_type": "markdown",
   "metadata": {},
   "source": [
    "`randgeno(m, n, maf, minor_allele)` generates a random $m$-by-$n$ `SnpArray` according to a vector of minor allele frequencies `maf` and a minor allele indicator vector. The lengths of both vectors should be `n`."
   ]
  },
  {
   "cell_type": "code",
   "execution_count": 12,
   "metadata": {
    "collapsed": false
   },
   "outputs": [
    {
     "data": {
      "text/plain": [
       "324x13928 SnpArrays.SnpArray{2}:\n",
       " (true,true)  (true,true)   (false,true)   …  (true,true)   (true,true) \n",
       " (true,true)  (true,true)   (false,true)      (true,true)   (true,true) \n",
       " (true,true)  (true,true)   (true,true)       (false,true)  (true,true) \n",
       " (true,true)  (true,true)   (false,true)      (true,true)   (true,true) \n",
       " (true,true)  (false,true)  (true,true)       (true,true)   (true,true) \n",
       " (true,true)  (true,true)   (false,true)   …  (true,true)   (true,true) \n",
       " (true,true)  (false,true)  (false,true)      (true,true)   (true,true) \n",
       " (true,true)  (false,true)  (true,true)       (true,true)   (true,true) \n",
       " (true,true)  (true,true)   (false,true)      (true,true)   (true,true) \n",
       " (true,true)  (true,true)   (false,true)      (true,true)   (true,true) \n",
       " (true,true)  (true,true)   (true,true)    …  (true,true)   (true,true) \n",
       " (true,true)  (true,true)   (true,true)       (true,true)   (true,true) \n",
       " (true,true)  (true,true)   (true,true)       (true,true)   (true,true) \n",
       " ⋮                                         ⋱                            \n",
       " (true,true)  (true,true)   (true,true)       (true,true)   (true,true) \n",
       " (true,true)  (false,true)  (true,true)       (true,true)   (true,true) \n",
       " (true,true)  (true,true)   (false,false)     (false,true)  (true,true) \n",
       " (true,true)  (true,true)   (false,true)   …  (true,true)   (true,true) \n",
       " (true,true)  (true,true)   (true,true)       (false,true)  (true,true) \n",
       " (true,true)  (true,true)   (false,true)      (true,true)   (true,true) \n",
       " (true,true)  (true,true)   (false,true)      (true,true)   (true,true) \n",
       " (true,true)  (true,true)   (false,true)      (true,true)   (false,true)\n",
       " (true,true)  (false,true)  (false,true)   …  (true,true)   (true,true) \n",
       " (true,true)  (true,true)   (false,true)      (true,true)   (true,true) \n",
       " (true,true)  (true,true)   (false,true)      (true,true)   (true,true) \n",
       " (true,true)  (true,true)   (false,true)      (true,true)   (true,true) "
      ]
     },
     "execution_count": 12,
     "metadata": {},
     "output_type": "execute_result"
    }
   ],
   "source": [
    "# this is a random replicate of the hapmap data\n",
    "randgeno(size(hapmap), maf, minor_allele)"
   ]
  },
  {
   "cell_type": "markdown",
   "metadata": {},
   "source": [
    "## Subsetting\n",
    "\n",
    "Subsetting a `SnpArray` works the same way as subsetting any other arrays."
   ]
  },
  {
   "cell_type": "code",
   "execution_count": 13,
   "metadata": {
    "collapsed": false
   },
   "outputs": [
    {
     "data": {
      "text/plain": [
       "1x13928 SnpArrays.SnpArray{2}:\n",
       " (true,true)  (true,true)  (false,false)  …  (true,true)  (true,true)"
      ]
     },
     "execution_count": 13,
     "metadata": {},
     "output_type": "execute_result"
    }
   ],
   "source": [
    "# genotypes of the 1st person\n",
    "hapmap[1, :]"
   ]
  },
  {
   "cell_type": "code",
   "execution_count": 14,
   "metadata": {
    "collapsed": false
   },
   "outputs": [
    {
     "data": {
      "text/plain": [
       "324-element SnpArrays.SnpArray{1}:\n",
       " (true,true)  \n",
       " (true,true)  \n",
       " (false,true) \n",
       " (false,true) \n",
       " (true,true)  \n",
       " (false,false)\n",
       " (false,false)\n",
       " (true,true)  \n",
       " (true,true)  \n",
       " (true,true)  \n",
       " (true,true)  \n",
       " (true,true)  \n",
       " (false,true) \n",
       " ⋮            \n",
       " (false,false)\n",
       " (true,true)  \n",
       " (false,true) \n",
       " (true,true)  \n",
       " (true,true)  \n",
       " (true,true)  \n",
       " (true,true)  \n",
       " (true,true)  \n",
       " (false,true) \n",
       " (true,true)  \n",
       " (true,true)  \n",
       " (true,true)  "
      ]
     },
     "execution_count": 14,
     "metadata": {},
     "output_type": "execute_result"
    }
   ],
   "source": [
    "# genotypes of the 5th SNP\n",
    "hapmap[:, 5]"
   ]
  },
  {
   "cell_type": "code",
   "execution_count": 15,
   "metadata": {
    "collapsed": false
   },
   "outputs": [
    {
     "data": {
      "text/plain": [
       "5x6 SnpArrays.SnpArray{2}:\n",
       " (true,true)   (true,true)  (false,true)  …  (true,true)   (false,true)\n",
       " (true,true)   (true,true)  (true,true)      (true,true)   (false,true)\n",
       " (false,true)  (true,true)  (true,true)      (false,true)  (true,true) \n",
       " (false,true)  (true,true)  (true,true)      (true,true)   (false,true)\n",
       " (true,true)   (true,true)  (true,true)      (true,true)   (false,true)"
      ]
     },
     "execution_count": 15,
     "metadata": {},
     "output_type": "execute_result"
    }
   ],
   "source": [
    "# subsetting both persons and SNPs\n",
    "hapmap[1:5, 5:10]"
   ]
  },
  {
   "cell_type": "code",
   "execution_count": 16,
   "metadata": {
    "collapsed": false
   },
   "outputs": [
    {
     "data": {
      "text/plain": [
       "324x12085 SnpArrays.SnpArray{2}:\n",
       " (true,true)   (false,false)  (true,true)   …  (false,true)  (false,true)\n",
       " (false,true)  (false,true)   (false,true)     (true,true)   (true,true) \n",
       " (true,true)   (false,true)   (false,true)     (true,true)   (true,true) \n",
       " (true,true)   (false,true)   (true,true)      (false,true)  (false,true)\n",
       " (true,true)   (false,true)   (false,true)     (true,true)   (true,true) \n",
       " (false,true)  (true,true)    (true,true)   …  (false,true)  (false,true)\n",
       " (true,true)   (true,true)    (true,true)      (true,true)   (true,true) \n",
       " (true,true)   (false,false)  (true,true)      (true,true)   (true,true) \n",
       " (true,true)   (false,true)   (false,true)     (true,true)   (true,true) \n",
       " (true,true)   (false,true)   (true,true)      (false,true)  (false,true)\n",
       " (true,true)   (false,true)   (true,true)   …  (true,true)   (true,true) \n",
       " (true,true)   (true,true)    (false,true)     (false,true)  (false,true)\n",
       " (true,true)   (false,false)  (true,true)      (false,true)  (false,true)\n",
       " ⋮                                          ⋱                            \n",
       " (true,true)   (false,true)   (true,true)      (false,true)  (false,true)\n",
       " (true,true)   (false,false)  (true,true)      (false,true)  (false,true)\n",
       " (true,true)   (false,false)  (true,true)      (true,true)   (true,true) \n",
       " (true,true)   (false,false)  (false,true)  …  (true,true)   (true,true) \n",
       " (true,true)   (false,true)   (true,true)      (true,true)   (true,true) \n",
       " (true,true)   (true,true)    (false,true)     (false,true)  (false,true)\n",
       " (true,true)   (false,true)   (false,true)     (false,true)  (false,true)\n",
       " (true,true)   (false,true)   (true,true)      (true,true)   (true,true) \n",
       " (true,true)   (false,false)  (true,true)   …  (false,true)  (false,true)\n",
       " (true,true)   (false,true)   (false,true)     (false,true)  (false,true)\n",
       " (true,true)   (false,false)  (false,true)     (false,true)  (false,true)\n",
       " (true,true)   (false,false)  (true,true)      (true,true)   (true,true) "
      ]
     },
     "execution_count": 16,
     "metadata": {},
     "output_type": "execute_result"
    }
   ],
   "source": [
    "# filter out rare SNPs with MAF < 0.05\n",
    "hapmap[:, maf .≥ 0.05]"
   ]
  },
  {
   "cell_type": "code",
   "execution_count": 17,
   "metadata": {
    "collapsed": false
   },
   "outputs": [
    {
     "data": {
      "text/plain": [
       "220x13928 SnpArrays.SnpArray{2}:\n",
       " (true,true)  (true,true)   (false,false)  …  (true,true)   (true,true)\n",
       " (true,true)  (false,true)  (false,true)      (false,true)  (true,true)\n",
       " (true,true)  (true,true)   (false,true)      (true,true)   (true,true)\n",
       " (true,true)  (true,true)   (true,true)       (true,true)   (true,true)\n",
       " (true,true)  (true,true)   (false,false)     (true,true)   (true,true)\n",
       " (true,true)  (true,true)   (false,true)   …  (true,true)   (true,true)\n",
       " (true,true)  (true,true)   (false,true)      (true,true)   (true,true)\n",
       " (true,true)  (true,true)   (false,true)      (true,true)   (true,true)\n",
       " (true,true)  (true,true)   (false,false)     (true,true)   (true,true)\n",
       " (true,true)  (true,true)   (false,true)      (true,true)   (true,true)\n",
       " (true,true)  (false,true)  (false,true)   …  (true,true)   (true,true)\n",
       " (true,true)  (true,true)   (true,true)       (true,true)   (true,true)\n",
       " (true,true)  (true,true)   (true,true)       (true,true)   (true,true)\n",
       " ⋮                                         ⋱                           \n",
       " (true,true)  (true,true)   (false,false)     (true,true)   (true,true)\n",
       " (true,true)  (true,true)   (false,false)     (true,true)   (true,true)\n",
       " (true,true)  (true,true)   (false,false)  …  (true,true)   (true,true)\n",
       " (true,true)  (true,true)   (false,true)      (true,true)   (true,true)\n",
       " (true,true)  (true,true)   (false,false)     (true,true)   (true,true)\n",
       " (true,true)  (true,true)   (false,false)     (true,true)   (true,true)\n",
       " (true,true)  (true,true)   (false,false)     (true,true)   (true,true)\n",
       " (true,true)  (true,true)   (false,true)   …  (true,true)   (true,true)\n",
       " (true,true)  (true,true)   (false,false)     (true,true)   (true,true)\n",
       " (true,true)  (true,true)   (false,true)      (true,true)   (true,true)\n",
       " (true,true)  (true,true)   (false,false)     (true,true)   (true,true)\n",
       " (true,true)  (true,true)   (false,false)     (true,true)   (true,true)"
      ]
     },
     "execution_count": 17,
     "metadata": {},
     "output_type": "execute_result"
    }
   ],
   "source": [
    "# filter out individuals with genotyping success rate < 0.90\n",
    "hapmap[missings_by_person / people .< 0.1, :]"
   ]
  },
  {
   "cell_type": "markdown",
   "metadata": {},
   "source": [
    "`sub()` and `slice()` create views of subarray without copying data and improve efficiency in many calculations."
   ]
  },
  {
   "cell_type": "code",
   "execution_count": 18,
   "metadata": {
    "collapsed": false
   },
   "outputs": [
    {
     "data": {
      "text/plain": [
       "1x12085 Array{Float64,2}:\n",
       " 0.0776398  0.324074  0.191589  …  0.310937  0.23913  0.23913  0.23913"
      ]
     },
     "execution_count": 18,
     "metadata": {},
     "output_type": "execute_result"
    }
   ],
   "source": [
    "mafcommon, = summarize(sub(hapmap, :, maf .≥ 0.05))\n",
    "mafcommon'"
   ]
  },
  {
   "cell_type": "markdown",
   "metadata": {},
   "source": [
    "## Assignment\n",
    "\n",
    "It is possible to assign specific genotypes to a `SnpArray` entry."
   ]
  },
  {
   "cell_type": "code",
   "execution_count": 19,
   "metadata": {
    "collapsed": false
   },
   "outputs": [
    {
     "data": {
      "text/plain": [
       "(true,true)"
      ]
     },
     "execution_count": 19,
     "metadata": {},
     "output_type": "execute_result"
    }
   ],
   "source": [
    "hapmap[1, 1]"
   ]
  },
  {
   "cell_type": "code",
   "execution_count": 20,
   "metadata": {
    "collapsed": false
   },
   "outputs": [
    {
     "data": {
      "text/plain": [
       "(false,true)"
      ]
     },
     "execution_count": 20,
     "metadata": {},
     "output_type": "execute_result"
    }
   ],
   "source": [
    "hapmap[1, 1] = (false, true)\n",
    "hapmap[1, 1]"
   ]
  },
  {
   "cell_type": "code",
   "execution_count": 21,
   "metadata": {
    "collapsed": false
   },
   "outputs": [
    {
     "data": {
      "text/plain": [
       "(true,false)"
      ]
     },
     "execution_count": 21,
     "metadata": {},
     "output_type": "execute_result"
    }
   ],
   "source": [
    "hapmap[1, 1] = NaN\n",
    "hapmap[1, 1]"
   ]
  },
  {
   "cell_type": "code",
   "execution_count": 22,
   "metadata": {
    "collapsed": false
   },
   "outputs": [
    {
     "data": {
      "text/plain": [
       "(true,true)"
      ]
     },
     "execution_count": 22,
     "metadata": {},
     "output_type": "execute_result"
    }
   ],
   "source": [
    "hapmap[1, 1] = 2\n",
    "hapmap[1, 1]"
   ]
  },
  {
   "cell_type": "markdown",
   "metadata": {},
   "source": [
    "Subsetted assignment such as `map4[:, 1] = NaN` is also valid."
   ]
  },
  {
   "cell_type": "markdown",
   "metadata": {
    "collapsed": true
   },
   "source": [
    "## Copy, convert, and imputation\n",
    "\n",
    "In most analyses we convert a whole `SnpArray` or slices of it to numeric arrays (matrix of **minor allele counts**) for computational purposes. Keep in mind that the storage of resultant data can be up to 32 fold larger than that of the original `SnpArray`. Fortunately, rich collection of data types in `Julia` can allow us choose one that fits into memory. Below are estimates of memory usage for some common data types with `n` persons and `p` SNPs. Here MAF denotes the **average** minor allele frequencies.\n",
    "\n",
    "* `SnpArray`: $0.25np$ bytes  \n",
    "* `Matrix{Int8}`: $np$ bytes  \n",
    "* `Matrix{Float16}`: $2np$ bytes  \n",
    "* `Matrix{Float32}`: $4np$ bytes  \n",
    "* `Matrix{Float64}`: $8np$ bytes  \n",
    "* `SparseMatrixCSC{Float64,Int64}`: $16 \\cdot \\text{NNZ} + 8(p+1) \\approx 16np(2\\text{MAF}(1-\\text{MAF})+\\text{MAF}^2) + 8(p+1) = 16np \\cdot \\text{MAF}(2-\\text{MAF}) + 8(p+1)$ bytes. When the average MAF=0.25, this is about $7np$ bytes. When MAF=0.025, this is about $0.8np$ bypes, 10 fold smaller than the `Matrix{Float64}` type.  \n",
    "* `SparseMatrixCSC{Int8,UInt32}`: $5 \\cdot \\text{NNZ} + 4(p+1) \\approx 5np(2\\text{MAF}(1-\\text{MAF})+\\text{MAF}^2) + 4(p+1) = 5np \\cdot \\text{MAF}(2-\\text{MAF}) + 4(p+1)$ bytes. When the average MAF=0.25, this is about $2.2np$ bytes. When MAF=0.08, this is about $0.8np$ bypes, 10 fold smaller than `Matrix{Float64}` type.  \n",
    "* Two `SparseMatrixCSC{Bool,Int64}`: $2np \\cdot \\text{MAF} \\cdot 9 + 16(p+1) = 18 np \\cdot \\text{MAF} + 16(p+1)$ bytes. When the average MAF=0.25, this is about $4.5np$ bytes. When MAF=0.045, this is about $0.8np$ bytes, 10 fold smaller than `Matrix{Float64}` type.  \n",
    "\n",
    "To be concrete, consider 2 typical data sets:  \n",
    "* COPD (GWAS): $n = 6670$ individuals, $p = 630998$ SNPs, average MAF is 0.2454.\n",
    "* GAW19 (sequencing study): $n = 959$ individuals, $p = 8348674$ SNPs, average MAF is 0.085.  \n",
    "\n",
    "| Data Type | COPD | GAW19 |  \n",
    "|---|---|---|  \n",
    "| `SnpArray` | 1.05GB | 2GB |  \n",
    "| `Matrix{Float64}` | 33.67GB | 64.05GB |  \n",
    "| `SparseMatrixCSC{Float64,Int64}` | 29GB | 20.82GB |  \n",
    "| `SparseMatrixCSC{Bool,Int64}` | 18.6GB | 12.386GB |  \n",
    "\n",
    "Apparently for data sets with a majority of rare variants, converting to sparse matrices saves memory and often brings computational advantages too. In the `SparseMatrixCSC` format, the integer type of the row indices `rowval` and column pointer `colptr` should have maximal larger than the number of nonzeros in the matrix. The `InexactError()` error encountered during conversion often indicates that the integer type has a too small range. The utility function `estimatesize()` conveniently estimates memory usage in bytes for the input data type."
   ]
  },
  {
   "cell_type": "code",
   "execution_count": 23,
   "metadata": {
    "collapsed": false
   },
   "outputs": [
    {
     "data": {
      "text/plain": [
       "3.6101376e7"
      ]
     },
     "execution_count": 23,
     "metadata": {},
     "output_type": "execute_result"
    }
   ],
   "source": [
    "# estimated memory usage if convert to Matrix{Float64}\n",
    "estimatesize(people, snps, Matrix{Float64})"
   ]
  },
  {
   "cell_type": "code",
   "execution_count": 24,
   "metadata": {
    "collapsed": false
   },
   "outputs": [
    {
     "data": {
      "text/plain": [
       "324x13928 Array{Float64,2}:\n",
       " 0.0  0.0  2.0  0.0  0.0  0.0  1.0  1.0  …  1.0  1.0  1.0  1.0  0.0  0.0  0.0\n",
       " 0.0  1.0  1.0  1.0  0.0  0.0  0.0  1.0     0.0  0.0  0.0  0.0  0.0  1.0  0.0\n",
       " 0.0  0.0  1.0  1.0  1.0  0.0  0.0  2.0     1.0  0.0  0.0  0.0  0.0  0.0  0.0\n",
       " 0.0  0.0  1.0  0.0  1.0  0.0  0.0  1.0     1.0  1.0  1.0  1.0  0.0  0.0  0.0\n",
       " 0.0  0.0  1.0  1.0  0.0  0.0  0.0  2.0     0.0  0.0  0.0  0.0  0.0  0.0  0.0\n",
       " 0.0  1.0  0.0  0.0  2.0  0.0  0.0  0.0  …  2.0  1.0  1.0  1.0  0.0  0.0  0.0\n",
       " 0.0  0.0  0.0  0.0  2.0  0.0  0.0  2.0     1.0  0.0  0.0  0.0  0.0  0.0  0.0\n",
       " 0.0  0.0  2.0  0.0  0.0  0.0  0.0  1.0     0.0  0.0  0.0  0.0  0.0  0.0  0.0\n",
       " 0.0  0.0  1.0  1.0  0.0  0.0  0.0  2.0     0.0  0.0  0.0  0.0  0.0  0.0  0.0\n",
       " 0.0  0.0  1.0  0.0  0.0  0.0  0.0  2.0     1.0  1.0  1.0  1.0  0.0  0.0  0.0\n",
       " 0.0  0.0  1.0  0.0  0.0  0.0  0.0  2.0  …  0.0  0.0  0.0  0.0  0.0  0.0  0.0\n",
       " 0.0  0.0  0.0  1.0  0.0  0.0  0.0  2.0     1.0  1.0  1.0  1.0  0.0  0.0  0.0\n",
       " 0.0  0.0  2.0  0.0  1.0  0.0  0.0  1.0     2.0  1.0  1.0  1.0  0.0  0.0  0.0\n",
       " ⋮                        ⋮              ⋱                      ⋮            \n",
       " 0.0  0.0  1.0  0.0  2.0  0.0  0.0  1.0     2.0  1.0  1.0  1.0  0.0  0.0  0.0\n",
       " 0.0  0.0  2.0  0.0  0.0  0.0  0.0  2.0     2.0  1.0  1.0  1.0  0.0  0.0  0.0\n",
       " 0.0  0.0  2.0  0.0  1.0  0.0  0.0  1.0     0.0  0.0  0.0  0.0  0.0  0.0  0.0\n",
       " 0.0  0.0  2.0  1.0  0.0  0.0  0.0  1.0  …  0.0  0.0  0.0  0.0  0.0  0.0  0.0\n",
       " 0.0  0.0  1.0  0.0  0.0  0.0  0.0  1.0     1.0  0.0  0.0  0.0  0.0  0.0  0.0\n",
       " 0.0  0.0  0.0  1.0  0.0  0.0  0.0  1.0     2.0  1.0  1.0  1.0  0.0  0.0  0.0\n",
       " 0.0  0.0  1.0  1.0  0.0  0.0  0.0  2.0     1.0  1.0  1.0  1.0  0.0  0.0  0.0\n",
       " 0.0  0.0  1.0  0.0  0.0  0.0  0.0  2.0     0.0  0.0  0.0  0.0  0.0  0.0  0.0\n",
       " 0.0  0.0  2.0  0.0  1.0  0.0  0.0  1.0  …  1.0  1.0  1.0  1.0  0.0  0.0  0.0\n",
       " 0.0  0.0  1.0  1.0  0.0  0.0  0.0  1.0     1.0  1.0  1.0  1.0  0.0  0.0  0.0\n",
       " 0.0  0.0  2.0  1.0  0.0  0.0  0.0  2.0     1.0  1.0  1.0  1.0  0.0  0.0  0.0\n",
       " 0.0  0.0  2.0  0.0  0.0  0.0  0.0  2.0     0.0  0.0  0.0  0.0  0.0  0.0  0.0"
      ]
     },
     "execution_count": 24,
     "metadata": {},
     "output_type": "execute_result"
    }
   ],
   "source": [
    "# convert to Matrix{Float64}\n",
    "hapmapf64 = convert(Matrix{Float64}, hapmap)"
   ]
  },
  {
   "cell_type": "code",
   "execution_count": 25,
   "metadata": {
    "collapsed": false
   },
   "outputs": [
    {
     "data": {
      "text/plain": [
       "36101376"
      ]
     },
     "execution_count": 25,
     "metadata": {},
     "output_type": "execute_result"
    }
   ],
   "source": [
    "# actual memory usage of Matrix{Float64}\n",
    "Base.summarysize(hapmapf64)"
   ]
  },
  {
   "cell_type": "code",
   "execution_count": 26,
   "metadata": {
    "collapsed": false
   },
   "outputs": [
    {
     "data": {
      "text/plain": [
       "0.222585591341583"
      ]
     },
     "execution_count": 26,
     "metadata": {},
     "output_type": "execute_result"
    }
   ],
   "source": [
    "# average maf of the hapmap3 data set\n",
    "mean(maf)"
   ]
  },
  {
   "cell_type": "code",
   "execution_count": 27,
   "metadata": {
    "collapsed": false
   },
   "outputs": [
    {
     "data": {
      "text/plain": [
       "1.4338389205819245e7"
      ]
     },
     "execution_count": 27,
     "metadata": {},
     "output_type": "execute_result"
    }
   ],
   "source": [
    "# estimated memory usage if convert to SparseMatrixCSC{Float32, UInt32} matrix\n",
    "estimatesize(people, snps, SparseMatrixCSC{Float32, UInt32}, mean(maf))"
   ]
  },
  {
   "cell_type": "code",
   "execution_count": 28,
   "metadata": {
    "collapsed": false
   },
   "outputs": [
    {
     "data": {
      "text/plain": [
       "324x13928 sparse matrix with 1614876 Float32 entries:\n",
       "\t[2    ,     2]  =  1.0\n",
       "\t[6    ,     2]  =  1.0\n",
       "\t[15   ,     2]  =  1.0\n",
       "\t[31   ,     2]  =  1.0\n",
       "\t[33   ,     2]  =  1.0\n",
       "\t[35   ,     2]  =  1.0\n",
       "\t[43   ,     2]  =  1.0\n",
       "\t[44   ,     2]  =  1.0\n",
       "\t[50   ,     2]  =  1.0\n",
       "\t[54   ,     2]  =  1.0\n",
       "\t⋮\n",
       "\t[135  , 13927]  =  1.0\n",
       "\t[148  , 13927]  =  1.0\n",
       "\t[160  , 13927]  =  1.0\n",
       "\t[164  , 13927]  =  2.0\n",
       "\t[167  , 13927]  =  1.0\n",
       "\t[185  , 13927]  =  1.0\n",
       "\t[266  , 13927]  =  1.0\n",
       "\t[280  , 13927]  =  1.0\n",
       "\t[288  , 13927]  =  1.0\n",
       "\t[118  , 13928]  =  2.0\n",
       "\t[231  , 13928]  =  2.0"
      ]
     },
     "execution_count": 28,
     "metadata": {},
     "output_type": "execute_result"
    }
   ],
   "source": [
    "# convert to SparseMatrixCSC{Float32, UInt32} matrix\n",
    "hapmapf32sp = convert(SparseMatrixCSC{Float32, UInt32}, hapmap)"
   ]
  },
  {
   "cell_type": "code",
   "execution_count": 29,
   "metadata": {
    "collapsed": false
   },
   "outputs": [
    {
     "data": {
      "text/plain": [
       "12974764"
      ]
     },
     "execution_count": 29,
     "metadata": {},
     "output_type": "execute_result"
    }
   ],
   "source": [
    "# actual memory usage if convert to SparseMatrixCSC{Float32, UInt32} matrix\n",
    "Base.summarysize(hapmapf32sp)"
   ]
  },
  {
   "cell_type": "markdown",
   "metadata": {},
   "source": [
    "By default the `convert()` method converts missing genotypes to `NaN`."
   ]
  },
  {
   "cell_type": "code",
   "execution_count": 30,
   "metadata": {
    "collapsed": false
   },
   "outputs": [
    {
     "data": {
      "text/plain": [
       "(11894,11894)"
      ]
     },
     "execution_count": 30,
     "metadata": {},
     "output_type": "execute_result"
    }
   ],
   "source": [
    "# number of missing genotypes\n",
    "countnz(isnan(hapmap)), countnz(isnan(hapmapf64))"
   ]
  },
  {
   "cell_type": "markdown",
   "metadata": {},
   "source": [
    "One can enforce *crude imputation* by setting the optional argument `impute=true`. Imputation is done by generating two random alleles according to the minor allele frequency. This is not an optimal strategy, and users should impute missing genotypes by more advanced methods."
   ]
  },
  {
   "cell_type": "code",
   "execution_count": 31,
   "metadata": {
    "collapsed": false
   },
   "outputs": [
    {
     "data": {
      "text/plain": [
       "0"
      ]
     },
     "execution_count": 31,
     "metadata": {},
     "output_type": "execute_result"
    }
   ],
   "source": [
    "hapmapf64impute = convert(Matrix{Float64}, hapmap; impute = true)\n",
    "countnz(isnan(hapmapf64impute))"
   ]
  },
  {
   "cell_type": "markdown",
   "metadata": {},
   "source": [
    "By default `convert()` translates genotypes according to the *additive* SNP model, which essentially counts the number of **minor allele** (0, 1 or 2) per genotype. Other SNP models are *dominant* and *recessive*, both in terms of the **minor allele**. When `A1` is the minor allele, genotypes are translated to real number according to\n",
    "\n",
    "| Genotype | `SnpArray` | `model=:additive` | `model=:dominant` | `model=:recessive` |    \n",
    "|---|---|---|---|---|  \n",
    "| A1,A1 | 00 | 2 | 1 | 1 |  \n",
    "| A1,A2 | 01 | 1 | 1 | 0 |  \n",
    "| A2,A2 | 11 | 0 | 0 | 0 |  \n",
    "| missing | 10 | NaN | NaN | NaN | \n",
    "\n",
    "When `A2` is the minor allele, genotypes are translated according to\n",
    "\n",
    "| Genotype | `SnpArray` | `model=:additive` | `model=:dominant` | `model=:recessive` |    \n",
    "|---|---|---|---|---|  \n",
    "| A1,A1 | 00 | 0 | 0 | 0 |  \n",
    "| A1,A2 | 01 | 1 | 1 | 0 |  \n",
    "| A2,A2 | 11 | 2 | 1 | 1 |  \n",
    "| missing | 10 | NaN | NaN | NaN |"
   ]
  },
  {
   "cell_type": "code",
   "execution_count": 32,
   "metadata": {
    "collapsed": false
   },
   "outputs": [
    {
     "data": {
      "text/plain": [
       "10x3 Array{Float64,2}:\n",
       " 0.0  0.0  0.0\n",
       " 0.0  0.0  0.0\n",
       " 1.0  1.0  0.0\n",
       " 1.0  1.0  0.0\n",
       " 0.0  0.0  0.0\n",
       " 2.0  1.0  1.0\n",
       " 2.0  1.0  1.0\n",
       " 0.0  0.0  0.0\n",
       " 0.0  0.0  0.0\n",
       " 0.0  0.0  0.0"
      ]
     },
     "execution_count": 32,
     "metadata": {},
     "output_type": "execute_result"
    }
   ],
   "source": [
    "[convert(Vector{Float64}, hapmap[1:10, 5]; model = :additive) convert(Vector{Float64}, hapmap[1:10, 5]; model = :dominant) convert(Vector{Float64}, hapmap[1:10, 5]; model = :recessive)]"
   ]
  },
  {
   "cell_type": "markdown",
   "metadata": {},
   "source": [
    "By default `convert()` does **not** center and scale genotypes. Setting the optional arguments `center=true, scale=true` centers genotypes at 2MAF and scales them by $[2 \\cdot \\text{MAF} \\cdot (1 - \\text{MAF})]^{-1/2}$. Mono-allelic SNPs (MAF=0) are not scaled."
   ]
  },
  {
   "cell_type": "code",
   "execution_count": 33,
   "metadata": {
    "collapsed": false
   },
   "outputs": [
    {
     "data": {
      "text/plain": [
       "324x2 Array{Float64,2}:\n",
       " 0.0  -1.25702 \n",
       " 0.0  -1.25702 \n",
       " 1.0   0.167017\n",
       " 1.0   0.167017\n",
       " 0.0  -1.25702 \n",
       " 2.0   1.59106 \n",
       " 2.0   1.59106 \n",
       " 0.0  -1.25702 \n",
       " 0.0  -1.25702 \n",
       " 0.0  -1.25702 \n",
       " 0.0  -1.25702 \n",
       " 0.0  -1.25702 \n",
       " 1.0   0.167017\n",
       " ⋮             \n",
       " 2.0   1.59106 \n",
       " 0.0  -1.25702 \n",
       " 1.0   0.167017\n",
       " 0.0  -1.25702 \n",
       " 0.0  -1.25702 \n",
       " 0.0  -1.25702 \n",
       " 0.0  -1.25702 \n",
       " 0.0  -1.25702 \n",
       " 1.0   0.167017\n",
       " 0.0  -1.25702 \n",
       " 0.0  -1.25702 \n",
       " 0.0  -1.25702 "
      ]
     },
     "execution_count": 33,
     "metadata": {},
     "output_type": "execute_result"
    }
   ],
   "source": [
    "[convert(Vector{Float64}, hapmap[:, 5]) convert(Vector{Float64}, hapmap[:, 5]; center = true, scale = true)]"
   ]
  },
  {
   "cell_type": "markdown",
   "metadata": {},
   "source": [
    "`copy!()` is the in-place version of `convert()`. Options such as GWAS loop over SNPs and perform statistical anlaysis for each SNP. This can be achieved by"
   ]
  },
  {
   "cell_type": "code",
   "execution_count": 34,
   "metadata": {
    "collapsed": false
   },
   "outputs": [],
   "source": [
    "g = zeros(people)\n",
    "for j = 1:snps\n",
    "    copy!(g, hapmap[:, j]; model = :additive, impute = true)\n",
    "    # do statistical anlaysis\n",
    "end"
   ]
  },
  {
   "cell_type": "markdown",
   "metadata": {},
   "source": [
    "## Empirical kinship\n",
    "\n",
    "`grm()` computes the empirical kinship matrix using either the genetic relationship matrix (`model=:GRM`, default) or the method of moment method (`model=:MoM`). Missing genotypes are imputed according to minor allele frequencies on the fly."
   ]
  },
  {
   "cell_type": "code",
   "execution_count": 35,
   "metadata": {
    "collapsed": false
   },
   "outputs": [
    {
     "data": {
      "text/plain": [
       "324x324 Array{Float64,2}:\n",
       " 0.566513   0.044374   0.0184901  …  0.0625699  0.0689109  0.0622859\n",
       " 0.044374   0.530651   0.0309867     0.0494239  0.0430638  0.0603283\n",
       " 0.0184901  0.0309867  0.511456      0.0439789  0.0291278  0.0352053\n",
       " 0.0462502  0.0356483  0.0276601     0.0573521  0.0632131  0.0575533\n",
       " 0.0507291  0.0406434  0.0244096     0.0694009  0.0565572  0.0633861\n",
       " 0.0432721  0.0305752  0.0373517  …  0.0677946  0.054548   0.0626053\n",
       " 0.0378781  0.0213957  0.0120526     0.0424414  0.036397   0.0356409\n",
       " 0.0397552  0.0368997  0.020505      0.0554319  0.0526454  0.06375  \n",
       " 0.0288119  0.0299269  0.0157439     0.0322707  0.0445847  0.0371086\n",
       " 0.0376457  0.0403567  0.025385      0.0639501  0.0555916  0.0470954\n",
       " 0.0460111  0.0438635  0.0221346  …  0.0560927  0.0644597  0.0586572\n",
       " 0.0580311  0.0374503  0.0356171     0.0636309  0.056122   0.0689901\n",
       " 0.0343424  0.0424077  0.0254633     0.0551379  0.0671736  0.0612272\n",
       " ⋮                                ⋱                                 \n",
       " 0.0633124  0.0530914  0.0365551     0.0830258  0.0832031  0.0930734\n",
       " 0.0647523  0.0501829  0.0317704     0.0882346  0.0772245  0.0850859\n",
       " 0.06525    0.0538701  0.0374728     0.0862353  0.0814768  0.0821315\n",
       " 0.0625454  0.0548747  0.0378492  …  0.0839553  0.0735287  0.0858593\n",
       " 0.0607294  0.0535806  0.0353377     0.075891   0.0708528  0.0782962\n",
       " 0.0626253  0.0583357  0.0381083     0.085297   0.0878622  0.0794688\n",
       " 0.0599791  0.058239   0.0367812     0.0794579  0.0810684  0.0784017\n",
       " 0.0596686  0.0606259  0.0313295     0.0892427  0.086563   0.0830784\n",
       " 0.0635201  0.0610145  0.0314736  …  0.0939257  0.0762856  0.0831836\n",
       " 0.0625699  0.0494239  0.0439789     0.607087   0.0789007  0.0869423\n",
       " 0.0689109  0.0430638  0.0291278     0.0789007  0.583843   0.0791303\n",
       " 0.0622859  0.0603283  0.0352053     0.0869423  0.0791303  0.575879 "
      ]
     },
     "execution_count": 35,
     "metadata": {},
     "output_type": "execute_result"
    }
   ],
   "source": [
    "# GRM using all SNPs\n",
    "grm(hapmap)"
   ]
  },
  {
   "cell_type": "code",
   "execution_count": 36,
   "metadata": {
    "collapsed": false
   },
   "outputs": [
    {
     "data": {
      "text/plain": [
       "324x324 Array{Float64,2}:\n",
       " 0.55554    0.0415252  0.0283643  …  0.0648244  0.0713736  0.0649253\n",
       " 0.0415252  0.544837   0.0361201     0.0559992  0.044411   0.0539897\n",
       " 0.0283643  0.0361201  0.502526      0.0386841  0.0371463  0.0452439\n",
       " 0.0433369  0.0440833  0.0257733     0.0495638  0.0592161  0.0539114\n",
       " 0.0498891  0.0463124  0.0253842     0.0648398  0.0545091  0.0630637\n",
       " 0.0503684  0.0394335  0.0385208  …  0.0739661  0.0598586  0.0512114\n",
       " 0.0381547  0.0256283  0.0165676     0.0449659  0.0330389  0.0328653\n",
       " 0.0454775  0.0373382  0.0263166     0.0567333  0.0540492  0.0662865\n",
       " 0.0254468  0.0221385  0.0185609     0.0318073  0.0420425  0.0344622\n",
       " 0.0299521  0.0381308  0.0225016     0.0576451  0.039947   0.0487049\n",
       " 0.0469682  0.0481128  0.0206447  …  0.0603805  0.0631026  0.0515452\n",
       " 0.0609807  0.0472412  0.038455      0.0634922  0.0625043  0.0623964\n",
       " 0.0239883  0.0416252  0.0217398     0.0526987  0.0660195  0.0608463\n",
       " ⋮                                ⋱                                 \n",
       " 0.057951   0.0484797  0.0396095     0.0838988  0.0819043  0.0986502\n",
       " 0.0637492  0.057686   0.0298348     0.0862625  0.0732053  0.0844494\n",
       " 0.0666577  0.0520471  0.0375542     0.0815688  0.0788628  0.0919842\n",
       " 0.0624499  0.056451   0.0397019  …  0.0897565  0.0737503  0.0792936\n",
       " 0.0610971  0.0593805  0.0398344     0.0710133  0.0672208  0.0842319\n",
       " 0.0634171  0.0616986  0.0409176     0.0749208  0.0796942  0.0860364\n",
       " 0.0615236  0.0620274  0.0307445     0.0836691  0.0893503  0.0802178\n",
       " 0.0576387  0.0593642  0.0335363     0.0908194  0.0882982  0.0804869\n",
       " 0.0735084  0.0641741  0.0387984  …  0.0982326  0.0720667  0.0862852\n",
       " 0.0648244  0.0559992  0.0386841     0.599381   0.0671735  0.0919947\n",
       " 0.0713736  0.044411   0.0371463     0.0671735  0.56154    0.0723566\n",
       " 0.0649253  0.0539897  0.0452439     0.0919947  0.0723566  0.576533 "
      ]
     },
     "execution_count": 36,
     "metadata": {},
     "output_type": "execute_result"
    }
   ],
   "source": [
    "# GRM using every other SNP\n",
    "grm(sub(hapmap, :, 1:2:snps))"
   ]
  },
  {
   "cell_type": "code",
   "execution_count": 37,
   "metadata": {
    "collapsed": false
   },
   "outputs": [
    {
     "data": {
      "text/plain": [
       "324x324 Array{Float64,2}:\n",
       " 0.539214    0.034852   0.00261352  …  0.0536283  0.063784   0.0507942\n",
       " 0.034852    0.518076   0.0150129      0.0421736  0.0396937  0.0506761\n",
       " 0.00261352  0.0150129  0.499772       0.0328445  0.0211536  0.0204451\n",
       " 0.0430002   0.0290656  0.0239878      0.0522112  0.0693343  0.049259 \n",
       " 0.0451258   0.0330807  0.01643        0.0654373  0.0569348  0.0561082\n",
       " 0.0315455   0.0215079  0.0271762   …  0.0596509  0.0496133  0.0485505\n",
       " 0.0245782   0.0106436  0.00273161     0.0311912  0.0309551  0.0239878\n",
       " 0.0255229   0.0284752  0.00934464     0.0386309  0.0464248  0.0464248\n",
       " 0.0215079   0.0263496  0.0145406      0.029538   0.0487866  0.0302465\n",
       " 0.021626    0.0262315  0.0121788      0.0533921  0.0510303  0.0323721\n",
       " 0.0354425   0.033553   0.0062743   …  0.0494952  0.0562263  0.0498494\n",
       " 0.0477238   0.0317817  0.0274124      0.0557539  0.054573   0.0517389\n",
       " 0.0314274   0.0422917  0.0257591      0.0590604  0.0713418  0.0583519\n",
       " ⋮                                  ⋱                                 \n",
       " 0.0422917   0.0418193  0.0262315      0.0709875  0.0798442  0.0814975\n",
       " 0.0618946   0.0481962  0.0271762      0.0915351  0.0792538  0.0831508\n",
       " 0.0543369   0.045362   0.0264677      0.0803166  0.0814975  0.0725227\n",
       " 0.0444173   0.0422917  0.0241059   …  0.0725227  0.0631936  0.0700428\n",
       " 0.055872    0.053274   0.0293018      0.0776005  0.0708694  0.0738217\n",
       " 0.0523293   0.0541007  0.0313093      0.078191   0.0863392  0.0714599\n",
       " 0.0520931   0.0509122  0.029538       0.0780729  0.0825603  0.072877 \n",
       " 0.0481962   0.053156   0.0213898      0.0813794  0.0836231  0.0718141\n",
       " 0.0503218   0.0480781  0.0223345   …  0.0879924  0.0740578  0.0694523\n",
       " 0.0536283   0.0421736  0.0328445      0.561769   0.0811432  0.0760654\n",
       " 0.063784    0.0396937  0.0211536      0.0811432  0.567083   0.0692162\n",
       " 0.0507942   0.0506761  0.0204451      0.0760654  0.0692162  0.533427 "
      ]
     },
     "execution_count": 37,
     "metadata": {},
     "output_type": "execute_result"
    }
   ],
   "source": [
    "# MoM using all SNPs\n",
    "grm(hapmap; method = :MoM)"
   ]
  },
  {
   "cell_type": "markdown",
   "metadata": {},
   "source": [
    "## Principal component analysis \n",
    "\n",
    "Principal compoenent analysis is widely used in genome-wide association analysis (GWAS) for adjusting population substructure. `pca(A, pcs)` computes the top `pcs` principal components based on the `SnpArray` `A`. Each SNP is centered at $2\\text{MAF}$ and scaled by $[2\\text{MAF}(1-\\text{MAF})]^{-1/2}$. The output is  \n",
    "\n",
    "* `pcscore`: top `pcs` eigen-SNPs, or principal scores, in each column  \n",
    "* `pcloading`: top `pcs` eigen-vectors, or principal loadings, in each column  \n",
    "* `pcvariance`: top `pcs` eigen-values, or principal variances\n",
    "\n",
    "Missing genotypes are imputed according the minor allele frequencies on the fly. This implies that, in the presence of missing genotypes, running the function on the same `SnpArray` twice may produce slightly different answers. For reproducibility, it is a good practice to set the random seed before each function that does imputation on the fly."
   ]
  },
  {
   "cell_type": "code",
   "execution_count": 38,
   "metadata": {
    "collapsed": false
   },
   "outputs": [
    {
     "data": {
      "text/plain": [
       "(\n",
       "324x3 Array{Float64,2}:\n",
       " -38.7231  -1.2983     -7.00541  \n",
       " -32.6096  -1.21052    -3.3232   \n",
       " -23.0215  -0.505397   12.1751   \n",
       " -35.692   -2.76103    -2.40055  \n",
       " -37.1815  -0.132498   -3.66829  \n",
       " -34.9285  -1.11368     6.14167  \n",
       " -22.0323  -5.70536     2.02968  \n",
       " -30.9994  -2.28269    -0.0893283\n",
       " -22.8432  -3.76024     7.97486  \n",
       " -32.2024  -0.239253    2.91168  \n",
       " -36.344   -0.773184   -5.31525  \n",
       " -35.886   -0.807234    0.279053 \n",
       " -33.9423  -3.78982     7.35677  \n",
       "   ⋮                             \n",
       " -49.1282   0.913683   10.4061   \n",
       " -46.9862  -0.9654     -0.435579 \n",
       " -48.5334  -1.05076    -0.15223  \n",
       " -49.0331   0.379279    5.65431  \n",
       " -47.8714  -0.406195   -7.14605  \n",
       " -48.2028  -1.41369    -0.564107 \n",
       " -46.7128  -3.36643    -4.44341  \n",
       " -48.9006  -1.69293     0.0467995\n",
       " -48.5574   1.34936    -1.89814  \n",
       " -50.2291   0.0865293  -1.94494  \n",
       " -48.9263  -2.06102     2.17374  \n",
       " -48.8627   0.274894    6.49518  ,\n",
       "\n",
       "13928x3 Array{Float64,2}:\n",
       "  9.66817e-20   7.35949e-19   5.79015e-19\n",
       "  0.00143962   -0.0042375    -0.00311816 \n",
       " -0.0183601    -0.00512036    0.00322409 \n",
       " -0.00956451   -0.004523     -0.00478078 \n",
       "  0.0211999    -0.0226285     0.0110026  \n",
       " -1.82e-19     -1.35541e-18  -1.07856e-18\n",
       " -0.00230269   -0.000231224  -0.00339487 \n",
       " -0.0202126    -0.0025855     8.10915e-5 \n",
       "  0.00631175   -0.0181213     0.00582407 \n",
       "  0.000691273  -0.00158342   -0.0121338  \n",
       " -6.34042e-19  -3.71923e-18  -2.90818e-18\n",
       "  0.0186933     7.92095e-5    0.00276918 \n",
       " -0.0127722     0.00765991    0.0134646  \n",
       "  ⋮                                      \n",
       "  0.000732677   0.000506129   0.00241864 \n",
       "  0.000632772   0.000487763   0.00243887 \n",
       " -0.000604616  -0.000224069  -0.00294191 \n",
       "  0.000769648   0.000534368   0.00250158 \n",
       "  0.000410429   0.000371501   0.00266287 \n",
       " -0.00115497   -0.00172623    0.00106324 \n",
       "  0.00051705    0.000728929   0.00249755 \n",
       "  0.000652703   0.000748617   0.0023053  \n",
       "  0.000643944  -0.000151043   0.00242307 \n",
       " -0.00149825   -0.000183435  -0.00454919 \n",
       "  0.00313326   -0.00427486   -0.0152038  \n",
       " -9.09523e-5   -0.00287777    0.0037855  ,\n",
       "\n",
       "[1841.3950939952633,225.32365874997188,70.70835685208192])"
      ]
     },
     "execution_count": 38,
     "metadata": {},
     "output_type": "execute_result"
    }
   ],
   "source": [
    "srand(123) # set seed\n",
    "pcscore, pcloading, pcvariance = pca(hapmap, 3)"
   ]
  },
  {
   "cell_type": "markdown",
   "metadata": {},
   "source": [
    "To use eigen-SNPs for plotting or covariates in GWAS, we typically scale them by their standard deviations so that they have mean zero and unit variance."
   ]
  },
  {
   "cell_type": "code",
   "execution_count": 39,
   "metadata": {
    "collapsed": false
   },
   "outputs": [
    {
     "data": {
      "text/plain": [
       "1x3 Array{Float64,2}:\n",
       " 1.0  1.0  1.0"
      ]
     },
     "execution_count": 39,
     "metadata": {},
     "output_type": "execute_result"
    }
   ],
   "source": [
    "# standardize eigen-SNPs before plotting or GWAS\n",
    "scale!(pcscore, 1.0 ./ √(pcvariance))\n",
    "std(pcscore, 1)"
   ]
  },
  {
   "cell_type": "markdown",
   "metadata": {},
   "source": [
    "Internally `pca()` converts `SnpArray` to the matrix of minor allele counts. The default format is `Matrix{Float64}`, which can easily exceed memory limit. Users have several options when the default `Matrix{Float64}` cannot fit into memory.  \n",
    "\n",
    "* Use other intermediate matrix types."
   ]
  },
  {
   "cell_type": "code",
   "execution_count": 40,
   "metadata": {
    "collapsed": false
   },
   "outputs": [
    {
     "data": {
      "text/plain": [
       "3-element Array{Float32,1}:\n",
       " 1841.39  \n",
       "  225.324 \n",
       "   70.7085"
      ]
     },
     "execution_count": 40,
     "metadata": {},
     "output_type": "execute_result"
    }
   ],
   "source": [
    "# use single precision matrix and display the principal variances\n",
    "# approximately same answer as double precision\n",
    "srand(123)\n",
    "pca(hapmap, 3, Matrix{Float32})[3]"
   ]
  },
  {
   "cell_type": "markdown",
   "metadata": {
    "collapsed": true
   },
   "source": [
    "* Use subset of SNPs"
   ]
  },
  {
   "cell_type": "code",
   "execution_count": 41,
   "metadata": {
    "collapsed": false
   },
   "outputs": [
    {
     "data": {
      "text/plain": [
       "3-element Array{Float64,1}:\n",
       " 926.622 \n",
       " 113.188 \n",
       "  36.4866"
      ]
     },
     "execution_count": 41,
     "metadata": {},
     "output_type": "execute_result"
    }
   ],
   "source": [
    "# principal components using every other SNP capture about half the variance\n",
    "srand(123)\n",
    "pca(sub(hapmap, :, 1:2:snps), 3)[3]"
   ]
  },
  {
   "cell_type": "markdown",
   "metadata": {},
   "source": [
    "* Use sparse matrix. For large data sets with majority of rare variants, `pca_sp()` is more efficient by first converting `SnpArray` to a sparse matrix (default is `SparseMatrixCSC{Float64, Int64}`) and then computing principal components using iterative algorithms. "
   ]
  },
  {
   "cell_type": "code",
   "execution_count": 42,
   "metadata": {
    "collapsed": false
   },
   "outputs": [
    {
     "data": {
      "text/plain": [
       "3-element Array{Float64,1}:\n",
       " 1841.4   \n",
       "  225.31  \n",
       "   70.7094"
      ]
     },
     "execution_count": 42,
     "metadata": {},
     "output_type": "execute_result"
    }
   ],
   "source": [
    "# approximately same answer if we use Float16 sparse matrix\n",
    "srand(123)\n",
    "pca_sp(hapmap, 3, SparseMatrixCSC{Float16, UInt32})[3]"
   ]
  },
  {
   "cell_type": "code",
   "execution_count": 43,
   "metadata": {
    "collapsed": false
   },
   "outputs": [
    {
     "data": {
      "text/plain": [
       "3-element Array{Float64,1}:\n",
       " 1841.4   \n",
       "  225.328 \n",
       "   70.7119"
      ]
     },
     "execution_count": 43,
     "metadata": {},
     "output_type": "execute_result"
    }
   ],
   "source": [
    "# approximately same answer if we use Int8 sparse matrix\n",
    "srand(123)\n",
    "pca_sp(hapmap, 3, SparseMatrixCSC{Int8, UInt32})[3]"
   ]
  },
  {
   "cell_type": "code",
   "execution_count": 44,
   "metadata": {
    "collapsed": false
   },
   "outputs": [
    {
     "name": "stdout",
     "output_type": "stream",
     "text": [
      "Julia Version 0.4.6\n",
      "Commit 2e358ce (2016-06-19 17:16 UTC)\n",
      "Platform Info:\n",
      "  System: Darwin (x86_64-apple-darwin13.4.0)\n",
      "  CPU: Intel(R) Core(TM) i7-3720QM CPU @ 2.60GHz\n",
      "  WORD_SIZE: 64\n",
      "  BLAS: libopenblas (USE64BITINT DYNAMIC_ARCH NO_AFFINITY Sandybridge)\n",
      "  LAPACK: libopenblas64_\n",
      "  LIBM: libopenlibm\n",
      "  LLVM: libLLVM-3.3\n"
     ]
    }
   ],
   "source": [
    "versioninfo()"
   ]
  },
  {
   "cell_type": "code",
   "execution_count": null,
   "metadata": {
    "collapsed": true
   },
   "outputs": [],
   "source": []
  }
 ],
 "metadata": {
  "kernelspec": {
   "display_name": "Julia 0.4.6",
   "language": "julia",
   "name": "julia-0.4"
  },
  "language_info": {
   "file_extension": ".jl",
   "mimetype": "application/julia",
   "name": "julia",
   "version": "0.4.6"
  }
 },
 "nbformat": 4,
 "nbformat_minor": 0
}
