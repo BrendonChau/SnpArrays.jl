{
 "cells": [
  {
   "cell_type": "markdown",
   "metadata": {},
   "source": [
    "# SnpArrays.jl"
   ]
  },
  {
   "cell_type": "markdown",
   "metadata": {},
   "source": [
    "The module `SnpArrays` implements the `SnpArray` type for handling biallelic genotypes. `SnpArray` is an array of `Tuple{Bool,Bool}` and adopts the same coding as the [Plink binary format](http://pngu.mgh.harvard.edu/~purcell/plink/binary.shtml). If `A1` and `A2` are two alleles, the coding rule is  \n",
    "\n",
    "| Genotype | SnpArray |  \n",
    "|---|---|---|  \n",
    "| A1,A1 | 00 |  \n",
    "| A1,A2 | 01 |  \n",
    "| A2,A2 | 11 |  \n",
    "| missing | 10 |  \n",
    "The code `10==(true,false)` is reserved for missing genotype. Otherwise the bit `1==true` represents one copy of allele `A2`. For a two-dimensional `SnpArray`, it assumes each row is a person and each column is a SNP.\n",
    "\n",
    "## Constructor\n",
    "\n",
    "There are various ways to initialize a `SnpArray`.  \n",
    "\n",
    "* `SnpArray` can be initialized from [Plink binary files](http://pngu.mgh.harvard.edu/~purcell/plink/binary.shtml), say an example data set hapmap3:"
   ]
  },
  {
   "cell_type": "code",
   "execution_count": 1,
   "metadata": {
    "collapsed": false
   },
   "outputs": [
    {
     "name": "stdout",
     "output_type": "stream",
     "text": [
      "-rw-r--r--@ 1 hzhou3  staff  1128171 Jun  4  2010 hapmap3.bed\n",
      "-rw-r--r--@ 1 hzhou3  staff   388672 Jun  4  2010 hapmap3.bim\n",
      "-rw-r--r--@ 1 hzhou3  staff     7136 Jun  4  2010 hapmap3.fam\n",
      "-rw-r--r--@ 1 hzhou3  staff   332960 Jun  4  2010 hapmap3.map\n"
     ]
    }
   ],
   "source": [
    ";ls -al hapmap3.*"
   ]
  },
  {
   "cell_type": "code",
   "execution_count": 2,
   "metadata": {
    "collapsed": false
   },
   "outputs": [
    {
     "data": {
      "text/plain": [
       "324x13928 SnpArrays.SnpArray{2}:\n",
       " (true,true)  (true,true)   (false,false)  …  (true,true)   (true,true)\n",
       " (true,true)  (false,true)  (false,true)      (false,true)  (true,true)\n",
       " (true,true)  (true,true)   (false,true)      (true,true)   (true,true)\n",
       " (true,true)  (true,true)   (false,true)      (true,true)   (true,true)\n",
       " (true,true)  (true,true)   (false,true)      (true,true)   (true,true)\n",
       " (true,true)  (false,true)  (true,true)    …  (true,true)   (true,true)\n",
       " (true,true)  (true,true)   (true,true)       (true,true)   (true,true)\n",
       " (true,true)  (true,true)   (false,false)     (true,true)   (true,true)\n",
       " (true,true)  (true,true)   (false,true)      (true,true)   (true,true)\n",
       " (true,true)  (true,true)   (false,true)      (true,true)   (true,true)\n",
       " (true,true)  (true,true)   (false,true)   …  (true,true)   (true,true)\n",
       " (true,true)  (true,true)   (true,true)       (true,true)   (true,true)\n",
       " (true,true)  (true,true)   (false,false)     (true,true)   (true,true)\n",
       " ⋮                                         ⋱                           \n",
       " (true,true)  (true,true)   (false,true)      (true,true)   (true,true)\n",
       " (true,true)  (true,true)   (false,false)     (true,true)   (true,true)\n",
       " (true,true)  (true,true)   (false,false)     (true,true)   (true,true)\n",
       " (true,true)  (true,true)   (false,false)  …  (true,true)   (true,true)\n",
       " (true,true)  (true,true)   (false,true)      (true,true)   (true,true)\n",
       " (true,true)  (true,true)   (true,true)       (true,true)   (true,true)\n",
       " (true,true)  (true,true)   (false,true)      (true,true)   (true,true)\n",
       " (true,true)  (true,true)   (false,true)      (true,true)   (true,true)\n",
       " (true,true)  (true,true)   (false,false)  …  (true,true)   (true,true)\n",
       " (true,true)  (true,true)   (false,true)      (true,true)   (true,true)\n",
       " (true,true)  (true,true)   (false,false)     (true,true)   (true,true)\n",
       " (true,true)  (true,true)   (false,false)     (true,true)   (true,true)"
      ]
     },
     "execution_count": 2,
     "metadata": {},
     "output_type": "execute_result"
    }
   ],
   "source": [
    "include(\"../src/SnpArrays.jl\")\n",
    "using SnpArrays\n",
    "hapmap = SnpArray(\"hapmap3\")"
   ]
  },
  {
   "cell_type": "code",
   "execution_count": 3,
   "metadata": {
    "collapsed": false
   },
   "outputs": [
    {
     "data": {
      "text/plain": [
       "(324,13928)"
      ]
     },
     "execution_count": 3,
     "metadata": {},
     "output_type": "execute_result"
    }
   ],
   "source": [
    "# rows are persons; columns are SNPs\n",
    "people, snps = size(hapmap)"
   ]
  },
  {
   "cell_type": "markdown",
   "metadata": {},
   "source": [
    "Internally `SnpArray` stores data as `BitArray`s and its memrory consumption is about same as the Plink `bed` file size."
   ]
  },
  {
   "cell_type": "code",
   "execution_count": 4,
   "metadata": {
    "collapsed": false
   },
   "outputs": [
    {
     "data": {
      "text/plain": [
       "1128256"
      ]
     },
     "execution_count": 4,
     "metadata": {},
     "output_type": "execute_result"
    }
   ],
   "source": [
    "# memory usage\n",
    "Base.summarysize(hapmap)"
   ]
  },
  {
   "cell_type": "markdown",
   "metadata": {},
   "source": [
    "* `SnpArray` can be initialized from a matrix of A1 allele counts."
   ]
  },
  {
   "cell_type": "code",
   "execution_count": 5,
   "metadata": {
    "collapsed": false
   },
   "outputs": [
    {
     "data": {
      "text/plain": [
       "5x3 SnpArrays.SnpArray{2}:\n",
       " (false,false)  (false,false)  (true,true)  \n",
       " (false,true)   (false,true)   (false,false)\n",
       " (true,true)    (false,false)  (false,false)\n",
       " (false,false)  (false,false)  (false,false)\n",
       " (false,false)  (true,true)    (false,true) "
      ]
     },
     "execution_count": 5,
     "metadata": {},
     "output_type": "execute_result"
    }
   ],
   "source": [
    "SnpArray(rand(0:2, 5, 3))"
   ]
  },
  {
   "cell_type": "markdown",
   "metadata": {},
   "source": [
    "* `SnpArray(m, n)` generates an m by n `SnpArray` of all A1 alleles."
   ]
  },
  {
   "cell_type": "code",
   "execution_count": 6,
   "metadata": {
    "collapsed": false
   },
   "outputs": [
    {
     "data": {
      "text/plain": [
       "5x3 SnpArrays.SnpArray{2}:\n",
       " (false,false)  (false,false)  (false,false)\n",
       " (false,false)  (false,false)  (false,false)\n",
       " (false,false)  (false,false)  (false,false)\n",
       " (false,false)  (false,false)  (false,false)\n",
       " (false,false)  (false,false)  (false,false)"
      ]
     },
     "execution_count": 6,
     "metadata": {},
     "output_type": "execute_result"
    }
   ],
   "source": [
    "s = SnpArray(5, 3)"
   ]
  },
  {
   "cell_type": "markdown",
   "metadata": {},
   "source": [
    "## Summary statistics\n",
    "\n",
    "`summarize()` computes  \n",
    "* `maf`: minor allele frequencies, taking into account of missingness.  \n",
    "* `minor_allele`: a BitVector indicating the minor allele for each SNP. `minor_allele[j]==true` means A1 is the minor allele for SNP j; `minor_allele[j]==false` means A2 is the minor allele for SNP j.  \n",
    "* `missings_by_snp`: number of missing genotypes for each snp.  \n",
    "* `missings_by_person`: number of missing genotypes for each person."
   ]
  },
  {
   "cell_type": "code",
   "execution_count": 7,
   "metadata": {
    "collapsed": false
   },
   "outputs": [
    {
     "data": {
      "text/plain": [
       "1x13928 Array{Float64,2}:\n",
       " 0.0  0.0776398  0.324074  0.191589  …  0.00154321  0.0417957  0.00617284"
      ]
     },
     "execution_count": 7,
     "metadata": {},
     "output_type": "execute_result"
    }
   ],
   "source": [
    "maf, minor_allele, missings_by_snp, missings_by_person = summarize(hapmap)\n",
    "# minor allele frequencies\n",
    "maf'"
   ]
  },
  {
   "cell_type": "code",
   "execution_count": 8,
   "metadata": {
    "collapsed": false
   },
   "outputs": [
    {
     "data": {
      "text/plain": [
       "(11894,11894)"
      ]
     },
     "execution_count": 8,
     "metadata": {},
     "output_type": "execute_result"
    }
   ],
   "source": [
    "# total number of missing genotypes\n",
    "sum(missings_by_snp), sum(missings_by_person)"
   ]
  },
  {
   "cell_type": "markdown",
   "metadata": {},
   "source": [
    "## Random genotypes\n",
    "\n",
    "`randgeno(a1freq)` generates a random genotype according to A1 allele frequency `a1freq`."
   ]
  },
  {
   "cell_type": "code",
   "execution_count": 9,
   "metadata": {
    "collapsed": false
   },
   "outputs": [
    {
     "data": {
      "text/plain": [
       "(false,false)"
      ]
     },
     "execution_count": 9,
     "metadata": {},
     "output_type": "execute_result"
    }
   ],
   "source": [
    "randgeno(0.5)"
   ]
  },
  {
   "cell_type": "markdown",
   "metadata": {},
   "source": [
    "`randgeno(maf, minor_allele)` generates a random genotype according to minor allele frequency `maf` and whether the minor allele is A1 (`minor_allele==true`) or A2 (`minor_allele==false`)."
   ]
  },
  {
   "cell_type": "code",
   "execution_count": 10,
   "metadata": {
    "collapsed": false
   },
   "outputs": [
    {
     "data": {
      "text/plain": [
       "(true,true)"
      ]
     },
     "execution_count": 10,
     "metadata": {},
     "output_type": "execute_result"
    }
   ],
   "source": [
    "randgeno(0.25, true)"
   ]
  },
  {
   "cell_type": "markdown",
   "metadata": {},
   "source": [
    "`randgeno(n, maf, minor_allele)` generates a vector of random genotypes according to a common minor allele frequency `maf` and the minor allele."
   ]
  },
  {
   "cell_type": "code",
   "execution_count": 11,
   "metadata": {
    "collapsed": false
   },
   "outputs": [
    {
     "data": {
      "text/plain": [
       "10-element SnpArrays.SnpArray{1}:\n",
       " (false,true)\n",
       " (false,true)\n",
       " (true,true) \n",
       " (true,true) \n",
       " (true,true) \n",
       " (false,true)\n",
       " (true,true) \n",
       " (true,true) \n",
       " (true,true) \n",
       " (true,true) "
      ]
     },
     "execution_count": 11,
     "metadata": {},
     "output_type": "execute_result"
    }
   ],
   "source": [
    "randgeno(10, 0.25, true)"
   ]
  },
  {
   "cell_type": "markdown",
   "metadata": {},
   "source": [
    "`randgeno(m, n, maf, minor_allele)` generates a random $m$-by-$n$ `SnpArray` according to a vector of minor allele frequencies `maf` and a minor allele indicator vector. Lengths of both vectors should be $n$."
   ]
  },
  {
   "cell_type": "code",
   "execution_count": 12,
   "metadata": {
    "collapsed": false
   },
   "outputs": [
    {
     "data": {
      "text/plain": [
       "324x13928 SnpArrays.SnpArray{2}:\n",
       " (true,true)  (true,true)   (true,true)    …  (true,true)   (true,true) \n",
       " (true,true)  (false,true)  (false,true)      (true,true)   (true,true) \n",
       " (true,true)  (true,true)   (false,true)      (true,true)   (true,true) \n",
       " (true,true)  (false,true)  (false,true)      (true,true)   (true,true) \n",
       " (true,true)  (false,true)  (false,true)      (true,true)   (true,true) \n",
       " (true,true)  (true,true)   (true,true)    …  (true,true)   (true,true) \n",
       " (true,true)  (false,true)  (true,true)       (true,true)   (true,true) \n",
       " (true,true)  (true,true)   (true,true)       (true,true)   (true,true) \n",
       " (true,true)  (true,true)   (false,true)      (true,true)   (true,true) \n",
       " (true,true)  (true,true)   (true,true)       (true,true)   (true,true) \n",
       " (true,true)  (true,true)   (false,true)   …  (true,true)   (true,true) \n",
       " (true,true)  (true,true)   (false,true)      (true,true)   (true,true) \n",
       " (true,true)  (true,true)   (false,false)     (true,true)   (true,true) \n",
       " ⋮                                         ⋱                            \n",
       " (true,true)  (true,true)   (true,true)       (true,true)   (true,true) \n",
       " (true,true)  (true,true)   (false,true)      (true,true)   (true,true) \n",
       " (true,true)  (true,true)   (false,true)      (false,true)  (true,true) \n",
       " (true,true)  (true,true)   (false,true)   …  (true,true)   (true,true) \n",
       " (true,true)  (false,true)  (true,true)       (true,true)   (true,true) \n",
       " (true,true)  (true,true)   (false,true)      (true,true)   (false,true)\n",
       " (true,true)  (true,true)   (true,true)       (false,true)  (true,true) \n",
       " (true,true)  (false,true)  (false,true)      (false,true)  (true,true) \n",
       " (true,true)  (false,true)  (false,true)   …  (true,true)   (true,true) \n",
       " (true,true)  (true,true)   (false,true)      (false,true)  (true,true) \n",
       " (true,true)  (true,true)   (true,true)       (true,true)   (true,true) \n",
       " (true,true)  (true,true)   (false,true)      (true,true)   (true,true) "
      ]
     },
     "execution_count": 12,
     "metadata": {},
     "output_type": "execute_result"
    }
   ],
   "source": [
    "# this is a random replicate of the hapmap data\n",
    "randgeno(size(hapmap), maf, minor_allele)"
   ]
  },
  {
   "cell_type": "markdown",
   "metadata": {},
   "source": [
    "## Subsetting\n",
    "\n",
    "Subsetting a `SnpArray` works the same way as subsetting any other arrays."
   ]
  },
  {
   "cell_type": "code",
   "execution_count": 13,
   "metadata": {
    "collapsed": false
   },
   "outputs": [
    {
     "data": {
      "text/plain": [
       "1x13928 SnpArrays.SnpArray{2}:\n",
       " (true,true)  (true,true)  (false,false)  …  (true,true)  (true,true)"
      ]
     },
     "execution_count": 13,
     "metadata": {},
     "output_type": "execute_result"
    }
   ],
   "source": [
    "# genotypes of the 1st individual\n",
    "hapmap[1, :]"
   ]
  },
  {
   "cell_type": "code",
   "execution_count": 14,
   "metadata": {
    "collapsed": false
   },
   "outputs": [
    {
     "data": {
      "text/plain": [
       "324-element SnpArrays.SnpArray{1}:\n",
       " (true,true)  \n",
       " (true,true)  \n",
       " (false,true) \n",
       " (false,true) \n",
       " (true,true)  \n",
       " (false,false)\n",
       " (false,false)\n",
       " (true,true)  \n",
       " (true,true)  \n",
       " (true,true)  \n",
       " (true,true)  \n",
       " (true,true)  \n",
       " (false,true) \n",
       " ⋮            \n",
       " (false,false)\n",
       " (true,true)  \n",
       " (false,true) \n",
       " (true,true)  \n",
       " (true,true)  \n",
       " (true,true)  \n",
       " (true,true)  \n",
       " (true,true)  \n",
       " (false,true) \n",
       " (true,true)  \n",
       " (true,true)  \n",
       " (true,true)  "
      ]
     },
     "execution_count": 14,
     "metadata": {},
     "output_type": "execute_result"
    }
   ],
   "source": [
    "# genotypes of the 5th SNP\n",
    "hapmap[:, 5]"
   ]
  },
  {
   "cell_type": "code",
   "execution_count": 15,
   "metadata": {
    "collapsed": false
   },
   "outputs": [
    {
     "data": {
      "text/plain": [
       "5x6 SnpArrays.SnpArray{2}:\n",
       " (true,true)   (true,true)  (false,true)  …  (true,true)   (false,true)\n",
       " (true,true)   (true,true)  (true,true)      (true,true)   (false,true)\n",
       " (false,true)  (true,true)  (true,true)      (false,true)  (true,true) \n",
       " (false,true)  (true,true)  (true,true)      (true,true)   (false,true)\n",
       " (true,true)   (true,true)  (true,true)      (true,true)   (false,true)"
      ]
     },
     "execution_count": 15,
     "metadata": {},
     "output_type": "execute_result"
    }
   ],
   "source": [
    "# subsetting both individuals and SNPs\n",
    "hapmap[1:5, 5:10]"
   ]
  },
  {
   "cell_type": "code",
   "execution_count": 16,
   "metadata": {
    "collapsed": false
   },
   "outputs": [
    {
     "data": {
      "text/plain": [
       "324x12085 SnpArrays.SnpArray{2}:\n",
       " (true,true)   (false,false)  (true,true)   …  (false,true)  (false,true)\n",
       " (false,true)  (false,true)   (false,true)     (true,true)   (true,true) \n",
       " (true,true)   (false,true)   (false,true)     (true,true)   (true,true) \n",
       " (true,true)   (false,true)   (true,true)      (false,true)  (false,true)\n",
       " (true,true)   (false,true)   (false,true)     (true,true)   (true,true) \n",
       " (false,true)  (true,true)    (true,true)   …  (false,true)  (false,true)\n",
       " (true,true)   (true,true)    (true,true)      (true,true)   (true,true) \n",
       " (true,true)   (false,false)  (true,true)      (true,true)   (true,true) \n",
       " (true,true)   (false,true)   (false,true)     (true,true)   (true,true) \n",
       " (true,true)   (false,true)   (true,true)      (false,true)  (false,true)\n",
       " (true,true)   (false,true)   (true,true)   …  (true,true)   (true,true) \n",
       " (true,true)   (true,true)    (false,true)     (false,true)  (false,true)\n",
       " (true,true)   (false,false)  (true,true)      (false,true)  (false,true)\n",
       " ⋮                                          ⋱                            \n",
       " (true,true)   (false,true)   (true,true)      (false,true)  (false,true)\n",
       " (true,true)   (false,false)  (true,true)      (false,true)  (false,true)\n",
       " (true,true)   (false,false)  (true,true)      (true,true)   (true,true) \n",
       " (true,true)   (false,false)  (false,true)  …  (true,true)   (true,true) \n",
       " (true,true)   (false,true)   (true,true)      (true,true)   (true,true) \n",
       " (true,true)   (true,true)    (false,true)     (false,true)  (false,true)\n",
       " (true,true)   (false,true)   (false,true)     (false,true)  (false,true)\n",
       " (true,true)   (false,true)   (true,true)      (true,true)   (true,true) \n",
       " (true,true)   (false,false)  (true,true)   …  (false,true)  (false,true)\n",
       " (true,true)   (false,true)   (false,true)     (false,true)  (false,true)\n",
       " (true,true)   (false,false)  (false,true)     (false,true)  (false,true)\n",
       " (true,true)   (false,false)  (true,true)      (true,true)   (true,true) "
      ]
     },
     "execution_count": 16,
     "metadata": {},
     "output_type": "execute_result"
    }
   ],
   "source": [
    "# filter out rare SNPs with MAF < 0.05\n",
    "hapmap[:, maf .≥ 0.05]"
   ]
  },
  {
   "cell_type": "code",
   "execution_count": 17,
   "metadata": {
    "collapsed": false
   },
   "outputs": [
    {
     "data": {
      "text/plain": [
       "220x13928 SnpArrays.SnpArray{2}:\n",
       " (true,true)  (true,true)   (false,false)  …  (true,true)   (true,true)\n",
       " (true,true)  (false,true)  (false,true)      (false,true)  (true,true)\n",
       " (true,true)  (true,true)   (false,true)      (true,true)   (true,true)\n",
       " (true,true)  (true,true)   (true,true)       (true,true)   (true,true)\n",
       " (true,true)  (true,true)   (false,false)     (true,true)   (true,true)\n",
       " (true,true)  (true,true)   (false,true)   …  (true,true)   (true,true)\n",
       " (true,true)  (true,true)   (false,true)      (true,true)   (true,true)\n",
       " (true,true)  (true,true)   (false,true)      (true,true)   (true,true)\n",
       " (true,true)  (true,true)   (false,false)     (true,true)   (true,true)\n",
       " (true,true)  (true,true)   (false,true)      (true,true)   (true,true)\n",
       " (true,true)  (false,true)  (false,true)   …  (true,true)   (true,true)\n",
       " (true,true)  (true,true)   (true,true)       (true,true)   (true,true)\n",
       " (true,true)  (true,true)   (true,true)       (true,true)   (true,true)\n",
       " ⋮                                         ⋱                           \n",
       " (true,true)  (true,true)   (false,false)     (true,true)   (true,true)\n",
       " (true,true)  (true,true)   (false,false)     (true,true)   (true,true)\n",
       " (true,true)  (true,true)   (false,false)  …  (true,true)   (true,true)\n",
       " (true,true)  (true,true)   (false,true)      (true,true)   (true,true)\n",
       " (true,true)  (true,true)   (false,false)     (true,true)   (true,true)\n",
       " (true,true)  (true,true)   (false,false)     (true,true)   (true,true)\n",
       " (true,true)  (true,true)   (false,false)     (true,true)   (true,true)\n",
       " (true,true)  (true,true)   (false,true)   …  (true,true)   (true,true)\n",
       " (true,true)  (true,true)   (false,false)     (true,true)   (true,true)\n",
       " (true,true)  (true,true)   (false,true)      (true,true)   (true,true)\n",
       " (true,true)  (true,true)   (false,false)     (true,true)   (true,true)\n",
       " (true,true)  (true,true)   (false,false)     (true,true)   (true,true)"
      ]
     },
     "execution_count": 17,
     "metadata": {},
     "output_type": "execute_result"
    }
   ],
   "source": [
    "# filter out individuals with genotyping success rate < 0.90\n",
    "hapmap[missings_by_person / people .< 0.1, :]"
   ]
  },
  {
   "cell_type": "markdown",
   "metadata": {},
   "source": [
    "`sub()` and `slice()` create views of subarray without copying data and improve efficiency in many calculations."
   ]
  },
  {
   "cell_type": "code",
   "execution_count": 18,
   "metadata": {
    "collapsed": false
   },
   "outputs": [
    {
     "data": {
      "text/plain": [
       "1x12085 Array{Float64,2}:\n",
       " 0.0776398  0.324074  0.191589  …  0.310937  0.23913  0.23913  0.23913"
      ]
     },
     "execution_count": 18,
     "metadata": {},
     "output_type": "execute_result"
    }
   ],
   "source": [
    "mafcommon, = summarize(sub(hapmap, :, maf .≥ 0.05))\n",
    "mafcommon'"
   ]
  },
  {
   "cell_type": "markdown",
   "metadata": {},
   "source": [
    "## Assignment\n",
    "\n",
    "It is possible to assign specific genotypes to a `SnpArray` entry."
   ]
  },
  {
   "cell_type": "code",
   "execution_count": 19,
   "metadata": {
    "collapsed": false
   },
   "outputs": [
    {
     "data": {
      "text/plain": [
       "(true,true)"
      ]
     },
     "execution_count": 19,
     "metadata": {},
     "output_type": "execute_result"
    }
   ],
   "source": [
    "hapmap[1, 1]"
   ]
  },
  {
   "cell_type": "code",
   "execution_count": 20,
   "metadata": {
    "collapsed": false
   },
   "outputs": [
    {
     "data": {
      "text/plain": [
       "(false,true)"
      ]
     },
     "execution_count": 20,
     "metadata": {},
     "output_type": "execute_result"
    }
   ],
   "source": [
    "hapmap[1, 1] = (false, true)\n",
    "hapmap[1, 1]"
   ]
  },
  {
   "cell_type": "code",
   "execution_count": 21,
   "metadata": {
    "collapsed": false
   },
   "outputs": [
    {
     "data": {
      "text/plain": [
       "(true,false)"
      ]
     },
     "execution_count": 21,
     "metadata": {},
     "output_type": "execute_result"
    }
   ],
   "source": [
    "hapmap[1, 1] = NaN\n",
    "hapmap[1, 1]"
   ]
  },
  {
   "cell_type": "code",
   "execution_count": 22,
   "metadata": {
    "collapsed": false
   },
   "outputs": [
    {
     "data": {
      "text/plain": [
       "(true,true)"
      ]
     },
     "execution_count": 22,
     "metadata": {},
     "output_type": "execute_result"
    }
   ],
   "source": [
    "hapmap[1, 1] = 2\n",
    "hapmap[1, 1]"
   ]
  },
  {
   "cell_type": "markdown",
   "metadata": {},
   "source": [
    "Subsetted assignment such as `map4[:, 1] = NaN` is also valid."
   ]
  },
  {
   "cell_type": "markdown",
   "metadata": {
    "collapsed": true
   },
   "source": [
    "## Copy, convert, and imputation\n",
    "\n",
    "In most analysis we convert the whole `SnpArray` or slices of it to numeric arrays for computations. Keep in mind the storage of resultant data can be up to 32 fold that of `SnpArray`. Fortunately, rich collection of data types in `Julia` can allow us choose one that fits into memory. Below are estimates of memory usage for some common data types with $n$ individuals and $p$ SNPs. Here MAF denotes the **average** minor allele frequencies.\n",
    "\n",
    "* `SnpArray`: $0.25np$ bytes  \n",
    "* `Matrix{Int8}`: $np$ bytes  \n",
    "* `Matrix{Float16}`: $2np$ bytes  \n",
    "* `Matrix{Float32}`: $4np$ bytes  \n",
    "* `Matrix{Float64}`: $8np$ bytes  \n",
    "* `SparseMatrixCSC{Float64,Int64}`: $16 \\cdot \\text{NNZ} + 8(p+1) \\approx 16np(2\\text{MAF}(1-\\text{MAF})+\\text{MAF}^2) + 8(p+1) = 16np \\cdot \\text{MAF}(2-\\text{MAF}) + 8(p+1)$ bytes. When average MAF=0.25, it is about $7np$ bytes. When MAF=0.025, it is about $0.8np$ bypes, 10 fold smaller than `Matrix{Float64}` type.  \n",
    "* `SparseMatrixCSC{Int8,UInt32}`: $5 \\cdot \\text{NNZ} + 4(p+1) \\approx 5np(2\\text{MAF}(1-\\text{MAF})+\\text{MAF}^2) + 4(p+1) = 5np \\cdot \\text{MAF}(2-\\text{MAF}) + 4(p+1)$ bytes. When average MAF=0.25, it is about $2.2np$ bytes. When MAF=0.08, it is about $0.8np$ bypes, 10 fold smaller than `Matrix{Float64}` type.  \n",
    "* Two `SparseMatrixCSC{Bool,Int64}`: $2np \\cdot \\text{MAF} \\cdot 9 + 16(p+1) = 18 np \\cdot \\text{MAF} + 16(p+1)$ bytes. When average MAF=0.25, it is about $4.5np$ bytes. When MAF=0.045, it is about $0.8np$ bytes, 10 fold smaller than `Matrix{Float64}` type.  \n",
    "\n",
    "To be concrete, consider 2 typical data sets:  \n",
    "* COPD (GWAS): $n = 6670$ individuals, $p = 630998$ SNPs, average MAF is 0.2454.\n",
    "* GAW19 (sequencing study): $n = 1943$ individuals, $p = 1711766$ SNPs, average MAF is 0.00499.  \n",
    "\n",
    "| Data Type | COPD | GAW19 |  \n",
    "|---|---|---|  \n",
    "| `SnpArray` | 1.05GB | 0.83GB |  \n",
    "| `Matrix{Float64}` | 33.67GB | 26.61GB |  \n",
    "| `SparseMatrixCSC{Float64,Int64}` | 29GB | 0.543GB |  \n",
    "| `SparseMatrixCSC{Bool,Int64}` | 18.6GB | 0.326GB |  \n",
    "\n",
    "Apparently for data sets with majority of rare variants, converting to sparse matrices saves memory usage and often brings computational advantages too. When choosing the integer type of the row indices `rowval` and column pointer `colptr` in the `SparseMatrixCSC` format, make sure its maximum is larger than the number of nonzeros in the matrix. The `InexactError()` error encountered during conversion often indicates that the integer type has a too small range. The utility function `estimatesize()` conveniently estimates memory usage in bytes from the input data type."
   ]
  },
  {
   "cell_type": "code",
   "execution_count": 23,
   "metadata": {
    "collapsed": false
   },
   "outputs": [
    {
     "data": {
      "text/plain": [
       "3.6101376e7"
      ]
     },
     "execution_count": 23,
     "metadata": {},
     "output_type": "execute_result"
    }
   ],
   "source": [
    "# estimated memory usage if convert to Matrix{Float64}\n",
    "estimatesize(people, snps, mean(maf), Matrix{Float64})"
   ]
  },
  {
   "cell_type": "code",
   "execution_count": 24,
   "metadata": {
    "collapsed": false
   },
   "outputs": [
    {
     "data": {
      "text/plain": [
       "36101376"
      ]
     },
     "execution_count": 24,
     "metadata": {},
     "output_type": "execute_result"
    }
   ],
   "source": [
    "# actual memory usage if convert to Float64\n",
    "hapmapf64 = convert(Matrix{Float64}, hapmap)\n",
    "Base.summarysize(hapmapf64)"
   ]
  },
  {
   "cell_type": "code",
   "execution_count": 25,
   "metadata": {
    "collapsed": false
   },
   "outputs": [
    {
     "data": {
      "text/plain": [
       "0.222585591341583"
      ]
     },
     "execution_count": 25,
     "metadata": {},
     "output_type": "execute_result"
    }
   ],
   "source": [
    "# average maf of the hapmap3 data set\n",
    "mean(maf)"
   ]
  },
  {
   "cell_type": "code",
   "execution_count": 26,
   "metadata": {
    "collapsed": false
   },
   "outputs": [
    {
     "data": {
      "text/plain": [
       "1.4338389205819245e7"
      ]
     },
     "execution_count": 26,
     "metadata": {},
     "output_type": "execute_result"
    }
   ],
   "source": [
    "# estimated memory usage if convert to SparseMatrixCSC{Float32, UInt32} matrix\n",
    "estimatesize(people, snps, mean(maf), SparseMatrixCSC{Float32, UInt32})"
   ]
  },
  {
   "cell_type": "code",
   "execution_count": 27,
   "metadata": {
    "collapsed": false
   },
   "outputs": [
    {
     "data": {
      "text/plain": [
       "12974764"
      ]
     },
     "execution_count": 27,
     "metadata": {},
     "output_type": "execute_result"
    }
   ],
   "source": [
    "# actual memory usage if convert to SparseMatrixCSC{Float32, UInt32} matrix\n",
    "hapmapf32sp = convert(SparseMatrixCSC{Float32, UInt32}, hapmap)\n",
    "Base.summarysize(hapmapf32sp)"
   ]
  },
  {
   "cell_type": "markdown",
   "metadata": {},
   "source": [
    "By default `convert()` method does **not** impute missing genotypes but convert them to `NaN`."
   ]
  },
  {
   "cell_type": "code",
   "execution_count": 28,
   "metadata": {
    "collapsed": false
   },
   "outputs": [
    {
     "data": {
      "text/plain": [
       "(11894,11894)"
      ]
     },
     "execution_count": 28,
     "metadata": {},
     "output_type": "execute_result"
    }
   ],
   "source": [
    "# number of missing genotypes\n",
    "countnz(isnan(hapmap)), countnz(isnan(hapmapf64))"
   ]
  },
  {
   "cell_type": "markdown",
   "metadata": {},
   "source": [
    "We can enforce imputation by setting optional argument `impute=true`. Imputation is done by generating two random alleles according to the minor allele frequency. This is not an optimal strategy and users should make sure genotypes are imputed with high quality using other advanced methods."
   ]
  },
  {
   "cell_type": "code",
   "execution_count": 29,
   "metadata": {
    "collapsed": false
   },
   "outputs": [
    {
     "data": {
      "text/plain": [
       "0"
      ]
     },
     "execution_count": 29,
     "metadata": {},
     "output_type": "execute_result"
    }
   ],
   "source": [
    "hapmapf64impute = convert(Matrix{Float64}, hapmap; impute = true)\n",
    "countnz(isnan(hapmapf64impute))"
   ]
  },
  {
   "cell_type": "markdown",
   "metadata": {},
   "source": [
    "By default `convert()` translates genotypes according to the *additive* SNP model, which essentially is the **minor allele** counts (0, 1 or 2). Other SNP models are *dominant* and *recessive*, both in terms of the **minor allele**. When `A1` is the minor allele, genotype is translated to real number according to\n",
    "\n",
    "| Genotype | `SnpArray` | `model=:additive` | `model=:dominant` | `model=:recessive` |    \n",
    "|---|---|---|---|---|  \n",
    "| A1,A1 | 00 | 2 | 1 | 1 |  \n",
    "| A1,A2 | 01 | 1 | 1 | 0 |  \n",
    "| A2,A2 | 11 | 0 | 0 | 0 |  \n",
    "| missing | 10 | NaN | NaN | NaN | \n",
    "\n",
    "When `A2` is the minor allele, genotype is translated according to\n",
    "\n",
    "| Genotype | `SnpArray` | `model=:additive` | `model=:dominant` | `model=:recessive` |    \n",
    "|---|---|---|---|---|  \n",
    "| A1,A1 | 00 | 0 | 0 | 0 |  \n",
    "| A1,A2 | 01 | 1 | 1 | 0 |  \n",
    "| A2,A2 | 11 | 2 | 1 | 1 |  \n",
    "| missing | 10 | NaN | NaN | NaN |"
   ]
  },
  {
   "cell_type": "code",
   "execution_count": 30,
   "metadata": {
    "collapsed": false
   },
   "outputs": [
    {
     "data": {
      "text/plain": [
       "10x3 Array{Float64,2}:\n",
       " 0.0  0.0  0.0\n",
       " 0.0  0.0  0.0\n",
       " 1.0  1.0  0.0\n",
       " 1.0  1.0  0.0\n",
       " 0.0  0.0  0.0\n",
       " 2.0  1.0  1.0\n",
       " 2.0  1.0  1.0\n",
       " 0.0  0.0  0.0\n",
       " 0.0  0.0  0.0\n",
       " 0.0  0.0  0.0"
      ]
     },
     "execution_count": 30,
     "metadata": {},
     "output_type": "execute_result"
    }
   ],
   "source": [
    "[convert(Vector{Float64}, hapmap[1:10, 5]; model = :additive) convert(Vector{Float64}, hapmap[1:10, 5]; model = :dominant) convert(Vector{Float64}, hapmap[1:10, 5]; model = :recessive)]"
   ]
  },
  {
   "cell_type": "markdown",
   "metadata": {},
   "source": [
    "By default `convert()` does **not** center and scale genotypes. Setting optional arguments `center=true, scale=true` centers genotypes at 2MAF and scales them by $[2 \\cdot \\text{MAF} \\cdot (1 - \\text{MAF})]^{-1/2}$. Mono-allelic SNPs (MAF=0) are not scaled."
   ]
  },
  {
   "cell_type": "code",
   "execution_count": 31,
   "metadata": {
    "collapsed": false
   },
   "outputs": [
    {
     "data": {
      "text/plain": [
       "324x2 Array{Float64,2}:\n",
       " 0.0  -1.25702 \n",
       " 0.0  -1.25702 \n",
       " 1.0   0.167017\n",
       " 1.0   0.167017\n",
       " 0.0  -1.25702 \n",
       " 2.0   1.59106 \n",
       " 2.0   1.59106 \n",
       " 0.0  -1.25702 \n",
       " 0.0  -1.25702 \n",
       " 0.0  -1.25702 \n",
       " 0.0  -1.25702 \n",
       " 0.0  -1.25702 \n",
       " 1.0   0.167017\n",
       " ⋮             \n",
       " 2.0   1.59106 \n",
       " 0.0  -1.25702 \n",
       " 1.0   0.167017\n",
       " 0.0  -1.25702 \n",
       " 0.0  -1.25702 \n",
       " 0.0  -1.25702 \n",
       " 0.0  -1.25702 \n",
       " 0.0  -1.25702 \n",
       " 1.0   0.167017\n",
       " 0.0  -1.25702 \n",
       " 0.0  -1.25702 \n",
       " 0.0  -1.25702 "
      ]
     },
     "execution_count": 31,
     "metadata": {},
     "output_type": "execute_result"
    }
   ],
   "source": [
    "[convert(Vector{Float64}, hapmap[:, 5]) convert(Vector{Float64}, hapmap[:, 5]; center = true, scale = true)]"
   ]
  },
  {
   "cell_type": "markdown",
   "metadata": {},
   "source": [
    "`copy!()` is the in-place version of `convert()`. Options such as GWAS loop over SNPs and perform statistical anlaysis for each SNP. This can be achieved by"
   ]
  },
  {
   "cell_type": "code",
   "execution_count": 32,
   "metadata": {
    "collapsed": false
   },
   "outputs": [],
   "source": [
    "g = zeros(people)\n",
    "for j = 1:snps\n",
    "    copy!(g, hapmap[:, j]; model = :additive, impute = true)\n",
    "    # do statistical anlaysis\n",
    "end"
   ]
  },
  {
   "cell_type": "markdown",
   "metadata": {},
   "source": [
    "## Empirical kinship\n",
    "\n",
    "`grm()` computes the empirical kinship matrix using either the genetic relationship matrix (`model=:GRM`, default) or the method of moment method (`model=:MoM`). Missing genotypes are imputed according to minor allele frequencies on the fly."
   ]
  },
  {
   "cell_type": "code",
   "execution_count": 33,
   "metadata": {
    "collapsed": false
   },
   "outputs": [
    {
     "data": {
      "text/plain": [
       "324x324 Array{Float64,2}:\n",
       " 0.566416   0.0442463  0.018849   …  0.0625497  0.0686532  0.0623838\n",
       " 0.0442463  0.530606   0.0311836     0.0492683  0.0433574  0.0605358\n",
       " 0.018849   0.0311836  0.51111       0.0443478  0.029146   0.0345664\n",
       " 0.0463389  0.0356874  0.0275817     0.0576113  0.0632411  0.0575781\n",
       " 0.0503302  0.0410834  0.0242129     0.0688273  0.0560492  0.0634781\n",
       " 0.042147   0.0307217  0.0364152  …  0.0677623  0.0541995  0.0624585\n",
       " 0.0378372  0.021092   0.0111269     0.0426436  0.0364779  0.0355157\n",
       " 0.039818   0.0370717  0.0204989     0.0553709  0.0528329  0.0640746\n",
       " 0.02878    0.0302664  0.0161618     0.0323108  0.0446895  0.0362039\n",
       " 0.0377034  0.0407329  0.0253116     0.0641344  0.0551614  0.0469087\n",
       " 0.04632    0.0436639  0.0225126  …  0.0564845  0.0644777  0.0589484\n",
       " 0.0579301  0.0373691  0.0353352     0.0632216  0.0561654  0.0696915\n",
       " 0.0345738  0.0421564  0.025246      0.0548924  0.0675433  0.0609996\n",
       " ⋮                                ⋱                                 \n",
       " 0.0631102  0.0533007  0.0370516     0.0833543  0.083359   0.0937164\n",
       " 0.0646638  0.050031   0.0323177     0.0885434  0.0768358  0.0860723\n",
       " 0.065334   0.0534631  0.036705      0.0863738  0.0808527  0.0827335\n",
       " 0.0627579  0.0545063  0.0376363  …  0.0842902  0.0738887  0.0858232\n",
       " 0.0602711  0.0536917  0.0353245     0.0757426  0.0706356  0.0788575\n",
       " 0.0620632  0.0587737  0.0381371     0.0854209  0.088796   0.0797067\n",
       " 0.0601817  0.0579491  0.0364363     0.0794624  0.0808827  0.0781372\n",
       " 0.0599524  0.0608578  0.0320983     0.0893556  0.0868803  0.0833591\n",
       " 0.0634039  0.0608426  0.0314957  …  0.0936578  0.0768231  0.0832794\n",
       " 0.0625497  0.0492683  0.0443478     0.606841   0.078904   0.087005 \n",
       " 0.0686532  0.0433574  0.029146      0.078904   0.583827   0.0791328\n",
       " 0.0623838  0.0605358  0.0345664     0.087005   0.0791328  0.576006 "
      ]
     },
     "execution_count": 33,
     "metadata": {},
     "output_type": "execute_result"
    }
   ],
   "source": [
    "# GRM using all SNPs\n",
    "grm(hapmap)"
   ]
  },
  {
   "cell_type": "code",
   "execution_count": 34,
   "metadata": {
    "collapsed": false
   },
   "outputs": [
    {
     "data": {
      "text/plain": [
       "324x324 Array{Float64,2}:\n",
       " 0.555711   0.0413792  0.0268101  …  0.0649168  0.0712169  0.0658343\n",
       " 0.0413792  0.545397   0.0354551     0.0560558  0.0441178  0.0537197\n",
       " 0.0268101  0.0354551  0.501378      0.0379049  0.0373067  0.0451489\n",
       " 0.0431157  0.0441028  0.0246234     0.0492876  0.0595074  0.0541423\n",
       " 0.0501599  0.0462128  0.0245604     0.0645959  0.0548739  0.0630694\n",
       " 0.0509204  0.0394032  0.0386632  …  0.0744758  0.0599421  0.0503997\n",
       " 0.0380842  0.0257835  0.0157169     0.0452693  0.0331344  0.0330554\n",
       " 0.0456764  0.0366144  0.0248477     0.0569215  0.0538854  0.0664857\n",
       " 0.0256848  0.0224182  0.0180971     0.0319316  0.0416416  0.0345233\n",
       " 0.0302425  0.0382948  0.0235541     0.057457   0.0400379  0.0488062\n",
       " 0.0470478  0.0488069  0.0198282  …  0.0605351  0.0626474  0.0510378\n",
       " 0.0599984  0.0477784  0.0393928     0.0635521  0.0625181  0.0624833\n",
       " 0.0241962  0.0415118  0.0208591     0.0524789  0.0659913  0.0609764\n",
       " ⋮                                ⋱                                 \n",
       " 0.0578145  0.0482601  0.0386398     0.0840111  0.082064   0.0983906\n",
       " 0.0638467  0.0582116  0.0297149     0.0860646  0.0733243  0.0835248\n",
       " 0.0680974  0.0526012  0.0372405     0.0815337  0.07862    0.0920986\n",
       " 0.062596   0.0557866  0.0384026  …  0.0901791  0.0741804  0.0794718\n",
       " 0.0612391  0.0598926  0.039948      0.0702982  0.0670519  0.08445  \n",
       " 0.0642009  0.0617101  0.0384726     0.0733544  0.0795954  0.0857981\n",
       " 0.0620149  0.0619827  0.0302226     0.0829135  0.0888039  0.0812096\n",
       " 0.0577348  0.0592492  0.033798      0.0919841  0.0884429  0.0806994\n",
       " 0.0734399  0.0641221  0.0381384  …  0.0981793  0.0720607  0.0861489\n",
       " 0.0649168  0.0560558  0.0379049     0.5992     0.0673284  0.0923508\n",
       " 0.0712169  0.0441178  0.0373067     0.0673284  0.561635   0.0720976\n",
       " 0.0658343  0.0537197  0.0451489     0.0923508  0.0720976  0.576525 "
      ]
     },
     "execution_count": 34,
     "metadata": {},
     "output_type": "execute_result"
    }
   ],
   "source": [
    "# GRM using every other SNP\n",
    "grm(sub(hapmap, :, 1:2:snps))"
   ]
  },
  {
   "cell_type": "code",
   "execution_count": 35,
   "metadata": {
    "collapsed": false
   },
   "outputs": [
    {
     "data": {
      "text/plain": [
       "324x324 Array{Float64,2}:\n",
       " 0.539332    0.0353244  0.00225925  …  0.0541007  0.063784   0.0506761\n",
       " 0.0353244   0.518076   0.0143044      0.0419374  0.0393394  0.0503218\n",
       " 0.00225925  0.0143044  0.498945       0.0318998  0.0209174  0.0193823\n",
       " 0.0431183   0.0291837  0.0233973      0.0522112  0.0690981  0.0496133\n",
       " 0.0448897   0.033553   0.0146587      0.0649649  0.0562263  0.0559901\n",
       " 0.0322541   0.0210355  0.0259953   …  0.0594147  0.0503218  0.049259 \n",
       " 0.0248144   0.0112341  0.0028497      0.0316636  0.030837   0.0244601\n",
       " 0.0261134   0.0287114  0.00958082     0.0388671  0.0463067  0.0468972\n",
       " 0.0211536   0.0259953  0.0134778      0.0300104  0.0487866  0.0301284\n",
       " 0.0219802   0.0261134  0.011116       0.053274   0.0509122  0.032136 \n",
       " 0.0359148   0.0333169  0.00556576  …  0.0493771  0.0559901  0.0498494\n",
       " 0.0487866   0.0324902  0.0267038      0.0562263  0.0556358  0.0520931\n",
       " 0.0309551   0.0427641  0.0252868      0.0591785  0.070279   0.0576434\n",
       " ⋮                                  ⋱                                 \n",
       " 0.0421736   0.0424098  0.0250506      0.0712237  0.0788995  0.082206 \n",
       " 0.062367    0.0484324  0.02694        0.0916532  0.0787814  0.0832689\n",
       " 0.0549273   0.0458344  0.025641       0.0806709  0.0812613  0.0727589\n",
       " 0.0460706   0.0430002  0.0236335   …  0.072995   0.0622489  0.0701609\n",
       " 0.0565806   0.0536283  0.0289475      0.0780729  0.0708694  0.0744121\n",
       " 0.0520931   0.0542188  0.029538       0.0788995  0.0862211  0.0714599\n",
       " 0.0522112   0.0513846  0.0288295      0.0779548  0.0833869  0.0731131\n",
       " 0.0489047   0.0526836  0.021626       0.082088   0.0842136  0.0719322\n",
       " 0.050558    0.0483143  0.0218622   …  0.0883467  0.0739398  0.0693343\n",
       " 0.0541007   0.0419374  0.0318998      0.561769   0.0812613  0.0761835\n",
       " 0.063784    0.0393394  0.0209174      0.0812613  0.566729   0.0690981\n",
       " 0.0506761   0.0503218  0.0193823      0.0761835  0.0690981  0.533309 "
      ]
     },
     "execution_count": 35,
     "metadata": {},
     "output_type": "execute_result"
    }
   ],
   "source": [
    "# MoM using all SNPs\n",
    "grm(hapmap; method = :MoM)"
   ]
  },
  {
   "cell_type": "markdown",
   "metadata": {},
   "source": [
    "## Principal component analysis \n",
    "\n",
    "Principal compoenent analysis is widely used in genome-wide association analysis (GWAS) for adjusting population substructure. `pca(A, pcs)` computes the top `pcs` principal components based on SNP data `A`. Each SNP is centered at $2\\text{MAF}$ and scaled by $[2\\text{MAF}(1-\\text{MAF})]^{-1/2}$. The output is  \n",
    "\n",
    "* `pcscore`: top `pcs` eigen-SNPs, or principal scores, in each column  \n",
    "* `pcloading`: top `pcs` eigen-vectors, or principal loadings, in each column  \n",
    "* `pcvariance`: top `pcs` eigen-values, or principal variances\n",
    "\n",
    "\n",
    "\n",
    "Missing genotypes are imputed according minor allele frequencies on the fly. This means, in presence of missing genotypes, running the function on the same `SnpArray` twice may produce slightly different answers. For reproducibility, it is a good practice to set random seed before each function that does imputation on the fly."
   ]
  },
  {
   "cell_type": "code",
   "execution_count": 36,
   "metadata": {
    "collapsed": false
   },
   "outputs": [
    {
     "data": {
      "text/plain": [
       "(\n",
       "324x3 Array{Float64,2}:\n",
       " -38.7231  -1.2983     -7.00541  \n",
       " -32.6096  -1.21052    -3.3232   \n",
       " -23.0215  -0.505397   12.1751   \n",
       " -35.692   -2.76103    -2.40055  \n",
       " -37.1815  -0.132498   -3.66829  \n",
       " -34.9285  -1.11368     6.14167  \n",
       " -22.0323  -5.70536     2.02968  \n",
       " -30.9994  -2.28269    -0.0893283\n",
       " -22.8432  -3.76024     7.97486  \n",
       " -32.2024  -0.239253    2.91168  \n",
       " -36.344   -0.773184   -5.31525  \n",
       " -35.886   -0.807234    0.279053 \n",
       " -33.9423  -3.78982     7.35677  \n",
       "   ⋮                             \n",
       " -49.1282   0.913683   10.4061   \n",
       " -46.9862  -0.9654     -0.435579 \n",
       " -48.5334  -1.05076    -0.15223  \n",
       " -49.0331   0.379279    5.65431  \n",
       " -47.8714  -0.406195   -7.14605  \n",
       " -48.2028  -1.41369    -0.564107 \n",
       " -46.7128  -3.36643    -4.44341  \n",
       " -48.9006  -1.69293     0.0467995\n",
       " -48.5574   1.34936    -1.89814  \n",
       " -50.2291   0.0865293  -1.94494  \n",
       " -48.9263  -2.06102     2.17374  \n",
       " -48.8627   0.274894    6.49518  ,\n",
       "\n",
       "13928x3 Array{Float64,2}:\n",
       "  9.66817e-20   7.35949e-19   5.79015e-19\n",
       "  0.00143962   -0.0042375    -0.00311816 \n",
       " -0.0183601    -0.00512036    0.00322409 \n",
       " -0.00956451   -0.004523     -0.00478078 \n",
       "  0.0211999    -0.0226285     0.0110026  \n",
       " -1.82e-19     -1.35541e-18  -1.07856e-18\n",
       " -0.00230269   -0.000231224  -0.00339487 \n",
       " -0.0202126    -0.0025855     8.10915e-5 \n",
       "  0.00631175   -0.0181213     0.00582407 \n",
       "  0.000691273  -0.00158342   -0.0121338  \n",
       " -6.34042e-19  -3.71923e-18  -2.90818e-18\n",
       "  0.0186933     7.92095e-5    0.00276918 \n",
       " -0.0127722     0.00765991    0.0134646  \n",
       "  ⋮                                      \n",
       "  0.000732677   0.000506129   0.00241864 \n",
       "  0.000632772   0.000487763   0.00243887 \n",
       " -0.000604616  -0.000224069  -0.00294191 \n",
       "  0.000769648   0.000534368   0.00250158 \n",
       "  0.000410429   0.000371501   0.00266287 \n",
       " -0.00115497   -0.00172623    0.00106324 \n",
       "  0.00051705    0.000728929   0.00249755 \n",
       "  0.000652703   0.000748617   0.0023053  \n",
       "  0.000643944  -0.000151043   0.00242307 \n",
       " -0.00149825   -0.000183435  -0.00454919 \n",
       "  0.00313326   -0.00427486   -0.0152038  \n",
       " -9.09523e-5   -0.00287777    0.0037855  ,\n",
       "\n",
       "[1841.3950939952633,225.32365874997188,70.70835685208192])"
      ]
     },
     "execution_count": 36,
     "metadata": {},
     "output_type": "execute_result"
    }
   ],
   "source": [
    "srand(123) # set seed\n",
    "pcscore, pcloading, pcvariance = pca(hapmap, 3)"
   ]
  },
  {
   "cell_type": "markdown",
   "metadata": {},
   "source": [
    "To use eigen-SNPs for plotting or covariates in GWAS, we typically scale them by their standard deviations so that they have mean zero and unit variance."
   ]
  },
  {
   "cell_type": "code",
   "execution_count": 37,
   "metadata": {
    "collapsed": false
   },
   "outputs": [
    {
     "data": {
      "text/plain": [
       "1x3 Array{Float64,2}:\n",
       " 1.0  1.0  1.0"
      ]
     },
     "execution_count": 37,
     "metadata": {},
     "output_type": "execute_result"
    }
   ],
   "source": [
    "# standardize eigen-SNPs before plotting or GWAS\n",
    "scale!(pcscore, 1.0 ./ √(pcvariance))\n",
    "std(pcscore, 1)"
   ]
  },
  {
   "cell_type": "markdown",
   "metadata": {},
   "source": [
    "Internally `pca()` converts `SnpArray` to the matrix of minor allele counts. The default format is `Matrix{Float64}`, which can easily exceed memory limit. Users have several options when the default `Matrix{Float64}` cannot fit into memory.  \n",
    "\n",
    "* Use other intermediate matrix types."
   ]
  },
  {
   "cell_type": "code",
   "execution_count": 38,
   "metadata": {
    "collapsed": false
   },
   "outputs": [
    {
     "data": {
      "text/plain": [
       "3-element Array{Float32,1}:\n",
       " 1841.39  \n",
       "  225.324 \n",
       "   70.7085"
      ]
     },
     "execution_count": 38,
     "metadata": {},
     "output_type": "execute_result"
    }
   ],
   "source": [
    "# use single precision matrix and display the principal variances\n",
    "# approximately same answer as double precision\n",
    "srand(123)\n",
    "pca(hapmap, 3, Matrix{Float32})[3]"
   ]
  },
  {
   "cell_type": "markdown",
   "metadata": {
    "collapsed": true
   },
   "source": [
    "* Use subset of SNPs"
   ]
  },
  {
   "cell_type": "code",
   "execution_count": 39,
   "metadata": {
    "collapsed": false
   },
   "outputs": [
    {
     "data": {
      "text/plain": [
       "3-element Array{Float64,1}:\n",
       " 926.622 \n",
       " 113.188 \n",
       "  36.4866"
      ]
     },
     "execution_count": 39,
     "metadata": {},
     "output_type": "execute_result"
    }
   ],
   "source": [
    "# principal components using every other SNP capture about half the variance\n",
    "srand(123)\n",
    "pca(sub(hapmap, :, 1:2:snps), 3)[3]"
   ]
  },
  {
   "cell_type": "markdown",
   "metadata": {},
   "source": [
    "* Use sparse matrix. For large data sets with majority of rare variants, `pca_sp()` is more efficient by first converting `SnpArray` to a sparse matrix (default is `SparseMatrixCSC{Float64, Int64}`) and then computing principal components using iterative algorithms. "
   ]
  },
  {
   "cell_type": "code",
   "execution_count": 40,
   "metadata": {
    "collapsed": false
   },
   "outputs": [
    {
     "data": {
      "text/plain": [
       "3-element Array{Float64,1}:\n",
       " 1841.4   \n",
       "  225.31  \n",
       "   70.7094"
      ]
     },
     "execution_count": 40,
     "metadata": {},
     "output_type": "execute_result"
    }
   ],
   "source": [
    "# approximately same answer if we use Float16 sparse matrix\n",
    "srand(123)\n",
    "pca_sp(hapmap, 3, SparseMatrixCSC{Float16, UInt32})[3]"
   ]
  },
  {
   "cell_type": "code",
   "execution_count": 41,
   "metadata": {
    "collapsed": false
   },
   "outputs": [
    {
     "data": {
      "text/plain": [
       "3-element Array{Float64,1}:\n",
       " 1841.4   \n",
       "  225.328 \n",
       "   70.7119"
      ]
     },
     "execution_count": 41,
     "metadata": {},
     "output_type": "execute_result"
    }
   ],
   "source": [
    "# approximately same answer if we use Int8 sparse matrix\n",
    "srand(123)\n",
    "pca_sp(hapmap, 3, SparseMatrixCSC{Int8, UInt32})[3]"
   ]
  },
  {
   "cell_type": "code",
   "execution_count": 42,
   "metadata": {
    "collapsed": false
   },
   "outputs": [
    {
     "name": "stdout",
     "output_type": "stream",
     "text": [
      "Julia Version 0.4.5\n",
      "Commit 2ac304d (2016-03-18 00:58 UTC)\n",
      "Platform Info:\n",
      "  System: Darwin (x86_64-apple-darwin13.4.0)\n",
      "  CPU: Intel(R) Core(TM) i7-3720QM CPU @ 2.60GHz\n",
      "  WORD_SIZE: 64\n",
      "  BLAS: libopenblas (USE64BITINT DYNAMIC_ARCH NO_AFFINITY Sandybridge)\n",
      "  LAPACK: libopenblas64_\n",
      "  LIBM: libopenlibm\n",
      "  LLVM: libLLVM-3.3\n"
     ]
    }
   ],
   "source": [
    "versioninfo()"
   ]
  },
  {
   "cell_type": "code",
   "execution_count": null,
   "metadata": {
    "collapsed": true
   },
   "outputs": [],
   "source": []
  }
 ],
 "metadata": {
  "kernelspec": {
   "display_name": "Julia 0.4.5",
   "language": "julia",
   "name": "julia-0.4"
  },
  "language_info": {
   "file_extension": ".jl",
   "mimetype": "application/julia",
   "name": "julia",
   "version": "0.4.5"
  }
 },
 "nbformat": 4,
 "nbformat_minor": 0
}
