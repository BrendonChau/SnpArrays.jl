{
 "cells": [
  {
   "cell_type": "markdown",
   "metadata": {},
   "source": [
    "# SnpArray"
   ]
  },
  {
   "cell_type": "markdown",
   "metadata": {},
   "source": [
    "`SnpArray` is an array of `Tuple{Bool,Bool}` and adopts the same coding as the [Plink binary format](http://zzz.bwh.harvard.edu/plink/binary.shtml). If `A1` and `A2` are the two alleles, the coding rule is  \n",
    "\n",
    "| Genotype | SnpArray |  \n",
    "|:---:|:---:|  \n",
    "| A1,A1 | (false,false) |  \n",
    "| A1,A2 | (false,true) |  \n",
    "| A2,A2 | (true,true) |  \n",
    "| missing | (true,false) |  \n",
    "\n",
    "The code `(true,false)` is reserved for missing genotype. Otherwise, the bit `true` represents one copy of allele `A2`. In a two-dimensional `SnpArray`, each row is a person and each column is a SNP.\n",
    "\n",
    "For complete genotype data, for example, after imputation, consider using the [HaplotypeArray](@ref) type."
   ]
  },
  {
   "cell_type": "markdown",
   "metadata": {},
   "source": [
    "## Constructor\n",
    "\n",
    "There are various ways to initialize a `SnpArray`.  \n",
    "\n",
    "* `SnpArray` can be initialized from [Plink binary files](http://zzz.bwh.harvard.edu/plink/binary.shtml), say the sample data set `hapmap3` in package `docs` folder:"
   ]
  },
  {
   "cell_type": "code",
   "execution_count": 1,
   "metadata": {},
   "outputs": [
    {
     "name": "stdout",
     "output_type": "stream",
     "text": [
      "-rw-r--r--  1 huazhou  staff  1128171 Jun 19  2017 /Users/huazhou/.julia/v0.6/SnpArrays/docs/hapmap3.bed\n",
      "-rw-r--r--  1 huazhou  staff   388672 Jun 19  2017 /Users/huazhou/.julia/v0.6/SnpArrays/docs/hapmap3.bim\n",
      "-rw-r--r--  1 huazhou  staff     7136 Jun 19  2017 /Users/huazhou/.julia/v0.6/SnpArrays/docs/hapmap3.fam\n",
      "-rw-r--r--  1 huazhou  staff   332960 Jun 19  2017 /Users/huazhou/.julia/v0.6/SnpArrays/docs/hapmap3.map\n"
     ]
    }
   ],
   "source": [
    ";ls -l $(Pkg.dir(\"SnpArrays\") * \"/docs/hapmap3.*\")"
   ]
  },
  {
   "cell_type": "code",
   "execution_count": 2,
   "metadata": {},
   "outputs": [
    {
     "name": "stderr",
     "output_type": "stream",
     "text": [
      "\u001b[1m\u001b[36mINFO: \u001b[39m\u001b[22m\u001b[36mv1.0 BED file detected\n",
      "\u001b[39m"
     ]
    },
    {
     "data": {
      "text/plain": [
       "324×13928 SnpArrays.SnpArray{2}:\n",
       " (true, true)  (true, true)   (false, false)  …  (true, true)   (true, true)\n",
       " (true, true)  (false, true)  (false, true)      (false, true)  (true, true)\n",
       " (true, true)  (true, true)   (false, true)      (true, true)   (true, true)\n",
       " (true, true)  (true, true)   (false, true)      (true, true)   (true, true)\n",
       " (true, true)  (true, true)   (false, true)      (true, true)   (true, true)\n",
       " (true, true)  (false, true)  (true, true)    …  (true, true)   (true, true)\n",
       " (true, true)  (true, true)   (true, true)       (true, true)   (true, true)\n",
       " (true, true)  (true, true)   (false, false)     (true, true)   (true, true)\n",
       " (true, true)  (true, true)   (false, true)      (true, true)   (true, true)\n",
       " (true, true)  (true, true)   (false, true)      (true, true)   (true, true)\n",
       " (true, true)  (true, true)   (false, true)   …  (true, true)   (true, true)\n",
       " (true, true)  (true, true)   (true, true)       (true, true)   (true, true)\n",
       " (true, true)  (true, true)   (false, false)     (true, true)   (true, true)\n",
       " ⋮                                            ⋱                             \n",
       " (true, true)  (true, true)   (false, true)      (true, true)   (true, true)\n",
       " (true, true)  (true, true)   (false, false)     (true, true)   (true, true)\n",
       " (true, true)  (true, true)   (false, false)     (true, true)   (true, true)\n",
       " (true, true)  (true, true)   (false, false)  …  (true, true)   (true, true)\n",
       " (true, true)  (true, true)   (false, true)      (true, true)   (true, true)\n",
       " (true, true)  (true, true)   (true, true)       (true, true)   (true, true)\n",
       " (true, true)  (true, true)   (false, true)      (true, true)   (true, true)\n",
       " (true, true)  (true, true)   (false, true)      (true, true)   (true, true)\n",
       " (true, true)  (true, true)   (false, false)  …  (true, true)   (true, true)\n",
       " (true, true)  (true, true)   (false, true)      (true, true)   (true, true)\n",
       " (true, true)  (true, true)   (false, false)     (true, true)   (true, true)\n",
       " (true, true)  (true, true)   (false, false)     (true, true)   (true, true)"
      ]
     },
     "execution_count": 2,
     "metadata": {},
     "output_type": "execute_result"
    }
   ],
   "source": [
    "using SnpArrays\n",
    "hapmap = SnpArray(Pkg.dir(\"SnpArrays\") * \"/docs/hapmap3\")"
   ]
  },
  {
   "cell_type": "markdown",
   "metadata": {},
   "source": [
    "By default, the constructor figures out the number of individuals and SNPs from the `.bim` and `.fam` files."
   ]
  },
  {
   "cell_type": "code",
   "execution_count": 3,
   "metadata": {},
   "outputs": [
    {
     "data": {
      "text/plain": [
       "(324, 13928)"
      ]
     },
     "execution_count": 3,
     "metadata": {},
     "output_type": "execute_result"
    }
   ],
   "source": [
    "# rows are people; columns are SNPs\n",
    "people, snps = size(hapmap)"
   ]
  },
  {
   "cell_type": "markdown",
   "metadata": {},
   "source": [
    "Alternatively, users can supply keyword arguments `people` and `snps` to the constructor. In this case only the `.bed` file needs to be present."
   ]
  },
  {
   "cell_type": "code",
   "execution_count": 4,
   "metadata": {},
   "outputs": [
    {
     "name": "stderr",
     "output_type": "stream",
     "text": [
      "\u001b[1m\u001b[36mINFO: \u001b[39m\u001b[22m\u001b[36mv1.0 BED file detected\n",
      "\u001b[39m"
     ]
    },
    {
     "data": {
      "text/plain": [
       "324×13928 SnpArrays.SnpArray{2}:\n",
       " (true, true)  (true, true)   (false, false)  …  (true, true)   (true, true)\n",
       " (true, true)  (false, true)  (false, true)      (false, true)  (true, true)\n",
       " (true, true)  (true, true)   (false, true)      (true, true)   (true, true)\n",
       " (true, true)  (true, true)   (false, true)      (true, true)   (true, true)\n",
       " (true, true)  (true, true)   (false, true)      (true, true)   (true, true)\n",
       " (true, true)  (false, true)  (true, true)    …  (true, true)   (true, true)\n",
       " (true, true)  (true, true)   (true, true)       (true, true)   (true, true)\n",
       " (true, true)  (true, true)   (false, false)     (true, true)   (true, true)\n",
       " (true, true)  (true, true)   (false, true)      (true, true)   (true, true)\n",
       " (true, true)  (true, true)   (false, true)      (true, true)   (true, true)\n",
       " (true, true)  (true, true)   (false, true)   …  (true, true)   (true, true)\n",
       " (true, true)  (true, true)   (true, true)       (true, true)   (true, true)\n",
       " (true, true)  (true, true)   (false, false)     (true, true)   (true, true)\n",
       " ⋮                                            ⋱                             \n",
       " (true, true)  (true, true)   (false, true)      (true, true)   (true, true)\n",
       " (true, true)  (true, true)   (false, false)     (true, true)   (true, true)\n",
       " (true, true)  (true, true)   (false, false)     (true, true)   (true, true)\n",
       " (true, true)  (true, true)   (false, false)  …  (true, true)   (true, true)\n",
       " (true, true)  (true, true)   (false, true)      (true, true)   (true, true)\n",
       " (true, true)  (true, true)   (true, true)       (true, true)   (true, true)\n",
       " (true, true)  (true, true)   (false, true)      (true, true)   (true, true)\n",
       " (true, true)  (true, true)   (false, true)      (true, true)   (true, true)\n",
       " (true, true)  (true, true)   (false, false)  …  (true, true)   (true, true)\n",
       " (true, true)  (true, true)   (false, true)      (true, true)   (true, true)\n",
       " (true, true)  (true, true)   (false, false)     (true, true)   (true, true)\n",
       " (true, true)  (true, true)   (false, false)     (true, true)   (true, true)"
      ]
     },
     "execution_count": 4,
     "metadata": {},
     "output_type": "execute_result"
    }
   ],
   "source": [
    "hapmap = SnpArray(Pkg.dir(\"SnpArrays\") * \"/docs/hapmap3\"; people = 324, snps = 13928)"
   ]
  },
  {
   "cell_type": "markdown",
   "metadata": {},
   "source": [
    "Internally `SnpArray` stores data as `BitArray`s and consumes approximately the same amount of memory as the Plink `bed` file size."
   ]
  },
  {
   "cell_type": "code",
   "execution_count": 5,
   "metadata": {},
   "outputs": [
    {
     "data": {
      "text/plain": [
       "(1128256, 1128171)"
      ]
     },
     "execution_count": 5,
     "metadata": {},
     "output_type": "execute_result"
    }
   ],
   "source": [
    "# memory usage, bed file size\n",
    "Base.summarysize(hapmap), filesize(\"hapmap3.bed\")"
   ]
  },
  {
   "cell_type": "markdown",
   "metadata": {},
   "source": [
    "* `SnpArray` can be initialized from a matrix of A2 allele counts."
   ]
  },
  {
   "cell_type": "code",
   "execution_count": 6,
   "metadata": {},
   "outputs": [
    {
     "data": {
      "text/plain": [
       "5×3 SnpArrays.SnpArray{2}:\n",
       " (false, true)   (true, true)    (false, true)\n",
       " (false, true)   (true, true)    (true, true) \n",
       " (false, true)   (true, true)    (true, true) \n",
       " (false, false)  (false, false)  (true, true) \n",
       " (true, true)    (false, true)   (true, true) "
      ]
     },
     "execution_count": 6,
     "metadata": {},
     "output_type": "execute_result"
    }
   ],
   "source": [
    "SnpArray(rand(0:2, 5, 3))"
   ]
  },
  {
   "cell_type": "markdown",
   "metadata": {},
   "source": [
    "* `SnpArray(m, n)` generates an m by n `SnpArray` of all A1 alleles."
   ]
  },
  {
   "cell_type": "code",
   "execution_count": 7,
   "metadata": {},
   "outputs": [
    {
     "data": {
      "text/plain": [
       "5×3 SnpArrays.SnpArray{2}:\n",
       " (false, false)  (false, false)  (false, false)\n",
       " (false, false)  (false, false)  (false, false)\n",
       " (false, false)  (false, false)  (false, false)\n",
       " (false, false)  (false, false)  (false, false)\n",
       " (false, false)  (false, false)  (false, false)"
      ]
     },
     "execution_count": 7,
     "metadata": {},
     "output_type": "execute_result"
    }
   ],
   "source": [
    "s = SnpArray(5, 3)"
   ]
  },
  {
   "cell_type": "markdown",
   "metadata": {},
   "source": [
    "## Summary statistics\n",
    "\n",
    "`summarize` function computes the following summary statistics of a `SnpArray`:  \n",
    "\n",
    "* `maf`: minor allele frequencies, taking into account of missingness.  \n",
    "* `minor_allele`: a `BitVector` indicating the minor allele for each SNP.   `minor_allele[j]==true` means A1 is the minor allele for SNP j; `minor_allele[j]==false` means A2 is the minor allele for SNP j.  \n",
    "* `missings_by_snp`: number of missing genotypes for each snp.  \n",
    "* `missings_by_person`: number of missing genotypes for each person.  "
   ]
  },
  {
   "cell_type": "code",
   "execution_count": 8,
   "metadata": {},
   "outputs": [
    {
     "data": {
      "text/plain": [
       "13928-element Array{Float64,1}:\n",
       " 0.0       \n",
       " 0.0776398 \n",
       " 0.324074  \n",
       " 0.191589  \n",
       " 0.441358  \n",
       " 0.0       \n",
       " 0.00462963\n",
       " 0.453704  \n",
       " 0.226852  \n",
       " 0.14486   \n",
       " 0.0       \n",
       " 0.483025  \n",
       " 0.25387   \n",
       " ⋮         \n",
       " 0.239938  \n",
       " 0.239938  \n",
       " 0.255486  \n",
       " 0.23913   \n",
       " 0.238318  \n",
       " 0.310937  \n",
       " 0.23913   \n",
       " 0.23913   \n",
       " 0.23913   \n",
       " 0.00154321\n",
       " 0.0417957 \n",
       " 0.00617284"
      ]
     },
     "execution_count": 8,
     "metadata": {},
     "output_type": "execute_result"
    }
   ],
   "source": [
    "maf, minor_allele, missings_by_snp, missings_by_person = summarize(hapmap)\n",
    "# minor allele frequencies\n",
    "maf"
   ]
  },
  {
   "cell_type": "code",
   "execution_count": 9,
   "metadata": {},
   "outputs": [
    {
     "data": {
      "text/plain": [
       "(11894, 11894)"
      ]
     },
     "execution_count": 9,
     "metadata": {},
     "output_type": "execute_result"
    }
   ],
   "source": [
    "# total number of missing genotypes\n",
    "sum(missings_by_snp), sum(missings_by_person)"
   ]
  },
  {
   "cell_type": "code",
   "execution_count": 10,
   "metadata": {},
   "outputs": [
    {
     "data": {
      "text/plain": [
       "0.0026356890108565393"
      ]
     },
     "execution_count": 10,
     "metadata": {},
     "output_type": "execute_result"
    }
   ],
   "source": [
    "# proportion of missing genotypes\n",
    "sum(missings_by_snp) / length(hapmap)"
   ]
  },
  {
   "cell_type": "markdown",
   "metadata": {},
   "source": [
    "## Filtering"
   ]
  },
  {
   "cell_type": "markdown",
   "metadata": {},
   "source": [
    "In almost all analyses, SNPs and individuals with low genotyping success rates are ignored. This filtering step is an important tool for removing likely false positives from association testing, as genotyping failure often occurs preferentially in cases or controls, or is correlated with the quantitative trait. `filter(s, min_success_rate_per_snp, min_success_rate_per_person)` does filtering according to the specified success rates for SNPs and people. Default is 0.98 for both."
   ]
  },
  {
   "cell_type": "code",
   "execution_count": 11,
   "metadata": {
    "collapsed": true
   },
   "outputs": [],
   "source": [
    "# filtering SNPs and people to have both success rates above 0.98\n",
    "snp_idx, person_idx = filter(hapmap, 0.98, 0.98)\n",
    "# summary statistics of the filtered SnpArray\n",
    "_, _, missings_by_snp_filtered, missings_by_person_filtered = summarize(hapmap[person_idx, snp_idx]);"
   ]
  },
  {
   "cell_type": "code",
   "execution_count": 12,
   "metadata": {},
   "outputs": [
    {
     "data": {
      "text/plain": [
       "0.9813084112149533"
      ]
     },
     "execution_count": 12,
     "metadata": {},
     "output_type": "execute_result"
    }
   ],
   "source": [
    "# minimum SNP genotyping success rate after filtering ≥ 0.98\n",
    "1 - maximum(missings_by_snp_filtered) / length(missings_by_person_filtered)"
   ]
  },
  {
   "cell_type": "code",
   "execution_count": 13,
   "metadata": {},
   "outputs": [
    {
     "data": {
      "text/plain": [
       "0.9818511796733213"
      ]
     },
     "execution_count": 13,
     "metadata": {},
     "output_type": "execute_result"
    }
   ],
   "source": [
    "# minimum individual genotyping success rate after filtering ≥ 0.98\n",
    "1 - maximum(missings_by_person_filtered) / length(missings_by_snp_filtered)"
   ]
  },
  {
   "cell_type": "markdown",
   "metadata": {},
   "source": [
    "## Random genotypes generation\n",
    "\n",
    "`randgeno(a1freq)` generates a random genotype according to A1 allele frequency `a1freq`."
   ]
  },
  {
   "cell_type": "code",
   "execution_count": 14,
   "metadata": {},
   "outputs": [
    {
     "data": {
      "text/plain": [
       "(false, false)"
      ]
     },
     "execution_count": 14,
     "metadata": {},
     "output_type": "execute_result"
    }
   ],
   "source": [
    "randgeno(0.5)"
   ]
  },
  {
   "cell_type": "markdown",
   "metadata": {},
   "source": [
    "`randgeno(maf, minor_allele)` generates a random genotype according to minor allele frequency `maf` and whether the minor allele is A1 (`minor_allele==true`) or A2 (`minor_allele==false`)."
   ]
  },
  {
   "cell_type": "code",
   "execution_count": 15,
   "metadata": {},
   "outputs": [
    {
     "data": {
      "text/plain": [
       "(true, true)"
      ]
     },
     "execution_count": 15,
     "metadata": {},
     "output_type": "execute_result"
    }
   ],
   "source": [
    "randgeno(0.25, true)"
   ]
  },
  {
   "cell_type": "markdown",
   "metadata": {},
   "source": [
    "`randgeno(n, maf, minor_allele)` generates a vector of random genotypes according to a common minor allele frequency `maf` and the minor allele."
   ]
  },
  {
   "cell_type": "code",
   "execution_count": 16,
   "metadata": {},
   "outputs": [
    {
     "data": {
      "text/plain": [
       "10-element SnpArrays.SnpArray{1}:\n",
       " (false, true) \n",
       " (false, true) \n",
       " (false, true) \n",
       " (false, true) \n",
       " (true, true)  \n",
       " (true, true)  \n",
       " (false, false)\n",
       " (true, true)  \n",
       " (false, true) \n",
       " (false, true) "
      ]
     },
     "execution_count": 16,
     "metadata": {},
     "output_type": "execute_result"
    }
   ],
   "source": [
    "randgeno(10, 0.25, true)"
   ]
  },
  {
   "cell_type": "markdown",
   "metadata": {},
   "source": [
    "`randgeno(m, n, maf, minor_allele)` generates a random $m$-by-$n$ `SnpArray` according to a vector of minor allele frequencies `maf` and a minor allele indicator vector. The lengths of both vectors should be `n`."
   ]
  },
  {
   "cell_type": "code",
   "execution_count": 17,
   "metadata": {},
   "outputs": [
    {
     "data": {
      "text/plain": [
       "324×13928 SnpArrays.SnpArray{2}:\n",
       " (true, true)  (true, true)   (true, true)   …  (true, true)   (true, true)\n",
       " (true, true)  (false, true)  (false, true)     (true, true)   (true, true)\n",
       " (true, true)  (true, true)   (true, true)      (false, true)  (true, true)\n",
       " (true, true)  (true, true)   (true, true)      (true, true)   (true, true)\n",
       " (true, true)  (false, true)  (true, true)      (true, true)   (true, true)\n",
       " (true, true)  (false, true)  (false, true)  …  (true, true)   (true, true)\n",
       " (true, true)  (true, true)   (true, true)      (true, true)   (true, true)\n",
       " (true, true)  (true, true)   (false, true)     (true, true)   (true, true)\n",
       " (true, true)  (true, true)   (false, true)     (true, true)   (true, true)\n",
       " (true, true)  (false, true)  (false, true)     (true, true)   (true, true)\n",
       " (true, true)  (true, true)   (false, true)  …  (true, true)   (true, true)\n",
       " (true, true)  (true, true)   (true, true)      (true, true)   (true, true)\n",
       " (true, true)  (true, true)   (true, true)      (true, true)   (true, true)\n",
       " ⋮                                           ⋱                             \n",
       " (true, true)  (false, true)  (false, true)     (true, true)   (true, true)\n",
       " (true, true)  (true, true)   (false, true)     (true, true)   (true, true)\n",
       " (true, true)  (false, true)  (true, true)      (true, true)   (true, true)\n",
       " (true, true)  (true, true)   (true, true)   …  (true, true)   (true, true)\n",
       " (true, true)  (true, true)   (false, true)     (true, true)   (true, true)\n",
       " (true, true)  (true, true)   (false, true)     (true, true)   (true, true)\n",
       " (true, true)  (true, true)   (false, true)     (true, true)   (true, true)\n",
       " (true, true)  (true, true)   (true, true)      (true, true)   (true, true)\n",
       " (true, true)  (true, true)   (true, true)   …  (true, true)   (true, true)\n",
       " (true, true)  (false, true)  (true, true)      (true, true)   (true, true)\n",
       " (true, true)  (true, true)   (false, true)     (true, true)   (true, true)\n",
       " (true, true)  (true, true)   (true, true)      (true, true)   (true, true)"
      ]
     },
     "execution_count": 17,
     "metadata": {},
     "output_type": "execute_result"
    }
   ],
   "source": [
    "# this is a random replicate of the hapmap data\n",
    "randgeno(size(hapmap), maf, minor_allele)"
   ]
  },
  {
   "cell_type": "markdown",
   "metadata": {},
   "source": [
    "## Subsetting\n",
    "\n",
    "Subsetting a `SnpArray` works the same way as subsetting any other arrays."
   ]
  },
  {
   "cell_type": "code",
   "execution_count": 18,
   "metadata": {},
   "outputs": [
    {
     "data": {
      "text/plain": [
       "13928-element SnpArrays.SnpArray{1}:\n",
       " (true, true)  \n",
       " (true, true)  \n",
       " (false, false)\n",
       " (true, true)  \n",
       " (true, true)  \n",
       " (true, true)  \n",
       " (false, true) \n",
       " (false, true) \n",
       " (true, true)  \n",
       " (false, true) \n",
       " (true, true)  \n",
       " (true, true)  \n",
       " (false, false)\n",
       " ⋮             \n",
       " (false, true) \n",
       " (false, true) \n",
       " (true, true)  \n",
       " (false, true) \n",
       " (false, true) \n",
       " (false, true) \n",
       " (false, true) \n",
       " (false, true) \n",
       " (false, true) \n",
       " (true, true)  \n",
       " (true, true)  \n",
       " (true, true)  "
      ]
     },
     "execution_count": 18,
     "metadata": {},
     "output_type": "execute_result"
    }
   ],
   "source": [
    "# genotypes of the 1st person\n",
    "hapmap[1, :]"
   ]
  },
  {
   "cell_type": "code",
   "execution_count": 19,
   "metadata": {},
   "outputs": [
    {
     "data": {
      "text/plain": [
       "324-element SnpArrays.SnpArray{1}:\n",
       " (true, true)  \n",
       " (true, true)  \n",
       " (false, true) \n",
       " (false, true) \n",
       " (true, true)  \n",
       " (false, false)\n",
       " (false, false)\n",
       " (true, true)  \n",
       " (true, true)  \n",
       " (true, true)  \n",
       " (true, true)  \n",
       " (true, true)  \n",
       " (false, true) \n",
       " ⋮             \n",
       " (false, false)\n",
       " (true, true)  \n",
       " (false, true) \n",
       " (true, true)  \n",
       " (true, true)  \n",
       " (true, true)  \n",
       " (true, true)  \n",
       " (true, true)  \n",
       " (false, true) \n",
       " (true, true)  \n",
       " (true, true)  \n",
       " (true, true)  "
      ]
     },
     "execution_count": 19,
     "metadata": {},
     "output_type": "execute_result"
    }
   ],
   "source": [
    "# genotypes of the 5th SNP\n",
    "hapmap[:, 5]"
   ]
  },
  {
   "cell_type": "code",
   "execution_count": 20,
   "metadata": {},
   "outputs": [
    {
     "data": {
      "text/plain": [
       "5×6 SnpArrays.SnpArray{2}:\n",
       " (true, true)   (true, true)  (false, true)  …  (true, true)   (false, true)\n",
       " (true, true)   (true, true)  (true, true)      (true, true)   (false, true)\n",
       " (false, true)  (true, true)  (true, true)      (false, true)  (true, true) \n",
       " (false, true)  (true, true)  (true, true)      (true, true)   (false, true)\n",
       " (true, true)   (true, true)  (true, true)      (true, true)   (false, true)"
      ]
     },
     "execution_count": 20,
     "metadata": {},
     "output_type": "execute_result"
    }
   ],
   "source": [
    "# subsetting both persons and SNPs\n",
    "hapmap[1:5, 5:10]"
   ]
  },
  {
   "cell_type": "code",
   "execution_count": 21,
   "metadata": {},
   "outputs": [
    {
     "data": {
      "text/plain": [
       "324×12085 SnpArrays.SnpArray{2}:\n",
       " (true, true)   (false, false)  …  (false, true)  (false, true)\n",
       " (false, true)  (false, true)      (true, true)   (true, true) \n",
       " (true, true)   (false, true)      (true, true)   (true, true) \n",
       " (true, true)   (false, true)      (false, true)  (false, true)\n",
       " (true, true)   (false, true)      (true, true)   (true, true) \n",
       " (false, true)  (true, true)    …  (false, true)  (false, true)\n",
       " (true, true)   (true, true)       (true, true)   (true, true) \n",
       " (true, true)   (false, false)     (true, true)   (true, true) \n",
       " (true, true)   (false, true)      (true, true)   (true, true) \n",
       " (true, true)   (false, true)      (false, true)  (false, true)\n",
       " (true, true)   (false, true)   …  (true, true)   (true, true) \n",
       " (true, true)   (true, true)       (false, true)  (false, true)\n",
       " (true, true)   (false, false)     (false, true)  (false, true)\n",
       " ⋮                              ⋱                              \n",
       " (true, true)   (false, true)      (false, true)  (false, true)\n",
       " (true, true)   (false, false)     (false, true)  (false, true)\n",
       " (true, true)   (false, false)     (true, true)   (true, true) \n",
       " (true, true)   (false, false)  …  (true, true)   (true, true) \n",
       " (true, true)   (false, true)      (true, true)   (true, true) \n",
       " (true, true)   (true, true)       (false, true)  (false, true)\n",
       " (true, true)   (false, true)      (false, true)  (false, true)\n",
       " (true, true)   (false, true)      (true, true)   (true, true) \n",
       " (true, true)   (false, false)  …  (false, true)  (false, true)\n",
       " (true, true)   (false, true)      (false, true)  (false, true)\n",
       " (true, true)   (false, false)     (false, true)  (false, true)\n",
       " (true, true)   (false, false)     (true, true)   (true, true) "
      ]
     },
     "execution_count": 21,
     "metadata": {},
     "output_type": "execute_result"
    }
   ],
   "source": [
    "# filter out rare SNPs with MAF < 0.05\n",
    "hapmap[:, maf .≥ 0.05]"
   ]
  },
  {
   "cell_type": "code",
   "execution_count": 22,
   "metadata": {},
   "outputs": [
    {
     "data": {
      "text/plain": [
       "220×13928 SnpArrays.SnpArray{2}:\n",
       " (true, true)  (true, true)   (false, false)  …  (true, true)   (true, true)\n",
       " (true, true)  (false, true)  (false, true)      (false, true)  (true, true)\n",
       " (true, true)  (true, true)   (false, true)      (true, true)   (true, true)\n",
       " (true, true)  (true, true)   (true, true)       (true, true)   (true, true)\n",
       " (true, true)  (true, true)   (false, false)     (true, true)   (true, true)\n",
       " (true, true)  (true, true)   (false, true)   …  (true, true)   (true, true)\n",
       " (true, true)  (true, true)   (false, true)      (true, true)   (true, true)\n",
       " (true, true)  (true, true)   (false, true)      (true, true)   (true, true)\n",
       " (true, true)  (true, true)   (false, false)     (true, true)   (true, true)\n",
       " (true, true)  (true, true)   (false, true)      (true, true)   (true, true)\n",
       " (true, true)  (false, true)  (false, true)   …  (true, true)   (true, true)\n",
       " (true, true)  (true, true)   (true, true)       (true, true)   (true, true)\n",
       " (true, true)  (true, true)   (true, true)       (true, true)   (true, true)\n",
       " ⋮                                            ⋱                             \n",
       " (true, true)  (true, true)   (false, false)     (true, true)   (true, true)\n",
       " (true, true)  (true, true)   (false, false)     (true, true)   (true, true)\n",
       " (true, true)  (true, true)   (false, false)  …  (true, true)   (true, true)\n",
       " (true, true)  (true, true)   (false, true)      (true, true)   (true, true)\n",
       " (true, true)  (true, true)   (false, false)     (true, true)   (true, true)\n",
       " (true, true)  (true, true)   (false, false)     (true, true)   (true, true)\n",
       " (true, true)  (true, true)   (false, false)     (true, true)   (true, true)\n",
       " (true, true)  (true, true)   (false, true)   …  (true, true)   (true, true)\n",
       " (true, true)  (true, true)   (false, false)     (true, true)   (true, true)\n",
       " (true, true)  (true, true)   (false, true)      (true, true)   (true, true)\n",
       " (true, true)  (true, true)   (false, false)     (true, true)   (true, true)\n",
       " (true, true)  (true, true)   (false, false)     (true, true)   (true, true)"
      ]
     },
     "execution_count": 22,
     "metadata": {},
     "output_type": "execute_result"
    }
   ],
   "source": [
    "# filter out individuals with genotyping success rate < 0.90\n",
    "hapmap[missings_by_person / people .< 0.1, :]"
   ]
  },
  {
   "cell_type": "markdown",
   "metadata": {},
   "source": [
    "`view` creates views of subarray without copying data and improve efficiency in many calculations."
   ]
  },
  {
   "cell_type": "code",
   "execution_count": 23,
   "metadata": {},
   "outputs": [
    {
     "data": {
      "text/plain": [
       "12085-element Array{Float64,1}:\n",
       " 0.0776398\n",
       " 0.324074 \n",
       " 0.191589 \n",
       " 0.441358 \n",
       " 0.453704 \n",
       " 0.226852 \n",
       " 0.14486  \n",
       " 0.483025 \n",
       " 0.25387  \n",
       " 0.109907 \n",
       " 0.221875 \n",
       " 0.475232 \n",
       " 0.305556 \n",
       " ⋮        \n",
       " 0.253125 \n",
       " 0.238318 \n",
       " 0.235016 \n",
       " 0.239938 \n",
       " 0.239938 \n",
       " 0.255486 \n",
       " 0.23913  \n",
       " 0.238318 \n",
       " 0.310937 \n",
       " 0.23913  \n",
       " 0.23913  \n",
       " 0.23913  "
      ]
     },
     "execution_count": 23,
     "metadata": {},
     "output_type": "execute_result"
    }
   ],
   "source": [
    "mafcommon, = summarize(view(hapmap, :, maf .≥ 0.05))\n",
    "mafcommon"
   ]
  },
  {
   "cell_type": "markdown",
   "metadata": {},
   "source": [
    "## Assignment\n",
    "\n",
    "It is possible to assign specific genotypes to a `SnpArray` entry."
   ]
  },
  {
   "cell_type": "code",
   "execution_count": 24,
   "metadata": {},
   "outputs": [
    {
     "data": {
      "text/plain": [
       "(true, true)"
      ]
     },
     "execution_count": 24,
     "metadata": {},
     "output_type": "execute_result"
    }
   ],
   "source": [
    "hapmap[1, 1]"
   ]
  },
  {
   "cell_type": "code",
   "execution_count": 25,
   "metadata": {},
   "outputs": [
    {
     "data": {
      "text/plain": [
       "(false, true)"
      ]
     },
     "execution_count": 25,
     "metadata": {},
     "output_type": "execute_result"
    }
   ],
   "source": [
    "hapmap[1, 1] = (false, true)\n",
    "hapmap[1, 1]"
   ]
  },
  {
   "cell_type": "code",
   "execution_count": 26,
   "metadata": {},
   "outputs": [
    {
     "data": {
      "text/plain": [
       "(true, false)"
      ]
     },
     "execution_count": 26,
     "metadata": {},
     "output_type": "execute_result"
    }
   ],
   "source": [
    "hapmap[1, 1] = NaN\n",
    "hapmap[1, 1]"
   ]
  },
  {
   "cell_type": "code",
   "execution_count": 27,
   "metadata": {},
   "outputs": [
    {
     "data": {
      "text/plain": [
       "(true, true)"
      ]
     },
     "execution_count": 27,
     "metadata": {},
     "output_type": "execute_result"
    }
   ],
   "source": [
    "hapmap[1, 1] = 2\n",
    "hapmap[1, 1]"
   ]
  },
  {
   "cell_type": "markdown",
   "metadata": {},
   "source": [
    "Subsetted assignment such as `hapmap[:, 1] = Nan` is also valid."
   ]
  },
  {
   "cell_type": "markdown",
   "metadata": {
    "collapsed": true
   },
   "source": [
    "## Convert, copy and imputation\n",
    "\n",
    "In most analyses we convert a whole `SnpArray` or slices of it to numeric arrays (matrix of **minor allele counts**) for statistical analysis. Keep in mind that the storage of resultant data can be up to 32 fold larger than that of the original `SnpArray`. Fortunately, rich collection of data types in `Julia` allow us choose one that fits into memory. Below are estimates of memory usage for some common data types with `n` persons and `p` SNPs. Here MAF denotes the **average** minor allele frequencies.\n",
    "\n",
    "* `SnpArray`: $0.25np$ bytes  \n",
    "* `Matrix{Int8}`: $np$ bytes  \n",
    "* `Matrix{Float16}`: $2np$ bytes  \n",
    "* `Matrix{Float32}`: $4np$ bytes  \n",
    "* `Matrix{Float64}`: $8np$ bytes  \n",
    "* `SparseMatrixCSC{Float64,Int64}`: $16 \\cdot \\text{NNZ} + 8(p+1) \\approx 16np(2\\text{MAF}(1-\\text{MAF})+\\text{MAF}^2) + 8(p+1) = 16np \\cdot \\text{MAF}(2-\\text{MAF}) + 8(p+1)$ bytes. When the average MAF=0.25, this is about $7np$ bytes. When MAF=0.025, this is about $0.8np$ bypes, 10 fold smaller than the `Matrix{Float64}` type.  \n",
    "* `SparseMatrixCSC{Int8,UInt32}`: $5 \\cdot \\text{NNZ} + 4(p+1) \\approx 5np(2\\text{MAF}(1-\\text{MAF})+\\text{MAF}^2) + 4(p+1) = 5np \\cdot \\text{MAF}(2-\\text{MAF}) + 4(p+1)$ bytes. When the average MAF=0.25, this is about $2.2np$ bytes. When MAF=0.08, this is about $0.8np$ bypes, 10 fold smaller than `Matrix{Float64}` type.  \n",
    "* Two `SparseMatrixCSC{Bool,Int64}`: $2np \\cdot \\text{MAF} \\cdot 9 + 16(p+1) = 18 np \\cdot \\text{MAF} + 16(p+1)$ bytes. When the average MAF=0.25, this is about $4.5np$ bytes. When MAF=0.045, this is about $0.8np$ bytes, 10 fold smaller than `Matrix{Float64}` type.  \n",
    "\n",
    "To be concrete, consider 2 typical data sets:  \n",
    "* COPD (GWAS): $n = 6670$ individuals, $p = 630998$ SNPs, average MAF is 0.2454.\n",
    "* GAW19 (sequencing study): $n = 959$ individuals, $p = 8348674$ SNPs, average MAF is 0.085.  \n",
    "\n",
    "| Data Type | COPD | GAW19 |  \n",
    "|---|---:|---:|  \n",
    "| `SnpArray` | 1.05GB | 2GB |  \n",
    "| `Matrix{Float64}` | 33.67GB | 64.05GB |  \n",
    "| `SparseMatrixCSC{Float64,Int64}` | 29GB | 20.82GB |  \n",
    "| `SparseMatrixCSC{Bool,Int64}` | 18.6GB | 12.386GB |  \n",
    "\n",
    "Apparently for data sets with a majority of rare variants, converting to sparse matrices saves memory and often brings computational advantages too. In the `SparseMatrixCSC` format, the integer type of the row indices `rowval` and column pointer `colptr` should have maximal allowable value larger than the number of nonzeros in the matrix. The `InexactError()` error encountered during conversion often indicates that the integer type has a too small range. The utility function `estimatesize` conveniently estimates memory usage in bytes for the input data type."
   ]
  },
  {
   "cell_type": "code",
   "execution_count": 28,
   "metadata": {},
   "outputs": [
    {
     "data": {
      "text/plain": [
       "3.6101376e7"
      ]
     },
     "execution_count": 28,
     "metadata": {},
     "output_type": "execute_result"
    }
   ],
   "source": [
    "# estimated memory usage if convert to Matrix{Float64}\n",
    "estimatesize(people, snps, Matrix{Float64})"
   ]
  },
  {
   "cell_type": "code",
   "execution_count": 29,
   "metadata": {},
   "outputs": [
    {
     "data": {
      "text/plain": [
       "324×13928 Array{Float64,2}:\n",
       " 0.0  0.0  2.0  0.0  0.0  0.0  1.0  1.0  …  1.0  1.0  1.0  1.0  0.0  0.0  0.0\n",
       " 0.0  1.0  1.0  1.0  0.0  0.0  0.0  1.0     0.0  0.0  0.0  0.0  0.0  1.0  0.0\n",
       " 0.0  0.0  1.0  1.0  1.0  0.0  0.0  2.0     1.0  0.0  0.0  0.0  0.0  0.0  0.0\n",
       " 0.0  0.0  1.0  0.0  1.0  0.0  0.0  1.0     1.0  1.0  1.0  1.0  0.0  0.0  0.0\n",
       " 0.0  0.0  1.0  1.0  0.0  0.0  0.0  2.0     0.0  0.0  0.0  0.0  0.0  0.0  0.0\n",
       " 0.0  1.0  0.0  0.0  2.0  0.0  0.0  0.0  …  2.0  1.0  1.0  1.0  0.0  0.0  0.0\n",
       " 0.0  0.0  0.0  0.0  2.0  0.0  0.0  2.0     1.0  0.0  0.0  0.0  0.0  0.0  0.0\n",
       " 0.0  0.0  2.0  0.0  0.0  0.0  0.0  1.0     0.0  0.0  0.0  0.0  0.0  0.0  0.0\n",
       " 0.0  0.0  1.0  1.0  0.0  0.0  0.0  2.0     0.0  0.0  0.0  0.0  0.0  0.0  0.0\n",
       " 0.0  0.0  1.0  0.0  0.0  0.0  0.0  2.0     1.0  1.0  1.0  1.0  0.0  0.0  0.0\n",
       " 0.0  0.0  1.0  0.0  0.0  0.0  0.0  2.0  …  0.0  0.0  0.0  0.0  0.0  0.0  0.0\n",
       " 0.0  0.0  0.0  1.0  0.0  0.0  0.0  2.0     1.0  1.0  1.0  1.0  0.0  0.0  0.0\n",
       " 0.0  0.0  2.0  0.0  1.0  0.0  0.0  1.0     2.0  1.0  1.0  1.0  0.0  0.0  0.0\n",
       " ⋮                        ⋮              ⋱                      ⋮            \n",
       " 0.0  0.0  1.0  0.0  2.0  0.0  0.0  1.0     2.0  1.0  1.0  1.0  0.0  0.0  0.0\n",
       " 0.0  0.0  2.0  0.0  0.0  0.0  0.0  2.0     2.0  1.0  1.0  1.0  0.0  0.0  0.0\n",
       " 0.0  0.0  2.0  0.0  1.0  0.0  0.0  1.0     0.0  0.0  0.0  0.0  0.0  0.0  0.0\n",
       " 0.0  0.0  2.0  1.0  0.0  0.0  0.0  1.0  …  0.0  0.0  0.0  0.0  0.0  0.0  0.0\n",
       " 0.0  0.0  1.0  0.0  0.0  0.0  0.0  1.0     1.0  0.0  0.0  0.0  0.0  0.0  0.0\n",
       " 0.0  0.0  0.0  1.0  0.0  0.0  0.0  1.0     2.0  1.0  1.0  1.0  0.0  0.0  0.0\n",
       " 0.0  0.0  1.0  1.0  0.0  0.0  0.0  2.0     1.0  1.0  1.0  1.0  0.0  0.0  0.0\n",
       " 0.0  0.0  1.0  0.0  0.0  0.0  0.0  2.0     0.0  0.0  0.0  0.0  0.0  0.0  0.0\n",
       " 0.0  0.0  2.0  0.0  1.0  0.0  0.0  1.0  …  1.0  1.0  1.0  1.0  0.0  0.0  0.0\n",
       " 0.0  0.0  1.0  1.0  0.0  0.0  0.0  1.0     1.0  1.0  1.0  1.0  0.0  0.0  0.0\n",
       " 0.0  0.0  2.0  1.0  0.0  0.0  0.0  2.0     1.0  1.0  1.0  1.0  0.0  0.0  0.0\n",
       " 0.0  0.0  2.0  0.0  0.0  0.0  0.0  2.0     0.0  0.0  0.0  0.0  0.0  0.0  0.0"
      ]
     },
     "execution_count": 29,
     "metadata": {},
     "output_type": "execute_result"
    }
   ],
   "source": [
    "# convert to Matrix{Float64}\n",
    "hapmapf64 = convert(Matrix{Float64}, hapmap)"
   ]
  },
  {
   "cell_type": "code",
   "execution_count": 30,
   "metadata": {},
   "outputs": [
    {
     "data": {
      "text/plain": [
       "36101376"
      ]
     },
     "execution_count": 30,
     "metadata": {},
     "output_type": "execute_result"
    }
   ],
   "source": [
    "# actual memory usage of Matrix{Float64}\n",
    "Base.summarysize(hapmapf64)"
   ]
  },
  {
   "cell_type": "code",
   "execution_count": 31,
   "metadata": {},
   "outputs": [
    {
     "data": {
      "text/plain": [
       "0.222585591341583"
      ]
     },
     "execution_count": 31,
     "metadata": {},
     "output_type": "execute_result"
    }
   ],
   "source": [
    "# average maf of the hapmap3 data set\n",
    "mean(maf)"
   ]
  },
  {
   "cell_type": "code",
   "execution_count": 32,
   "metadata": {},
   "outputs": [
    {
     "data": {
      "text/plain": [
       "1.4338389205819245e7"
      ]
     },
     "execution_count": 32,
     "metadata": {},
     "output_type": "execute_result"
    }
   ],
   "source": [
    "# estimated memory usage if convert to SparseMatrixCSC{Float32, UInt32} matrix\n",
    "estimatesize(people, snps, SparseMatrixCSC{Float32, UInt32}, mean(maf))"
   ]
  },
  {
   "cell_type": "code",
   "execution_count": 33,
   "metadata": {},
   "outputs": [
    {
     "data": {
      "text/plain": [
       "324×13928 SparseMatrixCSC{Float32,UInt32} with 1614876 stored entries:\n",
       "  [2    ,     2]  =  1.0\n",
       "  [6    ,     2]  =  1.0\n",
       "  [15   ,     2]  =  1.0\n",
       "  [31   ,     2]  =  1.0\n",
       "  [33   ,     2]  =  1.0\n",
       "  [35   ,     2]  =  1.0\n",
       "  [43   ,     2]  =  1.0\n",
       "  [44   ,     2]  =  1.0\n",
       "  [50   ,     2]  =  1.0\n",
       "  [54   ,     2]  =  1.0\n",
       "  ⋮\n",
       "  [135  , 13927]  =  1.0\n",
       "  [148  , 13927]  =  1.0\n",
       "  [160  , 13927]  =  1.0\n",
       "  [164  , 13927]  =  2.0\n",
       "  [167  , 13927]  =  1.0\n",
       "  [185  , 13927]  =  1.0\n",
       "  [266  , 13927]  =  1.0\n",
       "  [280  , 13927]  =  1.0\n",
       "  [288  , 13927]  =  1.0\n",
       "  [118  , 13928]  =  2.0\n",
       "  [231  , 13928]  =  2.0"
      ]
     },
     "execution_count": 33,
     "metadata": {},
     "output_type": "execute_result"
    }
   ],
   "source": [
    "# convert to SparseMatrixCSC{Float32, UInt32} matrix\n",
    "hapmapf32sp = convert(SparseMatrixCSC{Float32, UInt32}, hapmap)"
   ]
  },
  {
   "cell_type": "code",
   "execution_count": 34,
   "metadata": {},
   "outputs": [
    {
     "data": {
      "text/plain": [
       "12974764"
      ]
     },
     "execution_count": 34,
     "metadata": {},
     "output_type": "execute_result"
    }
   ],
   "source": [
    "# actual memory usage if convert to SparseMatrixCSC{Float32, UInt32} matrix\n",
    "Base.summarysize(hapmapf32sp)"
   ]
  },
  {
   "cell_type": "markdown",
   "metadata": {},
   "source": [
    "By default the `convert()` method converts missing genotypes to `NaN`."
   ]
  },
  {
   "cell_type": "code",
   "execution_count": 35,
   "metadata": {},
   "outputs": [
    {
     "data": {
      "text/plain": [
       "(11894, 11894)"
      ]
     },
     "execution_count": 35,
     "metadata": {},
     "output_type": "execute_result"
    }
   ],
   "source": [
    "# number of missing genotypes\n",
    "countnz(isnan.(hapmap)), countnz(isnan.(hapmapf64))"
   ]
  },
  {
   "cell_type": "markdown",
   "metadata": {},
   "source": [
    "One can enforce **crude imputation** by setting the optional argument `impute=true`. Imputation is done by generating two random alleles according to the minor allele frequency. This is a neutral but not an optimal strategy, and users should impute missing genotypes by more advanced methods."
   ]
  },
  {
   "cell_type": "code",
   "execution_count": 36,
   "metadata": {},
   "outputs": [
    {
     "data": {
      "text/plain": [
       "0"
      ]
     },
     "execution_count": 36,
     "metadata": {},
     "output_type": "execute_result"
    }
   ],
   "source": [
    "hapmapf64impute = convert(Matrix{Float64}, hapmap; impute = true)\n",
    "countnz(isnan.(hapmapf64impute))"
   ]
  },
  {
   "cell_type": "markdown",
   "metadata": {},
   "source": [
    "By default `convert()` translates genotypes according to the *additive* SNP model, which essentially counts the number of **minor allele** (0, 1 or 2) per genotype. Other SNP models are *dominant* and *recessive*, both in terms of the **minor allele**. When `A1` is the minor allele, genotypes are translated to real number according to\n",
    "\n",
    "| Genotype | `SnpArray` | `model=:additive` | `model=:dominant` | `model=:recessive` |    \n",
    "|:---:|:---:|:---:|:---:|:---:|  \n",
    "| A1,A1 | (false,false) | 2 | 1 | 1 |  \n",
    "| A1,A2 | (false,true) | 1 | 1 | 0 |  \n",
    "| A2,A2 | (true,true) | 0 | 0 | 0 |  \n",
    "| missing | (true,false) | NaN | NaN | NaN | \n",
    "\n",
    "When `A2` is the minor allele, genotypes are translated according to\n",
    "\n",
    "| Genotype | `SnpArray` | `model=:additive` | `model=:dominant` | `model=:recessive` |    \n",
    "|:---:|:---:|:---:|:---:|:---:|  \n",
    "| A1,A1 | (false,false) | 0 | 0 | 0 |  \n",
    "| A1,A2 | (false,true) | 1 | 1 | 0 |  \n",
    "| A2,A2 | (true,true) | 2 | 1 | 1 |  \n",
    "| missing | (true,false) | NaN | NaN | NaN |"
   ]
  },
  {
   "cell_type": "code",
   "execution_count": 37,
   "metadata": {},
   "outputs": [
    {
     "data": {
      "text/plain": [
       "10×3 Array{Float64,2}:\n",
       " 0.0  0.0  0.0\n",
       " 0.0  0.0  0.0\n",
       " 1.0  1.0  0.0\n",
       " 1.0  1.0  0.0\n",
       " 0.0  0.0  0.0\n",
       " 2.0  1.0  1.0\n",
       " 2.0  1.0  1.0\n",
       " 0.0  0.0  0.0\n",
       " 0.0  0.0  0.0\n",
       " 0.0  0.0  0.0"
      ]
     },
     "execution_count": 37,
     "metadata": {},
     "output_type": "execute_result"
    }
   ],
   "source": [
    "[convert(Vector{Float64}, hapmap[1:10, 5]; model = :additive) convert(Vector{Float64}, hapmap[1:10, 5]; model = :dominant) convert(Vector{Float64}, hapmap[1:10, 5]; model = :recessive)]"
   ]
  },
  {
   "cell_type": "markdown",
   "metadata": {},
   "source": [
    "By default `convert()` does **not** center and scale genotypes. Setting the optional arguments `center=true, scale=true` centers genotypes at 2MAF and scales them by $[2 \\cdot \\text{MAF} \\cdot (1 - \\text{MAF})]^{-1/2}$. Mono-allelic SNPs (MAF=0) are not scaled."
   ]
  },
  {
   "cell_type": "code",
   "execution_count": 38,
   "metadata": {},
   "outputs": [
    {
     "data": {
      "text/plain": [
       "324×2 Array{Float64,2}:\n",
       " 0.0  -1.25702 \n",
       " 0.0  -1.25702 \n",
       " 1.0   0.167017\n",
       " 1.0   0.167017\n",
       " 0.0  -1.25702 \n",
       " 2.0   1.59106 \n",
       " 2.0   1.59106 \n",
       " 0.0  -1.25702 \n",
       " 0.0  -1.25702 \n",
       " 0.0  -1.25702 \n",
       " 0.0  -1.25702 \n",
       " 0.0  -1.25702 \n",
       " 1.0   0.167017\n",
       " ⋮             \n",
       " 2.0   1.59106 \n",
       " 0.0  -1.25702 \n",
       " 1.0   0.167017\n",
       " 0.0  -1.25702 \n",
       " 0.0  -1.25702 \n",
       " 0.0  -1.25702 \n",
       " 0.0  -1.25702 \n",
       " 0.0  -1.25702 \n",
       " 1.0   0.167017\n",
       " 0.0  -1.25702 \n",
       " 0.0  -1.25702 \n",
       " 0.0  -1.25702 "
      ]
     },
     "execution_count": 38,
     "metadata": {},
     "output_type": "execute_result"
    }
   ],
   "source": [
    "[convert(Vector{Float64}, hapmap[:, 5]) convert(Vector{Float64}, hapmap[:, 5]; center = true, scale = true)]"
   ]
  },
  {
   "cell_type": "markdown",
   "metadata": {},
   "source": [
    "`copy!()` is the in-place version of `convert()`. Options such as GWAS loop over SNPs and perform statistical anlaysis for each SNP. This can be achieved by"
   ]
  },
  {
   "cell_type": "code",
   "execution_count": 39,
   "metadata": {
    "collapsed": true
   },
   "outputs": [],
   "source": [
    "g = zeros(people)\n",
    "for j = 1:snps\n",
    "    copy!(g, hapmap[:, j]; model = :additive, impute = true)\n",
    "    # do statistical anlaysis\n",
    "end"
   ]
  },
  {
   "cell_type": "markdown",
   "metadata": {},
   "source": [
    "## Empirical kinship matrix\n",
    "\n",
    "`grm` function computes the empirical kinship matrix using either the genetic relationship matrix, `grm(A, model=:GRM)`, or the method of moment method, `grm(A, model=:MoM)`. "
   ]
  },
  {
   "cell_type": "markdown",
   "metadata": {},
   "source": [
    "!!! note\n",
    "\n",
    "    Missing genotypes are imputed according to minor allele frequencies on the fly.  \n",
    "    \n"
   ]
  },
  {
   "cell_type": "markdown",
   "metadata": {},
   "source": [
    "!!! note\n",
    "\n",
    "    It is often necessary to filter SNPs according to minor allele frequency and LD before calculating empirical kinship matrix.  \n"
   ]
  },
  {
   "cell_type": "markdown",
   "metadata": {},
   "source": [
    "By default, `grm` exlcude SNPs with minor allele frequency below 0.01. This can be changed by the keyword argument `maf_threshold`."
   ]
  },
  {
   "cell_type": "code",
   "execution_count": 40,
   "metadata": {},
   "outputs": [
    {
     "data": {
      "text/plain": [
       "324×324 Array{Float64,2}:\n",
       " 0.571458   0.0464311  0.0199551  …  0.065172   0.0719459  0.0653116\n",
       " 0.0464311  0.544725   0.0282826     0.0512752  0.0449652  0.0631871\n",
       " 0.0199551  0.0282826  0.520116      0.046552   0.0305444  0.0366185\n",
       " 0.0485422  0.0370034  0.0294222     0.0600245  0.0658291  0.0599777\n",
       " 0.0527247  0.0428915  0.0250871     0.0716037  0.0587246  0.0657509\n",
       " 0.0449014  0.0324916  0.0392128  …  0.0705846  0.0570837  0.0653063\n",
       " 0.0395131  0.0224096  0.0118297     0.0444225  0.0383403  0.0372241\n",
       " 0.0414288  0.0385228  0.0216014     0.0578062  0.0549297  0.0663108\n",
       " 0.0302047  0.0311982  0.0167017     0.03367    0.04633    0.0380357\n",
       " 0.0391444  0.0420736  0.0262111     0.0667603  0.057535   0.048993 \n",
       " 0.0483412  0.0453938  0.0229784  …  0.0586796  0.0629187  0.0611821\n",
       " 0.0607361  0.0386021  0.0373459     0.0661212  0.0586743  0.0698014\n",
       " 0.036619   0.0441432  0.0266479     0.0574166  0.06993    0.0636137\n",
       " ⋮                                ⋱                                 \n",
       " 0.057858   0.0550421  0.0385672     0.0862127  0.0867892  0.0968649\n",
       " 0.0670946  0.051947   0.0329633     0.0918435  0.0803133  0.0861184\n",
       " 0.06812    0.056159   0.038998      0.0898582  0.0848113  0.0854561\n",
       " 0.0654276  0.0568588  0.0393993  …  0.0874573  0.0767071  0.089505 \n",
       " 0.063116   0.056254   0.0357547     0.0785316  0.073411   0.0817352\n",
       " 0.064895   0.0609217  0.0399485     0.0886267  0.0902875  0.0813491\n",
       " 0.0623362  0.0601209  0.0385246     0.0822759  0.0841088  0.0810898\n",
       " 0.0618955  0.0630099  0.0332965     0.0933279  0.0898342  0.0863454\n",
       " 0.066011   0.063046   0.0324327  …  0.0972288  0.0795694  0.0866725\n",
       " 0.065172   0.0512752  0.046552      0.603114   0.0821105  0.0903747\n",
       " 0.0719459  0.0449652  0.0305444     0.0821105  0.595455   0.0825498\n",
       " 0.0653116  0.0631871  0.0366185     0.0903747  0.0825498  0.582903 "
      ]
     },
     "execution_count": 40,
     "metadata": {},
     "output_type": "execute_result"
    }
   ],
   "source": [
    "# GRM using all SNPs with MAF ≥ 0.01. Same as\n",
    "# grm(hapmap; maf_threshold = 0.01)\n",
    "grm(hapmap)"
   ]
  },
  {
   "cell_type": "code",
   "execution_count": 41,
   "metadata": {},
   "outputs": [
    {
     "data": {
      "text/plain": [
       "324×324 Array{Float64,2}:\n",
       " 0.569655   0.0533259  0.0238227  …  0.0733238  0.0773046  0.0725078\n",
       " 0.0533259  0.543035   0.0292765     0.0565683  0.0502522  0.0689859\n",
       " 0.0238227  0.0292765  0.521168      0.0523316  0.0353608  0.0407409\n",
       " 0.0530866  0.0402229  0.0320051     0.0619395  0.072497   0.0651918\n",
       " 0.0558751  0.045637   0.0260024     0.0764646  0.0639329  0.0724448\n",
       " 0.0487862  0.0324028  0.0414961  …  0.075731   0.0607731  0.0646571\n",
       " 0.0425807  0.0259461  0.0158766     0.0469247  0.0383466  0.0437265\n",
       " 0.0445209  0.0415715  0.0246058     0.0574699  0.0568312  0.0665313\n",
       " 0.0313927  0.0335657  0.01984       0.0369867  0.0502879  0.0415424\n",
       " 0.0419546  0.0443697  0.02947       0.0709567  0.0633844  0.0528883\n",
       " 0.0547824  0.0481855  0.024218   …  0.0626619  0.0685641  0.0672536\n",
       " 0.0668034  0.0429604  0.0412379     0.0736168  0.0656362  0.0739072\n",
       " 0.0361395  0.0472199  0.0295056     0.0632602  0.0731142  0.0671983\n",
       " ⋮                                ⋱                                 \n",
       " 0.0604711  0.0578328  0.0430631     0.0922183  0.092174   0.105441 \n",
       " 0.0719807  0.0549142  0.0378689     0.0980107  0.0858935  0.0927524\n",
       " 0.0675168  0.0597127  0.0417714     0.0923096  0.0912273  0.0915402\n",
       " 0.0705962  0.0636391  0.0453237  …  0.0942765  0.0835207  0.093857 \n",
       " 0.0698496  0.0590258  0.0398921     0.0863023  0.081476   0.0898919\n",
       " 0.0695019  0.0642225  0.0446517     0.0941713  0.0955554  0.088804 \n",
       " 0.0672219  0.0627248  0.040251      0.0852741  0.0894345  0.0869601\n",
       " 0.069019   0.0682414  0.0396043     0.0996116  0.092133   0.0865049\n",
       " 0.0722643  0.0673632  0.0387407  …  0.106599   0.0842294  0.0901445\n",
       " 0.0733238  0.0565683  0.0523316     0.590262   0.0897775  0.0944278\n",
       " 0.0773046  0.0502522  0.0353608     0.0897775  0.587805   0.0880512\n",
       " 0.0725078  0.0689859  0.0407409     0.0944278  0.0880512  0.570448 "
      ]
     },
     "execution_count": 41,
     "metadata": {},
     "output_type": "execute_result"
    }
   ],
   "source": [
    "# GRM using all SNPs with MAF ≥ 0.05\n",
    "grm(hapmap; maf_threshold = 0.05)"
   ]
  },
  {
   "cell_type": "code",
   "execution_count": 42,
   "metadata": {},
   "outputs": [
    {
     "data": {
      "text/plain": [
       "324×324 Array{Float64,2}:\n",
       " 0.558675   0.0431596  0.0281906  …  0.0678361  0.0737569  0.0678428\n",
       " 0.0431596  0.557339   0.0288423     0.0584065  0.0460293  0.0559139\n",
       " 0.0281906  0.0288423  0.512262      0.0404619  0.0395088  0.047475 \n",
       " 0.0454521  0.0464444  0.0267929     0.0518465  0.0617595  0.0566491\n",
       " 0.0523056  0.0499494  0.0265126     0.0678693  0.0567765  0.0654963\n",
       " 0.0524025  0.0409955  0.0405314  …  0.0769924  0.0626306  0.0530175\n",
       " 0.0396371  0.0266048  0.0170996     0.0472069  0.0345508  0.0343661\n",
       " 0.0473392  0.0388329  0.0270152     0.059386   0.0558696  0.0688371\n",
       " 0.0266013  0.0237236  0.0193008     0.033394   0.043639   0.0361471\n",
       " 0.0320554  0.0396779  0.0241781     0.0599865  0.0410583  0.0504274\n",
       " 0.0491539  0.0504333  0.0210508  …  0.0629897  0.0652705  0.0533614\n",
       " 0.0620909  0.0497012  0.0414584     0.0667277  0.0650775  0.0609132\n",
       " 0.0250203  0.0432866  0.0219478     0.0547627  0.0687206  0.0634917\n",
       " ⋮                                ⋱                                 \n",
       " 0.0610989  0.0504615  0.0411155     0.0871821  0.0857404  0.102135 \n",
       " 0.0667531  0.0606607  0.03117       0.0898112  0.0760716  0.0812821\n",
       " 0.0695847  0.0541784  0.0394035     0.0848243  0.0817369  0.0958491\n",
       " 0.0656943  0.0586907  0.0406232  …  0.0935051  0.0763204  0.0827709\n",
       " 0.0639221  0.0619239  0.0409911     0.0730449  0.069307   0.087749 \n",
       " 0.0666386  0.0638029  0.0420165     0.0764784  0.0830993  0.0850801\n",
       " 0.0639109  0.0642512  0.0320533     0.0867362  0.0932944  0.0844009\n",
       " 0.0604671  0.0619833  0.0347137     0.09504    0.0918656  0.0838407\n",
       " 0.0766471  0.0665513  0.0397895  …  0.102109   0.0746396  0.0900517\n",
       " 0.0678361  0.0584065  0.0404619     0.573673   0.0698129  0.0958643\n",
       " 0.0737569  0.0460293  0.0395088     0.0698129  0.576771   0.0746628\n",
       " 0.0678428  0.0559139  0.047475      0.0958643  0.0746628  0.588228 "
      ]
     },
     "execution_count": 42,
     "metadata": {},
     "output_type": "execute_result"
    }
   ],
   "source": [
    "# GRM using every other SNP, with maf ≥ 0.01\n",
    "grm(view(hapmap, :, 1:2:snps))"
   ]
  },
  {
   "cell_type": "code",
   "execution_count": 43,
   "metadata": {},
   "outputs": [
    {
     "data": {
      "text/plain": [
       "324×324 Array{Float64,2}:\n",
       " 0.539321    0.0355051  0.00253189  …  0.0538235  0.0633964  0.0511053\n",
       " 0.0355051   0.518284   0.0147048      0.0423597  0.0397597  0.0508689\n",
       " 0.00253189  0.0147048  0.499257       0.0324323  0.0214412  0.0201412\n",
       " 0.0434234   0.0292413  0.0235685      0.0526417  0.0694237  0.0500416\n",
       " 0.0454325   0.0339687  0.0162412      0.0662328  0.057369   0.0568963\n",
       " 0.0317232   0.0204958  0.0262868   …  0.0592599  0.0500416  0.0492143\n",
       " 0.0249867   0.0113956  0.00359554     0.0317232  0.0310141  0.0252231\n",
       " 0.0261686   0.0285322  0.00974108     0.0384596  0.0463779  0.0469689\n",
       " 0.0217958   0.0266413  0.014823       0.0299504  0.0493325  0.0307777\n",
       " 0.0215594   0.0256958  0.0109229      0.0529962  0.0508689  0.0325505\n",
       " 0.0357414   0.0333778  0.00584102  …  0.0495689  0.056069   0.050278 \n",
       " 0.0473234   0.0321959  0.027114       0.0550053  0.0550053  0.0518144\n",
       " 0.031605    0.0425961  0.0254595      0.0587872  0.0706055  0.0580781\n",
       " ⋮                                  ⋱                                 \n",
       " 0.041887    0.0420052  0.0264049      0.0713146  0.0789966  0.0824239\n",
       " 0.0622145   0.0480325  0.027705       0.0917604  0.0792329  0.0836057\n",
       " 0.054769    0.0459052  0.0265231      0.0807693  0.0815966  0.0727328\n",
       " 0.0449597   0.0429506  0.0241595   …  0.0727328  0.0626873  0.070251 \n",
       " 0.0564235   0.052878   0.0291232      0.0772238  0.0707237  0.0742692\n",
       " 0.0533508   0.0551235  0.0313686      0.0794693  0.0865603  0.0719056\n",
       " 0.0519326   0.050278   0.0285322      0.0771056  0.0827784  0.0733238\n",
       " 0.0488598   0.0527598  0.0209685      0.0823057  0.0841966  0.0723783\n",
       " 0.0506325   0.047678   0.0217958   …  0.087624   0.0734419  0.068951 \n",
       " 0.0538235   0.0423597  0.0324323      0.561185   0.0811239  0.0763965\n",
       " 0.0633964   0.0397597  0.0214412      0.0811239  0.566858   0.0691873\n",
       " 0.0511053   0.0508689  0.0201412      0.0763965  0.0691873  0.533648 "
      ]
     },
     "execution_count": 43,
     "metadata": {},
     "output_type": "execute_result"
    }
   ],
   "source": [
    "# MoM using all SNPs with MAF ≥ 0.01\n",
    "grm(hapmap; method = :MoM)"
   ]
  },
  {
   "cell_type": "markdown",
   "metadata": {},
   "source": [
    "## Principal components \n",
    "\n",
    "Principal compoenent analysis is widely used in genome-wide association analysis (GWAS) for adjusting population substructure. `pca(A, pcs)` computes the top `pcs` principal components of a `SnpArray`. Each SNP is centered at $2\\text{MAF}$ and scaled by $[2\\text{MAF}(1-\\text{MAF})]^{-1/2}$. The output is  \n",
    "\n",
    "* `pcscore`: top `pcs` eigen-SNPs, or principal scores, in each column  \n",
    "* `pcloading`: top `pcs` eigen-vectors, or principal loadings, in each column  \n",
    "* `pcvariance`: top `pcs` eigen-values, or principal variances\n",
    "\n",
    "Missing genotypes are imputed according the minor allele frequencies on the fly. This implies that, in the presence of missing genotypes, running the function on the same `SnpArray` twice may produce slightly different answers. For reproducibility, it is a good practice to set the random seed before each function that does imputation on the fly."
   ]
  },
  {
   "cell_type": "code",
   "execution_count": 44,
   "metadata": {},
   "outputs": [
    {
     "data": {
      "text/plain": [
       "([-38.7231 -1.2983 -7.00541; -32.6096 -1.21052 -3.3232; … ; -48.9263 -2.06102 2.17374; -48.8627 0.274894 6.49518], [2.56616e-19 8.19569e-19 5.52006e-19; 0.00143962 -0.0042375 -0.00311816; … ; 0.00313326 -0.00427486 -0.0152038; -9.09523e-5 -0.00287777 0.0037855], [1841.4, 225.324, 70.7084])"
      ]
     },
     "execution_count": 44,
     "metadata": {},
     "output_type": "execute_result"
    }
   ],
   "source": [
    "srand(123) # set seed\n",
    "pcscore, pcloading, pcvariance = pca(hapmap, 3)"
   ]
  },
  {
   "cell_type": "markdown",
   "metadata": {},
   "source": [
    "To use eigen-SNPs for plotting or as covariates in GWAS, we typically scale them by their standard deviations so that they have mean zero and unit variance."
   ]
  },
  {
   "cell_type": "code",
   "execution_count": 45,
   "metadata": {},
   "outputs": [
    {
     "data": {
      "text/plain": [
       "1×3 Array{Float64,2}:\n",
       " 1.0  1.0  1.0"
      ]
     },
     "execution_count": 45,
     "metadata": {},
     "output_type": "execute_result"
    }
   ],
   "source": [
    "# standardize eigen-SNPs before plotting or GWAS\n",
    "scale!(pcscore, 1 ./ sqrt.(pcvariance))\n",
    "std(pcscore, 1)"
   ]
  },
  {
   "cell_type": "markdown",
   "metadata": {},
   "source": [
    "Internally `pca` converts `SnpArray` to the matrix of minor allele counts. The default format is `Matrix{Float64}`, which can easily exceed memory limit. Users have several options when the default `Matrix{Float64}` cannot fit into memory.  \n",
    "\n",
    "* Use other intermediate matrix types."
   ]
  },
  {
   "cell_type": "code",
   "execution_count": 46,
   "metadata": {},
   "outputs": [
    {
     "data": {
      "text/plain": [
       "3-element Array{Float32,1}:\n",
       " 1841.39  \n",
       "  225.324 \n",
       "   70.7084"
      ]
     },
     "execution_count": 46,
     "metadata": {},
     "output_type": "execute_result"
    }
   ],
   "source": [
    "# use single precision matrix and display the principal variances\n",
    "# approximately same answer as double precision\n",
    "srand(123)\n",
    "pca(hapmap, 3, Matrix{Float32})[3]"
   ]
  },
  {
   "cell_type": "markdown",
   "metadata": {
    "collapsed": true
   },
   "source": [
    "* Use subset of SNPs"
   ]
  },
  {
   "cell_type": "code",
   "execution_count": 47,
   "metadata": {},
   "outputs": [
    {
     "data": {
      "text/plain": [
       "3-element Array{Float64,1}:\n",
       " 926.622 \n",
       " 113.188 \n",
       "  36.4866"
      ]
     },
     "execution_count": 47,
     "metadata": {},
     "output_type": "execute_result"
    }
   ],
   "source": [
    "# principal components using every other SNP capture about half the variance\n",
    "srand(123)\n",
    "pca(view(hapmap, :, 1:2:snps), 3)[3]"
   ]
  },
  {
   "cell_type": "markdown",
   "metadata": {},
   "source": [
    "* Use sparse matrix. For large data sets with majority of rare variants, `pca_sp` is more efficient by first converting `SnpArray` to a sparse matrix (default is `SparseMatrixCSC{Float64, Int64}`) and then computing principal components using iterative algorithms. "
   ]
  },
  {
   "cell_type": "code",
   "execution_count": 48,
   "metadata": {},
   "outputs": [
    {
     "data": {
      "text/plain": [
       "3-element Array{Float32,1}:\n",
       " 1841.39  \n",
       "  225.324 \n",
       "   70.7084"
      ]
     },
     "execution_count": 48,
     "metadata": {},
     "output_type": "execute_result"
    }
   ],
   "source": [
    "# approximately same answer if we use Float16 sparse matrix\n",
    "srand(123)\n",
    "pca_sp(hapmap, 3, SparseMatrixCSC{Float32, UInt32})[3]"
   ]
  },
  {
   "cell_type": "markdown",
   "metadata": {},
   "source": [
    "## Linear algebra with SnpArray\n",
    "\n",
    "In some applications we want to perform linear algebra using SnpArray directly without expanding it to numeric matrix. The implementation assumes:  \n",
    "1. the SnpArray does not have missing genotypes, and  \n",
    "2. the matrix corresponding to SnpArray is the matrix of A2 allele counts."
   ]
  },
  {
   "cell_type": "code",
   "execution_count": 49,
   "metadata": {},
   "outputs": [
    {
     "data": {
      "text/plain": [
       "100×200 SnpArrays.SnpArray{2}:\n",
       " (false, false)  (false, false)  …  (false, false)  (false, false)\n",
       " (true, true)    (false, true)      (false, false)  (false, false)\n",
       " (false, true)   (false, true)      (true, true)    (false, true) \n",
       " (false, false)  (true, true)       (false, false)  (false, false)\n",
       " (true, true)    (false, true)      (true, true)    (false, true) \n",
       " (false, false)  (true, true)    …  (false, false)  (false, false)\n",
       " (true, true)    (false, true)      (false, false)  (false, true) \n",
       " (false, false)  (false, true)      (false, true)   (true, true)  \n",
       " (false, true)   (false, true)      (false, false)  (true, true)  \n",
       " (false, false)  (false, true)      (false, true)   (false, false)\n",
       " (false, true)   (false, true)   …  (true, true)    (false, false)\n",
       " (false, true)   (true, true)       (false, false)  (false, true) \n",
       " (false, false)  (false, false)     (true, true)    (false, true) \n",
       " ⋮                               ⋱                                \n",
       " (false, true)   (false, false)     (true, true)    (false, false)\n",
       " (true, true)    (false, false)     (false, true)   (true, true)  \n",
       " (false, false)  (false, true)   …  (true, true)    (false, false)\n",
       " (false, true)   (false, true)      (false, true)   (true, true)  \n",
       " (false, false)  (false, false)     (false, true)   (false, true) \n",
       " (false, true)   (false, true)      (false, true)   (false, true) \n",
       " (false, false)  (true, true)       (true, true)    (false, false)\n",
       " (true, true)    (true, true)    …  (false, true)   (false, true) \n",
       " (false, true)   (false, false)     (false, true)   (true, true)  \n",
       " (false, true)   (false, false)     (false, false)  (false, true) \n",
       " (true, true)    (false, false)     (false, false)  (true, true)  \n",
       " (false, false)  (false, true)      (false, true)   (false, false)"
      ]
     },
     "execution_count": 49,
     "metadata": {},
     "output_type": "execute_result"
    }
   ],
   "source": [
    "# generate a random SnpArray according to A2 allele counts\n",
    "n, p = 100, 200\n",
    "S = SnpArray(rand(0:2, n, p))"
   ]
  },
  {
   "cell_type": "markdown",
   "metadata": {},
   "source": [
    "* (snparray)-vector multiplications"
   ]
  },
  {
   "cell_type": "code",
   "execution_count": 50,
   "metadata": {},
   "outputs": [
    {
     "data": {
      "text/plain": [
       "100-element Array{Float64,1}:\n",
       " 30.615   \n",
       " -7.4687  \n",
       " 23.0195  \n",
       "  0.817897\n",
       " 11.5828  \n",
       " 18.367   \n",
       "  2.00545 \n",
       " 23.3611  \n",
       " 17.7711  \n",
       " 15.1654  \n",
       " 12.0407  \n",
       " 16.3625  \n",
       " 10.5148  \n",
       "  ⋮       \n",
       " 18.9264  \n",
       " 18.157   \n",
       " 31.7193  \n",
       " 23.6554  \n",
       " 15.2196  \n",
       " 25.8444  \n",
       " 12.3667  \n",
       " 12.3029  \n",
       " 22.1251  \n",
       "  5.91216 \n",
       " 24.2695  \n",
       " 15.3415  "
      ]
     },
     "execution_count": 50,
     "metadata": {},
     "output_type": "execute_result"
    }
   ],
   "source": [
    "S * randn(p)"
   ]
  },
  {
   "cell_type": "code",
   "execution_count": 51,
   "metadata": {},
   "outputs": [
    {
     "data": {
      "text/plain": [
       "200-element Array{Float64,1}:\n",
       " 23.6847 \n",
       "  4.66243\n",
       "  4.61544\n",
       "  2.69455\n",
       " 22.525  \n",
       "  9.71594\n",
       " 21.4546 \n",
       " 14.8832 \n",
       " 21.4642 \n",
       "  8.61231\n",
       " 29.6248 \n",
       " 14.1352 \n",
       "  9.6956 \n",
       "  ⋮      \n",
       " 11.3634 \n",
       " 14.6797 \n",
       " 15.4163 \n",
       "  6.77538\n",
       " 27.3312 \n",
       " 17.3787 \n",
       " 26.6867 \n",
       " 10.2509 \n",
       " 15.9798 \n",
       " 25.6015 \n",
       " 16.2479 \n",
       "  8.16274"
      ]
     },
     "execution_count": 51,
     "metadata": {},
     "output_type": "execute_result"
    }
   ],
   "source": [
    "S.' * randn(n)"
   ]
  },
  {
   "cell_type": "markdown",
   "metadata": {},
   "source": [
    "* (snparray)-matrix or matrix-(snparray) multiplications"
   ]
  },
  {
   "cell_type": "code",
   "execution_count": 52,
   "metadata": {},
   "outputs": [
    {
     "data": {
      "text/plain": [
       "100×3 Array{Float64,2}:\n",
       "  -1.60062   -10.8268      5.49057 \n",
       "  -9.34748     6.34819     2.06767 \n",
       "   4.05002     0.325131    4.77423 \n",
       "   2.9358      8.0825     -0.397737\n",
       "  -5.35414   -21.3731     -1.43909 \n",
       "  26.4514     -3.9009      4.35974 \n",
       "   8.90361    -6.01847    11.1584  \n",
       "   2.85343     0.083285    9.52995 \n",
       "   2.49824    -9.35725    -3.95109 \n",
       "  -0.562102  -10.0496     16.7451  \n",
       "   8.27958     3.54241     2.29453 \n",
       "  20.7223     -7.09494   -10.1341  \n",
       " -12.3776     -1.14019     9.97014 \n",
       "   ⋮                               \n",
       "  11.6659      5.81297   -35.0418  \n",
       "  -6.66734   -11.7336     27.3868  \n",
       "   2.32574    19.9981     22.9892  \n",
       "  33.9357     -5.73126    14.894   \n",
       "   0.826793   -2.0143     11.4629  \n",
       "   3.18468    -6.91367     2.78527 \n",
       "   5.86711     3.62248    -7.05016 \n",
       "   8.42888   -16.9377     -1.87953 \n",
       "  -7.8737    -10.6408      2.33838 \n",
       "  -8.03682    -0.736084   10.3781  \n",
       "   9.1461      8.01083    10.4097  \n",
       "   8.92717    -5.15705     9.71163 "
      ]
     },
     "execution_count": 52,
     "metadata": {},
     "output_type": "execute_result"
    }
   ],
   "source": [
    "S * randn(p, 3)"
   ]
  },
  {
   "cell_type": "code",
   "execution_count": 53,
   "metadata": {},
   "outputs": [
    {
     "data": {
      "text/plain": [
       "200×3 Array{Float64,2}:\n",
       " -10.6349    -19.693    -13.2774  \n",
       "  -0.526305  -21.8054   -17.4738  \n",
       "  -9.04862    -8.15163  -25.224   \n",
       "  -3.3977    -13.7849   -16.0947  \n",
       " -10.4237    -14.0344   -14.4495  \n",
       "   6.00368   -24.9057   -20.0696  \n",
       "  -6.00073   -18.1709   -36.9535  \n",
       "  -6.71766   -20.1876   -25.332   \n",
       " -13.1678    -22.5888   -14.3297  \n",
       "   2.01221    -2.28132  -35.2057  \n",
       "  -5.33609    -4.39915  -24.1266  \n",
       "  -5.07446   -19.7707    -2.23233 \n",
       " -13.4401    -22.1923    -0.959362\n",
       "   ⋮                              \n",
       " -12.2891     -9.20109   -4.10673 \n",
       "  10.428     -13.5418   -28.1259  \n",
       " -15.5509    -23.4182   -17.6246  \n",
       "  -2.16756   -33.9645    -7.70753 \n",
       " -27.8904     -4.51243  -10.2176  \n",
       " -12.3735    -29.4709   -23.3459  \n",
       " -11.7062     -9.69129  -32.2018  \n",
       "  -9.16911   -29.8954   -10.581   \n",
       "  -6.58973   -38.5497   -11.1196  \n",
       " -16.7095    -24.4645   -21.6888  \n",
       "  -4.09502   -22.2393   -10.9904  \n",
       "  -7.70413   -19.7018   -10.8812  "
      ]
     },
     "execution_count": 53,
     "metadata": {},
     "output_type": "execute_result"
    }
   ],
   "source": [
    "S.' * randn(n, 3)"
   ]
  },
  {
   "cell_type": "code",
   "execution_count": 54,
   "metadata": {},
   "outputs": [
    {
     "data": {
      "text/plain": [
       "3×200 Array{Any,2}:\n",
       " 25.8644    11.7117   3.94609  -9.07055  …  7.97652   9.36757   9.80563\n",
       "  6.44405    9.15611  5.61898  17.9318      8.86161  18.4627   23.2194 \n",
       " -7.09806  -13.1394   5.01518  -1.44749     1.2617   13.6327   -2.06252"
      ]
     },
     "execution_count": 54,
     "metadata": {},
     "output_type": "execute_result"
    }
   ],
   "source": [
    "randn(3, n) * S"
   ]
  },
  {
   "cell_type": "markdown",
   "metadata": {},
   "source": [
    "The in-place version of matrix-(vector/matrix) multiplication functions are also available: `A_mul_B!`, `At_mul_Bt!`, `A_mul_Bt!`, `At_mul_B!`, `Ac_mul_B!`, `A_mul_Bc!`, `Ac_mul_Bc!`."
   ]
  },
  {
   "cell_type": "code",
   "execution_count": 55,
   "metadata": {},
   "outputs": [
    {
     "data": {
      "text/plain": [
       "100-element Array{Float64,1}:\n",
       " 26.6472 \n",
       " 29.4652 \n",
       " 26.6715 \n",
       " 20.8541 \n",
       " 24.1833 \n",
       " 24.5305 \n",
       " 26.5941 \n",
       " 27.9289 \n",
       " 35.232  \n",
       " 33.375  \n",
       " 21.6101 \n",
       "  8.81546\n",
       " 11.4446 \n",
       "  ⋮      \n",
       " 20.4184 \n",
       " 20.4023 \n",
       " -3.50685\n",
       " 25.4039 \n",
       " 24.7287 \n",
       " 24.0314 \n",
       " 23.5559 \n",
       " 25.1384 \n",
       " 29.4094 \n",
       " 15.9748 \n",
       " 27.7337 \n",
       " 25.8975 "
      ]
     },
     "execution_count": 55,
     "metadata": {},
     "output_type": "execute_result"
    }
   ],
   "source": [
    "o, v = zeros(n), randn(p)\n",
    "# the last optional argument is working parameter, which can preallocated to increase performance\n",
    "A_mul_B!(o, S, v, similar(o))"
   ]
  }
 ],
 "metadata": {
  "kernelspec": {
   "display_name": "Julia 0.6.4",
   "language": "julia",
   "name": "julia-0.6"
  },
  "language_info": {
   "file_extension": ".jl",
   "mimetype": "application/julia",
   "name": "julia",
   "version": "0.6.4"
  },
  "toc": {
   "colors": {
    "hover_highlight": "#DAA520",
    "running_highlight": "#FF0000",
    "selected_highlight": "#FFD700"
   },
   "moveMenuLeft": true,
   "nav_menu": {
    "height": "192px",
    "width": "252px"
   },
   "navigate_menu": true,
   "number_sections": true,
   "sideBar": true,
   "threshold": 4,
   "toc_cell": false,
   "toc_section_display": "block",
   "toc_window_display": true,
   "widenNotebook": false
  }
 },
 "nbformat": 4,
 "nbformat_minor": 1
}
