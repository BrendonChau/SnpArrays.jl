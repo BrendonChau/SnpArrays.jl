{
 "cells": [
  {
   "cell_type": "markdown",
   "metadata": {},
   "source": [
    "# SnpArray"
   ]
  },
  {
   "cell_type": "markdown",
   "metadata": {},
   "source": [
    "`SnpArray` is an array of `Tuple{Bool,Bool}` and adopts the same coding as the [Plink binary format](http://zzz.bwh.harvard.edu/plink/binary.shtml). If `A1` and `A2` are the two alleles, the coding rule is  \n",
    "\n",
    "| Genotype | SnpArray |  \n",
    "|:---:|:---:|  \n",
    "| A1,A1 | (false,false) |  \n",
    "| A1,A2 | (false,true) |  \n",
    "| A2,A2 | (true,true) |  \n",
    "| missing | (true,false) |  \n",
    "\n",
    "The code `(true,false)` is reserved for missing genotype. Otherwise, the bit `true` represents one copy of allele `A2`. In a two-dimensional `SnpArray`, each row is a person and each column is a SNP.\n",
    "\n",
    "For complete genotype data, for example, after imputation, consider using the [HaplotypeArray](@ref) type."
   ]
  },
  {
   "cell_type": "markdown",
   "metadata": {},
   "source": [
    "## Constructor\n",
    "\n",
    "There are various ways to initialize a `SnpArray`.  \n",
    "\n",
    "* `SnpArray` can be initialized from [Plink binary files](http://zzz.bwh.harvard.edu/plink/binary.shtml), say the sample data set hapmap3:"
   ]
  },
  {
   "cell_type": "code",
   "execution_count": 49,
   "metadata": {},
   "outputs": [
    {
     "name": "stdout",
     "output_type": "stream",
     "text": [
      "-rw-r--r--  1 huazhou  staff  1128171 Jun 19 14:43 hapmap3.bed\n",
      "-rw-r--r--  1 huazhou  staff   388672 Jun 19 14:43 hapmap3.bim\n",
      "-rw-r--r--  1 huazhou  staff     7136 Jun 19 14:43 hapmap3.fam\n",
      "-rw-r--r--  1 huazhou  staff   332960 Jun 19 14:43 hapmap3.map\n"
     ]
    }
   ],
   "source": [
    ";ls -al \"hapmap3.*\""
   ]
  },
  {
   "cell_type": "code",
   "execution_count": 50,
   "metadata": {},
   "outputs": [
    {
     "data": {
      "text/plain": [
       "324×13928 SnpArrays.SnpArray{2}:\n",
       " (true, true)  (true, true)   (false, false)  …  (true, true)   (true, true)\n",
       " (true, true)  (false, true)  (false, true)      (false, true)  (true, true)\n",
       " (true, true)  (true, true)   (false, true)      (true, true)   (true, true)\n",
       " (true, true)  (true, true)   (false, true)      (true, true)   (true, true)\n",
       " (true, true)  (true, true)   (false, true)      (true, true)   (true, true)\n",
       " (true, true)  (false, true)  (true, true)    …  (true, true)   (true, true)\n",
       " (true, true)  (true, true)   (true, true)       (true, true)   (true, true)\n",
       " (true, true)  (true, true)   (false, false)     (true, true)   (true, true)\n",
       " (true, true)  (true, true)   (false, true)      (true, true)   (true, true)\n",
       " (true, true)  (true, true)   (false, true)      (true, true)   (true, true)\n",
       " (true, true)  (true, true)   (false, true)   …  (true, true)   (true, true)\n",
       " (true, true)  (true, true)   (true, true)       (true, true)   (true, true)\n",
       " (true, true)  (true, true)   (false, false)     (true, true)   (true, true)\n",
       " ⋮                                            ⋱                             \n",
       " (true, true)  (true, true)   (false, true)      (true, true)   (true, true)\n",
       " (true, true)  (true, true)   (false, false)     (true, true)   (true, true)\n",
       " (true, true)  (true, true)   (false, false)     (true, true)   (true, true)\n",
       " (true, true)  (true, true)   (false, false)  …  (true, true)   (true, true)\n",
       " (true, true)  (true, true)   (false, true)      (true, true)   (true, true)\n",
       " (true, true)  (true, true)   (true, true)       (true, true)   (true, true)\n",
       " (true, true)  (true, true)   (false, true)      (true, true)   (true, true)\n",
       " (true, true)  (true, true)   (false, true)      (true, true)   (true, true)\n",
       " (true, true)  (true, true)   (false, false)  …  (true, true)   (true, true)\n",
       " (true, true)  (true, true)   (false, true)      (true, true)   (true, true)\n",
       " (true, true)  (true, true)   (false, false)     (true, true)   (true, true)\n",
       " (true, true)  (true, true)   (false, false)     (true, true)   (true, true)"
      ]
     },
     "execution_count": 50,
     "metadata": {},
     "output_type": "execute_result"
    }
   ],
   "source": [
    "using SnpArrays\n",
    "hapmap = SnpArray(\"hapmap3\")"
   ]
  },
  {
   "cell_type": "markdown",
   "metadata": {},
   "source": [
    "By default, the constructor figures out the number of individuals and SNPs from the `.bim` and `.fam` files."
   ]
  },
  {
   "cell_type": "code",
   "execution_count": 51,
   "metadata": {},
   "outputs": [
    {
     "data": {
      "text/plain": [
       "(324, 13928)"
      ]
     },
     "execution_count": 51,
     "metadata": {},
     "output_type": "execute_result"
    }
   ],
   "source": [
    "# rows are people; columns are SNPs\n",
    "people, snps = size(hapmap)"
   ]
  },
  {
   "cell_type": "markdown",
   "metadata": {},
   "source": [
    "Alternatively, users can supply keyword arguments `people` and `snps` to the constructor. In this case only the `.bed` file needs to be present."
   ]
  },
  {
   "cell_type": "code",
   "execution_count": 52,
   "metadata": {},
   "outputs": [
    {
     "data": {
      "text/plain": [
       "324×13928 SnpArrays.SnpArray{2}:\n",
       " (true, true)  (true, true)   (false, false)  …  (true, true)   (true, true)\n",
       " (true, true)  (false, true)  (false, true)      (false, true)  (true, true)\n",
       " (true, true)  (true, true)   (false, true)      (true, true)   (true, true)\n",
       " (true, true)  (true, true)   (false, true)      (true, true)   (true, true)\n",
       " (true, true)  (true, true)   (false, true)      (true, true)   (true, true)\n",
       " (true, true)  (false, true)  (true, true)    …  (true, true)   (true, true)\n",
       " (true, true)  (true, true)   (true, true)       (true, true)   (true, true)\n",
       " (true, true)  (true, true)   (false, false)     (true, true)   (true, true)\n",
       " (true, true)  (true, true)   (false, true)      (true, true)   (true, true)\n",
       " (true, true)  (true, true)   (false, true)      (true, true)   (true, true)\n",
       " (true, true)  (true, true)   (false, true)   …  (true, true)   (true, true)\n",
       " (true, true)  (true, true)   (true, true)       (true, true)   (true, true)\n",
       " (true, true)  (true, true)   (false, false)     (true, true)   (true, true)\n",
       " ⋮                                            ⋱                             \n",
       " (true, true)  (true, true)   (false, true)      (true, true)   (true, true)\n",
       " (true, true)  (true, true)   (false, false)     (true, true)   (true, true)\n",
       " (true, true)  (true, true)   (false, false)     (true, true)   (true, true)\n",
       " (true, true)  (true, true)   (false, false)  …  (true, true)   (true, true)\n",
       " (true, true)  (true, true)   (false, true)      (true, true)   (true, true)\n",
       " (true, true)  (true, true)   (true, true)       (true, true)   (true, true)\n",
       " (true, true)  (true, true)   (false, true)      (true, true)   (true, true)\n",
       " (true, true)  (true, true)   (false, true)      (true, true)   (true, true)\n",
       " (true, true)  (true, true)   (false, false)  …  (true, true)   (true, true)\n",
       " (true, true)  (true, true)   (false, true)      (true, true)   (true, true)\n",
       " (true, true)  (true, true)   (false, false)     (true, true)   (true, true)\n",
       " (true, true)  (true, true)   (false, false)     (true, true)   (true, true)"
      ]
     },
     "execution_count": 52,
     "metadata": {},
     "output_type": "execute_result"
    }
   ],
   "source": [
    "hapmap = SnpArray(\"hapmap3\"; people = 324, snps = 13928)"
   ]
  },
  {
   "cell_type": "markdown",
   "metadata": {},
   "source": [
    "Internally `SnpArray` stores data as `BitArray`s and consumes approximately the same amount of memory as the Plink `bed` file size."
   ]
  },
  {
   "cell_type": "code",
   "execution_count": 53,
   "metadata": {},
   "outputs": [
    {
     "data": {
      "text/plain": [
       "(1128256, 1128171)"
      ]
     },
     "execution_count": 53,
     "metadata": {},
     "output_type": "execute_result"
    }
   ],
   "source": [
    "# memory usage, bed file size\n",
    "Base.summarysize(hapmap), filesize(\"hapmap3.bed\")"
   ]
  },
  {
   "cell_type": "markdown",
   "metadata": {},
   "source": [
    "* `SnpArray` can be initialized from a matrix of A1 allele counts."
   ]
  },
  {
   "cell_type": "code",
   "execution_count": 54,
   "metadata": {},
   "outputs": [
    {
     "data": {
      "text/plain": [
       "5×3 SnpArrays.SnpArray{2}:\n",
       " (false, false)  (false, false)  (false, true) \n",
       " (true, true)    (true, true)    (false, true) \n",
       " (false, true)   (false, false)  (false, false)\n",
       " (false, false)  (false, true)   (false, true) \n",
       " (true, true)    (false, false)  (false, true) "
      ]
     },
     "execution_count": 54,
     "metadata": {},
     "output_type": "execute_result"
    }
   ],
   "source": [
    "SnpArray(rand(0:2, 5, 3))"
   ]
  },
  {
   "cell_type": "markdown",
   "metadata": {},
   "source": [
    "* `SnpArray(m, n)` generates an m by n `SnpArray` of all A1 alleles."
   ]
  },
  {
   "cell_type": "code",
   "execution_count": 55,
   "metadata": {},
   "outputs": [
    {
     "data": {
      "text/plain": [
       "5×3 SnpArrays.SnpArray{2}:\n",
       " (false, false)  (false, false)  (false, false)\n",
       " (false, false)  (false, false)  (false, false)\n",
       " (false, false)  (false, false)  (false, false)\n",
       " (false, false)  (false, false)  (false, false)\n",
       " (false, false)  (false, false)  (false, false)"
      ]
     },
     "execution_count": 55,
     "metadata": {},
     "output_type": "execute_result"
    }
   ],
   "source": [
    "s = SnpArray(5, 3)"
   ]
  },
  {
   "cell_type": "markdown",
   "metadata": {},
   "source": [
    "## Summary statistics\n",
    "\n",
    "`summarize` function computes the following summary statistics of a `SnpArray`:  \n",
    "\n",
    "* `maf`: minor allele frequencies, taking into account of missingness.  \n",
    "* `minor_allele`: a `BitVector` indicating the minor allele for each SNP.   `minor_allele[j]==true` means A1 is the minor allele for SNP j; `minor_allele[j]==false` means A2 is the minor allele for SNP j.  \n",
    "* `missings_by_snp`: number of missing genotypes for each snp.  \n",
    "* `missings_by_person`: number of missing genotypes for each person.  "
   ]
  },
  {
   "cell_type": "code",
   "execution_count": 56,
   "metadata": {},
   "outputs": [
    {
     "data": {
      "text/plain": [
       "1×13928 RowVector{Float64,Array{Float64,1}}:\n",
       " 0.0  0.0776398  0.324074  0.191589  …  0.00154321  0.0417957  0.00617284"
      ]
     },
     "execution_count": 56,
     "metadata": {},
     "output_type": "execute_result"
    }
   ],
   "source": [
    "maf, minor_allele, missings_by_snp, missings_by_person = summarize(hapmap)\n",
    "# minor allele frequencies\n",
    "maf'"
   ]
  },
  {
   "cell_type": "code",
   "execution_count": 57,
   "metadata": {},
   "outputs": [
    {
     "data": {
      "text/plain": [
       "(11894, 11894)"
      ]
     },
     "execution_count": 57,
     "metadata": {},
     "output_type": "execute_result"
    }
   ],
   "source": [
    "# total number of missing genotypes\n",
    "sum(missings_by_snp), sum(missings_by_person)"
   ]
  },
  {
   "cell_type": "code",
   "execution_count": 58,
   "metadata": {},
   "outputs": [
    {
     "data": {
      "text/plain": [
       "0.0026356890108565393"
      ]
     },
     "execution_count": 58,
     "metadata": {},
     "output_type": "execute_result"
    }
   ],
   "source": [
    "# proportion of missing genotypes\n",
    "sum(missings_by_snp) / length(hapmap)"
   ]
  },
  {
   "cell_type": "markdown",
   "metadata": {},
   "source": [
    "## Filtering"
   ]
  },
  {
   "cell_type": "markdown",
   "metadata": {},
   "source": [
    "In almost all analyses, SNPs and individuals with low genotyping success rates are ignored. This filtering step is an important tool for removing likely false positives from association testing, as genotyping failure often occurs preferentially in cases or controls, or is correlated with the quantitative trait. `filter(s, min_success_rate_per_snp, min_success_rate_per_person)` does filtering according to the specified success rates for SNPs and people. Default is 0.98 for both."
   ]
  },
  {
   "cell_type": "code",
   "execution_count": 59,
   "metadata": {
    "collapsed": true
   },
   "outputs": [],
   "source": [
    "# filtering SNPs and people to have both success rates above 0.98\n",
    "snp_idx, person_idx = filter(hapmap, 0.98, 0.98)\n",
    "# summary statistics of the filtered SnpArray\n",
    "_, _, missings_by_snp_filtered, missings_by_person_filtered = summarize(hapmap[person_idx, snp_idx]);"
   ]
  },
  {
   "cell_type": "code",
   "execution_count": 60,
   "metadata": {},
   "outputs": [
    {
     "data": {
      "text/plain": [
       "0.9813084112149533"
      ]
     },
     "execution_count": 60,
     "metadata": {},
     "output_type": "execute_result"
    }
   ],
   "source": [
    "# minimum SNP genotyping success rate after filtering ≥ 0.98\n",
    "1.0 - maximum(missings_by_snp_filtered) / length(missings_by_person_filtered)"
   ]
  },
  {
   "cell_type": "code",
   "execution_count": 61,
   "metadata": {},
   "outputs": [
    {
     "data": {
      "text/plain": [
       "0.9818511796733213"
      ]
     },
     "execution_count": 61,
     "metadata": {},
     "output_type": "execute_result"
    }
   ],
   "source": [
    "# minimum person genotyping success rate after filtering ≥ 0.98\n",
    "1.0 - maximum(missings_by_person_filtered) / length(missings_by_snp_filtered)"
   ]
  },
  {
   "cell_type": "markdown",
   "metadata": {},
   "source": [
    "## Random genotypes generation\n",
    "\n",
    "`randgeno(a1freq)` generates a random genotype according to A1 allele frequency `a1freq`."
   ]
  },
  {
   "cell_type": "code",
   "execution_count": 62,
   "metadata": {},
   "outputs": [
    {
     "data": {
      "text/plain": [
       "(false, true)"
      ]
     },
     "execution_count": 62,
     "metadata": {},
     "output_type": "execute_result"
    }
   ],
   "source": [
    "randgeno(0.5)"
   ]
  },
  {
   "cell_type": "markdown",
   "metadata": {},
   "source": [
    "`randgeno(maf, minor_allele)` generates a random genotype according to minor allele frequency `maf` and whether the minor allele is A1 (`minor_allele==true`) or A2 (`minor_allele==false`)."
   ]
  },
  {
   "cell_type": "code",
   "execution_count": 63,
   "metadata": {},
   "outputs": [
    {
     "data": {
      "text/plain": [
       "(true, true)"
      ]
     },
     "execution_count": 63,
     "metadata": {},
     "output_type": "execute_result"
    }
   ],
   "source": [
    "randgeno(0.25, true)"
   ]
  },
  {
   "cell_type": "markdown",
   "metadata": {},
   "source": [
    "`randgeno(n, maf, minor_allele)` generates a vector of random genotypes according to a common minor allele frequency `maf` and the minor allele."
   ]
  },
  {
   "cell_type": "code",
   "execution_count": 64,
   "metadata": {},
   "outputs": [
    {
     "data": {
      "text/plain": [
       "10-element SnpArrays.SnpArray{1}:\n",
       " (false, true)\n",
       " (true, true) \n",
       " (true, true) \n",
       " (false, true)\n",
       " (false, true)\n",
       " (false, true)\n",
       " (false, true)\n",
       " (true, true) \n",
       " (false, true)\n",
       " (true, true) "
      ]
     },
     "execution_count": 64,
     "metadata": {},
     "output_type": "execute_result"
    }
   ],
   "source": [
    "randgeno(10, 0.25, true)"
   ]
  },
  {
   "cell_type": "markdown",
   "metadata": {},
   "source": [
    "`randgeno(m, n, maf, minor_allele)` generates a random $m$-by-$n$ `SnpArray` according to a vector of minor allele frequencies `maf` and a minor allele indicator vector. The lengths of both vectors should be `n`."
   ]
  },
  {
   "cell_type": "code",
   "execution_count": 65,
   "metadata": {},
   "outputs": [
    {
     "data": {
      "text/plain": [
       "324×13928 SnpArrays.SnpArray{2}:\n",
       " (true, true)  (true, true)   (true, true)    …  (true, true)   (true, true)\n",
       " (true, true)  (false, true)  (true, true)       (false, true)  (true, true)\n",
       " (true, true)  (true, true)   (true, true)       (true, true)   (true, true)\n",
       " (true, true)  (true, true)   (true, true)       (true, true)   (true, true)\n",
       " (true, true)  (false, true)  (true, true)       (true, true)   (true, true)\n",
       " (true, true)  (true, true)   (true, true)    …  (true, true)   (true, true)\n",
       " (true, true)  (true, true)   (true, true)       (true, true)   (true, true)\n",
       " (true, true)  (true, true)   (false, true)      (true, true)   (true, true)\n",
       " (true, true)  (false, true)  (true, true)       (true, true)   (true, true)\n",
       " (true, true)  (true, true)   (true, true)       (true, true)   (true, true)\n",
       " (true, true)  (true, true)   (false, true)   …  (true, true)   (true, true)\n",
       " (true, true)  (true, true)   (false, true)      (true, true)   (true, true)\n",
       " (true, true)  (false, true)  (true, true)       (true, true)   (true, true)\n",
       " ⋮                                            ⋱                             \n",
       " (true, true)  (true, true)   (true, true)       (true, true)   (true, true)\n",
       " (true, true)  (true, true)   (false, true)      (true, true)   (true, true)\n",
       " (true, true)  (false, true)  (true, true)       (true, true)   (true, true)\n",
       " (true, true)  (true, true)   (true, true)    …  (true, true)   (true, true)\n",
       " (true, true)  (true, true)   (false, true)      (false, true)  (true, true)\n",
       " (true, true)  (true, true)   (true, true)       (true, true)   (true, true)\n",
       " (true, true)  (true, true)   (false, false)     (true, true)   (true, true)\n",
       " (true, true)  (true, true)   (false, true)      (true, true)   (true, true)\n",
       " (true, true)  (true, true)   (true, true)    …  (true, true)   (true, true)\n",
       " (true, true)  (true, true)   (true, true)       (true, true)   (true, true)\n",
       " (true, true)  (true, true)   (true, true)       (true, true)   (true, true)\n",
       " (true, true)  (true, true)   (true, true)       (true, true)   (true, true)"
      ]
     },
     "execution_count": 65,
     "metadata": {},
     "output_type": "execute_result"
    }
   ],
   "source": [
    "# this is a random replicate of the hapmap data\n",
    "randgeno(size(hapmap), maf, minor_allele)"
   ]
  },
  {
   "cell_type": "markdown",
   "metadata": {},
   "source": [
    "## Subsetting\n",
    "\n",
    "Subsetting a `SnpArray` works the same way as subsetting any other arrays."
   ]
  },
  {
   "cell_type": "code",
   "execution_count": 66,
   "metadata": {},
   "outputs": [
    {
     "data": {
      "text/plain": [
       "13928-element SnpArrays.SnpArray{1}:\n",
       " (true, true)  \n",
       " (true, true)  \n",
       " (false, false)\n",
       " (true, true)  \n",
       " (true, true)  \n",
       " (true, true)  \n",
       " (false, true) \n",
       " (false, true) \n",
       " (true, true)  \n",
       " (false, true) \n",
       " (true, true)  \n",
       " (true, true)  \n",
       " (false, false)\n",
       " ⋮             \n",
       " (false, true) \n",
       " (false, true) \n",
       " (true, true)  \n",
       " (false, true) \n",
       " (false, true) \n",
       " (false, true) \n",
       " (false, true) \n",
       " (false, true) \n",
       " (false, true) \n",
       " (true, true)  \n",
       " (true, true)  \n",
       " (true, true)  "
      ]
     },
     "execution_count": 66,
     "metadata": {},
     "output_type": "execute_result"
    }
   ],
   "source": [
    "# genotypes of the 1st person\n",
    "hapmap[1, :]"
   ]
  },
  {
   "cell_type": "code",
   "execution_count": 67,
   "metadata": {},
   "outputs": [
    {
     "data": {
      "text/plain": [
       "324-element SnpArrays.SnpArray{1}:\n",
       " (true, true)  \n",
       " (true, true)  \n",
       " (false, true) \n",
       " (false, true) \n",
       " (true, true)  \n",
       " (false, false)\n",
       " (false, false)\n",
       " (true, true)  \n",
       " (true, true)  \n",
       " (true, true)  \n",
       " (true, true)  \n",
       " (true, true)  \n",
       " (false, true) \n",
       " ⋮             \n",
       " (false, false)\n",
       " (true, true)  \n",
       " (false, true) \n",
       " (true, true)  \n",
       " (true, true)  \n",
       " (true, true)  \n",
       " (true, true)  \n",
       " (true, true)  \n",
       " (false, true) \n",
       " (true, true)  \n",
       " (true, true)  \n",
       " (true, true)  "
      ]
     },
     "execution_count": 67,
     "metadata": {},
     "output_type": "execute_result"
    }
   ],
   "source": [
    "# genotypes of the 5th SNP\n",
    "hapmap[:, 5]"
   ]
  },
  {
   "cell_type": "code",
   "execution_count": 68,
   "metadata": {},
   "outputs": [
    {
     "data": {
      "text/plain": [
       "5×6 SnpArrays.SnpArray{2}:\n",
       " (true, true)   (true, true)  (false, true)  …  (true, true)   (false, true)\n",
       " (true, true)   (true, true)  (true, true)      (true, true)   (false, true)\n",
       " (false, true)  (true, true)  (true, true)      (false, true)  (true, true) \n",
       " (false, true)  (true, true)  (true, true)      (true, true)   (false, true)\n",
       " (true, true)   (true, true)  (true, true)      (true, true)   (false, true)"
      ]
     },
     "execution_count": 68,
     "metadata": {},
     "output_type": "execute_result"
    }
   ],
   "source": [
    "# subsetting both persons and SNPs\n",
    "hapmap[1:5, 5:10]"
   ]
  },
  {
   "cell_type": "code",
   "execution_count": 69,
   "metadata": {},
   "outputs": [
    {
     "data": {
      "text/plain": [
       "324×12085 SnpArrays.SnpArray{2}:\n",
       " (true, true)   (false, false)  …  (false, true)  (false, true)\n",
       " (false, true)  (false, true)      (true, true)   (true, true) \n",
       " (true, true)   (false, true)      (true, true)   (true, true) \n",
       " (true, true)   (false, true)      (false, true)  (false, true)\n",
       " (true, true)   (false, true)      (true, true)   (true, true) \n",
       " (false, true)  (true, true)    …  (false, true)  (false, true)\n",
       " (true, true)   (true, true)       (true, true)   (true, true) \n",
       " (true, true)   (false, false)     (true, true)   (true, true) \n",
       " (true, true)   (false, true)      (true, true)   (true, true) \n",
       " (true, true)   (false, true)      (false, true)  (false, true)\n",
       " (true, true)   (false, true)   …  (true, true)   (true, true) \n",
       " (true, true)   (true, true)       (false, true)  (false, true)\n",
       " (true, true)   (false, false)     (false, true)  (false, true)\n",
       " ⋮                              ⋱                              \n",
       " (true, true)   (false, true)      (false, true)  (false, true)\n",
       " (true, true)   (false, false)     (false, true)  (false, true)\n",
       " (true, true)   (false, false)     (true, true)   (true, true) \n",
       " (true, true)   (false, false)  …  (true, true)   (true, true) \n",
       " (true, true)   (false, true)      (true, true)   (true, true) \n",
       " (true, true)   (true, true)       (false, true)  (false, true)\n",
       " (true, true)   (false, true)      (false, true)  (false, true)\n",
       " (true, true)   (false, true)      (true, true)   (true, true) \n",
       " (true, true)   (false, false)  …  (false, true)  (false, true)\n",
       " (true, true)   (false, true)      (false, true)  (false, true)\n",
       " (true, true)   (false, false)     (false, true)  (false, true)\n",
       " (true, true)   (false, false)     (true, true)   (true, true) "
      ]
     },
     "execution_count": 69,
     "metadata": {},
     "output_type": "execute_result"
    }
   ],
   "source": [
    "# filter out rare SNPs with MAF < 0.05\n",
    "hapmap[:, maf .≥ 0.05]"
   ]
  },
  {
   "cell_type": "code",
   "execution_count": 70,
   "metadata": {},
   "outputs": [
    {
     "data": {
      "text/plain": [
       "220×13928 SnpArrays.SnpArray{2}:\n",
       " (true, true)  (true, true)   (false, false)  …  (true, true)   (true, true)\n",
       " (true, true)  (false, true)  (false, true)      (false, true)  (true, true)\n",
       " (true, true)  (true, true)   (false, true)      (true, true)   (true, true)\n",
       " (true, true)  (true, true)   (true, true)       (true, true)   (true, true)\n",
       " (true, true)  (true, true)   (false, false)     (true, true)   (true, true)\n",
       " (true, true)  (true, true)   (false, true)   …  (true, true)   (true, true)\n",
       " (true, true)  (true, true)   (false, true)      (true, true)   (true, true)\n",
       " (true, true)  (true, true)   (false, true)      (true, true)   (true, true)\n",
       " (true, true)  (true, true)   (false, false)     (true, true)   (true, true)\n",
       " (true, true)  (true, true)   (false, true)      (true, true)   (true, true)\n",
       " (true, true)  (false, true)  (false, true)   …  (true, true)   (true, true)\n",
       " (true, true)  (true, true)   (true, true)       (true, true)   (true, true)\n",
       " (true, true)  (true, true)   (true, true)       (true, true)   (true, true)\n",
       " ⋮                                            ⋱                             \n",
       " (true, true)  (true, true)   (false, false)     (true, true)   (true, true)\n",
       " (true, true)  (true, true)   (false, false)     (true, true)   (true, true)\n",
       " (true, true)  (true, true)   (false, false)  …  (true, true)   (true, true)\n",
       " (true, true)  (true, true)   (false, true)      (true, true)   (true, true)\n",
       " (true, true)  (true, true)   (false, false)     (true, true)   (true, true)\n",
       " (true, true)  (true, true)   (false, false)     (true, true)   (true, true)\n",
       " (true, true)  (true, true)   (false, false)     (true, true)   (true, true)\n",
       " (true, true)  (true, true)   (false, true)   …  (true, true)   (true, true)\n",
       " (true, true)  (true, true)   (false, false)     (true, true)   (true, true)\n",
       " (true, true)  (true, true)   (false, true)      (true, true)   (true, true)\n",
       " (true, true)  (true, true)   (false, false)     (true, true)   (true, true)\n",
       " (true, true)  (true, true)   (false, false)     (true, true)   (true, true)"
      ]
     },
     "execution_count": 70,
     "metadata": {},
     "output_type": "execute_result"
    }
   ],
   "source": [
    "# filter out individuals with genotyping success rate < 0.90\n",
    "hapmap[missings_by_person / people .< 0.1, :]"
   ]
  },
  {
   "cell_type": "markdown",
   "metadata": {},
   "source": [
    "`view` creates views of subarray without copying data and improve efficiency in many calculations."
   ]
  },
  {
   "cell_type": "code",
   "execution_count": 71,
   "metadata": {},
   "outputs": [
    {
     "data": {
      "text/plain": [
       "1×12085 RowVector{Float64,Array{Float64,1}}:\n",
       " 0.0776398  0.324074  0.191589  …  0.310937  0.23913  0.23913  0.23913"
      ]
     },
     "execution_count": 71,
     "metadata": {},
     "output_type": "execute_result"
    }
   ],
   "source": [
    "mafcommon, = summarize(view(hapmap, :, maf .≥ 0.05))\n",
    "mafcommon'"
   ]
  },
  {
   "cell_type": "markdown",
   "metadata": {},
   "source": [
    "## Assignment\n",
    "\n",
    "It is possible to assign specific genotypes to a `SnpArray` entry."
   ]
  },
  {
   "cell_type": "code",
   "execution_count": 72,
   "metadata": {},
   "outputs": [
    {
     "data": {
      "text/plain": [
       "(true, true)"
      ]
     },
     "execution_count": 72,
     "metadata": {},
     "output_type": "execute_result"
    }
   ],
   "source": [
    "hapmap[1, 1]"
   ]
  },
  {
   "cell_type": "code",
   "execution_count": 73,
   "metadata": {},
   "outputs": [
    {
     "data": {
      "text/plain": [
       "(false, true)"
      ]
     },
     "execution_count": 73,
     "metadata": {},
     "output_type": "execute_result"
    }
   ],
   "source": [
    "hapmap[1, 1] = (false, true)\n",
    "hapmap[1, 1]"
   ]
  },
  {
   "cell_type": "code",
   "execution_count": 74,
   "metadata": {},
   "outputs": [
    {
     "data": {
      "text/plain": [
       "(true, false)"
      ]
     },
     "execution_count": 74,
     "metadata": {},
     "output_type": "execute_result"
    }
   ],
   "source": [
    "hapmap[1, 1] = NaN\n",
    "hapmap[1, 1]"
   ]
  },
  {
   "cell_type": "code",
   "execution_count": 75,
   "metadata": {},
   "outputs": [
    {
     "data": {
      "text/plain": [
       "(true, true)"
      ]
     },
     "execution_count": 75,
     "metadata": {},
     "output_type": "execute_result"
    }
   ],
   "source": [
    "hapmap[1, 1] = 2\n",
    "hapmap[1, 1]"
   ]
  },
  {
   "cell_type": "markdown",
   "metadata": {},
   "source": [
    "Subsetted assignment such as `hapmap[:, 1] = Nan` is also valid."
   ]
  },
  {
   "cell_type": "markdown",
   "metadata": {
    "collapsed": true
   },
   "source": [
    "## Convert, copy and imputation\n",
    "\n",
    "In most analyses we convert a whole `SnpArray` or slices of it to numeric arrays (matrix of **minor allele counts**) for statistical analysis. Keep in mind that the storage of resultant data can be up to 32 fold larger than that of the original `SnpArray`. Fortunately, rich collection of data types in `Julia` allow us choose one that fits into memory. Below are estimates of memory usage for some common data types with `n` persons and `p` SNPs. Here MAF denotes the **average** minor allele frequencies.\n",
    "\n",
    "* `SnpArray`: $0.25np$ bytes  \n",
    "* `Matrix{Int8}`: $np$ bytes  \n",
    "* `Matrix{Float16}`: $2np$ bytes  \n",
    "* `Matrix{Float32}`: $4np$ bytes  \n",
    "* `Matrix{Float64}`: $8np$ bytes  \n",
    "* `SparseMatrixCSC{Float64,Int64}`: $16 \\cdot \\text{NNZ} + 8(p+1) \\approx 16np(2\\text{MAF}(1-\\text{MAF})+\\text{MAF}^2) + 8(p+1) = 16np \\cdot \\text{MAF}(2-\\text{MAF}) + 8(p+1)$ bytes. When the average MAF=0.25, this is about $7np$ bytes. When MAF=0.025, this is about $0.8np$ bypes, 10 fold smaller than the `Matrix{Float64}` type.  \n",
    "* `SparseMatrixCSC{Int8,UInt32}`: $5 \\cdot \\text{NNZ} + 4(p+1) \\approx 5np(2\\text{MAF}(1-\\text{MAF})+\\text{MAF}^2) + 4(p+1) = 5np \\cdot \\text{MAF}(2-\\text{MAF}) + 4(p+1)$ bytes. When the average MAF=0.25, this is about $2.2np$ bytes. When MAF=0.08, this is about $0.8np$ bypes, 10 fold smaller than `Matrix{Float64}` type.  \n",
    "* Two `SparseMatrixCSC{Bool,Int64}`: $2np \\cdot \\text{MAF} \\cdot 9 + 16(p+1) = 18 np \\cdot \\text{MAF} + 16(p+1)$ bytes. When the average MAF=0.25, this is about $4.5np$ bytes. When MAF=0.045, this is about $0.8np$ bytes, 10 fold smaller than `Matrix{Float64}` type.  \n",
    "\n",
    "To be concrete, consider 2 typical data sets:  \n",
    "* COPD (GWAS): $n = 6670$ individuals, $p = 630998$ SNPs, average MAF is 0.2454.\n",
    "* GAW19 (sequencing study): $n = 959$ individuals, $p = 8348674$ SNPs, average MAF is 0.085.  \n",
    "\n",
    "| Data Type | COPD | GAW19 |  \n",
    "|---|---:|---:|  \n",
    "| `SnpArray` | 1.05GB | 2GB |  \n",
    "| `Matrix{Float64}` | 33.67GB | 64.05GB |  \n",
    "| `SparseMatrixCSC{Float64,Int64}` | 29GB | 20.82GB |  \n",
    "| `SparseMatrixCSC{Bool,Int64}` | 18.6GB | 12.386GB |  \n",
    "\n",
    "Apparently for data sets with a majority of rare variants, converting to sparse matrices saves memory and often brings computational advantages too. In the `SparseMatrixCSC` format, the integer type of the row indices `rowval` and column pointer `colptr` should have maximal allowable value larger than the number of nonzeros in the matrix. The `InexactError()` error encountered during conversion often indicates that the integer type has a too small range. The utility function `estimatesize` conveniently estimates memory usage in bytes for the input data type."
   ]
  },
  {
   "cell_type": "code",
   "execution_count": 76,
   "metadata": {},
   "outputs": [
    {
     "data": {
      "text/plain": [
       "3.6101376e7"
      ]
     },
     "execution_count": 76,
     "metadata": {},
     "output_type": "execute_result"
    }
   ],
   "source": [
    "# estimated memory usage if convert to Matrix{Float64}\n",
    "estimatesize(people, snps, Matrix{Float64})"
   ]
  },
  {
   "cell_type": "code",
   "execution_count": 77,
   "metadata": {},
   "outputs": [
    {
     "data": {
      "text/plain": [
       "324×13928 Array{Float64,2}:\n",
       " 0.0  0.0  2.0  0.0  0.0  0.0  1.0  1.0  …  1.0  1.0  1.0  1.0  0.0  0.0  0.0\n",
       " 0.0  1.0  1.0  1.0  0.0  0.0  0.0  1.0     0.0  0.0  0.0  0.0  0.0  1.0  0.0\n",
       " 0.0  0.0  1.0  1.0  1.0  0.0  0.0  2.0     1.0  0.0  0.0  0.0  0.0  0.0  0.0\n",
       " 0.0  0.0  1.0  0.0  1.0  0.0  0.0  1.0     1.0  1.0  1.0  1.0  0.0  0.0  0.0\n",
       " 0.0  0.0  1.0  1.0  0.0  0.0  0.0  2.0     0.0  0.0  0.0  0.0  0.0  0.0  0.0\n",
       " 0.0  1.0  0.0  0.0  2.0  0.0  0.0  0.0  …  2.0  1.0  1.0  1.0  0.0  0.0  0.0\n",
       " 0.0  0.0  0.0  0.0  2.0  0.0  0.0  2.0     1.0  0.0  0.0  0.0  0.0  0.0  0.0\n",
       " 0.0  0.0  2.0  0.0  0.0  0.0  0.0  1.0     0.0  0.0  0.0  0.0  0.0  0.0  0.0\n",
       " 0.0  0.0  1.0  1.0  0.0  0.0  0.0  2.0     0.0  0.0  0.0  0.0  0.0  0.0  0.0\n",
       " 0.0  0.0  1.0  0.0  0.0  0.0  0.0  2.0     1.0  1.0  1.0  1.0  0.0  0.0  0.0\n",
       " 0.0  0.0  1.0  0.0  0.0  0.0  0.0  2.0  …  0.0  0.0  0.0  0.0  0.0  0.0  0.0\n",
       " 0.0  0.0  0.0  1.0  0.0  0.0  0.0  2.0     1.0  1.0  1.0  1.0  0.0  0.0  0.0\n",
       " 0.0  0.0  2.0  0.0  1.0  0.0  0.0  1.0     2.0  1.0  1.0  1.0  0.0  0.0  0.0\n",
       " ⋮                        ⋮              ⋱                      ⋮            \n",
       " 0.0  0.0  1.0  0.0  2.0  0.0  0.0  1.0     2.0  1.0  1.0  1.0  0.0  0.0  0.0\n",
       " 0.0  0.0  2.0  0.0  0.0  0.0  0.0  2.0     2.0  1.0  1.0  1.0  0.0  0.0  0.0\n",
       " 0.0  0.0  2.0  0.0  1.0  0.0  0.0  1.0     0.0  0.0  0.0  0.0  0.0  0.0  0.0\n",
       " 0.0  0.0  2.0  1.0  0.0  0.0  0.0  1.0  …  0.0  0.0  0.0  0.0  0.0  0.0  0.0\n",
       " 0.0  0.0  1.0  0.0  0.0  0.0  0.0  1.0     1.0  0.0  0.0  0.0  0.0  0.0  0.0\n",
       " 0.0  0.0  0.0  1.0  0.0  0.0  0.0  1.0     2.0  1.0  1.0  1.0  0.0  0.0  0.0\n",
       " 0.0  0.0  1.0  1.0  0.0  0.0  0.0  2.0     1.0  1.0  1.0  1.0  0.0  0.0  0.0\n",
       " 0.0  0.0  1.0  0.0  0.0  0.0  0.0  2.0     0.0  0.0  0.0  0.0  0.0  0.0  0.0\n",
       " 0.0  0.0  2.0  0.0  1.0  0.0  0.0  1.0  …  1.0  1.0  1.0  1.0  0.0  0.0  0.0\n",
       " 0.0  0.0  1.0  1.0  0.0  0.0  0.0  1.0     1.0  1.0  1.0  1.0  0.0  0.0  0.0\n",
       " 0.0  0.0  2.0  1.0  0.0  0.0  0.0  2.0     1.0  1.0  1.0  1.0  0.0  0.0  0.0\n",
       " 0.0  0.0  2.0  0.0  0.0  0.0  0.0  2.0     0.0  0.0  0.0  0.0  0.0  0.0  0.0"
      ]
     },
     "execution_count": 77,
     "metadata": {},
     "output_type": "execute_result"
    }
   ],
   "source": [
    "# convert to Matrix{Float64}\n",
    "hapmapf64 = convert(Matrix{Float64}, hapmap)"
   ]
  },
  {
   "cell_type": "code",
   "execution_count": 78,
   "metadata": {},
   "outputs": [
    {
     "data": {
      "text/plain": [
       "36101376"
      ]
     },
     "execution_count": 78,
     "metadata": {},
     "output_type": "execute_result"
    }
   ],
   "source": [
    "# actual memory usage of Matrix{Float64}\n",
    "Base.summarysize(hapmapf64)"
   ]
  },
  {
   "cell_type": "code",
   "execution_count": 79,
   "metadata": {},
   "outputs": [
    {
     "data": {
      "text/plain": [
       "0.222585591341583"
      ]
     },
     "execution_count": 79,
     "metadata": {},
     "output_type": "execute_result"
    }
   ],
   "source": [
    "# average maf of the hapmap3 data set\n",
    "mean(maf)"
   ]
  },
  {
   "cell_type": "code",
   "execution_count": 80,
   "metadata": {},
   "outputs": [
    {
     "data": {
      "text/plain": [
       "1.4338389205819245e7"
      ]
     },
     "execution_count": 80,
     "metadata": {},
     "output_type": "execute_result"
    }
   ],
   "source": [
    "# estimated memory usage if convert to SparseMatrixCSC{Float32, UInt32} matrix\n",
    "estimatesize(people, snps, SparseMatrixCSC{Float32, UInt32}, mean(maf))"
   ]
  },
  {
   "cell_type": "code",
   "execution_count": 81,
   "metadata": {},
   "outputs": [
    {
     "data": {
      "text/plain": [
       "324×13928 SparseMatrixCSC{Float32,UInt32} with 1614876 stored entries:\n",
       "  [2    ,     2]  =  1.0\n",
       "  [6    ,     2]  =  1.0\n",
       "  [15   ,     2]  =  1.0\n",
       "  [31   ,     2]  =  1.0\n",
       "  [33   ,     2]  =  1.0\n",
       "  [35   ,     2]  =  1.0\n",
       "  [43   ,     2]  =  1.0\n",
       "  [44   ,     2]  =  1.0\n",
       "  [50   ,     2]  =  1.0\n",
       "  [54   ,     2]  =  1.0\n",
       "  ⋮\n",
       "  [135  , 13927]  =  1.0\n",
       "  [148  , 13927]  =  1.0\n",
       "  [160  , 13927]  =  1.0\n",
       "  [164  , 13927]  =  2.0\n",
       "  [167  , 13927]  =  1.0\n",
       "  [185  , 13927]  =  1.0\n",
       "  [266  , 13927]  =  1.0\n",
       "  [280  , 13927]  =  1.0\n",
       "  [288  , 13927]  =  1.0\n",
       "  [118  , 13928]  =  2.0\n",
       "  [231  , 13928]  =  2.0"
      ]
     },
     "execution_count": 81,
     "metadata": {},
     "output_type": "execute_result"
    }
   ],
   "source": [
    "# convert to SparseMatrixCSC{Float32, UInt32} matrix\n",
    "hapmapf32sp = convert(SparseMatrixCSC{Float32, UInt32}, hapmap)"
   ]
  },
  {
   "cell_type": "code",
   "execution_count": 82,
   "metadata": {},
   "outputs": [
    {
     "data": {
      "text/plain": [
       "12974764"
      ]
     },
     "execution_count": 82,
     "metadata": {},
     "output_type": "execute_result"
    }
   ],
   "source": [
    "# actual memory usage if convert to SparseMatrixCSC{Float32, UInt32} matrix\n",
    "Base.summarysize(hapmapf32sp)"
   ]
  },
  {
   "cell_type": "markdown",
   "metadata": {},
   "source": [
    "By default the `convert()` method converts missing genotypes to `NaN`."
   ]
  },
  {
   "cell_type": "code",
   "execution_count": 83,
   "metadata": {},
   "outputs": [
    {
     "data": {
      "text/plain": [
       "(11894, 11894)"
      ]
     },
     "execution_count": 83,
     "metadata": {},
     "output_type": "execute_result"
    }
   ],
   "source": [
    "# number of missing genotypes\n",
    "countnz(isnan.(hapmap)), countnz(isnan.(hapmapf64))"
   ]
  },
  {
   "cell_type": "markdown",
   "metadata": {},
   "source": [
    "One can enforce **crude imputation** by setting the optional argument `impute=true`. Imputation is done by generating two random alleles according to the minor allele frequency. This is a neutral but not an optimal strategy, and users should impute missing genotypes by more advanced methods."
   ]
  },
  {
   "cell_type": "code",
   "execution_count": 84,
   "metadata": {},
   "outputs": [
    {
     "data": {
      "text/plain": [
       "0"
      ]
     },
     "execution_count": 84,
     "metadata": {},
     "output_type": "execute_result"
    }
   ],
   "source": [
    "hapmapf64impute = convert(Matrix{Float64}, hapmap; impute = true)\n",
    "countnz(isnan.(hapmapf64impute))"
   ]
  },
  {
   "cell_type": "markdown",
   "metadata": {},
   "source": [
    "By default `convert()` translates genotypes according to the *additive* SNP model, which essentially counts the number of **minor allele** (0, 1 or 2) per genotype. Other SNP models are *dominant* and *recessive*, both in terms of the **minor allele**. When `A1` is the minor allele, genotypes are translated to real number according to\n",
    "\n",
    "| Genotype | `SnpArray` | `model=:additive` | `model=:dominant` | `model=:recessive` |    \n",
    "|:---:|:---:|:---:|:---:|:---:|  \n",
    "| A1,A1 | (false,false) | 2 | 1 | 1 |  \n",
    "| A1,A2 | (false,true) | 1 | 1 | 0 |  \n",
    "| A2,A2 | (true,true) | 0 | 0 | 0 |  \n",
    "| missing | (true,false) | NaN | NaN | NaN | \n",
    "\n",
    "When `A2` is the minor allele, genotypes are translated according to\n",
    "\n",
    "| Genotype | `SnpArray` | `model=:additive` | `model=:dominant` | `model=:recessive` |    \n",
    "|:---:|:---:|:---:|:---:|:---:|  \n",
    "| A1,A1 | (false,false) | 0 | 0 | 0 |  \n",
    "| A1,A2 | (false,true) | 1 | 1 | 0 |  \n",
    "| A2,A2 | (true,true) | 2 | 1 | 1 |  \n",
    "| missing | (true,false) | NaN | NaN | NaN |"
   ]
  },
  {
   "cell_type": "code",
   "execution_count": 85,
   "metadata": {},
   "outputs": [
    {
     "data": {
      "text/plain": [
       "10×3 Array{Float64,2}:\n",
       " 0.0  0.0  0.0\n",
       " 0.0  0.0  0.0\n",
       " 1.0  1.0  0.0\n",
       " 1.0  1.0  0.0\n",
       " 0.0  0.0  0.0\n",
       " 2.0  1.0  1.0\n",
       " 2.0  1.0  1.0\n",
       " 0.0  0.0  0.0\n",
       " 0.0  0.0  0.0\n",
       " 0.0  0.0  0.0"
      ]
     },
     "execution_count": 85,
     "metadata": {},
     "output_type": "execute_result"
    }
   ],
   "source": [
    "[convert(Vector{Float64}, hapmap[1:10, 5]; model = :additive) convert(Vector{Float64}, hapmap[1:10, 5]; model = :dominant) convert(Vector{Float64}, hapmap[1:10, 5]; model = :recessive)]"
   ]
  },
  {
   "cell_type": "markdown",
   "metadata": {},
   "source": [
    "By default `convert()` does **not** center and scale genotypes. Setting the optional arguments `center=true, scale=true` centers genotypes at 2MAF and scales them by $[2 \\cdot \\text{MAF} \\cdot (1 - \\text{MAF})]^{-1/2}$. Mono-allelic SNPs (MAF=0) are not scaled."
   ]
  },
  {
   "cell_type": "code",
   "execution_count": 86,
   "metadata": {},
   "outputs": [
    {
     "data": {
      "text/plain": [
       "324×2 Array{Float64,2}:\n",
       " 0.0  -1.25702 \n",
       " 0.0  -1.25702 \n",
       " 1.0   0.167017\n",
       " 1.0   0.167017\n",
       " 0.0  -1.25702 \n",
       " 2.0   1.59106 \n",
       " 2.0   1.59106 \n",
       " 0.0  -1.25702 \n",
       " 0.0  -1.25702 \n",
       " 0.0  -1.25702 \n",
       " 0.0  -1.25702 \n",
       " 0.0  -1.25702 \n",
       " 1.0   0.167017\n",
       " ⋮             \n",
       " 2.0   1.59106 \n",
       " 0.0  -1.25702 \n",
       " 1.0   0.167017\n",
       " 0.0  -1.25702 \n",
       " 0.0  -1.25702 \n",
       " 0.0  -1.25702 \n",
       " 0.0  -1.25702 \n",
       " 0.0  -1.25702 \n",
       " 1.0   0.167017\n",
       " 0.0  -1.25702 \n",
       " 0.0  -1.25702 \n",
       " 0.0  -1.25702 "
      ]
     },
     "execution_count": 86,
     "metadata": {},
     "output_type": "execute_result"
    }
   ],
   "source": [
    "[convert(Vector{Float64}, hapmap[:, 5]) convert(Vector{Float64}, hapmap[:, 5]; center = true, scale = true)]"
   ]
  },
  {
   "cell_type": "markdown",
   "metadata": {},
   "source": [
    "`copy!()` is the in-place version of `convert()`. Options such as GWAS loop over SNPs and perform statistical anlaysis for each SNP. This can be achieved by"
   ]
  },
  {
   "cell_type": "code",
   "execution_count": 87,
   "metadata": {
    "collapsed": true
   },
   "outputs": [],
   "source": [
    "g = zeros(people)\n",
    "for j = 1:snps\n",
    "    copy!(g, hapmap[:, j]; model = :additive, impute = true)\n",
    "    # do statistical anlaysis\n",
    "end"
   ]
  },
  {
   "cell_type": "markdown",
   "metadata": {},
   "source": [
    "## Empirical kinship matrix\n",
    "\n",
    "`grm` function computes the empirical kinship matrix using either the genetic relationship matrix, `grm(A, model=:GRM)`, or the method of moment method, `grm(A, model=:MoM)`. "
   ]
  },
  {
   "cell_type": "markdown",
   "metadata": {},
   "source": [
    "!!! note\n",
    "\n",
    "    Missing genotypes are imputed according to minor allele frequencies on the fly.  \n",
    "    \n"
   ]
  },
  {
   "cell_type": "markdown",
   "metadata": {},
   "source": [
    "!!! note\n",
    "\n",
    "    It is often necessary to filter SNPs according to minor allele frequency and LD before calculating empirical kinship matrix.  \n"
   ]
  },
  {
   "cell_type": "markdown",
   "metadata": {},
   "source": [
    "By default, `grm` exlcude SNPs with minor allele frequency below 0.01. This can be changed by the keyword argument `maf_threshold`."
   ]
  },
  {
   "cell_type": "code",
   "execution_count": 88,
   "metadata": {},
   "outputs": [
    {
     "data": {
      "text/plain": [
       "324×324 Array{Float64,2}:\n",
       " 0.571462   0.0465067  0.0198863  …  0.065456   0.0716354  0.0653478\n",
       " 0.0465067  0.544896   0.028444      0.0515233  0.0456809  0.0633915\n",
       " 0.0198863  0.028444   0.520507      0.046051   0.0302884  0.0366246\n",
       " 0.0484459  0.0369766  0.0293501     0.060103   0.0660171  0.0601609\n",
       " 0.052807   0.0424252  0.0264585     0.0718885  0.0583893  0.0658839\n",
       " 0.0453662  0.0316632  0.0382386  …  0.070662   0.0566399  0.0650759\n",
       " 0.0401015  0.022318   0.0119087     0.044437   0.0381739  0.0372612\n",
       " 0.0410669  0.0386841  0.0210986     0.0574887  0.0547491  0.0663823\n",
       " 0.0300075  0.0309477  0.0172097     0.0340103  0.0460311  0.0382384\n",
       " 0.0394993  0.0422916  0.0261469     0.0668     0.0576783  0.0493439\n",
       " 0.0480282  0.045924   0.0233717  …  0.0586062  0.0628982  0.0611232\n",
       " 0.0605082  0.0394706  0.0379736     0.0660183  0.058135   0.0701802\n",
       " 0.0360314  0.0439399  0.02689       0.0572845  0.0701882  0.0637648\n",
       " ⋮                                ⋱                                 \n",
       " 0.0581814  0.0556006  0.0380623     0.0865167  0.0865612  0.0971798\n",
       " 0.0675241  0.0521455  0.0340608     0.0917849  0.0804942  0.0858172\n",
       " 0.0679571  0.0557595  0.0388875     0.0898047  0.0842924  0.0853568\n",
       " 0.0654182  0.0570707  0.0401996  …  0.0874426  0.0763659  0.0889914\n",
       " 0.0626962  0.0556636  0.0368206     0.0788686  0.0730769  0.0814711\n",
       " 0.0648935  0.0612453  0.0397923     0.0890301  0.0900733  0.0818672\n",
       " 0.0623441  0.0600386  0.0386961     0.0821445  0.0851567  0.0805624\n",
       " 0.0620668  0.0630181  0.0336136     0.0933894  0.0899758  0.0865969\n",
       " 0.0657627  0.0631312  0.0334048  …  0.0974675  0.0793873  0.0865828\n",
       " 0.065456   0.0515233  0.046051      0.603312   0.0821679  0.0903656\n",
       " 0.0716354  0.0456809  0.0302884     0.0821679  0.595324   0.0828236\n",
       " 0.0653478  0.0633915  0.0366246     0.0903656  0.0828236  0.582924 "
      ]
     },
     "execution_count": 88,
     "metadata": {},
     "output_type": "execute_result"
    }
   ],
   "source": [
    "# GRM using all SNPs with MAF ≥ 0.01. Same as\n",
    "# grm(hapmap; maf_threshold = 0.01)\n",
    "grm(hapmap)"
   ]
  },
  {
   "cell_type": "code",
   "execution_count": 89,
   "metadata": {},
   "outputs": [
    {
     "data": {
      "text/plain": [
       "324×324 Array{Float64,2}:\n",
       " 0.569832   0.0534955  0.0229106  …  0.0736094  0.0777382  0.0728604\n",
       " 0.0534955  0.542797   0.0292553     0.0565556  0.050179   0.0687166\n",
       " 0.0229106  0.0292553  0.521398      0.0516482  0.03499    0.0406527\n",
       " 0.0531014  0.0397342  0.0315786     0.061866   0.0725732  0.0652814\n",
       " 0.0555008  0.0457758  0.0260288     0.0763692  0.063647   0.0720957\n",
       " 0.048623   0.0330879  0.041643   …  0.0754922  0.0612846  0.0653836\n",
       " 0.0425229  0.0256048  0.0152978     0.0465058  0.038005   0.0432299\n",
       " 0.0445646  0.0417373  0.0241854     0.0573711  0.0568992  0.0665918\n",
       " 0.0315382  0.0336913  0.0200753     0.036809   0.0504817  0.0416076\n",
       " 0.041739   0.0440421  0.0298305     0.0711053  0.063812   0.0530766\n",
       " 0.0551959  0.0476215  0.0240236  …  0.0627489  0.0680972  0.0673988\n",
       " 0.0662055  0.0427204  0.0409013     0.0744466  0.0654627  0.0733776\n",
       " 0.0363799  0.0475432  0.0301813     0.0635413  0.0731001  0.0677743\n",
       " ⋮                                ⋱                                 \n",
       " 0.0606893  0.0571803  0.0422398     0.0920599  0.0920055  0.105568 \n",
       " 0.072268   0.0547569  0.037554      0.0978259  0.0857098  0.0927913\n",
       " 0.0673625  0.0593351  0.0407456     0.0922872  0.0910686  0.0912259\n",
       " 0.0708107  0.0637208  0.0453826  …  0.0935781  0.0829951  0.0937371\n",
       " 0.0693228  0.0591013  0.0387746     0.0862804  0.0816425  0.089975 \n",
       " 0.0694049  0.0632493  0.0442108     0.0936805  0.0956861  0.0892517\n",
       " 0.0662482  0.0621341  0.0401302     0.0862024  0.088719   0.087849 \n",
       " 0.0683031  0.0678069  0.0392417     0.0996427  0.0917543  0.0865936\n",
       " 0.07229    0.0673767  0.0390863  …  0.106276   0.0842234  0.0901547\n",
       " 0.0736094  0.0565556  0.0516482     0.590262   0.0900209  0.094751 \n",
       " 0.0777382  0.050179   0.03499       0.0900209  0.587857   0.08857  \n",
       " 0.0728604  0.0687166  0.0406527     0.094751   0.08857    0.570328 "
      ]
     },
     "execution_count": 89,
     "metadata": {},
     "output_type": "execute_result"
    }
   ],
   "source": [
    "# GRM using all SNPs with MAF ≥ 0.05\n",
    "grm(hapmap; maf_threshold = 0.05)"
   ]
  },
  {
   "cell_type": "code",
   "execution_count": 90,
   "metadata": {},
   "outputs": [
    {
     "data": {
      "text/plain": [
       "324×324 Array{Float64,2}:\n",
       " 0.558921   0.0430417  0.02776    …  0.0675216  0.0737988  0.0675734\n",
       " 0.0430417  0.557352   0.0283227     0.0581735  0.0459756  0.0563325\n",
       " 0.02776    0.0283227  0.513037      0.0403644  0.0401923  0.0482823\n",
       " 0.0453687  0.0459315  0.0274437     0.0522127  0.062348   0.0567562\n",
       " 0.0525321  0.0482946  0.0261682     0.0675415  0.0565141  0.0658733\n",
       " 0.0527773  0.0407108  0.0395822  …  0.0763428  0.0629453  0.0538004\n",
       " 0.0400413  0.0270224  0.0174656     0.0471662  0.0344731  0.0342288\n",
       " 0.0477958  0.0380087  0.026397      0.0591346  0.0559213  0.0690588\n",
       " 0.027236   0.0232717  0.0199212     0.0335014  0.0438624  0.0362997\n",
       " 0.0316181  0.0401905  0.0238639     0.0599384  0.04131    0.0507507\n",
       " 0.0489757  0.0506289  0.0211802  …  0.0629766  0.0652554  0.0533221\n",
       " 0.0625952  0.0495802  0.040138      0.0663878  0.0647589  0.0606609\n",
       " 0.0255679  0.0432178  0.0227905     0.0548997  0.0688556  0.0638942\n",
       " ⋮                                ⋱                                 \n",
       " 0.0603235  0.0507125  0.0414195     0.0874199  0.0850151  0.102226 \n",
       " 0.0670063  0.0605808  0.0322251     0.0900799  0.0761188  0.0819028\n",
       " 0.0689632  0.0537943  0.0396167     0.0845196  0.0816942  0.0965653\n",
       " 0.0655601  0.0590466  0.0417276  …  0.0933334  0.0772525  0.0827035\n",
       " 0.0632019  0.0619054  0.0411649     0.0734338  0.0695185  0.0872505\n",
       " 0.0667202  0.0637907  0.0420585     0.0769856  0.0831787  0.0846128\n",
       " 0.0630419  0.0648211  0.0313507     0.0866063  0.0920158  0.0833748\n",
       " 0.059878   0.0622266  0.0347955     0.0952744  0.0918524  0.0842268\n",
       " 0.0763973  0.0662859  0.0401014  …  0.102024   0.0748581  0.0900122\n",
       " 0.0675216  0.0581735  0.0403644     0.573673   0.0699285  0.0957602\n",
       " 0.0737988  0.0459756  0.0401923     0.0699285  0.576885   0.0749023\n",
       " 0.0675734  0.0563325  0.0482823     0.0957602  0.0749023  0.588357 "
      ]
     },
     "execution_count": 90,
     "metadata": {},
     "output_type": "execute_result"
    }
   ],
   "source": [
    "# GRM using every other SNP, with maf ≥ 0.01\n",
    "grm(view(hapmap, :, 1:2:snps))"
   ]
  },
  {
   "cell_type": "code",
   "execution_count": 91,
   "metadata": {},
   "outputs": [
    {
     "data": {
      "text/plain": [
       "324×324 Array{Float64,2}:\n",
       " 0.539557    0.0352687  0.00335917  …  0.0544144  0.0642236  0.0514598\n",
       " 0.0352687   0.51793    0.0137593      0.0424779  0.0395233  0.0507507\n",
       " 0.00335917  0.0137593  0.499611       0.0319596  0.0207321  0.0199049\n",
       " 0.0440143   0.0292413  0.0234504      0.0527598  0.0698964  0.0501598\n",
       " 0.0455507   0.0333778  0.0156502      0.0656418  0.0571326  0.0567781\n",
       " 0.0324323   0.0209685  0.0259322   …  0.0593781  0.0495689  0.0488598\n",
       " 0.0252231   0.0111593  0.00288644     0.0314868  0.0314868  0.0247504\n",
       " 0.0256958   0.0285322  0.00915016     0.0388142  0.0466143  0.047087 \n",
       " 0.0209685   0.0253413  0.012932       0.0297141  0.0486234  0.0306595\n",
       " 0.0210867   0.0255777  0.010332       0.0529962  0.0507507  0.0325505\n",
       " 0.0364505   0.0337323  0.00548647  …  0.0498053  0.0561872  0.0501598\n",
       " 0.0488598   0.0323141  0.0275868      0.0559508  0.0553599  0.0524053\n",
       " 0.0314868   0.0415324  0.0242776      0.0587872  0.0710783  0.0580781\n",
       " ⋮                                  ⋱                                 \n",
       " 0.0421233   0.0411779  0.0253413      0.0708419  0.0797057  0.0819511\n",
       " 0.0624509   0.0482689  0.0269959      0.0919967  0.0795875  0.0837239\n",
       " 0.0551235   0.0449597  0.0261686      0.0804148  0.0817148  0.0726147\n",
       " 0.0459052   0.0423597  0.0242776   …  0.0727328  0.0630418  0.0706055\n",
       " 0.0561872   0.0532326  0.0295959      0.0782875  0.0711965  0.074742 \n",
       " 0.0533508   0.0544144  0.0308959      0.0789966  0.0864421  0.0722601\n",
       " 0.0526417   0.0509871  0.0295959      0.0778147  0.0845512  0.0745056\n",
       " 0.0492143   0.052878   0.0209685      0.0823057  0.0845512  0.0724965\n",
       " 0.0506325   0.0481507  0.0221503   …  0.0883331  0.0740329  0.0696601\n",
       " 0.0544144   0.0424779  0.0319596      0.561421   0.0811239  0.0766329\n",
       " 0.0642236   0.0395233  0.0207321      0.0811239  0.56733    0.0695419\n",
       " 0.0514598   0.0507507  0.0199049      0.0766329  0.0695419  0.533766 "
      ]
     },
     "execution_count": 91,
     "metadata": {},
     "output_type": "execute_result"
    }
   ],
   "source": [
    "# MoM using all SNPs with MAF ≥ 0.01\n",
    "grm(hapmap; method = :MoM)"
   ]
  },
  {
   "cell_type": "markdown",
   "metadata": {},
   "source": [
    "## Principal components \n",
    "\n",
    "Principal compoenent analysis is widely used in genome-wide association analysis (GWAS) for adjusting population substructure. `pca(A, pcs)` computes the top `pcs` principal components of a `SnpArray`. Each SNP is centered at $2\\text{MAF}$ and scaled by $[2\\text{MAF}(1-\\text{MAF})]^{-1/2}$. The output is  \n",
    "\n",
    "* `pcscore`: top `pcs` eigen-SNPs, or principal scores, in each column  \n",
    "* `pcloading`: top `pcs` eigen-vectors, or principal loadings, in each column  \n",
    "* `pcvariance`: top `pcs` eigen-values, or principal variances\n",
    "\n",
    "Missing genotypes are imputed according the minor allele frequencies on the fly. This implies that, in the presence of missing genotypes, running the function on the same `SnpArray` twice may produce slightly different answers. For reproducibility, it is a good practice to set the random seed before each function that does imputation on the fly."
   ]
  },
  {
   "cell_type": "code",
   "execution_count": 92,
   "metadata": {},
   "outputs": [
    {
     "data": {
      "text/plain": [
       "([-38.7231 -1.2983 -7.00541; -32.6096 -1.21052 -3.3232; … ; -48.9263 -2.06102 2.17374; -48.8627 0.274894 6.49518], [7.47821e-19 1.01333e-18 1.65076e-19; 0.00143962 -0.0042375 -0.00311816; … ; 0.00313326 -0.00427486 -0.0152038; -9.09523e-5 -0.00287777 0.0037855], [1841.4, 225.324, 70.7084])"
      ]
     },
     "execution_count": 92,
     "metadata": {},
     "output_type": "execute_result"
    }
   ],
   "source": [
    "srand(123) # set seed\n",
    "pcscore, pcloading, pcvariance = pca(hapmap, 3)"
   ]
  },
  {
   "cell_type": "markdown",
   "metadata": {},
   "source": [
    "To use eigen-SNPs for plotting or as covariates in GWAS, we typically scale them by their standard deviations so that they have mean zero and unit variance."
   ]
  },
  {
   "cell_type": "code",
   "execution_count": 93,
   "metadata": {},
   "outputs": [
    {
     "data": {
      "text/plain": [
       "1×3 Array{Float64,2}:\n",
       " 1.0  1.0  1.0"
      ]
     },
     "execution_count": 93,
     "metadata": {},
     "output_type": "execute_result"
    }
   ],
   "source": [
    "# standardize eigen-SNPs before plotting or GWAS\n",
    "scale!(pcscore, 1 ./ sqrt.(pcvariance))\n",
    "std(pcscore, 1)"
   ]
  },
  {
   "cell_type": "markdown",
   "metadata": {},
   "source": [
    "Internally `pca` converts `SnpArray` to the matrix of minor allele counts. The default format is `Matrix{Float64}`, which can easily exceed memory limit. Users have several options when the default `Matrix{Float64}` cannot fit into memory.  \n",
    "\n",
    "* Use other intermediate matrix types."
   ]
  },
  {
   "cell_type": "code",
   "execution_count": 94,
   "metadata": {},
   "outputs": [
    {
     "data": {
      "text/plain": [
       "3-element Array{Float32,1}:\n",
       " 1841.4   \n",
       "  225.324 \n",
       "   70.7084"
      ]
     },
     "execution_count": 94,
     "metadata": {},
     "output_type": "execute_result"
    }
   ],
   "source": [
    "# use single precision matrix and display the principal variances\n",
    "# approximately same answer as double precision\n",
    "srand(123)\n",
    "pca(hapmap, 3, Matrix{Float32})[3]"
   ]
  },
  {
   "cell_type": "markdown",
   "metadata": {
    "collapsed": true
   },
   "source": [
    "* Use subset of SNPs"
   ]
  },
  {
   "cell_type": "code",
   "execution_count": 95,
   "metadata": {},
   "outputs": [
    {
     "data": {
      "text/plain": [
       "3-element Array{Float64,1}:\n",
       " 926.622 \n",
       " 113.188 \n",
       "  36.4866"
      ]
     },
     "execution_count": 95,
     "metadata": {},
     "output_type": "execute_result"
    }
   ],
   "source": [
    "# principal components using every other SNP capture about half the variance\n",
    "srand(123)\n",
    "pca(view(hapmap, :, 1:2:snps), 3)[3]"
   ]
  },
  {
   "cell_type": "markdown",
   "metadata": {},
   "source": [
    "* Use sparse matrix. For large data sets with majority of rare variants, `pca_sp` is more efficient by first converting `SnpArray` to a sparse matrix (default is `SparseMatrixCSC{Float64, Int64}`) and then computing principal components using iterative algorithms. "
   ]
  },
  {
   "cell_type": "code",
   "execution_count": 96,
   "metadata": {},
   "outputs": [
    {
     "data": {
      "text/plain": [
       "3-element Array{Float32,1}:\n",
       " 1841.39  \n",
       "  225.324 \n",
       "   70.7084"
      ]
     },
     "execution_count": 96,
     "metadata": {},
     "output_type": "execute_result"
    }
   ],
   "source": [
    "# approximately same answer if we use Float16 sparse matrix\n",
    "srand(123)\n",
    "pca_sp(hapmap, 3, SparseMatrixCSC{Float32, UInt32})[3]"
   ]
  }
 ],
 "metadata": {
  "kernelspec": {
   "display_name": "Julia 0.6.0",
   "language": "julia",
   "name": "julia-0.6"
  },
  "language_info": {
   "file_extension": ".jl",
   "mimetype": "application/julia",
   "name": "julia",
   "version": "0.6.0"
  },
  "toc": {
   "colors": {
    "hover_highlight": "#DAA520",
    "running_highlight": "#FF0000",
    "selected_highlight": "#FFD700"
   },
   "moveMenuLeft": true,
   "nav_menu": {
    "height": "192px",
    "width": "252px"
   },
   "navigate_menu": true,
   "number_sections": true,
   "sideBar": true,
   "threshold": 4,
   "toc_cell": false,
   "toc_section_display": "block",
   "toc_window_display": false,
   "widenNotebook": false
  }
 },
 "nbformat": 4,
 "nbformat_minor": 1
}
