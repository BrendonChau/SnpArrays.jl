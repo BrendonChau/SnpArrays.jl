{
 "cells": [
  {
   "cell_type": "markdown",
   "metadata": {},
   "source": [
    "# SnpArray.jl"
   ]
  },
  {
   "cell_type": "markdown",
   "metadata": {},
   "source": [
    "The module `SnpArrays` implements the `SnpArray` type for handling biallelic genotypes. `SnpArray` is an array of `Tuple{Bool, Bool}`. If `A` is the major allele and `a` the minor allele, the coding rule is  \n",
    "\n",
    "| Genotype | Plink | SnpArray |  \n",
    "|---|---|---|  \n",
    "| AA | 11 | 00 |  \n",
    "| Aa | 01 | 10 |  \n",
    "| aa | 00 | 11 |  \n",
    "| missing | 10 | 01 |  \n",
    "`SnpArray` inverts the bits in the Plink binary representation. Roughly speaking, `true` represents a minor allele. But code `01 = (false, true)` is reserved for missing genotype.\n",
    "\n",
    "## Initialization\n",
    "\n",
    " `SnpArray` can be initialized from [Plink binary files](http://pngu.mgh.harvard.edu/~purcell/plink/binary.shtml), say an example data set of the MAP4 gene on chromosome 3:"
   ]
  },
  {
   "cell_type": "code",
   "execution_count": 53,
   "metadata": {
    "collapsed": false
   },
   "outputs": [
    {
     "name": "stdout",
     "output_type": "stream",
     "text": [
      "-rw-r--r--  1 hzhou3  staff  215043 Jul 16  2014 chr3-map4-geno.bed\n",
      "-rw-r--r--  1 hzhou3  staff   25088 Jul 16  2014 chr3-map4-geno.bim\n",
      "-rw-r--r--  1 hzhou3  staff   39356 Jul 16  2014 chr3-map4-geno.fam\n",
      "-rw-r--r--  1 hzhou3  staff    2321 Jul 16  2014 chr3-map4-geno.log\n"
     ]
    }
   ],
   "source": [
    ";ls -al chr3-map4-geno.*"
   ]
  },
  {
   "cell_type": "code",
   "execution_count": 54,
   "metadata": {
    "collapsed": false
   },
   "outputs": [
    {
     "name": "stderr",
     "output_type": "stream",
     "text": [
      "WARNING: replacing module SnpArrays\n",
      "WARNING: Method definition convert(Type{#T<:Real}, Tuple{Bool, Bool}) in module SnpArrays at /Users/hzhou3/github.com/SnpArrays.jl/src/SnpArrays.jl:132 overwritten in module SnpArrays at /Users/hzhou3/github.com/SnpArrays.jl/src/SnpArrays.jl:132.\n",
      "WARNING: Method definition convert(Array, Type{#T<:Real}, Tuple{Bool, Bool}) in module SnpArrays overwritten in module SnpArrays.\n",
      "WARNING: Method definition isnan(Tuple{Bool, Bool}) in module SnpArrays at /Users/hzhou3/github.com/SnpArrays.jl/src/SnpArrays.jl:269 overwritten in module SnpArrays at /Users/hzhou3/github.com/SnpArrays.jl/src/SnpArrays.jl:269.\n",
      "WARNING: using SnpArrays.SnpArray in module Main conflicts with an existing identifier.\n",
      "WARNING: using SnpArrays.summarysnps in module Main conflicts with an existing identifier.\n"
     ]
    },
    {
     "data": {
      "text/plain": [
       "959x896 SnpArrays.SnpArray{2}:\n",
       " (false,false)  (false,false)  (false,false)  …  (true,false)   (false,false)\n",
       " (true,false)   (false,false)  (false,false)     (true,false)   (false,false)\n",
       " (false,false)  (false,false)  (false,false)     (false,false)  (false,false)\n",
       " (true,false)   (false,false)  (false,false)     (true,false)   (false,false)\n",
       " (false,false)  (false,false)  (false,false)     (false,false)  (false,false)\n",
       " (false,false)  (false,false)  (false,false)  …  (false,false)  (false,false)\n",
       " (true,false)   (false,false)  (false,false)     (true,true)    (false,false)\n",
       " (false,false)  (false,false)  (false,false)     (true,false)   (false,false)\n",
       " (false,false)  (false,false)  (true,false)      (true,false)   (false,false)\n",
       " (false,false)  (false,false)  (false,false)     (false,false)  (false,false)\n",
       " (false,false)  (false,false)  (false,false)  …  (false,false)  (false,false)\n",
       " (false,false)  (false,false)  (false,false)     (false,false)  (false,false)\n",
       " (true,false)   (false,false)  (false,false)     (true,false)   (false,false)\n",
       " ⋮                                            ⋱                 ⋮            \n",
       " (false,false)  (false,false)  (false,false)     (false,false)  (false,false)\n",
       " (false,false)  (false,false)  (false,false)     (false,false)  (false,false)\n",
       " (false,false)  (false,false)  (false,false)     (false,false)  (false,false)\n",
       " (false,false)  (false,false)  (false,false)  …  (false,false)  (false,false)\n",
       " (true,false)   (false,false)  (false,false)     (true,false)   (false,false)\n",
       " (true,false)   (false,false)  (false,false)     (true,false)   (false,false)\n",
       " (true,false)   (false,false)  (false,false)     (true,false)   (false,false)\n",
       " (true,false)   (false,false)  (false,false)     (true,false)   (false,false)\n",
       " (true,false)   (false,false)  (false,false)  …  (true,false)   (false,false)\n",
       " (true,false)   (false,false)  (false,false)     (true,false)   (false,false)\n",
       " (false,false)  (false,false)  (false,false)     (false,false)  (false,false)\n",
       " (false,false)  (false,false)  (false,false)     (true,false)   (false,false)"
      ]
     },
     "execution_count": 54,
     "metadata": {},
     "output_type": "execute_result"
    }
   ],
   "source": [
    "include(\"../src/SnpArrays.jl\")\n",
    "using SnpArrays\n",
    "map4 = SnpArray(\"chr3-map4-geno\")"
   ]
  },
  {
   "cell_type": "code",
   "execution_count": 55,
   "metadata": {
    "collapsed": false
   },
   "outputs": [
    {
     "data": {
      "text/plain": [
       "(959,896)"
      ]
     },
     "execution_count": 55,
     "metadata": {},
     "output_type": "execute_result"
    }
   ],
   "source": [
    "size(map4)"
   ]
  },
  {
   "cell_type": "markdown",
   "metadata": {},
   "source": [
    "Internally `SnpArray` simply stores two `BitArray`s `A1` and `A2`. For $n$ individuals and $p$ SNPs, the memory usage of `SnpArray` is $np/4$ bytes, approximately same size as the Plink `bed` file."
   ]
  },
  {
   "cell_type": "code",
   "execution_count": 56,
   "metadata": {
    "collapsed": false
   },
   "outputs": [
    {
     "data": {
      "text/plain": [
       "2-element Array{Symbol,1}:\n",
       " :A1\n",
       " :A2"
      ]
     },
     "execution_count": 56,
     "metadata": {},
     "output_type": "execute_result"
    }
   ],
   "source": [
    "# fields of a SnpArray\n",
    "fieldnames(map4)"
   ]
  },
  {
   "cell_type": "code",
   "execution_count": 57,
   "metadata": {
    "collapsed": false
   },
   "outputs": [
    {
     "data": {
      "text/plain": [
       "214896"
      ]
     },
     "execution_count": 57,
     "metadata": {},
     "output_type": "execute_result"
    }
   ],
   "source": [
    "# memory usage\n",
    "Base.summarysize(map4)"
   ]
  },
  {
   "cell_type": "markdown",
   "metadata": {},
   "source": [
    "Alternatively we can initialize `SnpArray` from a matrix of minor allele counts."
   ]
  },
  {
   "cell_type": "code",
   "execution_count": 58,
   "metadata": {
    "collapsed": false
   },
   "outputs": [
    {
     "data": {
      "text/plain": [
       "5x3 SnpArrays.SnpArray{2}:\n",
       " (false,false)  (true,false)  (false,false)\n",
       " (true,true)    (true,false)  (true,true)  \n",
       " (true,true)    (true,true)   (true,false) \n",
       " (true,false)   (true,false)  (false,false)\n",
       " (true,false)   (true,true)   (true,true)  "
      ]
     },
     "execution_count": 58,
     "metadata": {},
     "output_type": "execute_result"
    }
   ],
   "source": [
    "SnpArray(rand(0:2, 5, 3))"
   ]
  },
  {
   "cell_type": "markdown",
   "metadata": {},
   "source": [
    "## Summary statistics\n",
    "\n",
    "`summarizesnps()` computes the number of minor alleles, number of missing genotypes, and minor allele frequencies (MAF) along each row and column. Calculation of MAF takes into account of missingness."
   ]
  },
  {
   "cell_type": "code",
   "execution_count": 59,
   "metadata": {
    "collapsed": false
   },
   "outputs": [
    {
     "data": {
      "text/plain": [
       "896-element Array{Float64,1}:\n",
       " 0.226799  \n",
       " 0.00208551\n",
       " 0.0260688 \n",
       " 0.0135558 \n",
       " 0.00104275\n",
       " 0.397704  \n",
       " 0.0182482 \n",
       " 0.00312826\n",
       " 0.00417537\n",
       " 0.00834202\n",
       " 0.0630865 \n",
       " 0.00104275\n",
       " 0.00573514\n",
       " ⋮         \n",
       " 0.00104275\n",
       " 0.00156413\n",
       " 0.00104384\n",
       " 0.00104275\n",
       " 0.00521921\n",
       " 0.00782065\n",
       " 0.00208551\n",
       " 0.00208551\n",
       " 0.00208551\n",
       " 0.00260688\n",
       " 0.382046  \n",
       " 0.00260688"
      ]
     },
     "execution_count": 59,
     "metadata": {},
     "output_type": "execute_result"
    }
   ],
   "source": [
    "nmialcol, nmisscol, mafcol, nmialrow, nmissrow, mafrow = summarysnps(map4)\n",
    "mafcol"
   ]
  },
  {
   "cell_type": "code",
   "execution_count": 60,
   "metadata": {
    "collapsed": false
   },
   "outputs": [
    {
     "data": {
      "text/plain": [
       "(218,218)"
      ]
     },
     "execution_count": 60,
     "metadata": {},
     "output_type": "execute_result"
    }
   ],
   "source": [
    "# total number of missing genotypes\n",
    "sum(nmisscol), sum(nmissrow)"
   ]
  },
  {
   "cell_type": "markdown",
   "metadata": {},
   "source": [
    "## Subsetting\n",
    "\n",
    "Subsetting a `SnpArray` works the same way as subsetting any other arrays."
   ]
  },
  {
   "cell_type": "code",
   "execution_count": 61,
   "metadata": {
    "collapsed": false
   },
   "outputs": [
    {
     "data": {
      "text/plain": [
       "1x896 SnpArrays.SnpArray{2}:\n",
       " (false,false)  (false,false)  (false,false)  …  (true,false)  (false,false)"
      ]
     },
     "execution_count": 61,
     "metadata": {},
     "output_type": "execute_result"
    }
   ],
   "source": [
    "# genotypes of the 1st individual\n",
    "map4[1, :]"
   ]
  },
  {
   "cell_type": "code",
   "execution_count": 62,
   "metadata": {
    "collapsed": false
   },
   "outputs": [
    {
     "data": {
      "text/plain": [
       "959-element SnpArrays.SnpArray{1}:\n",
       " (false,false)\n",
       " (false,false)\n",
       " (false,false)\n",
       " (false,false)\n",
       " (false,false)\n",
       " (false,false)\n",
       " (false,false)\n",
       " (false,false)\n",
       " (false,false)\n",
       " (false,false)\n",
       " (false,false)\n",
       " (false,false)\n",
       " (false,false)\n",
       " ⋮            \n",
       " (false,false)\n",
       " (false,false)\n",
       " (false,false)\n",
       " (false,false)\n",
       " (false,false)\n",
       " (false,false)\n",
       " (false,false)\n",
       " (false,false)\n",
       " (false,false)\n",
       " (false,false)\n",
       " (false,false)\n",
       " (false,false)"
      ]
     },
     "execution_count": 62,
     "metadata": {},
     "output_type": "execute_result"
    }
   ],
   "source": [
    "# genotypes of the 5th SNP\n",
    "map4[:, 5]"
   ]
  },
  {
   "cell_type": "code",
   "execution_count": 63,
   "metadata": {
    "collapsed": false
   },
   "outputs": [
    {
     "data": {
      "text/plain": [
       "5x6 SnpArrays.SnpArray{2}:\n",
       " (false,false)  (true,false)   (false,false)  …  (false,false)  (false,false)\n",
       " (false,false)  (true,false)   (false,false)     (false,false)  (false,false)\n",
       " (false,false)  (false,false)  (false,false)     (false,false)  (false,false)\n",
       " (false,false)  (true,false)   (false,false)     (false,false)  (false,false)\n",
       " (false,false)  (false,false)  (false,false)     (false,false)  (false,false)"
      ]
     },
     "execution_count": 63,
     "metadata": {},
     "output_type": "execute_result"
    }
   ],
   "source": [
    "# subsetting both individuals and SNPs\n",
    "map4[1:5, 5:10]"
   ]
  },
  {
   "cell_type": "code",
   "execution_count": 64,
   "metadata": {
    "collapsed": false
   },
   "outputs": [
    {
     "data": {
      "text/plain": [
       "959x150 SnpArrays.SnpArray{2}:\n",
       " (false,false)  (true,false)   (false,false)  …  (true,false)   (true,false) \n",
       " (true,false)   (true,false)   (true,false)      (true,false)   (true,false) \n",
       " (false,false)  (false,false)  (false,false)     (false,false)  (false,false)\n",
       " (true,false)   (true,false)   (false,false)     (true,false)   (true,false) \n",
       " (false,false)  (false,false)  (true,false)      (false,false)  (false,false)\n",
       " (false,false)  (false,false)  (false,false)  …  (false,false)  (false,false)\n",
       " (true,false)   (true,true)    (false,false)     (true,true)    (true,true)  \n",
       " (false,false)  (false,false)  (false,false)     (false,false)  (true,false) \n",
       " (false,false)  (true,true)    (false,false)     (true,true)    (true,false) \n",
       " (false,false)  (true,false)   (false,false)     (true,false)   (false,false)\n",
       " (false,false)  (false,false)  (false,false)  …  (false,false)  (false,false)\n",
       " (false,false)  (false,false)  (false,false)     (false,false)  (false,false)\n",
       " (true,false)   (true,false)   (false,false)     (true,false)   (true,false) \n",
       " ⋮                                            ⋱                              \n",
       " (false,false)  (false,false)  (true,false)      (false,false)  (false,false)\n",
       " (false,false)  (false,false)  (true,false)      (false,false)  (false,false)\n",
       " (false,false)  (false,false)  (true,false)      (false,false)  (false,false)\n",
       " (false,false)  (false,false)  (true,false)   …  (false,false)  (false,false)\n",
       " (true,false)   (true,false)   (true,false)      (true,false)   (true,false) \n",
       " (true,false)   (true,false)   (false,false)     (true,false)   (true,false) \n",
       " (true,false)   (true,false)   (false,false)     (true,false)   (true,false) \n",
       " (true,false)   (true,false)   (false,false)     (true,false)   (true,false) \n",
       " (true,false)   (true,false)   (false,false)  …  (true,false)   (true,false) \n",
       " (true,false)   (true,false)   (false,false)     (true,false)   (true,false) \n",
       " (false,false)  (false,false)  (true,false)      (false,false)  (false,false)\n",
       " (false,false)  (true,false)   (false,false)     (true,false)   (true,false) "
      ]
     },
     "execution_count": 64,
     "metadata": {},
     "output_type": "execute_result"
    }
   ],
   "source": [
    "# filter out rare SNPs with MAF < 0.05\n",
    "map4[:, mafcol .>= 0.05]"
   ]
  },
  {
   "cell_type": "code",
   "execution_count": 65,
   "metadata": {
    "collapsed": false
   },
   "outputs": [
    {
     "data": {
      "text/plain": [
       "817x896 SnpArrays.SnpArray{2}:\n",
       " (false,false)  (false,false)  (false,false)  …  (true,false)   (false,false)\n",
       " (true,false)   (false,false)  (false,false)     (true,false)   (false,false)\n",
       " (false,false)  (false,false)  (false,false)     (false,false)  (false,false)\n",
       " (true,false)   (false,false)  (false,false)     (true,false)   (false,false)\n",
       " (false,false)  (false,false)  (false,false)     (false,false)  (false,false)\n",
       " (false,false)  (false,false)  (false,false)  …  (false,false)  (false,false)\n",
       " (true,false)   (false,false)  (false,false)     (true,true)    (false,false)\n",
       " (false,false)  (false,false)  (false,false)     (true,false)   (false,false)\n",
       " (false,false)  (false,false)  (true,false)      (true,false)   (false,false)\n",
       " (false,false)  (false,false)  (false,false)     (false,false)  (false,false)\n",
       " (false,false)  (false,false)  (false,false)  …  (false,false)  (false,false)\n",
       " (true,false)   (false,false)  (false,false)     (true,false)   (false,false)\n",
       " (true,true)    (false,false)  (false,false)     (true,true)    (false,false)\n",
       " ⋮                                            ⋱                 ⋮            \n",
       " (false,false)  (false,false)  (false,false)  …  (true,false)   (false,false)\n",
       " (false,false)  (false,false)  (false,false)     (false,false)  (false,false)\n",
       " (false,false)  (false,false)  (false,false)     (false,false)  (false,false)\n",
       " (false,false)  (false,false)  (false,false)     (false,false)  (false,false)\n",
       " (false,false)  (false,false)  (false,false)     (false,false)  (false,false)\n",
       " (false,false)  (false,false)  (false,false)  …  (false,false)  (false,false)\n",
       " (true,false)   (false,false)  (false,false)     (true,false)   (false,false)\n",
       " (true,false)   (false,false)  (false,false)     (true,false)   (false,false)\n",
       " (true,false)   (false,false)  (false,false)     (true,false)   (false,false)\n",
       " (true,false)   (false,false)  (false,false)     (true,false)   (false,false)\n",
       " (false,false)  (false,false)  (false,false)  …  (false,false)  (false,false)\n",
       " (false,false)  (false,false)  (false,false)     (true,false)   (false,false)"
      ]
     },
     "execution_count": 65,
     "metadata": {},
     "output_type": "execute_result"
    }
   ],
   "source": [
    "# filter out individuals with genotyping success rate < 0.999\n",
    "map4[nmissrow / size(map4, 2) .< 0.001, :]"
   ]
  },
  {
   "cell_type": "markdown",
   "metadata": {},
   "source": [
    "`sub()` and `slice()` functions work with `SnpArray`. These functions create views of subarray without copying and provide more efficiency."
   ]
  },
  {
   "cell_type": "code",
   "execution_count": 66,
   "metadata": {
    "collapsed": false
   },
   "outputs": [
    {
     "data": {
      "text/plain": [
       "150-element Array{Float64,1}:\n",
       " 0.226799 \n",
       " 0.397704 \n",
       " 0.0630865\n",
       " 0.206465 \n",
       " 0.155892 \n",
       " 0.226799 \n",
       " 0.37122  \n",
       " 0.38634  \n",
       " 0.156054 \n",
       " 0.122523 \n",
       " 0.123566 \n",
       " 0.0866388\n",
       " 0.123045 \n",
       " ⋮        \n",
       " 0.390167 \n",
       " 0.390511 \n",
       " 0.409424 \n",
       " 0.354015 \n",
       " 0.411366 \n",
       " 0.366771 \n",
       " 0.390511 \n",
       " 0.391032 \n",
       " 0.395725 \n",
       " 0.354015 \n",
       " 0.390511 \n",
       " 0.382046 "
      ]
     },
     "execution_count": 66,
     "metadata": {},
     "output_type": "execute_result"
    }
   ],
   "source": [
    "_, _, mafcommon = summarysnps(sub(map4, :, mafcol .>= 0.05))\n",
    "mafcommon"
   ]
  },
  {
   "cell_type": "markdown",
   "metadata": {},
   "source": [
    "## Assignment\n",
    "\n",
    "It is possible to assign specific genotypes to a `SnpArray` entry."
   ]
  },
  {
   "cell_type": "code",
   "execution_count": 67,
   "metadata": {
    "collapsed": false
   },
   "outputs": [
    {
     "data": {
      "text/plain": [
       "(false,false)"
      ]
     },
     "execution_count": 67,
     "metadata": {},
     "output_type": "execute_result"
    }
   ],
   "source": [
    "map4[1, 1]"
   ]
  },
  {
   "cell_type": "code",
   "execution_count": 68,
   "metadata": {
    "collapsed": false
   },
   "outputs": [
    {
     "data": {
      "text/plain": [
       "(true,false)"
      ]
     },
     "execution_count": 68,
     "metadata": {},
     "output_type": "execute_result"
    }
   ],
   "source": [
    "map4[1, 1] = (true, false)\n",
    "map4[1, 1]"
   ]
  },
  {
   "cell_type": "code",
   "execution_count": 69,
   "metadata": {
    "collapsed": false
   },
   "outputs": [
    {
     "data": {
      "text/plain": [
       "(false,true)"
      ]
     },
     "execution_count": 69,
     "metadata": {},
     "output_type": "execute_result"
    }
   ],
   "source": [
    "map4[1, 1] = NaN\n",
    "map4[1, 1]"
   ]
  },
  {
   "cell_type": "code",
   "execution_count": 70,
   "metadata": {
    "collapsed": false
   },
   "outputs": [
    {
     "data": {
      "text/plain": [
       "(false,false)"
      ]
     },
     "execution_count": 70,
     "metadata": {},
     "output_type": "execute_result"
    }
   ],
   "source": [
    "map4[1, 1] = 0\n",
    "map4[1, 1]"
   ]
  },
  {
   "cell_type": "markdown",
   "metadata": {},
   "source": [
    "Subsetted assignment such as `map4[:, 1] = NaN` is also valid."
   ]
  },
  {
   "cell_type": "markdown",
   "metadata": {
    "collapsed": true
   },
   "source": [
    "## Copy, convert, and imputation\n",
    "\n",
    "In some cases we convert whole `SnpArray` to numeric arrays for computations such as PCA and Lasso. Keep in mind the storage of resultant data can be up to 32 fold that of `SnpArray`. Below are estimates of storage for some common data types. Here MAF denotes the average minor allele frequencies.\n",
    "\n",
    "* `SnpArray`: $0.25np$ bytes  \n",
    "* `Matrix{Int8}`: $np$ bytes  \n",
    "* `Matrix{Float32}`: $4np$ bytes  \n",
    "* `Matrix{Float64}`: $8np$ bytes  \n",
    "* `SparseMatrixCSC{Float64, Int64}`: $24 \\cdot NNZ \\approx 24np(2MAF(1-MAF)+MAF^2) = 24np \\cdot MAF(2-MAF)$ bytes. When MAF=0.25, it is $9np$ bytes. When MAF=0.017, it is $0.8np$ bypes, 10 fold smaller than `Matrix{Float64}` type.  \n",
    "* `SparseMatrixCSC{Bool, Int64}`: $2np \\cdot MAF \\cdot 17 = 34 np \\cdot MAF$ bytes. When average MAF=0.25, it is $8.5np$ bytes. When MAF=0.0235, it is $0.8np$ bytes, 10 folder smaller than `Matrix{Float64}` type.  \n",
    "\n",
    "To be concrete, consider 2 typical data sets:  \n",
    "* COPD (GWAS): $n = 6670$ individuals, $p = 630998$ SNPs, average MAF is 0.2454.\n",
    "* GAW19 (sequencing study): $n = 1943$ individuals, $p = 1711766$ SNPs, average MAF is 0.00499.  \n",
    "\n",
    "| Data Type | COPD | GAW19 |  \n",
    "|---|---|---|  \n",
    "| `SnpArray` | 1.05GB | 0.83GB |  \n",
    "| `Matrix{Float64}` | 33.67GB | 26.61GB |  \n",
    "| `SparseMatrixCSC{Float64, Int64}` | 43.5GB | 0.795GB |  \n",
    "| `SparseMatrixCSC{Bool, Int64}` | 35.1GB |0.564GB |  \n",
    "\n",
    "Apparently for data sets with majority of rare variants, converting to sparse matrices saves memory usage and often brings computational advantages too."
   ]
  },
  {
   "cell_type": "code",
   "execution_count": 71,
   "metadata": {
    "collapsed": false
   },
   "outputs": [
    {
     "data": {
      "text/plain": [
       "6874112"
      ]
     },
     "execution_count": 71,
     "metadata": {},
     "output_type": "execute_result"
    }
   ],
   "source": [
    "map4f64 = convert(Matrix{Float64}, map4)\n",
    "# memory usage if convert to Float64\n",
    "Base.summarysize(map4f64)"
   ]
  },
  {
   "cell_type": "code",
   "execution_count": 72,
   "metadata": {
    "collapsed": false
   },
   "outputs": [
    {
     "name": "stdout",
     "output_type": "stream",
     "text": [
      "mean(mafcol) = 0.059234694204908254\n"
     ]
    },
    {
     "data": {
      "text/plain": [
       "1390144"
      ]
     },
     "execution_count": 72,
     "metadata": {},
     "output_type": "execute_result"
    }
   ],
   "source": [
    "@show mean(mafcol)\n",
    "map4f64sp = convert(SparseMatrixCSC{Float64, Int64}, map4)\n",
    "# memory usage if convert to sparse Float64 matrix\n",
    "Base.summarysize(map4f64sp)"
   ]
  },
  {
   "cell_type": "markdown",
   "metadata": {},
   "source": [
    "By default `convert()` method does **not** impute missing genotypes and convert them to `NaN`."
   ]
  },
  {
   "cell_type": "code",
   "execution_count": 73,
   "metadata": {
    "collapsed": false
   },
   "outputs": [
    {
     "data": {
      "text/plain": [
       "(218,218)"
      ]
     },
     "execution_count": 73,
     "metadata": {},
     "output_type": "execute_result"
    }
   ],
   "source": [
    "# number of missing genotypes\n",
    "countnz(isnan(map4)), countnz(isnan(map4f64))"
   ]
  },
  {
   "cell_type": "markdown",
   "metadata": {},
   "source": [
    "We can enforce imputation by setting optional argument `impute = true`. Imputation is done by generating two random alleles according to the minor allele frequency. This is not an optimal strategy and users should make sure genotypes are imputed with high quality using other advanced methods."
   ]
  },
  {
   "cell_type": "code",
   "execution_count": 74,
   "metadata": {
    "collapsed": false
   },
   "outputs": [
    {
     "data": {
      "text/plain": [
       "0"
      ]
     },
     "execution_count": 74,
     "metadata": {},
     "output_type": "execute_result"
    }
   ],
   "source": [
    "map4f64impute = convert(Matrix{Float64}, map4; impute = true)\n",
    "countnz(isnan(map4f64impute))"
   ]
  },
  {
   "cell_type": "markdown",
   "metadata": {},
   "source": [
    "By default `convert()` translates genotypes according to the *additive* SNP model, which essentially is the minor allele counts (0, 1 or 2). Other SNP models are *dominant* and *recessive*.\n",
    "\n",
    "| Genotype | `SnpArray` | `model=:additive` | `model=:dominant` | `model=:recessive` |    \n",
    "|---|---|---|---|---|  \n",
    "| AA | 00 | 0 | 0 | 0 |  \n",
    "| Aa | 10 | 1 | 0 | 2 |\n",
    "| aa | 11 | 2 | 2 | 2 |\n",
    "| missing | 01 | NaN | NaN | NaN | "
   ]
  },
  {
   "cell_type": "code",
   "execution_count": 75,
   "metadata": {
    "collapsed": false
   },
   "outputs": [
    {
     "data": {
      "text/plain": [
       "10x3 Array{Float64,2}:\n",
       " 0.0  0.0  0.0\n",
       " 1.0  0.0  2.0\n",
       " 0.0  0.0  0.0\n",
       " 1.0  0.0  2.0\n",
       " 0.0  0.0  0.0\n",
       " 0.0  0.0  0.0\n",
       " 1.0  0.0  2.0\n",
       " 0.0  0.0  0.0\n",
       " 0.0  0.0  0.0\n",
       " 0.0  0.0  0.0"
      ]
     },
     "execution_count": 75,
     "metadata": {},
     "output_type": "execute_result"
    }
   ],
   "source": [
    "[convert(Vector{Float64}, map4[1:10, 1]; model = :additive) convert(Vector{Float64}, map4[1:10, 1]; model = :dominant) convert(Vector{Float64}, map4[1:10, 1]; model = :recessive)]"
   ]
  },
  {
   "cell_type": "markdown",
   "metadata": {},
   "source": [
    "By default `convert()` does **not** center and scale genotypes. Setting optional arguments `center = true, scale = true` centers genotypes at 2MAF and scales them by $[2 \\cdot MAF \\cdot (1 - MAF)]^{-1/2}$. Mono-allelic SNPs (MAF=0) are not centered or scaled."
   ]
  },
  {
   "cell_type": "code",
   "execution_count": 76,
   "metadata": {
    "collapsed": false
   },
   "outputs": [
    {
     "data": {
      "text/plain": [
       "959x2 Array{Float64,2}:\n",
       " 0.0  -0.76593 \n",
       " 1.0   0.922637\n",
       " 0.0  -0.76593 \n",
       " 1.0   0.922637\n",
       " 0.0  -0.76593 \n",
       " 0.0  -0.76593 \n",
       " 1.0   0.922637\n",
       " 0.0  -0.76593 \n",
       " 0.0  -0.76593 \n",
       " 0.0  -0.76593 \n",
       " 0.0  -0.76593 \n",
       " 0.0  -0.76593 \n",
       " 1.0   0.922637\n",
       " ⋮             \n",
       " 0.0  -0.76593 \n",
       " 0.0  -0.76593 \n",
       " 0.0  -0.76593 \n",
       " 0.0  -0.76593 \n",
       " 1.0   0.922637\n",
       " 1.0   0.922637\n",
       " 1.0   0.922637\n",
       " 1.0   0.922637\n",
       " 1.0   0.922637\n",
       " 1.0   0.922637\n",
       " 0.0  -0.76593 \n",
       " 0.0  -0.76593 "
      ]
     },
     "execution_count": 76,
     "metadata": {},
     "output_type": "execute_result"
    }
   ],
   "source": [
    "[convert(Vector{Float64}, map4[:, 1]) convert(Vector{Float64}, map4[:, 1]; center = true, scale = true)]"
   ]
  },
  {
   "cell_type": "markdown",
   "metadata": {},
   "source": [
    "`copy!()` is the in-place version of `convert()`. Options such as GWAS loop over SNPs and perform statistical anlaysis for each SNP. This can be achieved by"
   ]
  },
  {
   "cell_type": "code",
   "execution_count": 77,
   "metadata": {
    "collapsed": false
   },
   "outputs": [],
   "source": [
    "g = zeros(size(map4, 1))\n",
    "for j = 1:size(map4, 2)\n",
    "    copy!(g, map4[:, j]; model = :additive, impute = true)\n",
    "    # do statistical anlaysis\n",
    "end"
   ]
  },
  {
   "cell_type": "markdown",
   "metadata": {},
   "source": [
    "## Empirical kinship"
   ]
  },
  {
   "cell_type": "markdown",
   "metadata": {},
   "source": [
    "## PCA"
   ]
  },
  {
   "cell_type": "code",
   "execution_count": 78,
   "metadata": {
    "collapsed": false
   },
   "outputs": [
    {
     "name": "stdout",
     "output_type": "stream",
     "text": [
      "Julia Version 0.4.5\n",
      "Commit 2ac304d (2016-03-18 00:58 UTC)\n",
      "Platform Info:\n",
      "  System: Darwin (x86_64-apple-darwin13.4.0)\n",
      "  CPU: Intel(R) Core(TM) i7-3720QM CPU @ 2.60GHz\n",
      "  WORD_SIZE: 64\n",
      "  BLAS: libopenblas (USE64BITINT DYNAMIC_ARCH NO_AFFINITY Sandybridge)\n",
      "  LAPACK: libopenblas64_\n",
      "  LIBM: libopenlibm\n",
      "  LLVM: libLLVM-3.3\n"
     ]
    }
   ],
   "source": [
    "versioninfo()"
   ]
  }
 ],
 "metadata": {
  "kernelspec": {
   "display_name": "Julia 0.4.5",
   "language": "julia",
   "name": "julia-0.4"
  },
  "language_info": {
   "file_extension": ".jl",
   "mimetype": "application/julia",
   "name": "julia",
   "version": "0.4.5"
  }
 },
 "nbformat": 4,
 "nbformat_minor": 0
}
