{
 "cells": [
  {
   "cell_type": "markdown",
   "metadata": {},
   "source": [
    "# SnpArrays.jl"
   ]
  },
  {
   "cell_type": "markdown",
   "metadata": {},
   "source": [
    "The module `SnpArrays` implements the `SnpArray` type for handling biallelic genotypes. `SnpArray` is an array of `Tuple{Bool,Bool}` and adopts the same coding as the [Plink binary format](http://pngu.mgh.harvard.edu/~purcell/plink/binary.shtml). If `A1` and `A2` are two alleles, the coding rule is  \n",
    "\n",
    "| Genotype | SnpArray |  \n",
    "|---|---|---|  \n",
    "| A1,A1 | 00 |  \n",
    "| A1,A2 | 01 |  \n",
    "| A2,A2 | 11 |  \n",
    "| missing | 10 |  \n",
    "The code `10==(true,false)` is reserved for missing genotype. Otherwise the bit `1==true` represents one copy of allele `A2`. For a two-dimensional `SnpArray`, it assumes each row is a person and each column is a SNP.\n",
    "\n",
    "## Constructor\n",
    "\n",
    "There are various ways to initialize a `SnpArray`.  \n",
    "\n",
    "* `SnpArray` can be initialized from [Plink binary files](http://pngu.mgh.harvard.edu/~purcell/plink/binary.shtml), say an example data set hapmap3:"
   ]
  },
  {
   "cell_type": "code",
   "execution_count": 1,
   "metadata": {
    "collapsed": false
   },
   "outputs": [
    {
     "name": "stdout",
     "output_type": "stream",
     "text": [
      "-rw-r--r--@ 1 hzhou3  staff  1128171 Jun  4  2010 hapmap3.bed\n",
      "-rw-r--r--@ 1 hzhou3  staff   388672 Jun  4  2010 hapmap3.bim\n",
      "-rw-r--r--@ 1 hzhou3  staff     7136 Jun  4  2010 hapmap3.fam\n",
      "-rw-r--r--@ 1 hzhou3  staff   332960 Jun  4  2010 hapmap3.map\n"
     ]
    }
   ],
   "source": [
    ";ls -al hapmap3.*"
   ]
  },
  {
   "cell_type": "code",
   "execution_count": 2,
   "metadata": {
    "collapsed": false
   },
   "outputs": [
    {
     "data": {
      "text/plain": [
       "324x13928 SnpArrays.SnpArray{2}:\n",
       " (true,true)  (true,true)   (false,false)  …  (true,true)   (true,true)\n",
       " (true,true)  (false,true)  (false,true)      (false,true)  (true,true)\n",
       " (true,true)  (true,true)   (false,true)      (true,true)   (true,true)\n",
       " (true,true)  (true,true)   (false,true)      (true,true)   (true,true)\n",
       " (true,true)  (true,true)   (false,true)      (true,true)   (true,true)\n",
       " (true,true)  (false,true)  (true,true)    …  (true,true)   (true,true)\n",
       " (true,true)  (true,true)   (true,true)       (true,true)   (true,true)\n",
       " (true,true)  (true,true)   (false,false)     (true,true)   (true,true)\n",
       " (true,true)  (true,true)   (false,true)      (true,true)   (true,true)\n",
       " (true,true)  (true,true)   (false,true)      (true,true)   (true,true)\n",
       " (true,true)  (true,true)   (false,true)   …  (true,true)   (true,true)\n",
       " (true,true)  (true,true)   (true,true)       (true,true)   (true,true)\n",
       " (true,true)  (true,true)   (false,false)     (true,true)   (true,true)\n",
       " ⋮                                         ⋱                           \n",
       " (true,true)  (true,true)   (false,true)      (true,true)   (true,true)\n",
       " (true,true)  (true,true)   (false,false)     (true,true)   (true,true)\n",
       " (true,true)  (true,true)   (false,false)     (true,true)   (true,true)\n",
       " (true,true)  (true,true)   (false,false)  …  (true,true)   (true,true)\n",
       " (true,true)  (true,true)   (false,true)      (true,true)   (true,true)\n",
       " (true,true)  (true,true)   (true,true)       (true,true)   (true,true)\n",
       " (true,true)  (true,true)   (false,true)      (true,true)   (true,true)\n",
       " (true,true)  (true,true)   (false,true)      (true,true)   (true,true)\n",
       " (true,true)  (true,true)   (false,false)  …  (true,true)   (true,true)\n",
       " (true,true)  (true,true)   (false,true)      (true,true)   (true,true)\n",
       " (true,true)  (true,true)   (false,false)     (true,true)   (true,true)\n",
       " (true,true)  (true,true)   (false,false)     (true,true)   (true,true)"
      ]
     },
     "execution_count": 2,
     "metadata": {},
     "output_type": "execute_result"
    }
   ],
   "source": [
    "include(\"../src/SnpArrays.jl\")\n",
    "using SnpArrays\n",
    "hapmap = SnpArray(\"hapmap3\")"
   ]
  },
  {
   "cell_type": "code",
   "execution_count": 3,
   "metadata": {
    "collapsed": false
   },
   "outputs": [
    {
     "data": {
      "text/plain": [
       "(324,13928)"
      ]
     },
     "execution_count": 3,
     "metadata": {},
     "output_type": "execute_result"
    }
   ],
   "source": [
    "# rows are persons; columns are SNPs\n",
    "people, snps = size(hapmap)"
   ]
  },
  {
   "cell_type": "markdown",
   "metadata": {},
   "source": [
    "Internally `SnpArray` stores data as `BitArray`s and consumes approximately amount of memrory as the Plink `bed` file size."
   ]
  },
  {
   "cell_type": "code",
   "execution_count": 4,
   "metadata": {
    "collapsed": false
   },
   "outputs": [
    {
     "data": {
      "text/plain": [
       "1128256"
      ]
     },
     "execution_count": 4,
     "metadata": {},
     "output_type": "execute_result"
    }
   ],
   "source": [
    "# memory usage\n",
    "Base.summarysize(hapmap)"
   ]
  },
  {
   "cell_type": "markdown",
   "metadata": {},
   "source": [
    "* `SnpArray` can be initialized from a matrix of A1 allele counts."
   ]
  },
  {
   "cell_type": "code",
   "execution_count": 5,
   "metadata": {
    "collapsed": false
   },
   "outputs": [
    {
     "data": {
      "text/plain": [
       "5x3 SnpArrays.SnpArray{2}:\n",
       " (false,false)  (false,true)   (true,true)  \n",
       " (false,false)  (true,true)    (false,false)\n",
       " (false,true)   (false,false)  (true,true)  \n",
       " (false,false)  (true,true)    (true,true)  \n",
       " (false,true)   (false,true)   (true,true)  "
      ]
     },
     "execution_count": 5,
     "metadata": {},
     "output_type": "execute_result"
    }
   ],
   "source": [
    "SnpArray(rand(0:2, 5, 3))"
   ]
  },
  {
   "cell_type": "markdown",
   "metadata": {},
   "source": [
    "* `SnpArray(m, n)` generates an m by n `SnpArray` with all A1 alleles."
   ]
  },
  {
   "cell_type": "code",
   "execution_count": 6,
   "metadata": {
    "collapsed": false
   },
   "outputs": [
    {
     "data": {
      "text/plain": [
       "5x3 SnpArrays.SnpArray{2}:\n",
       " (false,false)  (false,false)  (false,false)\n",
       " (false,false)  (false,false)  (false,false)\n",
       " (false,false)  (false,false)  (false,false)\n",
       " (false,false)  (false,false)  (false,false)\n",
       " (false,false)  (false,false)  (false,false)"
      ]
     },
     "execution_count": 6,
     "metadata": {},
     "output_type": "execute_result"
    }
   ],
   "source": [
    "s = SnpArray(5, 3)"
   ]
  },
  {
   "cell_type": "markdown",
   "metadata": {},
   "source": [
    "## Summary statistics\n",
    "\n",
    "`summarize()` computes  \n",
    "* `maf`: minor allele frequencies, taking into account of missingness.  \n",
    "* `minor_allele`: a BitVector indicating the minor allele for each SNP. `minor_allele[j]==true` means A1 is the minor allele for SNP j. `minor_allele[j]==false` means A2 is the minor allele for SNP j.  \n",
    "* `missings_by_snp`: number of missing genotypes for each snp.  \n",
    "* `missing_by_person`: number of missing genotypes for each person."
   ]
  },
  {
   "cell_type": "code",
   "execution_count": 7,
   "metadata": {
    "collapsed": false
   },
   "outputs": [
    {
     "data": {
      "text/plain": [
       "1x13928 Array{Float64,2}:\n",
       " 0.0  0.0776398  0.324074  0.191589  …  0.00154321  0.0417957  0.00617284"
      ]
     },
     "execution_count": 7,
     "metadata": {},
     "output_type": "execute_result"
    }
   ],
   "source": [
    "maf, minor_allele, missings_by_snp, missings_by_person = summarize(hapmap)\n",
    "# minor allele frequencies\n",
    "maf'"
   ]
  },
  {
   "cell_type": "code",
   "execution_count": 8,
   "metadata": {
    "collapsed": false
   },
   "outputs": [
    {
     "data": {
      "text/plain": [
       "(11894,11894)"
      ]
     },
     "execution_count": 8,
     "metadata": {},
     "output_type": "execute_result"
    }
   ],
   "source": [
    "# total number of missing genotypes\n",
    "sum(missings_by_snp), sum(missings_by_person)"
   ]
  },
  {
   "cell_type": "markdown",
   "metadata": {},
   "source": [
    "## Random genotypes\n",
    "\n",
    "`randgeno(a1freq)` generates a random genotype according to allele A1 frequency `a1freq`."
   ]
  },
  {
   "cell_type": "code",
   "execution_count": 9,
   "metadata": {
    "collapsed": false
   },
   "outputs": [
    {
     "data": {
      "text/plain": [
       "(false,false)"
      ]
     },
     "execution_count": 9,
     "metadata": {},
     "output_type": "execute_result"
    }
   ],
   "source": [
    "randgeno(0.5)"
   ]
  },
  {
   "cell_type": "markdown",
   "metadata": {},
   "source": [
    "`randgeno(maf, minor_allele)` generates a random genotype according to minor allele frequency `maf` and whether the minor allele is A1 (`minor_allele==true`) or A2 (`minor_allele==false`)."
   ]
  },
  {
   "cell_type": "code",
   "execution_count": 10,
   "metadata": {
    "collapsed": false
   },
   "outputs": [
    {
     "data": {
      "text/plain": [
       "(true,true)"
      ]
     },
     "execution_count": 10,
     "metadata": {},
     "output_type": "execute_result"
    }
   ],
   "source": [
    "randgeno(0.5, true)"
   ]
  },
  {
   "cell_type": "markdown",
   "metadata": {},
   "source": [
    "`randgeno(n, maf, minor_allele)` generates a vector of random genotypes according to a common minor allele frequency `maf` and the minor allele."
   ]
  },
  {
   "cell_type": "code",
   "execution_count": 11,
   "metadata": {
    "collapsed": false
   },
   "outputs": [
    {
     "data": {
      "text/plain": [
       "10-element SnpArrays.SnpArray{1}:\n",
       " (true,true) \n",
       " (true,true) \n",
       " (false,true)\n",
       " (true,true) \n",
       " (false,true)\n",
       " (true,true) \n",
       " (true,true) \n",
       " (false,true)\n",
       " (true,true) \n",
       " (false,true)"
      ]
     },
     "execution_count": 11,
     "metadata": {},
     "output_type": "execute_result"
    }
   ],
   "source": [
    "randgeno(10, 0.25, true)"
   ]
  },
  {
   "cell_type": "markdown",
   "metadata": {},
   "source": [
    "`randgeno(m, n, maf, minor_allele)` generates a random $m$-by-$n$ `SnpArray` according to a vector of minor allele frequencies `maf` and a minor allele indicator vector. Lengths of both vectors should be $n$."
   ]
  },
  {
   "cell_type": "code",
   "execution_count": 12,
   "metadata": {
    "collapsed": false
   },
   "outputs": [
    {
     "data": {
      "text/plain": [
       "324x13928 SnpArrays.SnpArray{2}:\n",
       " (true,true)  (true,true)   (true,true)    …  (true,true)   (true,true)\n",
       " (true,true)  (true,true)   (false,false)     (true,true)   (true,true)\n",
       " (true,true)  (true,true)   (false,true)      (true,true)   (true,true)\n",
       " (true,true)  (false,true)  (false,true)      (true,true)   (true,true)\n",
       " (true,true)  (true,true)   (false,false)     (true,true)   (true,true)\n",
       " (true,true)  (true,true)   (false,true)   …  (false,true)  (true,true)\n",
       " (true,true)  (true,true)   (false,false)     (true,true)   (true,true)\n",
       " (true,true)  (true,true)   (true,true)       (true,true)   (true,true)\n",
       " (true,true)  (false,true)  (true,true)       (true,true)   (true,true)\n",
       " (true,true)  (false,true)  (false,false)     (true,true)   (true,true)\n",
       " (true,true)  (true,true)   (false,true)   …  (true,true)   (true,true)\n",
       " (true,true)  (true,true)   (false,true)      (true,true)   (true,true)\n",
       " (true,true)  (true,true)   (true,true)       (true,true)   (true,true)\n",
       " ⋮                                         ⋱                           \n",
       " (true,true)  (true,true)   (false,true)      (true,true)   (true,true)\n",
       " (true,true)  (true,true)   (false,true)      (true,true)   (true,true)\n",
       " (true,true)  (true,true)   (false,true)      (true,true)   (true,true)\n",
       " (true,true)  (true,true)   (true,true)    …  (true,true)   (true,true)\n",
       " (true,true)  (false,true)  (false,true)      (true,true)   (true,true)\n",
       " (true,true)  (true,true)   (true,true)       (true,true)   (true,true)\n",
       " (true,true)  (true,true)   (false,true)      (true,true)   (true,true)\n",
       " (true,true)  (true,true)   (true,true)       (true,true)   (true,true)\n",
       " (true,true)  (true,true)   (false,true)   …  (true,true)   (true,true)\n",
       " (true,true)  (true,true)   (false,false)     (true,true)   (true,true)\n",
       " (true,true)  (true,true)   (false,true)      (true,true)   (true,true)\n",
       " (true,true)  (true,true)   (true,true)       (true,true)   (true,true)"
      ]
     },
     "execution_count": 12,
     "metadata": {},
     "output_type": "execute_result"
    }
   ],
   "source": [
    "# this is a random replicate of map4 data\n",
    "randgeno(size(hapmap), maf, minor_allele)"
   ]
  },
  {
   "cell_type": "markdown",
   "metadata": {},
   "source": [
    "## Subsetting\n",
    "\n",
    "Subsetting a `SnpArray` works the same way as subsetting any other arrays."
   ]
  },
  {
   "cell_type": "code",
   "execution_count": 13,
   "metadata": {
    "collapsed": false
   },
   "outputs": [
    {
     "data": {
      "text/plain": [
       "1x13928 SnpArrays.SnpArray{2}:\n",
       " (true,true)  (true,true)  (false,false)  …  (true,true)  (true,true)"
      ]
     },
     "execution_count": 13,
     "metadata": {},
     "output_type": "execute_result"
    }
   ],
   "source": [
    "# genotypes of the 1st individual\n",
    "hapmap[1, :]"
   ]
  },
  {
   "cell_type": "code",
   "execution_count": 14,
   "metadata": {
    "collapsed": false
   },
   "outputs": [
    {
     "data": {
      "text/plain": [
       "324-element SnpArrays.SnpArray{1}:\n",
       " (true,true)  \n",
       " (true,true)  \n",
       " (false,true) \n",
       " (false,true) \n",
       " (true,true)  \n",
       " (false,false)\n",
       " (false,false)\n",
       " (true,true)  \n",
       " (true,true)  \n",
       " (true,true)  \n",
       " (true,true)  \n",
       " (true,true)  \n",
       " (false,true) \n",
       " ⋮            \n",
       " (false,false)\n",
       " (true,true)  \n",
       " (false,true) \n",
       " (true,true)  \n",
       " (true,true)  \n",
       " (true,true)  \n",
       " (true,true)  \n",
       " (true,true)  \n",
       " (false,true) \n",
       " (true,true)  \n",
       " (true,true)  \n",
       " (true,true)  "
      ]
     },
     "execution_count": 14,
     "metadata": {},
     "output_type": "execute_result"
    }
   ],
   "source": [
    "# genotypes of the 5th SNP\n",
    "hapmap[:, 5]"
   ]
  },
  {
   "cell_type": "code",
   "execution_count": 15,
   "metadata": {
    "collapsed": false
   },
   "outputs": [
    {
     "data": {
      "text/plain": [
       "5x6 SnpArrays.SnpArray{2}:\n",
       " (true,true)   (true,true)  (false,true)  …  (true,true)   (false,true)\n",
       " (true,true)   (true,true)  (true,true)      (true,true)   (false,true)\n",
       " (false,true)  (true,true)  (true,true)      (false,true)  (true,true) \n",
       " (false,true)  (true,true)  (true,true)      (true,true)   (false,true)\n",
       " (true,true)   (true,true)  (true,true)      (true,true)   (false,true)"
      ]
     },
     "execution_count": 15,
     "metadata": {},
     "output_type": "execute_result"
    }
   ],
   "source": [
    "# subsetting both individuals and SNPs\n",
    "hapmap[1:5, 5:10]"
   ]
  },
  {
   "cell_type": "code",
   "execution_count": 16,
   "metadata": {
    "collapsed": false
   },
   "outputs": [
    {
     "data": {
      "text/plain": [
       "324x12085 SnpArrays.SnpArray{2}:\n",
       " (true,true)   (false,false)  (true,true)   …  (false,true)  (false,true)\n",
       " (false,true)  (false,true)   (false,true)     (true,true)   (true,true) \n",
       " (true,true)   (false,true)   (false,true)     (true,true)   (true,true) \n",
       " (true,true)   (false,true)   (true,true)      (false,true)  (false,true)\n",
       " (true,true)   (false,true)   (false,true)     (true,true)   (true,true) \n",
       " (false,true)  (true,true)    (true,true)   …  (false,true)  (false,true)\n",
       " (true,true)   (true,true)    (true,true)      (true,true)   (true,true) \n",
       " (true,true)   (false,false)  (true,true)      (true,true)   (true,true) \n",
       " (true,true)   (false,true)   (false,true)     (true,true)   (true,true) \n",
       " (true,true)   (false,true)   (true,true)      (false,true)  (false,true)\n",
       " (true,true)   (false,true)   (true,true)   …  (true,true)   (true,true) \n",
       " (true,true)   (true,true)    (false,true)     (false,true)  (false,true)\n",
       " (true,true)   (false,false)  (true,true)      (false,true)  (false,true)\n",
       " ⋮                                          ⋱                            \n",
       " (true,true)   (false,true)   (true,true)      (false,true)  (false,true)\n",
       " (true,true)   (false,false)  (true,true)      (false,true)  (false,true)\n",
       " (true,true)   (false,false)  (true,true)      (true,true)   (true,true) \n",
       " (true,true)   (false,false)  (false,true)  …  (true,true)   (true,true) \n",
       " (true,true)   (false,true)   (true,true)      (true,true)   (true,true) \n",
       " (true,true)   (true,true)    (false,true)     (false,true)  (false,true)\n",
       " (true,true)   (false,true)   (false,true)     (false,true)  (false,true)\n",
       " (true,true)   (false,true)   (true,true)      (true,true)   (true,true) \n",
       " (true,true)   (false,false)  (true,true)   …  (false,true)  (false,true)\n",
       " (true,true)   (false,true)   (false,true)     (false,true)  (false,true)\n",
       " (true,true)   (false,false)  (false,true)     (false,true)  (false,true)\n",
       " (true,true)   (false,false)  (true,true)      (true,true)   (true,true) "
      ]
     },
     "execution_count": 16,
     "metadata": {},
     "output_type": "execute_result"
    }
   ],
   "source": [
    "# filter out rare SNPs with MAF < 0.05\n",
    "hapmap[:, maf .>= 0.05]"
   ]
  },
  {
   "cell_type": "code",
   "execution_count": 17,
   "metadata": {
    "collapsed": false
   },
   "outputs": [
    {
     "data": {
      "text/plain": [
       "220x13928 SnpArrays.SnpArray{2}:\n",
       " (true,true)  (true,true)   (false,false)  …  (true,true)   (true,true)\n",
       " (true,true)  (false,true)  (false,true)      (false,true)  (true,true)\n",
       " (true,true)  (true,true)   (false,true)      (true,true)   (true,true)\n",
       " (true,true)  (true,true)   (true,true)       (true,true)   (true,true)\n",
       " (true,true)  (true,true)   (false,false)     (true,true)   (true,true)\n",
       " (true,true)  (true,true)   (false,true)   …  (true,true)   (true,true)\n",
       " (true,true)  (true,true)   (false,true)      (true,true)   (true,true)\n",
       " (true,true)  (true,true)   (false,true)      (true,true)   (true,true)\n",
       " (true,true)  (true,true)   (false,false)     (true,true)   (true,true)\n",
       " (true,true)  (true,true)   (false,true)      (true,true)   (true,true)\n",
       " (true,true)  (false,true)  (false,true)   …  (true,true)   (true,true)\n",
       " (true,true)  (true,true)   (true,true)       (true,true)   (true,true)\n",
       " (true,true)  (true,true)   (true,true)       (true,true)   (true,true)\n",
       " ⋮                                         ⋱                           \n",
       " (true,true)  (true,true)   (false,false)     (true,true)   (true,true)\n",
       " (true,true)  (true,true)   (false,false)     (true,true)   (true,true)\n",
       " (true,true)  (true,true)   (false,false)  …  (true,true)   (true,true)\n",
       " (true,true)  (true,true)   (false,true)      (true,true)   (true,true)\n",
       " (true,true)  (true,true)   (false,false)     (true,true)   (true,true)\n",
       " (true,true)  (true,true)   (false,false)     (true,true)   (true,true)\n",
       " (true,true)  (true,true)   (false,false)     (true,true)   (true,true)\n",
       " (true,true)  (true,true)   (false,true)   …  (true,true)   (true,true)\n",
       " (true,true)  (true,true)   (false,false)     (true,true)   (true,true)\n",
       " (true,true)  (true,true)   (false,true)      (true,true)   (true,true)\n",
       " (true,true)  (true,true)   (false,false)     (true,true)   (true,true)\n",
       " (true,true)  (true,true)   (false,false)     (true,true)   (true,true)"
      ]
     },
     "execution_count": 17,
     "metadata": {},
     "output_type": "execute_result"
    }
   ],
   "source": [
    "# filter out individuals with genotyping success rate < 0.90\n",
    "hapmap[missings_by_person / people .< 0.1, :]"
   ]
  },
  {
   "cell_type": "markdown",
   "metadata": {},
   "source": [
    "`sub()` and `slice()` create views of subarray without copying data and improve efficiency in many calculations."
   ]
  },
  {
   "cell_type": "code",
   "execution_count": 18,
   "metadata": {
    "collapsed": false
   },
   "outputs": [
    {
     "data": {
      "text/plain": [
       "1x12085 Array{Float64,2}:\n",
       " 0.0776398  0.324074  0.191589  …  0.310937  0.23913  0.23913  0.23913"
      ]
     },
     "execution_count": 18,
     "metadata": {},
     "output_type": "execute_result"
    }
   ],
   "source": [
    "mafcommon, = summarize(sub(hapmap, :, maf .>= 0.05))\n",
    "mafcommon'"
   ]
  },
  {
   "cell_type": "markdown",
   "metadata": {},
   "source": [
    "## Assignment\n",
    "\n",
    "It is possible to assign specific genotypes to a `SnpArray` entry."
   ]
  },
  {
   "cell_type": "code",
   "execution_count": 19,
   "metadata": {
    "collapsed": false
   },
   "outputs": [
    {
     "data": {
      "text/plain": [
       "(true,true)"
      ]
     },
     "execution_count": 19,
     "metadata": {},
     "output_type": "execute_result"
    }
   ],
   "source": [
    "hapmap[1, 1]"
   ]
  },
  {
   "cell_type": "code",
   "execution_count": 20,
   "metadata": {
    "collapsed": false
   },
   "outputs": [
    {
     "data": {
      "text/plain": [
       "(false,true)"
      ]
     },
     "execution_count": 20,
     "metadata": {},
     "output_type": "execute_result"
    }
   ],
   "source": [
    "hapmap[1, 1] = (false, true)\n",
    "hapmap[1, 1]"
   ]
  },
  {
   "cell_type": "code",
   "execution_count": 21,
   "metadata": {
    "collapsed": false
   },
   "outputs": [
    {
     "data": {
      "text/plain": [
       "(true,false)"
      ]
     },
     "execution_count": 21,
     "metadata": {},
     "output_type": "execute_result"
    }
   ],
   "source": [
    "hapmap[1, 1] = NaN\n",
    "hapmap[1, 1]"
   ]
  },
  {
   "cell_type": "code",
   "execution_count": 22,
   "metadata": {
    "collapsed": false
   },
   "outputs": [
    {
     "data": {
      "text/plain": [
       "(true,true)"
      ]
     },
     "execution_count": 22,
     "metadata": {},
     "output_type": "execute_result"
    }
   ],
   "source": [
    "hapmap[1, 1] = 2\n",
    "hapmap[1, 1]"
   ]
  },
  {
   "cell_type": "markdown",
   "metadata": {},
   "source": [
    "Subsetted assignment such as `map4[:, 1] = NaN` is also valid."
   ]
  },
  {
   "cell_type": "markdown",
   "metadata": {
    "collapsed": true
   },
   "source": [
    "## Copy, convert, and imputation\n",
    "\n",
    "In most analysis we convert the whole `SnpArray` or slices of it to numeric arrays for computations. Keep in mind the storage of resultant data can be up to 32 fold that of `SnpArray`. Below are estimates of memory usage for some common data types with $n$ individuals and $p$ SNPs. Here MAF denotes the **average** minor allele frequencies.\n",
    "\n",
    "* `SnpArray`: $0.25np$ bytes  \n",
    "* `Matrix{Int8}`: $np$ bytes  \n",
    "* `Matrix{Float32}`: $4np$ bytes  \n",
    "* `Matrix{Float64}`: $8np$ bytes  \n",
    "* `SparseMatrixCSC{Float64,Int64}`: $16 \\cdot \\text{NNZ} + 8(p+1) \\approx 16np(2\\text{MAF}(1-\\text{MAF})+\\text{MAF}^2) + 8(p+1) = 16np \\cdot \\text{MAF}(2-\\text{MAF}) + 8(p+1)$ bytes. When average MAF=0.25, it is about $7np$ bytes. When MAF=0.025, it is about $0.8np$ bypes, 10 fold smaller than `Matrix{Float64}` type.  \n",
    "* `SparseMatrixCSC{Bool,Int64}`: $2np \\cdot \\text{MAF} \\cdot 9 + 16(p+1) = 18 np \\cdot \\text{MAF} + 16(p+1)$ bytes. When average MAF=0.25, it is about $4.5np$ bytes. When MAF=0.045, it is about $0.8np$ bytes, 10 fold smaller than `Matrix{Float64}` type.  \n",
    "\n",
    "To be concrete, consider 2 typical data sets:  \n",
    "* COPD (GWAS): $n = 6670$ individuals, $p = 630998$ SNPs, average MAF is 0.2454.\n",
    "* GAW19 (sequencing study): $n = 1943$ individuals, $p = 1711766$ SNPs, average MAF is 0.00499.  \n",
    "\n",
    "| Data Type | COPD | GAW19 |  \n",
    "|---|---|---|  \n",
    "| `SnpArray` | 1.05GB | 0.83GB |  \n",
    "| `Matrix{Float64}` | 33.67GB | 26.61GB |  \n",
    "| `SparseMatrixCSC{Float64,Int64}` | 29GB | 0.543GB |  \n",
    "| `SparseMatrixCSC{Bool,Int64}` | 18.6GB | 0.326GB |  \n",
    "\n",
    "Apparently for data sets with majority of rare variants, converting to sparse matrices saves memory usage and often brings computational advantages too. When choosing the integer type of the row indices `rowval` and column pointer `colptr` in the `SparseMatrixCSC` format, make sure its maximum is larger than the number of nonzeros in the matrix."
   ]
  },
  {
   "cell_type": "code",
   "execution_count": 23,
   "metadata": {
    "collapsed": false
   },
   "outputs": [
    {
     "data": {
      "text/plain": [
       "36101376"
      ]
     },
     "execution_count": 23,
     "metadata": {},
     "output_type": "execute_result"
    }
   ],
   "source": [
    "hapmapf64 = convert(Matrix{Float64}, hapmap)\n",
    "# memory usage if convert to Float64\n",
    "Base.summarysize(hapmapf64)"
   ]
  },
  {
   "cell_type": "code",
   "execution_count": 24,
   "metadata": {
    "collapsed": false
   },
   "outputs": [
    {
     "data": {
      "text/plain": [
       "0.222585591341583"
      ]
     },
     "execution_count": 24,
     "metadata": {},
     "output_type": "execute_result"
    }
   ],
   "source": [
    "# average maf\n",
    "mean(maf)"
   ]
  },
  {
   "cell_type": "code",
   "execution_count": 25,
   "metadata": {
    "collapsed": false
   },
   "outputs": [
    {
     "data": {
      "text/plain": [
       "25949488"
      ]
     },
     "execution_count": 25,
     "metadata": {},
     "output_type": "execute_result"
    }
   ],
   "source": [
    "hapmapf64sp = convert(SparseMatrixCSC{Float64, Int64}, hapmap)\n",
    "# memory usage if convert to sparse Float64 matrix\n",
    "Base.summarysize(hapmapf64sp)"
   ]
  },
  {
   "cell_type": "code",
   "execution_count": 26,
   "metadata": {
    "collapsed": false
   },
   "outputs": [
    {
     "data": {
      "text/plain": [
       "12974764"
      ]
     },
     "execution_count": 26,
     "metadata": {},
     "output_type": "execute_result"
    }
   ],
   "source": [
    "hapmapf32sp = convert(SparseMatrixCSC{Float32, UInt32}, hapmap)\n",
    "# memory usage if convert to sparse Float32 matrix\n",
    "Base.summarysize(hapmapf32sp)"
   ]
  },
  {
   "cell_type": "markdown",
   "metadata": {},
   "source": [
    "By default `convert()` method does **not** impute missing genotypes but convert them to `NaN`."
   ]
  },
  {
   "cell_type": "code",
   "execution_count": 27,
   "metadata": {
    "collapsed": false
   },
   "outputs": [
    {
     "data": {
      "text/plain": [
       "(11894,11894)"
      ]
     },
     "execution_count": 27,
     "metadata": {},
     "output_type": "execute_result"
    }
   ],
   "source": [
    "# number of missing genotypes\n",
    "countnz(isnan(hapmap)), countnz(isnan(hapmapf64))"
   ]
  },
  {
   "cell_type": "markdown",
   "metadata": {},
   "source": [
    "We can enforce imputation by setting optional argument `impute=true`. Imputation is done by generating two random alleles according to the minor allele frequency. This is not an optimal strategy and users should make sure genotypes are imputed with high quality using other advanced methods."
   ]
  },
  {
   "cell_type": "code",
   "execution_count": 28,
   "metadata": {
    "collapsed": false
   },
   "outputs": [
    {
     "data": {
      "text/plain": [
       "0"
      ]
     },
     "execution_count": 28,
     "metadata": {},
     "output_type": "execute_result"
    }
   ],
   "source": [
    "hapmapf64impute = convert(Matrix{Float64}, hapmap; impute = true)\n",
    "countnz(isnan(hapmapf64impute))"
   ]
  },
  {
   "cell_type": "markdown",
   "metadata": {},
   "source": [
    "By default `convert()` translates genotypes according to the *additive* SNP model, which essentially is the **minor allele** counts (0, 1 or 2). Other SNP models are *dominant* and *recessive*, both in terms of the **minor allele**. When `A1` is the minor allele, genotype is translated to real number according to\n",
    "\n",
    "| Genotype | `SnpArray` | `model=:additive` | `model=:dominant` | `model=:recessive` |    \n",
    "|---|---|---|---|---|  \n",
    "| A1,A1 | 00 | 2 | 1 | 1 |  \n",
    "| A1,A2 | 01 | 1 | 1 | 0 |  \n",
    "| A2,A2 | 11 | 0 | 0 | 0 |  \n",
    "| missing | 10 | NaN | NaN | NaN | \n",
    "\n",
    "When `A2` is the minor allele, genotype is translated according to\n",
    "\n",
    "| Genotype | `SnpArray` | `model=:additive` | `model=:dominant` | `model=:recessive` |    \n",
    "|---|---|---|---|---|  \n",
    "| A1,A1 | 00 | 0 | 0 | 0 |  \n",
    "| A1,A2 | 01 | 1 | 1 | 0 |  \n",
    "| A2,A2 | 11 | 2 | 1 | 1 |  \n",
    "| missing | 10 | NaN | NaN | NaN |"
   ]
  },
  {
   "cell_type": "code",
   "execution_count": 29,
   "metadata": {
    "collapsed": false
   },
   "outputs": [
    {
     "data": {
      "text/plain": [
       "10x3 Array{Float64,2}:\n",
       " 0.0  0.0  0.0\n",
       " 0.0  0.0  0.0\n",
       " 1.0  1.0  0.0\n",
       " 1.0  1.0  0.0\n",
       " 0.0  0.0  0.0\n",
       " 2.0  1.0  1.0\n",
       " 2.0  1.0  1.0\n",
       " 0.0  0.0  0.0\n",
       " 0.0  0.0  0.0\n",
       " 0.0  0.0  0.0"
      ]
     },
     "execution_count": 29,
     "metadata": {},
     "output_type": "execute_result"
    }
   ],
   "source": [
    "[convert(Vector{Float64}, hapmap[1:10, 5]; model = :additive) convert(Vector{Float64}, hapmap[1:10, 5]; model = :dominant) convert(Vector{Float64}, hapmap[1:10, 5]; model = :recessive)]"
   ]
  },
  {
   "cell_type": "markdown",
   "metadata": {},
   "source": [
    "By default `convert()` does **not** center and scale genotypes. Setting optional arguments `center=true, scale=true` centers genotypes at 2MAF and scales them by $[2 \\cdot MAF \\cdot (1 - MAF)]^{-1/2}$. Mono-allelic SNPs (MAF=0) are not scaled."
   ]
  },
  {
   "cell_type": "code",
   "execution_count": 30,
   "metadata": {
    "collapsed": false
   },
   "outputs": [
    {
     "data": {
      "text/plain": [
       "324x2 Array{Float64,2}:\n",
       " 0.0  -1.25702 \n",
       " 0.0  -1.25702 \n",
       " 1.0   0.167017\n",
       " 1.0   0.167017\n",
       " 0.0  -1.25702 \n",
       " 2.0   1.59106 \n",
       " 2.0   1.59106 \n",
       " 0.0  -1.25702 \n",
       " 0.0  -1.25702 \n",
       " 0.0  -1.25702 \n",
       " 0.0  -1.25702 \n",
       " 0.0  -1.25702 \n",
       " 1.0   0.167017\n",
       " ⋮             \n",
       " 2.0   1.59106 \n",
       " 0.0  -1.25702 \n",
       " 1.0   0.167017\n",
       " 0.0  -1.25702 \n",
       " 0.0  -1.25702 \n",
       " 0.0  -1.25702 \n",
       " 0.0  -1.25702 \n",
       " 0.0  -1.25702 \n",
       " 1.0   0.167017\n",
       " 0.0  -1.25702 \n",
       " 0.0  -1.25702 \n",
       " 0.0  -1.25702 "
      ]
     },
     "execution_count": 30,
     "metadata": {},
     "output_type": "execute_result"
    }
   ],
   "source": [
    "[convert(Vector{Float64}, hapmap[:, 5]) convert(Vector{Float64}, hapmap[:, 5]; center = true, scale = true)]"
   ]
  },
  {
   "cell_type": "markdown",
   "metadata": {},
   "source": [
    "`copy!()` is the in-place version of `convert()`. Options such as GWAS loop over SNPs and perform statistical anlaysis for each SNP. This can be achieved by"
   ]
  },
  {
   "cell_type": "code",
   "execution_count": 31,
   "metadata": {
    "collapsed": false
   },
   "outputs": [],
   "source": [
    "g = zeros(size(hapmap, 1))\n",
    "for j = 1:size(hapmap, 2)\n",
    "    copy!(g, hapmap[:, j]; model = :additive, impute = true)\n",
    "    # do statistical anlaysis\n",
    "end"
   ]
  },
  {
   "cell_type": "markdown",
   "metadata": {},
   "source": [
    "## Empirical kinship\n",
    "\n",
    "`grm()` computes the empirical kinship matrix using either the genetic relationship matrix (`model=:GRM`, default) or the method of moment method (`model=:MoM`). Missing genotypes are imputed according to minor allele frequencies on the fly."
   ]
  },
  {
   "cell_type": "code",
   "execution_count": 32,
   "metadata": {
    "collapsed": false
   },
   "outputs": [
    {
     "data": {
      "text/plain": [
       "324x324 Array{Float64,2}:\n",
       " 0.566363   0.0443143  0.0188416  …  0.0626239  0.06858    0.0625061\n",
       " 0.0443143  0.530639   0.0308712     0.0492802  0.04351    0.0607644\n",
       " 0.0188416  0.0308712  0.511348      0.0446786  0.0288571  0.0350833\n",
       " 0.0463298  0.0356164  0.0269727     0.0574615  0.0630155  0.0572398\n",
       " 0.0503864  0.0410962  0.0241546     0.0690436  0.0560241  0.0631594\n",
       " 0.0430385  0.0303637  0.0376147  …  0.0678557  0.0542501  0.0621521\n",
       " 0.0380203  0.0212397  0.0116626     0.0423601  0.036314   0.0356672\n",
       " 0.0393772  0.0367071  0.0204582     0.0555189  0.0526184  0.063383 \n",
       " 0.0287     0.0295828  0.0159914     0.0319977  0.0440216  0.0369149\n",
       " 0.0379033  0.040584   0.0253424     0.0639459  0.0557325  0.0469195\n",
       " 0.0462206  0.0442091  0.0220441  …  0.0564275  0.064667   0.0586591\n",
       " 0.0581122  0.0374812  0.0357274     0.0633427  0.0560261  0.0691391\n",
       " 0.0342962  0.0421267  0.0250422     0.0547831  0.0673045  0.060752 \n",
       " ⋮                                ⋱                                 \n",
       " 0.0634858  0.0531613  0.0370169     0.0830027  0.0834395  0.0935703\n",
       " 0.0647315  0.0502375  0.0317195     0.0885075  0.0770086  0.08581  \n",
       " 0.0656163  0.0536907  0.0366143     0.0863371  0.0811438  0.082067 \n",
       " 0.0630137  0.0548098  0.038532   …  0.0841903  0.0737674  0.085684 \n",
       " 0.0604453  0.0536057  0.0351235     0.0756667  0.07036    0.0782905\n",
       " 0.0622821  0.0583026  0.038044      0.0853157  0.0882032  0.0795649\n",
       " 0.0603048  0.0579695  0.0367735     0.079439   0.0814937  0.0776175\n",
       " 0.0597008  0.0603372  0.0319225     0.0892865  0.0870062  0.0829827\n",
       " 0.0633271  0.0607541  0.0312309  …  0.0938804  0.0761227  0.0832949\n",
       " 0.0626239  0.0492802  0.0446786     0.606936   0.0786347  0.086829 \n",
       " 0.06858    0.04351    0.0288571     0.0786347  0.583828   0.0790327\n",
       " 0.0625061  0.0607644  0.0350833     0.086829   0.0790327  0.576017 "
      ]
     },
     "execution_count": 32,
     "metadata": {},
     "output_type": "execute_result"
    }
   ],
   "source": [
    "# GRM using all SNPs\n",
    "grm(hapmap)"
   ]
  },
  {
   "cell_type": "code",
   "execution_count": 33,
   "metadata": {
    "collapsed": false
   },
   "outputs": [
    {
     "data": {
      "text/plain": [
       "324x324 Array{Float64,2}:\n",
       " 0.556297   0.04153    0.0270458  …  0.0648694  0.0714231  0.0661306\n",
       " 0.04153    0.545419   0.0358033     0.0557851  0.0444889  0.0541418\n",
       " 0.0270458  0.0358033  0.501238      0.0381639  0.0378719  0.0454146\n",
       " 0.0435681  0.044228   0.0258406     0.0497162  0.058592   0.0539135\n",
       " 0.0502747  0.0465918  0.0251001     0.0649697  0.0547835  0.0632559\n",
       " 0.0505847  0.0389108  0.0391248  …  0.0749331  0.0593592  0.0510758\n",
       " 0.0378583  0.025684   0.0157411     0.0453863  0.0331695  0.0333092\n",
       " 0.0452519  0.0369919  0.0262638     0.0570625  0.0541252  0.0662456\n",
       " 0.0257782  0.0219979  0.019691      0.0318039  0.041653   0.0345324\n",
       " 0.0306723  0.0376943  0.0226684     0.0578309  0.0401891  0.0488515\n",
       " 0.0472728  0.0479606  0.0197466  …  0.0604483  0.0626594  0.0509439\n",
       " 0.0598418  0.047357   0.0387598     0.064034   0.0623163  0.0619618\n",
       " 0.024331   0.0415089  0.0215236     0.0523223  0.0660809  0.06096  \n",
       " ⋮                                ⋱                                 \n",
       " 0.0589181  0.0486151  0.0392343     0.0839494  0.0819541  0.097993 \n",
       " 0.0640402  0.0577495  0.0295225     0.0859725  0.073331   0.0835695\n",
       " 0.0665045  0.0519207  0.037831      0.0815361  0.0786844  0.0923796\n",
       " 0.0630399  0.0561566  0.0391435  …  0.0899814  0.0739312  0.0796843\n",
       " 0.0623971  0.0595953  0.0399553     0.0707657  0.0679187  0.0845395\n",
       " 0.0643394  0.0608648  0.0406803     0.0737858  0.0797036  0.0854398\n",
       " 0.061208   0.0619746  0.0300226     0.0833571  0.0881674  0.0797717\n",
       " 0.0574004  0.0595609  0.0324491     0.0912201  0.0878754  0.0800497\n",
       " 0.073815   0.064082   0.0384114  …  0.0982563  0.0722366  0.0863628\n",
       " 0.0648694  0.0557851  0.0381639     0.5992     0.0672464  0.0923436\n",
       " 0.0714231  0.0444889  0.0378719     0.0672464  0.561652   0.0720085\n",
       " 0.0661306  0.0541418  0.0454146     0.0923436  0.0720085  0.576367 "
      ]
     },
     "execution_count": 33,
     "metadata": {},
     "output_type": "execute_result"
    }
   ],
   "source": [
    "# GRM using every other SNP\n",
    "grm(sub(hapmap, :, 1:2:snps))"
   ]
  },
  {
   "cell_type": "code",
   "execution_count": 34,
   "metadata": {
    "collapsed": false
   },
   "outputs": [
    {
     "data": {
      "text/plain": [
       "324x324 Array{Float64,2}:\n",
       " 0.539332   0.0352063  0.0028497   …  0.0541007  0.0635479  0.0506761\n",
       " 0.0352063  0.518312   0.0147768      0.0419374  0.0392214  0.0503218\n",
       " 0.0028497  0.0147768  0.499417       0.0329626  0.0212717  0.0202089\n",
       " 0.0428821  0.0290656  0.0237516      0.0522112  0.0688619  0.0490228\n",
       " 0.0448897  0.033553   0.0154853      0.0653192  0.0574072  0.0562263\n",
       " 0.0317817  0.0207993  0.0264677   …  0.0594147  0.0486685  0.049259 \n",
       " 0.0248144  0.0113522  0.00308588     0.0315455  0.030837   0.0244601\n",
       " 0.0261134  0.0288295  0.0100532      0.038749   0.0461887  0.0463067\n",
       " 0.0212717  0.0263496  0.0145406      0.0297742  0.0485505  0.0301284\n",
       " 0.021626   0.0258772  0.0114703      0.053274   0.0503218  0.0320179\n",
       " 0.0359148  0.0329626  0.00603812  …  0.0498494  0.0559901  0.0499675\n",
       " 0.0478419  0.0316636  0.0270581      0.0551635  0.0546911  0.0519751\n",
       " 0.0315455  0.0425279  0.0255229      0.0591785  0.0709875  0.0578795\n",
       " ⋮                                 ⋱                                 \n",
       " 0.0425279  0.0421736  0.0262315      0.0711056  0.0793719  0.082206 \n",
       " 0.062367   0.0483143  0.0274124      0.0916532  0.0790176  0.0833869\n",
       " 0.0549273  0.0455982  0.0263496      0.080789   0.0816156  0.0724046\n",
       " 0.0452439  0.0425279  0.024342    …  0.0724046  0.0626031  0.070279 \n",
       " 0.0562263  0.0537464  0.0298923      0.0779548  0.0705152  0.074294 \n",
       " 0.0524474  0.054573   0.0304827      0.0787814  0.0865754  0.0706332\n",
       " 0.0517389  0.0513846  0.0303646      0.0785453  0.0838593  0.0739398\n",
       " 0.0486685  0.0525655  0.0213898      0.0823241  0.083505   0.0722865\n",
       " 0.050558   0.0481962  0.0225707   …  0.0882286  0.0738217  0.0692162\n",
       " 0.0541007  0.0419374  0.0329626      0.561533   0.0805528  0.0759473\n",
       " 0.0635479  0.0392214  0.0212717      0.0805528  0.566847   0.0686257\n",
       " 0.0506761  0.0503218  0.0202089      0.0759473  0.0686257  0.533781 "
      ]
     },
     "execution_count": 34,
     "metadata": {},
     "output_type": "execute_result"
    }
   ],
   "source": [
    "# MoM using all SNPs\n",
    "grm(hapmap; method = :MoM)"
   ]
  },
  {
   "cell_type": "markdown",
   "metadata": {},
   "source": [
    "## Principal component analysis \n",
    "\n",
    "Principal compoenent analysis is widely used in genome-wide association analysis (GWAS) for adjusting population substructure. `pca(A, pcs)` computes the top `pcs` principal components based on SNP data `A`. Missing genotypes are imputed according minor allele frequencies on the fly. This means, in presence of missing genotypes, running the function on the same `SnpArray` twice may produce slightly different answers. Each SNP is centered at $2\\text{MAF}$ and scaled by $[2\\text{MAF}(1-\\text{MAF})]^{-1/2}$. Internally `pca()` converts `SnpArray` to the matrix of minor allele counts. The default is `Matrix{Float64}`, which can easily exceed memory size. Users can optionally choose single precision matrix format in the third argument `pca(A, pcs, Matrix{Float32})`. The output is  \n",
    "\n",
    "* `pcscore`: the `pcs` eigen-SNPs, or principal scores, in each column  \n",
    "* `pcloading`: the `pcs` eigen-vectors, or principal loadings, in each column  \n",
    "* `pcvariance`: the `pcs` eigen-values, or principal variances"
   ]
  },
  {
   "cell_type": "code",
   "execution_count": 35,
   "metadata": {
    "collapsed": false
   },
   "outputs": [
    {
     "data": {
      "text/plain": [
       "(\n",
       "324x3 Array{Float64,2}:\n",
       " 38.7055  -1.30779      7.09544  \n",
       " 32.6685  -1.14097      3.40319  \n",
       " 22.8995  -0.558534   -11.1711   \n",
       " 35.6898  -2.7327       2.20065  \n",
       " 37.1527  -0.166859     3.56046  \n",
       " 34.7805  -1.21837     -5.7239   \n",
       " 21.9871  -5.73129     -2.4039   \n",
       " 31.0485  -2.29076      0.0934425\n",
       " 22.7861  -3.75631     -8.13587  \n",
       " 32.2563  -0.29975     -3.22127  \n",
       " 36.3146  -0.872441     5.29255  \n",
       " 35.8666  -0.896326    -0.367194 \n",
       " 33.95    -3.71151     -7.18578  \n",
       "  ⋮                              \n",
       " 49.2409   0.902726   -10.8924   \n",
       " 46.974   -0.866845     0.542013 \n",
       " 48.5366  -0.978929     0.099481 \n",
       " 49.0279   0.271771    -6.00994  \n",
       " 47.8224  -0.241864     6.98751  \n",
       " 48.3291  -1.26235      0.629079 \n",
       " 46.59    -3.53306      4.15501  \n",
       " 48.9775  -1.66679     -0.138704 \n",
       " 48.5506   1.40295      1.8158   \n",
       " 50.1838   0.0780457    2.03419  \n",
       " 48.9832  -2.07986     -2.16415  \n",
       " 48.8319   0.327807    -6.52114  ,\n",
       "\n",
       "13928x3 Array{Float64,2}:\n",
       "  1.9763e-19    2.46399e-19   1.46868e-19\n",
       " -0.00159386   -0.00259196    0.00383829 \n",
       "  0.018361     -0.00508739   -0.00324889 \n",
       "  0.00930754   -0.00508417    0.00433278 \n",
       " -0.021199     -0.0226465    -0.0109355  \n",
       " -4.36887e-19  -4.5511e-19   -2.68422e-19\n",
       "  0.00229022   -0.000214297   0.00283518 \n",
       "  0.0202127    -0.00253912    5.31284e-5 \n",
       " -0.00631331   -0.018114     -0.00591777 \n",
       " -0.000838521  -0.00188896    0.0125196  \n",
       " -1.11108e-18  -1.21834e-18  -7.35194e-19\n",
       " -0.0186907     8.33798e-5   -0.00297277 \n",
       "  0.012776      0.00762697   -0.0134799  \n",
       "  ⋮                                      \n",
       " -0.000732612   0.000504492  -0.00218722 \n",
       " -0.000632773   0.000484101  -0.00221387 \n",
       "  0.000472991  -0.000125077   0.00262917 \n",
       " -0.000653597   0.000766466  -0.00233412 \n",
       " -0.000546907   0.000410278  -0.00252248 \n",
       "  0.000925721  -0.00107179   -0.000928593\n",
       " -0.000770434   0.000515636  -0.00220525 \n",
       " -0.000517363   0.000723657  -0.00228087 \n",
       " -0.000527556   8.5434e-5    -0.0022871  \n",
       "  0.00149917   -0.000178292   0.0046185  \n",
       " -0.00312977   -0.00427396    0.0156997  \n",
       "  8.96182e-5   -0.00285966   -0.00366844 ,\n",
       "\n",
       "[1835.9314322281168,224.63869281214252,70.40471722414881])"
      ]
     },
     "execution_count": 35,
     "metadata": {},
     "output_type": "execute_result"
    }
   ],
   "source": [
    "pcscore, pcloading, pcvariance = pca(hapmap, 3)"
   ]
  },
  {
   "cell_type": "markdown",
   "metadata": {},
   "source": [
    "To use eigen-SNPs for plotting or covariates in GWAS, we typically scale them by their standard deviations so that they have mean zero and unit variance."
   ]
  },
  {
   "cell_type": "code",
   "execution_count": 36,
   "metadata": {
    "collapsed": false
   },
   "outputs": [
    {
     "data": {
      "text/plain": [
       "1x3 Array{Float64,2}:\n",
       " 1.00155  1.00155  1.00155"
      ]
     },
     "execution_count": 36,
     "metadata": {},
     "output_type": "execute_result"
    }
   ],
   "source": [
    "scale!(pcscore, 1.0 ./ √(pcvariance))\n",
    "std(pcscore, 1)\n",
    "# plot or use in GWAS"
   ]
  },
  {
   "cell_type": "code",
   "execution_count": 37,
   "metadata": {
    "collapsed": false
   },
   "outputs": [
    {
     "data": {
      "text/plain": [
       "(\n",
       "324x3 Array{Float64,2}:\n",
       " 27.9454  -0.711409     5.26249  \n",
       " 23.7814  -2.32478      3.1562   \n",
       " 16.6493   0.327457   -24.7695   \n",
       " 24.3301  -2.09048     -3.17218  \n",
       " 25.3713   0.734588     1.95283  \n",
       " 25.6845  -0.648075    -3.94654  \n",
       " 16.3993  -4.30347     -0.287887 \n",
       " 23.0204  -2.01998     -3.72935  \n",
       " 16.4587  -4.44452     10.7975   \n",
       " 21.074   -0.0482502   -3.72487  \n",
       " 25.8971  -1.89193      5.05045  \n",
       " 26.0288  -1.22232      0.0641994\n",
       " 23.6892  -2.17757      0.519391 \n",
       "  ⋮                              \n",
       " 34.6653   0.154151    -2.33152  \n",
       " 31.6728  -1.23291      0.44583  \n",
       " 34.7418  -1.00057     -6.48415  \n",
       " 35.7385  -0.307271    -5.14196  \n",
       " 33.7631  -1.1545       3.40345  \n",
       " 34.2503  -1.49412     -2.53108  \n",
       " 33.2109  -3.39573      2.64499  \n",
       " 34.4034  -0.753437    -0.414166 \n",
       " 34.9499   0.935909    -0.186999 \n",
       " 35.1142   1.32041     -3.60889  \n",
       " 33.6966  -1.70929     -0.404096 \n",
       " 34.2183  -0.192178    -6.35462  ,\n",
       "\n",
       "6964x3 Array{Float64,2}:\n",
       "  2.26835e-18   1.06016e-19   7.99034e-19\n",
       "  0.0258817    -0.00635846   -0.00124704 \n",
       " -0.0298088    -0.0321252    -0.0169001  \n",
       "  0.00318744   -0.000704511   0.0101225  \n",
       " -0.00885052   -0.0254137    -0.0186425  \n",
       " -6.48267e-20   4.15056e-21  -3.47447e-20\n",
       "  0.0183265     0.0111511    -0.00525254 \n",
       "  0.00505839    0.00381199    0.000823227\n",
       " -0.00710956    0.00719876    0.00396129 \n",
       "  0.00901039   -0.00844997    0.0179334  \n",
       "  0.00709824   -0.0145423     0.00211711 \n",
       "  0.0177288    -0.00129563    0.0234369  \n",
       "  0.00415283   -0.00385399    0.00514531 \n",
       "  ⋮                                      \n",
       " -0.00949353    0.0240325    -0.0263516  \n",
       "  0.0198187    -0.00621683   -0.00878195 \n",
       "  0.0126696    -0.0120073    -0.00798298 \n",
       " -0.00652104    0.000883224   0.00709325 \n",
       "  0.00704472   -0.0026422    -0.0100165  \n",
       " -0.000807438   0.000896185  -0.00240603 \n",
       " -0.00111202    0.000581064  -0.00249683 \n",
       "  0.000720484  -5.84361e-5    0.00335846 \n",
       " -0.00065224    0.000426149  -0.0027852  \n",
       " -0.000806481   0.000895104  -0.00240336 \n",
       " -0.000657853   0.000399024  -0.00240539 \n",
       " -0.00438741   -0.00609484    0.033027   ,\n",
       "\n",
       "[924.1628532925124,112.85963910480318,36.33501712044949])"
      ]
     },
     "execution_count": 37,
     "metadata": {},
     "output_type": "execute_result"
    }
   ],
   "source": [
    "# principal components using every other SNP\n",
    "pcscore, pcloading, pcvariance = pca(hapmap[:, 1:2:snps], 3)"
   ]
  },
  {
   "cell_type": "markdown",
   "metadata": {},
   "source": [
    "For large data sets with majority of rare variants, `pca_sp()` is more efficient by first converting `SnpArray` to a sparse matrix (default `SparseMatrixCSC{Float64, Int64}`) and then computing principal components using iterative algorithms. "
   ]
  },
  {
   "cell_type": "code",
   "execution_count": 38,
   "metadata": {
    "collapsed": false
   },
   "outputs": [
    {
     "data": {
      "text/plain": [
       "(\n",
       "324x3 Array{Float64,2}:\n",
       " -38.7408   1.37515      7.0315    \n",
       " -32.6418   1.13487      2.72326   \n",
       " -23.0715   0.649067   -15.8401    \n",
       " -35.712    2.73164      1.84414   \n",
       " -37.1215   0.183687     4.05537   \n",
       " -34.8853   1.22878     -6.65263   \n",
       " -22.0008   5.75263     -1.86876   \n",
       " -31.033    2.24304      0.07411   \n",
       " -22.828    3.83526     -7.69284   \n",
       " -32.196    0.284564    -3.05915   \n",
       " -36.3809   0.834598     5.56534   \n",
       " -35.8359   0.909841    -0.6881    \n",
       " -33.945    3.77571     -7.15246   \n",
       "   ⋮                               \n",
       " -49.1615  -0.957994    -9.9759    \n",
       " -46.9836   0.747927     0.888539  \n",
       " -48.5501   1.02731      0.390933  \n",
       " -48.9944  -0.292083    -5.34304   \n",
       " -47.6961   0.31503      7.0442    \n",
       " -48.241    1.3228       0.466566  \n",
       " -46.4845   3.53639      4.06458   \n",
       " -48.8228   1.69691     -0.00918346\n",
       " -48.5829  -1.40163      2.25708   \n",
       " -50.2077  -0.0843356    2.06916   \n",
       " -48.9875   2.00278     -1.80979   \n",
       " -48.8809  -0.353344    -6.19071   ,\n",
       "\n",
       "13928x3 Array{Float64,2}:\n",
       "  1.62947e-8    1.00258e-7    2.19543e-7 \n",
       "  0.00144106    0.00423472    0.00298182 \n",
       " -0.0183607     0.00514043   -0.0030162  \n",
       " -0.00944037    0.00418502    0.00532369 \n",
       "  0.0211994     0.0226336    -0.0112971  \n",
       " -9.43332e-9   -5.80411e-8   -1.27098e-7 \n",
       " -0.00230359    0.000211456   0.00317518 \n",
       " -0.020211      0.00257871   -0.000428706\n",
       "  0.00631278    0.018093     -0.00612002 \n",
       "  0.000691024   0.00156034    0.0118973  \n",
       "  1.26386e-8    7.77625e-8    1.70284e-7 \n",
       "  0.0186946    -9.10236e-5   -0.00211172 \n",
       " -0.0127737    -0.00761099   -0.0137291  \n",
       "  ⋮                                      \n",
       "  0.000731937  -0.000514342  -0.0022407  \n",
       "  0.000503917  -0.000485311  -0.00212256 \n",
       " -0.000599495   0.000190941   0.00284224 \n",
       "  0.000769369  -0.000538304  -0.00236525 \n",
       "  0.000410222  -0.00037991   -0.00247774 \n",
       " -0.00127613    0.00140335   -0.00204612 \n",
       "  0.000769577  -0.000522513  -0.00228994 \n",
       "  0.000653026  -0.00075783   -0.00209661 \n",
       "  0.000527373  -9.72079e-5   -0.0023529  \n",
       " -0.00149634    0.000205683   0.00474465 \n",
       "  0.0031348     0.00425859    0.0148581  \n",
       " -8.8278e-5     0.00283752   -0.00361695 ,\n",
       "\n",
       "[1835.7062881237132,224.65584720481283,70.43846792254959])"
      ]
     },
     "execution_count": 38,
     "metadata": {},
     "output_type": "execute_result"
    }
   ],
   "source": [
    "pcscore, pcloading, pcvariance = pca_sp(hapmap, 3)"
   ]
  },
  {
   "cell_type": "code",
   "execution_count": 39,
   "metadata": {
    "collapsed": false
   },
   "outputs": [
    {
     "name": "stdout",
     "output_type": "stream",
     "text": [
      "Julia Version 0.4.5\n",
      "Commit 2ac304d (2016-03-18 00:58 UTC)\n",
      "Platform Info:\n",
      "  System: Darwin (x86_64-apple-darwin13.4.0)\n",
      "  CPU: Intel(R) Core(TM) i7-3720QM CPU @ 2.60GHz\n",
      "  WORD_SIZE: 64\n",
      "  BLAS: libopenblas (USE64BITINT DYNAMIC_ARCH NO_AFFINITY Sandybridge)\n",
      "  LAPACK: libopenblas64_\n",
      "  LIBM: libopenlibm\n",
      "  LLVM: libLLVM-3.3\n"
     ]
    }
   ],
   "source": [
    "versioninfo()"
   ]
  },
  {
   "cell_type": "code",
   "execution_count": null,
   "metadata": {
    "collapsed": true
   },
   "outputs": [],
   "source": []
  }
 ],
 "metadata": {
  "kernelspec": {
   "display_name": "Julia 0.4.5",
   "language": "julia",
   "name": "julia-0.4"
  },
  "language_info": {
   "file_extension": ".jl",
   "mimetype": "application/julia",
   "name": "julia",
   "version": "0.4.5"
  }
 },
 "nbformat": 4,
 "nbformat_minor": 0
}
