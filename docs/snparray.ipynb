{
 "cells": [
  {
   "cell_type": "markdown",
   "metadata": {},
   "source": [
    "# SnpArrays.jl"
   ]
  },
  {
   "cell_type": "markdown",
   "metadata": {},
   "source": [
    "The module `SnpArrays` implements the `SnpArray` type for handling biallelic genotypes. `SnpArray` is an array of `Tuple{Bool,Bool}` and adopts the same coding as the [Plink binary format](http://pngu.mgh.harvard.edu/~purcell/plink/binary.shtml). If `A1` and `A2` are two alleles, the coding rule is  \n",
    "\n",
    "| Genotype | SnpArray |  \n",
    "|---|---|---|  \n",
    "| A1,A1 | 00 |  \n",
    "| A1,A2 | 01 |  \n",
    "| A2,A2 | 11 |  \n",
    "| missing | 10 |  \n",
    "The code `10==(true,false)` is reserved for missing genotype. Otherwise the bit `1==true` represents one copy of allele `A2`. For a two-dimensional `SnpArray`, it assumes each row is a person and each column is a SNP.\n",
    "\n",
    "## Constructor\n",
    "\n",
    "There are various ways to initialize a `SnpArray`.  \n",
    "\n",
    "* `SnpArray` can be initialized from [Plink binary files](http://pngu.mgh.harvard.edu/~purcell/plink/binary.shtml), say an example data set of the MAP4 gene on chromosome 3:"
   ]
  },
  {
   "cell_type": "code",
   "execution_count": 1,
   "metadata": {
    "collapsed": false
   },
   "outputs": [
    {
     "name": "stdout",
     "output_type": "stream",
     "text": [
      "-rw-r--r--  1 hzhou3  staff  215043 Jul 16  2014 chr3-map4-geno.bed\n",
      "-rw-r--r--  1 hzhou3  staff   25088 Jul 16  2014 chr3-map4-geno.bim\n",
      "-rw-r--r--  1 hzhou3  staff   39356 Jul 16  2014 chr3-map4-geno.fam\n",
      "-rw-r--r--  1 hzhou3  staff    2321 Jul 16  2014 chr3-map4-geno.log\n"
     ]
    }
   ],
   "source": [
    ";ls -al chr3-map4-geno.*"
   ]
  },
  {
   "cell_type": "code",
   "execution_count": 2,
   "metadata": {
    "collapsed": false
   },
   "outputs": [
    {
     "data": {
      "text/plain": [
       "959x896 SnpArrays.SnpArray{2}:\n",
       " (true,true)   (true,true)  (true,true)   …  (false,true)   (true,true)\n",
       " (false,true)  (true,true)  (true,true)      (false,true)   (true,true)\n",
       " (true,true)   (true,true)  (true,true)      (true,true)    (true,true)\n",
       " (false,true)  (true,true)  (true,true)      (false,true)   (true,true)\n",
       " (true,true)   (true,true)  (true,true)      (true,true)    (true,true)\n",
       " (true,true)   (true,true)  (true,true)   …  (true,true)    (true,true)\n",
       " (false,true)  (true,true)  (true,true)      (false,false)  (true,true)\n",
       " (true,true)   (true,true)  (true,true)      (false,true)   (true,true)\n",
       " (true,true)   (true,true)  (false,true)     (false,true)   (true,true)\n",
       " (true,true)   (true,true)  (true,true)      (true,true)    (true,true)\n",
       " (true,true)   (true,true)  (true,true)   …  (true,true)    (true,true)\n",
       " (true,true)   (true,true)  (true,true)      (true,true)    (true,true)\n",
       " (false,true)  (true,true)  (true,true)      (false,true)   (true,true)\n",
       " ⋮                                        ⋱                 ⋮          \n",
       " (true,true)   (true,true)  (true,true)      (true,true)    (true,true)\n",
       " (true,true)   (true,true)  (true,true)      (true,true)    (true,true)\n",
       " (true,true)   (true,true)  (true,true)      (true,true)    (true,true)\n",
       " (true,true)   (true,true)  (true,true)   …  (true,true)    (true,true)\n",
       " (false,true)  (true,true)  (true,true)      (false,true)   (true,true)\n",
       " (false,true)  (true,true)  (true,true)      (false,true)   (true,true)\n",
       " (false,true)  (true,true)  (true,true)      (false,true)   (true,true)\n",
       " (false,true)  (true,true)  (true,true)      (false,true)   (true,true)\n",
       " (false,true)  (true,true)  (true,true)   …  (false,true)   (true,true)\n",
       " (false,true)  (true,true)  (true,true)      (false,true)   (true,true)\n",
       " (true,true)   (true,true)  (true,true)      (true,true)    (true,true)\n",
       " (true,true)   (true,true)  (true,true)      (false,true)   (true,true)"
      ]
     },
     "execution_count": 2,
     "metadata": {},
     "output_type": "execute_result"
    }
   ],
   "source": [
    "include(\"../src/SnpArrays.jl\")\n",
    "using SnpArrays\n",
    "map4 = SnpArray(\"chr3-map4-geno\")"
   ]
  },
  {
   "cell_type": "code",
   "execution_count": 3,
   "metadata": {
    "collapsed": false
   },
   "outputs": [
    {
     "data": {
      "text/plain": [
       "(959,896)"
      ]
     },
     "execution_count": 3,
     "metadata": {},
     "output_type": "execute_result"
    }
   ],
   "source": [
    "# rows are persons; columns are SNPs\n",
    "people, snps = size(map4)"
   ]
  },
  {
   "cell_type": "markdown",
   "metadata": {},
   "source": [
    "Internally `SnpArray` stores two `BitArray`s `A1` and `A2`. For $n$ individuals and $p$ SNPs, the memory usage of `SnpArray` is $0.25np$ bytes, approximately same size as the Plink `bed` file."
   ]
  },
  {
   "cell_type": "code",
   "execution_count": 4,
   "metadata": {
    "collapsed": false
   },
   "outputs": [
    {
     "data": {
      "text/plain": [
       "2-element Array{Symbol,1}:\n",
       " :A1\n",
       " :A2"
      ]
     },
     "execution_count": 4,
     "metadata": {},
     "output_type": "execute_result"
    }
   ],
   "source": [
    "# fields of a SnpArray\n",
    "fieldnames(map4)"
   ]
  },
  {
   "cell_type": "code",
   "execution_count": 5,
   "metadata": {
    "collapsed": false
   },
   "outputs": [
    {
     "data": {
      "text/plain": [
       "214896"
      ]
     },
     "execution_count": 5,
     "metadata": {},
     "output_type": "execute_result"
    }
   ],
   "source": [
    "# memory usage\n",
    "Base.summarysize(map4)"
   ]
  },
  {
   "cell_type": "markdown",
   "metadata": {},
   "source": [
    "* `SnpArray` can be initialized from a matrix of A1 allele counts."
   ]
  },
  {
   "cell_type": "code",
   "execution_count": 6,
   "metadata": {
    "collapsed": false
   },
   "outputs": [
    {
     "data": {
      "text/plain": [
       "5x3 SnpArrays.SnpArray{2}:\n",
       " (true,true)    (false,true)  (false,false)\n",
       " (false,true)   (true,true)   (false,false)\n",
       " (false,true)   (false,true)  (false,false)\n",
       " (false,true)   (false,true)  (false,false)\n",
       " (false,false)  (false,true)  (false,true) "
      ]
     },
     "execution_count": 6,
     "metadata": {},
     "output_type": "execute_result"
    }
   ],
   "source": [
    "SnpArray(rand(0:2, 5, 3))"
   ]
  },
  {
   "cell_type": "markdown",
   "metadata": {},
   "source": [
    "* `SnpArray(m, n)` generates an m by n `SnpArray` with all A1 alleles."
   ]
  },
  {
   "cell_type": "code",
   "execution_count": 7,
   "metadata": {
    "collapsed": false
   },
   "outputs": [
    {
     "data": {
      "text/plain": [
       "5x3 SnpArrays.SnpArray{2}:\n",
       " (false,false)  (false,false)  (false,false)\n",
       " (false,false)  (false,false)  (false,false)\n",
       " (false,false)  (false,false)  (false,false)\n",
       " (false,false)  (false,false)  (false,false)\n",
       " (false,false)  (false,false)  (false,false)"
      ]
     },
     "execution_count": 7,
     "metadata": {},
     "output_type": "execute_result"
    }
   ],
   "source": [
    "s = SnpArray(5, 3)"
   ]
  },
  {
   "cell_type": "markdown",
   "metadata": {},
   "source": [
    "## Summary statistics\n",
    "\n",
    "`summarize()` computes  \n",
    "* `maf`: minor allele frequencies, taking into account of missingness.  \n",
    "* `minor_allele`: a BitVector indicating the minor allele for each SNP. `minor_allele[j]==true` means A1 is the minor allele for SNP j. \n",
    "* `missings_by_snp`: number of missing genotypes for each snp.  \n",
    "* `missing_by_person`: number of missing genotypes for each person."
   ]
  },
  {
   "cell_type": "code",
   "execution_count": 8,
   "metadata": {
    "collapsed": false
   },
   "outputs": [
    {
     "data": {
      "text/plain": [
       "1x896 Array{Float64,2}:\n",
       " 0.226799  0.00208551  0.0260688  …  0.00260688  0.382046  0.00260688"
      ]
     },
     "execution_count": 8,
     "metadata": {},
     "output_type": "execute_result"
    }
   ],
   "source": [
    "maf, minor_allele, missings_by_snp, missings_by_person = summarize(map4)\n",
    "# minor allele frequencies\n",
    "maf'"
   ]
  },
  {
   "cell_type": "code",
   "execution_count": 9,
   "metadata": {
    "collapsed": false
   },
   "outputs": [
    {
     "data": {
      "text/plain": [
       "(218,218)"
      ]
     },
     "execution_count": 9,
     "metadata": {},
     "output_type": "execute_result"
    }
   ],
   "source": [
    "# total number of missing genotypes\n",
    "sum(missings_by_snp), sum(missings_by_person)"
   ]
  },
  {
   "cell_type": "markdown",
   "metadata": {},
   "source": [
    "## Random genotypes\n",
    "\n",
    "`randgeno(a1freq)` generates a random genotype according to allele A1 frequency `a1freq`."
   ]
  },
  {
   "cell_type": "code",
   "execution_count": 10,
   "metadata": {
    "collapsed": false
   },
   "outputs": [
    {
     "data": {
      "text/plain": [
       "(false,false)"
      ]
     },
     "execution_count": 10,
     "metadata": {},
     "output_type": "execute_result"
    }
   ],
   "source": [
    "randgeno(0.5)"
   ]
  },
  {
   "cell_type": "markdown",
   "metadata": {},
   "source": [
    "`randgeno(maf, minor_allele)` generates a random genotype according to minor allele frequency `maf` and whether the minor allele is A1 (`minor_allele==true`) or A2 (`minor_allele==false`)."
   ]
  },
  {
   "cell_type": "code",
   "execution_count": 11,
   "metadata": {
    "collapsed": false
   },
   "outputs": [
    {
     "data": {
      "text/plain": [
       "(true,true)"
      ]
     },
     "execution_count": 11,
     "metadata": {},
     "output_type": "execute_result"
    }
   ],
   "source": [
    "randgeno(0.5, true)"
   ]
  },
  {
   "cell_type": "markdown",
   "metadata": {},
   "source": [
    "`randgeno(n, maf, minor_allele)` generates a vector of random genotypes according to a common minor allele frequency `maf` and the minor allele."
   ]
  },
  {
   "cell_type": "code",
   "execution_count": 12,
   "metadata": {
    "collapsed": false
   },
   "outputs": [
    {
     "data": {
      "text/plain": [
       "10-element SnpArrays.SnpArray{1}:\n",
       " (false,true)\n",
       " (true,true) \n",
       " (true,true) \n",
       " (true,true) \n",
       " (false,true)\n",
       " (true,true) \n",
       " (false,true)\n",
       " (false,true)\n",
       " (true,true) \n",
       " (false,true)"
      ]
     },
     "execution_count": 12,
     "metadata": {},
     "output_type": "execute_result"
    }
   ],
   "source": [
    "randgeno(10, 0.25, true)"
   ]
  },
  {
   "cell_type": "markdown",
   "metadata": {},
   "source": [
    "`randgeno(m, n, maf, minor_allele)` generates a random $m$-by-$n$ `SnpArray` according to a vector of minor allele frequencies `maf` and a minor allele indicator vector. Lengths of both vectors should be $n$."
   ]
  },
  {
   "cell_type": "code",
   "execution_count": 13,
   "metadata": {
    "collapsed": false
   },
   "outputs": [
    {
     "data": {
      "text/plain": [
       "959x896 SnpArrays.SnpArray{2}:\n",
       " (true,true)   (true,true)  (true,true)   …  (true,true)    (false,true)\n",
       " (false,true)  (true,true)  (true,true)      (false,true)   (true,true) \n",
       " (false,true)  (true,true)  (true,true)      (false,true)   (true,true) \n",
       " (true,true)   (true,true)  (true,true)      (true,true)    (true,true) \n",
       " (true,true)   (true,true)  (true,true)      (true,true)    (true,true) \n",
       " (true,true)   (true,true)  (true,true)   …  (true,true)    (true,true) \n",
       " (false,true)  (true,true)  (true,true)      (false,true)   (true,true) \n",
       " (true,true)   (true,true)  (true,true)      (true,true)    (true,true) \n",
       " (true,true)   (true,true)  (true,true)      (false,true)   (true,true) \n",
       " (true,true)   (true,true)  (true,true)      (false,true)   (true,true) \n",
       " (true,true)   (true,true)  (true,true)   …  (false,true)   (true,true) \n",
       " (true,true)   (true,true)  (true,true)      (false,true)   (true,true) \n",
       " (true,true)   (true,true)  (false,true)     (true,true)    (true,true) \n",
       " ⋮                                        ⋱                 ⋮           \n",
       " (true,true)   (true,true)  (true,true)      (false,true)   (true,true) \n",
       " (false,true)  (true,true)  (true,true)      (true,true)    (true,true) \n",
       " (true,true)   (true,true)  (true,true)      (false,true)   (true,true) \n",
       " (false,true)  (true,true)  (true,true)   …  (true,true)    (true,true) \n",
       " (true,true)   (true,true)  (true,true)      (false,true)   (true,true) \n",
       " (true,true)   (true,true)  (true,true)      (false,true)   (true,true) \n",
       " (true,true)   (true,true)  (true,true)      (false,true)   (true,true) \n",
       " (true,true)   (true,true)  (true,true)      (true,true)    (true,true) \n",
       " (false,true)  (true,true)  (false,true)  …  (false,true)   (true,true) \n",
       " (true,true)   (true,true)  (true,true)      (false,false)  (true,true) \n",
       " (true,true)   (true,true)  (false,true)     (true,true)    (true,true) \n",
       " (true,true)   (true,true)  (true,true)      (false,true)   (true,true) "
      ]
     },
     "execution_count": 13,
     "metadata": {},
     "output_type": "execute_result"
    }
   ],
   "source": [
    "# this is a random replicate of map4 data\n",
    "randgeno(size(map4), maf, minor_allele)"
   ]
  },
  {
   "cell_type": "markdown",
   "metadata": {},
   "source": [
    "## Subsetting\n",
    "\n",
    "Subsetting a `SnpArray` works the same way as subsetting any other arrays."
   ]
  },
  {
   "cell_type": "code",
   "execution_count": 14,
   "metadata": {
    "collapsed": false
   },
   "outputs": [
    {
     "data": {
      "text/plain": [
       "1x896 SnpArrays.SnpArray{2}:\n",
       " (true,true)  (true,true)  (true,true)  …  (false,true)  (true,true)"
      ]
     },
     "execution_count": 14,
     "metadata": {},
     "output_type": "execute_result"
    }
   ],
   "source": [
    "# genotypes of the 1st individual\n",
    "map4[1, :]"
   ]
  },
  {
   "cell_type": "code",
   "execution_count": 15,
   "metadata": {
    "collapsed": false
   },
   "outputs": [
    {
     "data": {
      "text/plain": [
       "959-element SnpArrays.SnpArray{1}:\n",
       " (true,true)\n",
       " (true,true)\n",
       " (true,true)\n",
       " (true,true)\n",
       " (true,true)\n",
       " (true,true)\n",
       " (true,true)\n",
       " (true,true)\n",
       " (true,true)\n",
       " (true,true)\n",
       " (true,true)\n",
       " (true,true)\n",
       " (true,true)\n",
       " ⋮          \n",
       " (true,true)\n",
       " (true,true)\n",
       " (true,true)\n",
       " (true,true)\n",
       " (true,true)\n",
       " (true,true)\n",
       " (true,true)\n",
       " (true,true)\n",
       " (true,true)\n",
       " (true,true)\n",
       " (true,true)\n",
       " (true,true)"
      ]
     },
     "execution_count": 15,
     "metadata": {},
     "output_type": "execute_result"
    }
   ],
   "source": [
    "# genotypes of the 5th SNP\n",
    "map4[:, 5]"
   ]
  },
  {
   "cell_type": "code",
   "execution_count": 16,
   "metadata": {
    "collapsed": false
   },
   "outputs": [
    {
     "data": {
      "text/plain": [
       "5x6 SnpArrays.SnpArray{2}:\n",
       " (true,true)  (false,true)  (true,true)  …  (true,true)  (true,true)\n",
       " (true,true)  (false,true)  (true,true)     (true,true)  (true,true)\n",
       " (true,true)  (true,true)   (true,true)     (true,true)  (true,true)\n",
       " (true,true)  (false,true)  (true,true)     (true,true)  (true,true)\n",
       " (true,true)  (true,true)   (true,true)     (true,true)  (true,true)"
      ]
     },
     "execution_count": 16,
     "metadata": {},
     "output_type": "execute_result"
    }
   ],
   "source": [
    "# subsetting both individuals and SNPs\n",
    "map4[1:5, 5:10]"
   ]
  },
  {
   "cell_type": "code",
   "execution_count": 17,
   "metadata": {
    "collapsed": false
   },
   "outputs": [
    {
     "data": {
      "text/plain": [
       "959x150 SnpArrays.SnpArray{2}:\n",
       " (true,true)   (false,true)   (true,true)   …  (false,true)   (false,true) \n",
       " (false,true)  (false,true)   (false,true)     (false,true)   (false,true) \n",
       " (true,true)   (true,true)    (true,true)      (true,true)    (true,true)  \n",
       " (false,true)  (false,true)   (true,true)      (false,true)   (false,true) \n",
       " (true,true)   (true,true)    (false,true)     (true,true)    (true,true)  \n",
       " (true,true)   (true,true)    (true,true)   …  (true,true)    (true,true)  \n",
       " (false,true)  (false,false)  (true,true)      (false,false)  (false,false)\n",
       " (true,true)   (true,true)    (true,true)      (true,true)    (false,true) \n",
       " (true,true)   (false,false)  (true,true)      (false,false)  (false,true) \n",
       " (true,true)   (false,true)   (true,true)      (false,true)   (true,true)  \n",
       " (true,true)   (true,true)    (true,true)   …  (true,true)    (true,true)  \n",
       " (true,true)   (true,true)    (true,true)      (true,true)    (true,true)  \n",
       " (false,true)  (false,true)   (true,true)      (false,true)   (false,true) \n",
       " ⋮                                          ⋱                              \n",
       " (true,true)   (true,true)    (false,true)     (true,true)    (true,true)  \n",
       " (true,true)   (true,true)    (false,true)     (true,true)    (true,true)  \n",
       " (true,true)   (true,true)    (false,true)     (true,true)    (true,true)  \n",
       " (true,true)   (true,true)    (false,true)  …  (true,true)    (true,true)  \n",
       " (false,true)  (false,true)   (false,true)     (false,true)   (false,true) \n",
       " (false,true)  (false,true)   (true,true)      (false,true)   (false,true) \n",
       " (false,true)  (false,true)   (true,true)      (false,true)   (false,true) \n",
       " (false,true)  (false,true)   (true,true)      (false,true)   (false,true) \n",
       " (false,true)  (false,true)   (true,true)   …  (false,true)   (false,true) \n",
       " (false,true)  (false,true)   (true,true)      (false,true)   (false,true) \n",
       " (true,true)   (true,true)    (false,true)     (true,true)    (true,true)  \n",
       " (true,true)   (false,true)   (true,true)      (false,true)   (false,true) "
      ]
     },
     "execution_count": 17,
     "metadata": {},
     "output_type": "execute_result"
    }
   ],
   "source": [
    "# filter out rare SNPs with MAF < 0.05\n",
    "map4[:, maf .>= 0.05]"
   ]
  },
  {
   "cell_type": "code",
   "execution_count": 18,
   "metadata": {
    "collapsed": false
   },
   "outputs": [
    {
     "data": {
      "text/plain": [
       "817x896 SnpArrays.SnpArray{2}:\n",
       " (true,true)    (true,true)  (true,true)   …  (false,true)   (true,true)\n",
       " (false,true)   (true,true)  (true,true)      (false,true)   (true,true)\n",
       " (true,true)    (true,true)  (true,true)      (true,true)    (true,true)\n",
       " (false,true)   (true,true)  (true,true)      (false,true)   (true,true)\n",
       " (true,true)    (true,true)  (true,true)      (true,true)    (true,true)\n",
       " (true,true)    (true,true)  (true,true)   …  (true,true)    (true,true)\n",
       " (false,true)   (true,true)  (true,true)      (false,false)  (true,true)\n",
       " (true,true)    (true,true)  (true,true)      (false,true)   (true,true)\n",
       " (true,true)    (true,true)  (false,true)     (false,true)   (true,true)\n",
       " (true,true)    (true,true)  (true,true)      (true,true)    (true,true)\n",
       " (true,true)    (true,true)  (true,true)   …  (true,true)    (true,true)\n",
       " (false,true)   (true,true)  (true,true)      (false,true)   (true,true)\n",
       " (false,false)  (true,true)  (true,true)      (false,false)  (true,true)\n",
       " ⋮                                         ⋱                 ⋮          \n",
       " (true,true)    (true,true)  (true,true)   …  (false,true)   (true,true)\n",
       " (true,true)    (true,true)  (true,true)      (true,true)    (true,true)\n",
       " (true,true)    (true,true)  (true,true)      (true,true)    (true,true)\n",
       " (true,true)    (true,true)  (true,true)      (true,true)    (true,true)\n",
       " (true,true)    (true,true)  (true,true)      (true,true)    (true,true)\n",
       " (true,true)    (true,true)  (true,true)   …  (true,true)    (true,true)\n",
       " (false,true)   (true,true)  (true,true)      (false,true)   (true,true)\n",
       " (false,true)   (true,true)  (true,true)      (false,true)   (true,true)\n",
       " (false,true)   (true,true)  (true,true)      (false,true)   (true,true)\n",
       " (false,true)   (true,true)  (true,true)      (false,true)   (true,true)\n",
       " (true,true)    (true,true)  (true,true)   …  (true,true)    (true,true)\n",
       " (true,true)    (true,true)  (true,true)      (false,true)   (true,true)"
      ]
     },
     "execution_count": 18,
     "metadata": {},
     "output_type": "execute_result"
    }
   ],
   "source": [
    "# filter out individuals with genotyping success rate < 0.999\n",
    "map4[missings_by_person / people .< 0.001, :]"
   ]
  },
  {
   "cell_type": "markdown",
   "metadata": {},
   "source": [
    "`sub()` and `slice()` create views of subarray without copying data and improve efficiency in many calculations."
   ]
  },
  {
   "cell_type": "code",
   "execution_count": 19,
   "metadata": {
    "collapsed": false
   },
   "outputs": [
    {
     "data": {
      "text/plain": [
       "1x150 Array{Float64,2}:\n",
       " 0.226799  0.397704  0.0630865  0.206465  …  0.354015  0.390511  0.382046"
      ]
     },
     "execution_count": 19,
     "metadata": {},
     "output_type": "execute_result"
    }
   ],
   "source": [
    "mafcommon, = summarize(sub(map4, :, maf .>= 0.05))\n",
    "mafcommon'"
   ]
  },
  {
   "cell_type": "markdown",
   "metadata": {},
   "source": [
    "## Assignment\n",
    "\n",
    "It is possible to assign specific genotypes to a `SnpArray` entry."
   ]
  },
  {
   "cell_type": "code",
   "execution_count": 20,
   "metadata": {
    "collapsed": false
   },
   "outputs": [
    {
     "data": {
      "text/plain": [
       "(true,true)"
      ]
     },
     "execution_count": 20,
     "metadata": {},
     "output_type": "execute_result"
    }
   ],
   "source": [
    "map4[1, 1]"
   ]
  },
  {
   "cell_type": "code",
   "execution_count": 21,
   "metadata": {
    "collapsed": false
   },
   "outputs": [
    {
     "data": {
      "text/plain": [
       "(false,true)"
      ]
     },
     "execution_count": 21,
     "metadata": {},
     "output_type": "execute_result"
    }
   ],
   "source": [
    "map4[1, 1] = (false, true)\n",
    "map4[1, 1]"
   ]
  },
  {
   "cell_type": "code",
   "execution_count": 22,
   "metadata": {
    "collapsed": false
   },
   "outputs": [
    {
     "data": {
      "text/plain": [
       "(true,false)"
      ]
     },
     "execution_count": 22,
     "metadata": {},
     "output_type": "execute_result"
    }
   ],
   "source": [
    "map4[1, 1] = NaN\n",
    "map4[1, 1]"
   ]
  },
  {
   "cell_type": "code",
   "execution_count": 23,
   "metadata": {
    "collapsed": false
   },
   "outputs": [
    {
     "data": {
      "text/plain": [
       "(true,true)"
      ]
     },
     "execution_count": 23,
     "metadata": {},
     "output_type": "execute_result"
    }
   ],
   "source": [
    "map4[1, 1] = 2\n",
    "map4[1, 1]"
   ]
  },
  {
   "cell_type": "markdown",
   "metadata": {},
   "source": [
    "Subsetted assignment such as `map4[:, 1] = NaN` is also valid."
   ]
  },
  {
   "cell_type": "markdown",
   "metadata": {
    "collapsed": true
   },
   "source": [
    "## Copy, convert, and imputation\n",
    "\n",
    "In most analysis we convert the whole `SnpArray` or slices of it to numeric arrays for computations. Keep in mind the storage of resultant data can be up to 32 fold that of `SnpArray`. Below are estimates of memory usage for some common data types with $n$ individuals and $p$ SNPs. Here MAF denotes the **average** minor allele frequencies.\n",
    "\n",
    "* `SnpArray`: $0.25np$ bytes  \n",
    "* `Matrix{Int8}`: $np$ bytes  \n",
    "* `Matrix{Float32}`: $4np$ bytes  \n",
    "* `Matrix{Float64}`: $8np$ bytes  \n",
    "* `SparseMatrixCSC{Float64,Int64}`: $16 \\cdot \\text{NNZ} + 8(p+1) \\approx 16np(2\\text{MAF}(1-\\text{MAF})+\\text{MAF}^2) + 8(p+1) = 16np \\cdot \\text{MAF}(2-\\text{MAF}) + 8(p+1)$ bytes. When average MAF=0.25, it is about $7np$ bytes. When MAF=0.025, it is about $0.8np$ bypes, 10 fold smaller than `Matrix{Float64}` type.  \n",
    "* `SparseMatrixCSC{Bool,Int64}`: $2np \\cdot \\text{MAF} \\cdot 9 + 16(p+1) = 18 np \\cdot \\text{MAF} + 16(p+1)$ bytes. When average MAF=0.25, it is about $4.5np$ bytes. When MAF=0.045, it is about $0.8np$ bytes, 10 fold smaller than `Matrix{Float64}` type.  \n",
    "\n",
    "To be concrete, consider 2 typical data sets:  \n",
    "* COPD (GWAS): $n = 6670$ individuals, $p = 630998$ SNPs, average MAF is 0.2454.\n",
    "* GAW19 (sequencing study): $n = 1943$ individuals, $p = 1711766$ SNPs, average MAF is 0.00499.  \n",
    "\n",
    "| Data Type | COPD | GAW19 |  \n",
    "|---|---|---|  \n",
    "| `SnpArray` | 1.05GB | 0.83GB |  \n",
    "| `Matrix{Float64}` | 33.67GB | 26.61GB |  \n",
    "| `SparseMatrixCSC{Float64,Int64}` | 29GB | 0.543GB |  \n",
    "| `SparseMatrixCSC{Bool,Int64}` | 18.6GB | 0.326GB |  \n",
    "\n",
    "Apparently for data sets with majority of rare variants, converting to sparse matrices saves memory usage and often brings computational advantages too. When choosing the integer type of the row indices `rowval` and column pointer `colptr` in the `SparseMatrixCSC` format, make sure its maximum is larger than the number of nonzeros in the matrix."
   ]
  },
  {
   "cell_type": "code",
   "execution_count": 24,
   "metadata": {
    "collapsed": false
   },
   "outputs": [
    {
     "data": {
      "text/plain": [
       "6874112"
      ]
     },
     "execution_count": 24,
     "metadata": {},
     "output_type": "execute_result"
    }
   ],
   "source": [
    "map4f64 = convert(Matrix{Float64}, map4)\n",
    "# memory usage if convert to Float64\n",
    "Base.summarysize(map4f64)"
   ]
  },
  {
   "cell_type": "code",
   "execution_count": 25,
   "metadata": {
    "collapsed": false
   },
   "outputs": [
    {
     "data": {
      "text/plain": [
       "0.059234694204908275"
      ]
     },
     "execution_count": 25,
     "metadata": {},
     "output_type": "execute_result"
    }
   ],
   "source": [
    "# average maf\n",
    "mean(maf)"
   ]
  },
  {
   "cell_type": "code",
   "execution_count": 26,
   "metadata": {
    "collapsed": false
   },
   "outputs": [
    {
     "data": {
      "text/plain": [
       "1390144"
      ]
     },
     "execution_count": 26,
     "metadata": {},
     "output_type": "execute_result"
    }
   ],
   "source": [
    "map4f64sp = convert(SparseMatrixCSC{Float64, Int64}, map4)\n",
    "# memory usage if convert to sparse Float64 matrix\n",
    "Base.summarysize(map4f64sp)"
   ]
  },
  {
   "cell_type": "code",
   "execution_count": 27,
   "metadata": {
    "collapsed": false
   },
   "outputs": [
    {
     "data": {
      "text/plain": [
       "695092"
      ]
     },
     "execution_count": 27,
     "metadata": {},
     "output_type": "execute_result"
    }
   ],
   "source": [
    "map4f32sp = convert(SparseMatrixCSC{Float32, UInt32}, map4)\n",
    "# memory usage if convert to sparse Float32 matrix\n",
    "Base.summarysize(map4f32sp)"
   ]
  },
  {
   "cell_type": "markdown",
   "metadata": {},
   "source": [
    "By default `convert()` method does **not** impute missing genotypes but convert them to `NaN`."
   ]
  },
  {
   "cell_type": "code",
   "execution_count": 28,
   "metadata": {
    "collapsed": false
   },
   "outputs": [
    {
     "data": {
      "text/plain": [
       "(218,218)"
      ]
     },
     "execution_count": 28,
     "metadata": {},
     "output_type": "execute_result"
    }
   ],
   "source": [
    "# number of missing genotypes\n",
    "countnz(isnan(map4)), countnz(isnan(map4f64))"
   ]
  },
  {
   "cell_type": "markdown",
   "metadata": {},
   "source": [
    "We can enforce imputation by setting optional argument `impute=true`. Imputation is done by generating two random alleles according to the minor allele frequency. This is not an optimal strategy and users should make sure genotypes are imputed with high quality using other advanced methods."
   ]
  },
  {
   "cell_type": "code",
   "execution_count": 29,
   "metadata": {
    "collapsed": false
   },
   "outputs": [
    {
     "data": {
      "text/plain": [
       "0"
      ]
     },
     "execution_count": 29,
     "metadata": {},
     "output_type": "execute_result"
    }
   ],
   "source": [
    "map4f64impute = convert(Matrix{Float64}, map4; impute = true)\n",
    "countnz(isnan(map4f64impute))"
   ]
  },
  {
   "cell_type": "markdown",
   "metadata": {},
   "source": [
    "By default `convert()` translates genotypes according to the *additive* SNP model, which essentially is the **minor allele** counts (0, 1 or 2). Other SNP models are *dominant* and *recessive*, both in terms of the **minor allele**. When `A1` is the minor allele, genotype is translated to real number according to\n",
    "\n",
    "| Genotype | `SnpArray` | `model=:additive` | `model=:dominant` | `model=:recessive` |    \n",
    "|---|---|---|---|---|  \n",
    "| A1,A1 | 00 | 2 | 1 | 1 |  \n",
    "| A1,A2 | 01 | 1 | 1 | 0 |  \n",
    "| A2,A2 | 11 | 0 | 0 | 0 |  \n",
    "| missing | 10 | NaN | NaN | NaN | \n",
    "\n",
    "When `A2` is the minor allele, genotype is translated according to\n",
    "\n",
    "| Genotype | `SnpArray` | `model=:additive` | `model=:dominant` | `model=:recessive` |    \n",
    "|---|---|---|---|---|  \n",
    "| A1,A1 | 00 | 0 | 0 | 0 |  \n",
    "| A1,A2 | 01 | 1 | 1 | 0 |  \n",
    "| A2,A2 | 11 | 2 | 1 | 1 |  \n",
    "| missing | 10 | NaN | NaN | NaN |"
   ]
  },
  {
   "cell_type": "code",
   "execution_count": 30,
   "metadata": {
    "collapsed": false
   },
   "outputs": [
    {
     "data": {
      "text/plain": [
       "10x3 Array{Float64,2}:\n",
       " 0.0  0.0  0.0\n",
       " 1.0  1.0  0.0\n",
       " 0.0  0.0  0.0\n",
       " 1.0  1.0  0.0\n",
       " 0.0  0.0  0.0\n",
       " 0.0  0.0  0.0\n",
       " 1.0  1.0  0.0\n",
       " 0.0  0.0  0.0\n",
       " 0.0  0.0  0.0\n",
       " 0.0  0.0  0.0"
      ]
     },
     "execution_count": 30,
     "metadata": {},
     "output_type": "execute_result"
    }
   ],
   "source": [
    "[convert(Vector{Float64}, map4[1:10, 1]; model = :additive) convert(Vector{Float64}, map4[1:10, 1]; model = :dominant) convert(Vector{Float64}, map4[1:10, 1]; model = :recessive)]"
   ]
  },
  {
   "cell_type": "markdown",
   "metadata": {},
   "source": [
    "By default `convert()` does **not** center and scale genotypes. Setting optional arguments `center=true, scale=true` centers genotypes at 2MAF and scales them by $[2 \\cdot MAF \\cdot (1 - MAF)]^{-1/2}$. Mono-allelic SNPs (MAF=0) are not scaled."
   ]
  },
  {
   "cell_type": "code",
   "execution_count": 31,
   "metadata": {
    "collapsed": false
   },
   "outputs": [
    {
     "data": {
      "text/plain": [
       "959x2 Array{Float64,2}:\n",
       " 0.0  -0.76593 \n",
       " 1.0   0.922637\n",
       " 0.0  -0.76593 \n",
       " 1.0   0.922637\n",
       " 0.0  -0.76593 \n",
       " 0.0  -0.76593 \n",
       " 1.0   0.922637\n",
       " 0.0  -0.76593 \n",
       " 0.0  -0.76593 \n",
       " 0.0  -0.76593 \n",
       " 0.0  -0.76593 \n",
       " 0.0  -0.76593 \n",
       " 1.0   0.922637\n",
       " ⋮             \n",
       " 0.0  -0.76593 \n",
       " 0.0  -0.76593 \n",
       " 0.0  -0.76593 \n",
       " 0.0  -0.76593 \n",
       " 1.0   0.922637\n",
       " 1.0   0.922637\n",
       " 1.0   0.922637\n",
       " 1.0   0.922637\n",
       " 1.0   0.922637\n",
       " 1.0   0.922637\n",
       " 0.0  -0.76593 \n",
       " 0.0  -0.76593 "
      ]
     },
     "execution_count": 31,
     "metadata": {},
     "output_type": "execute_result"
    }
   ],
   "source": [
    "[convert(Vector{Float64}, map4[:, 1]) convert(Vector{Float64}, map4[:, 1]; center = true, scale = true)]"
   ]
  },
  {
   "cell_type": "markdown",
   "metadata": {},
   "source": [
    "`copy!()` is the in-place version of `convert()`. Options such as GWAS loop over SNPs and perform statistical anlaysis for each SNP. This can be achieved by"
   ]
  },
  {
   "cell_type": "code",
   "execution_count": 32,
   "metadata": {
    "collapsed": false
   },
   "outputs": [],
   "source": [
    "g = zeros(size(map4, 1))\n",
    "for j = 1:size(map4, 2)\n",
    "    copy!(g, map4[:, j]; model = :additive, impute = true)\n",
    "    # do statistical anlaysis\n",
    "end"
   ]
  },
  {
   "cell_type": "markdown",
   "metadata": {},
   "source": [
    "## Empirical kinship\n",
    "\n",
    "`grm()` computes the empirical kinship matrix using either the genetic relationship matrix (`model=:GRM`, default) or the method of moment method (`model=:MoM`). Missing genotypes are imputed according to minor allele frequencies on the fly."
   ]
  },
  {
   "cell_type": "code",
   "execution_count": 33,
   "metadata": {
    "collapsed": false
   },
   "outputs": [
    {
     "data": {
      "text/plain": [
       "959x959 Array{Float64,2}:\n",
       "  0.380544    -0.001171     -0.0288245  …  -0.028186    0.0197438  \n",
       " -0.001171     0.0910801    -0.0226232     -0.0126247  -0.000119002\n",
       " -0.0288245   -0.0226232     0.641305       0.0814241  -0.0255233  \n",
       " -0.0050335    0.0150372    -0.0215443     -0.025145   -0.0039815  \n",
       " -0.024474    -0.022623      0.073076       0.142048   -0.0285776  \n",
       " -0.024404    -0.0256074     0.076275   …   0.0715203  -0.0285076  \n",
       "  0.0453891    0.0370275    -0.130117      -0.128325    0.0418238  \n",
       " -0.0218192   -0.0230977     0.0714131      0.0720706  -0.0243318  \n",
       "  0.032136    -0.00637036   -0.124575      -0.122782    0.016663   \n",
       " -0.00733452  -0.0426735    -0.0116094     -0.0109709  -0.0417872  \n",
       " -0.0311827   -0.0220789     0.089408   …   0.080414   -0.0266451  \n",
       " -0.0300756   -0.0226379     0.0839075      0.081521   -0.025538   \n",
       " -0.00867467   0.0113961    -0.0251854     -0.0287862  -0.00762267 \n",
       "  ⋮                                     ⋱                          \n",
       " -0.0215018   -0.0196507     0.0749234      0.0814968  -0.0256054  \n",
       " -0.0220613   -0.0202102     0.0743639      0.0809373  -0.0261649  \n",
       " -0.0220613   -0.0202102     0.0743639      0.0809373  -0.0261649  \n",
       " -0.0220613   -0.0202102     0.0743639  …   0.0809373  -0.0261649  \n",
       " -0.00495618   0.0221063    -0.0292284      0.0459888  -0.00390418 \n",
       "  0.00452624   0.0131579    -0.031806      -0.0311675  -0.00419474 \n",
       "  0.00452624   0.0131579    -0.031806      -0.0311675  -0.00419474 \n",
       " -0.00569008   0.0127146    -0.0263741     -0.0233674   0.245942   \n",
       " -0.00499065   0.013414     -0.0281089  …  -0.0251022   0.246642   \n",
       "  0.00284541   0.0114771    -0.0334868     -0.0328483  -0.00587557 \n",
       " -0.028186    -0.0126247     0.0814241      0.157856   -0.0225166  \n",
       "  0.0197438   -0.000119002  -0.0255233     -0.0225166   0.380877   "
      ]
     },
     "execution_count": 33,
     "metadata": {},
     "output_type": "execute_result"
    }
   ],
   "source": [
    "# GRM using all SNPs\n",
    "grm(map4)"
   ]
  },
  {
   "cell_type": "code",
   "execution_count": 34,
   "metadata": {
    "collapsed": false
   },
   "outputs": [
    {
     "data": {
      "text/plain": [
       "959x959 Array{Float64,2}:\n",
       "  0.07881      -0.000853301  -0.0235223  …  -0.0231723    0.0184407  \n",
       " -0.000853301   0.0354295    -0.0250093     -0.00734379  -0.000482591\n",
       " -0.0235223    -0.0250093     0.656679       0.0801822   -0.0209578  \n",
       " -0.00124231    0.0177249    -0.0253983     -0.0250484   -0.000871595\n",
       " -0.0204739    -0.0210335     0.0720974      0.123584    -0.0264231  \n",
       " -0.0174959    -0.0274966     0.0705212  …   0.0685633   -0.0234451  \n",
       "  0.0395097     0.0410407    -0.129707      -0.127049     0.0376866  \n",
       " -0.0157941    -0.0219088     0.0735532      0.0715953   -0.0178573  \n",
       "  0.0320641    -0.0128681    -0.129525      -0.126867     0.00642591 \n",
       " -0.0098777    -0.0480998    -0.0183572     -0.0180072   -0.0440483  \n",
       " -0.0189452    -0.0226958     0.0799405  …   0.0779826   -0.0186442  \n",
       " -0.0201318    -0.0238824     0.0787539      0.076796    -0.0198309  \n",
       " -0.0035757     0.0153915    -0.0277317     -0.0273818   -0.00320499 \n",
       "  ⋮                                      ⋱                           \n",
       " -0.0145687    -0.0151283     0.075753       0.0832363   -0.0205179  \n",
       " -0.0156877    -0.0162473     0.074634       0.0821173   -0.0216369  \n",
       " -0.0156877    -0.0162473     0.074634       0.0821173   -0.0216369  \n",
       " -0.0156877    -0.0162473     0.074634   …   0.0821173   -0.0216369  \n",
       " -0.00614428    0.0301385    -0.0326082      0.0313691   -0.00577357 \n",
       "  0.00408071    0.0145343    -0.0331664     -0.0328164   -0.00406228 \n",
       "  0.00408071    0.0145343    -0.0331664     -0.0328164   -0.00406228 \n",
       " -0.00236423    0.016603     -0.0265203     -0.0261703   -0.00199352 \n",
       " -0.00236423    0.016603     -0.0265203  …  -0.0261703   -0.00199352 \n",
       "  0.00295879    0.0134123    -0.0342883     -0.0339384   -0.0051842  \n",
       " -0.0231723    -0.00734379    0.0801822      0.141852    -0.0206078  \n",
       "  0.0184407    -0.000482591  -0.0209578     -0.0206078    0.135924   "
      ]
     },
     "execution_count": 34,
     "metadata": {},
     "output_type": "execute_result"
    }
   ],
   "source": [
    "# GRM using every other SNP\n",
    "grm(sub(map4, :, 1:2:snps))"
   ]
  },
  {
   "cell_type": "code",
   "execution_count": 35,
   "metadata": {
    "collapsed": false
   },
   "outputs": [
    {
     "data": {
      "text/plain": [
       "959x959 Array{Float64,2}:\n",
       "  0.140001     -0.00682793   0.0211395    …   0.0281314     0.0281314 \n",
       " -0.00682793    0.119026     0.0630907        0.0910581    -0.0138198 \n",
       "  0.0211395     0.0630907    0.92309          0.874147      0.0281314 \n",
       " -0.0417872     0.0560988    0.049107         0.0421151    -0.0487791 \n",
       "  0.0211395     0.0281314    0.804228         0.853171     -0.00682793\n",
       "  0.0211395     0.0281314    0.81122      …   0.797236     -0.00682793\n",
       " -0.00682793   -0.00682793  -0.775933        -0.761949     -0.0417872 \n",
       "  0.0630907     0.0630907    0.81122          0.818212      0.0351232 \n",
       " -0.237559     -0.321462    -0.831867        -0.817884     -0.27951   \n",
       " -0.293494     -0.342437     0.0281314        0.0351232    -0.363413  \n",
       "  0.000163934   0.0560988    0.88813      …   0.860163      0.0141477 \n",
       "  0.00715579    0.0560988    0.867155         0.867155      0.0211395 \n",
       " -0.0837384     0.0141477    0.00715579       0.000163934  -0.0907303 \n",
       "  ⋮                                       ⋱                           \n",
       "  0.0560988     0.0630907    0.832195         0.853171      0.0281314 \n",
       "  0.049107      0.0560988    0.825203         0.846179      0.0211395 \n",
       "  0.049107      0.0560988    0.825203         0.846179      0.0211395 \n",
       "  0.049107      0.0560988    0.825203     …   0.846179      0.0211395 \n",
       " -0.055771      0.049107     0.000163934      0.0700825    -0.0627628 \n",
       "  0.0141477     0.0560988    0.00715579       0.0141477    -0.0417872 \n",
       "  0.0141477     0.0560988    0.00715579       0.0141477    -0.0417872 \n",
       " -0.0487791     0.0421151    0.0281314        0.049107     -0.0347954 \n",
       " -0.0487791     0.0421151    0.0141477    …   0.0351232    -0.0347954 \n",
       " -0.00682793    0.0351232   -0.0138198       -0.00682793   -0.0627628 \n",
       "  0.0281314     0.0910581    0.874147         0.951057      0.049107  \n",
       "  0.0281314    -0.0138198    0.0281314        0.049107      0.0910581 "
      ]
     },
     "execution_count": 35,
     "metadata": {},
     "output_type": "execute_result"
    }
   ],
   "source": [
    "# MoM using all SNPs\n",
    "grm(map4; method = :MoM)"
   ]
  },
  {
   "cell_type": "markdown",
   "metadata": {},
   "source": [
    "## Principal component analysis \n",
    "\n",
    "Principal compoenent analysis is widely used in gennetics for adjusting for population substructure. `pca(A, pcs)` computes the top `pcs` principal components based on SNP data `A`. Missing genotypes are imputed according minor allele frequencies on the fly. This means, in presence of missing genotypes, running the function on the same `SnpArray` may produce slightly different answers. Each SNP is centered at $2\\text{MAF}$ and scaled by $[2\\text{MAF}(1-\\text{MAF})]^{-1/2}$.\n",
    "\n"
   ]
  },
  {
   "cell_type": "code",
   "execution_count": 36,
   "metadata": {
    "collapsed": false
   },
   "outputs": [
    {
     "name": "stdout",
     "output_type": "stream",
     "text": [
      "  2.705700 seconds (7.12 M allocations: 280.307 MB, 1.68% gc time)\n"
     ]
    },
    {
     "data": {
      "text/plain": [
       "(\n",
       "959x3 Array{Float64,2}:\n",
       "  -3.10837  -0.608735   -1.4096   \n",
       "  -3.18608  -0.969719   -2.01101  \n",
       "  12.2104   -1.13608    -0.024826 \n",
       "  -3.76288  -1.04056    -2.33687  \n",
       "  12.3121   -0.567568    0.252793 \n",
       "  12.1198   -1.10554     0.185663 \n",
       " -18.8274   -0.687302   -3.80384  \n",
       "  11.3033   -1.18219    -0.120794 \n",
       " -18.0579    4.58308    30.8025   \n",
       "   6.40453  75.3054    -10.4603   \n",
       "  12.5012   -1.20934     0.135768 \n",
       "  12.3634   -0.789455    0.0219985\n",
       "  -4.41081  -1.15518    -2.75541  \n",
       "   ⋮                              \n",
       "  11.9739   -1.15408     0.38301  \n",
       "  12.0809   -1.17524     0.390037 \n",
       "  12.0809   -1.17524     0.390037 \n",
       "  12.0809   -1.17524     0.390037 \n",
       "  -3.57032  -0.885559   -2.31473  \n",
       "  -4.1314   -1.0002     -2.26797  \n",
       "  -4.1314   -1.0002     -2.26797  \n",
       "  -3.94821  -1.07643    -2.38802  \n",
       "  -4.07412  -1.0941     -2.44813  \n",
       "  -4.31104  -1.04986    -2.37623  \n",
       "  12.1896   -0.947637    0.107194 \n",
       "  -3.38853  -0.667747   -1.38395  ,\n",
       "\n",
       "896x3 Array{Float64,2}:\n",
       " -0.0683475    -0.0108347    -0.0387673  \n",
       " -0.00245258   -0.00135342   -0.00369914 \n",
       " -0.0176852     0.0173377     0.129587   \n",
       "  0.0129789    -0.00345452   -0.00134921 \n",
       "  0.00492567   -0.00103701    0.000231917\n",
       " -0.0892555     0.0130887     0.00115519 \n",
       " -0.0110673    -0.00370346   -0.0116469  \n",
       "  0.000733018  -0.00155815   -0.00263683 \n",
       " -0.00557176    0.0377337     0.00186468 \n",
       "  0.00702756   -0.00115248    0.0112023  \n",
       "  0.019074     -0.00173444    0.00272942 \n",
       "  0.00161802   -0.000872972   0.000220303\n",
       "  0.00261093    0.0046203    -0.00351678 \n",
       "  ⋮                                      \n",
       " -0.00474647   -0.000656579  -0.00291202 \n",
       " -0.0064359     0.0030339    -0.00244852 \n",
       " -0.00834609   -0.000806909  -0.00510436 \n",
       " -0.00835044   -0.000807329  -0.00510702 \n",
       "  0.00650325   -0.00201282   -0.00132334 \n",
       " -0.0122342     0.0154594     0.084495   \n",
       "  0.00388311    0.089693     -0.0147462  \n",
       " -0.00875908   -0.000834658  -0.00471048 \n",
       "  0.00388311    0.089693     -0.0147462  \n",
       "  0.00162552   -0.00135304   -0.00194312 \n",
       " -0.0770962    -0.00642445   -0.0417256  \n",
       "  0.0058359    -0.00148393   -0.000390197,\n",
       "\n",
       "[113.91888484742658,54.41688411373773,46.32333985341394])"
      ]
     },
     "execution_count": 36,
     "metadata": {},
     "output_type": "execute_result"
    }
   ],
   "source": [
    "pcscore, pcloading, pcvariance = pca(map4, 3)"
   ]
  },
  {
   "cell_type": "code",
   "execution_count": 41,
   "metadata": {
    "collapsed": false
   },
   "outputs": [
    {
     "name": "stdout",
     "output_type": "stream",
     "text": [
      "  0.133875 seconds (3.53 M allocations: 112.531 MB, 7.01% gc time)\n"
     ]
    },
    {
     "data": {
      "text/plain": [
       "(\n",
       "959x3 Array{Float64,2}:\n",
       "   3.10854    0.609268   -1.40929  \n",
       "   3.18631    0.970072   -2.00966  \n",
       " -12.2089     1.13487    -0.0272313\n",
       "   3.76346    1.04128    -2.33595  \n",
       " -12.3138     0.567458    0.249994 \n",
       " -12.1202     1.10561     0.18387  \n",
       "  18.8275     0.689035   -3.79993  \n",
       " -11.303      1.18182    -0.120273 \n",
       "  18.0542    -4.58778    30.8059   \n",
       "  -6.39856  -75.3037    -10.4787   \n",
       " -12.5009     1.20862     0.133105 \n",
       " -12.276      0.771871    0.0237161\n",
       "   4.41169    1.15609    -2.75418  \n",
       "   ⋮                               \n",
       " -11.9732     1.1535      0.379362 \n",
       " -12.0802     1.17463     0.386307 \n",
       " -12.0802     1.17463     0.386307 \n",
       " -12.0802     1.17463     0.386307 \n",
       "   3.57023    0.885366   -2.31311  \n",
       "   4.13241    1.00152    -2.26782  \n",
       "   4.13241    1.00152    -2.26782  \n",
       "   3.82393    1.09908    -2.39396  \n",
       "   4.07355    1.09551    -2.44746  \n",
       "   4.31155    1.05143    -2.37606  \n",
       " -12.1905     0.946186    0.105413 \n",
       "   3.38821    0.668385   -1.38362  ,\n",
       "\n",
       "896x3 Array{Float64,2}:\n",
       "  0.0683483     0.010854     -0.0387249  \n",
       "  0.00245387    0.00135457   -0.00369722 \n",
       "  0.0176647    -0.0173542     0.129583   \n",
       " -0.0129828     0.00343781   -0.00135769 \n",
       " -0.00492596    0.00103668    0.000230305\n",
       "  0.0891976    -0.0131026     0.00128024 \n",
       "  0.0110674     0.00370789   -0.0116395  \n",
       " -0.000733959   0.0015601    -0.00263808 \n",
       "  0.00555752   -0.0377454     0.00189299 \n",
       " -0.00703325    0.00113108    0.0111941  \n",
       " -0.0190737     0.00170805    0.0027226  \n",
       " -0.00161808    0.00087254    0.000219074\n",
       " -0.00262239   -0.0046196    -0.00351765 \n",
       "  ⋮                                      \n",
       "  0.0047458     0.000657594  -0.00290915 \n",
       "  0.00640859   -0.00304529   -0.00239101 \n",
       "  0.00834603    0.000809586  -0.00509883 \n",
       "  0.00834938    0.000810034  -0.00510141 \n",
       " -0.00649727    0.00201158   -0.00132844 \n",
       "  0.0122282    -0.0154688     0.0844875  \n",
       " -0.00387921   -0.0896891    -0.0147666  \n",
       "  0.00875829    0.000836917  -0.00470599 \n",
       " -0.00387956   -0.089689     -0.0147665  \n",
       " -0.00164238    0.00136025   -0.00194645 \n",
       "  0.077269      0.00640862   -0.0416873  \n",
       " -0.00583574    0.00148354   -0.000394973,\n",
       "\n",
       "[113.9313187355131,54.41832389653863,46.32981617613034])"
      ]
     },
     "execution_count": 41,
     "metadata": {},
     "output_type": "execute_result"
    }
   ],
   "source": [
    "pcscore, pcloading, pcvariance = pca_sp(map4, 3)"
   ]
  },
  {
   "cell_type": "code",
   "execution_count": 38,
   "metadata": {
    "collapsed": false
   },
   "outputs": [
    {
     "data": {
      "text/plain": [
       "(\n",
       "959x3 Array{Float64,2}:\n",
       "  1.71944  -0.650425    1.12764 \n",
       "  2.30047  -0.910678    1.54801 \n",
       " -8.68645  -0.780325   -0.369364\n",
       "  2.82827  -0.950352    1.74926 \n",
       " -8.85291  -0.361639   -0.504155\n",
       " -8.54321  -0.885306   -0.478565\n",
       " 13.0623   -0.932298    3.3369  \n",
       " -7.81434  -0.791452   -0.267341\n",
       " 13.8142    5.86789   -22.1041  \n",
       " -4.91872  57.4909     14.934   \n",
       " -8.36077  -0.785548   -0.545586\n",
       " -8.37172  -0.415475   -0.361093\n",
       "  3.08784  -1.01879     1.92388 \n",
       "  ⋮                             \n",
       " -8.30163  -0.792091   -0.45575 \n",
       " -8.45395  -0.819399   -0.472525\n",
       " -8.45395  -0.819399   -0.472525\n",
       " -8.45395  -0.819399   -0.472525\n",
       "  2.58663  -0.985004    1.79474 \n",
       "  2.8797   -0.98115     1.76183 \n",
       "  2.8797   -0.98115     1.76183 \n",
       "  2.94247  -0.963538    1.74741 \n",
       "  2.94247  -0.963538    1.74741 \n",
       "  2.9939   -0.994336    1.75997 \n",
       " -8.61858  -0.724437   -0.491733\n",
       "  2.05709  -0.64912     1.10056 ,\n",
       "\n",
       "448x3 Array{Float64,2}:\n",
       "  0.0973761   -0.0202742     0.053068   \n",
       "  0.0311331    0.0428653    -0.169029   \n",
       " -0.00720429  -0.00134602   -0.00097221 \n",
       "  0.0161702   -0.00721085    0.0163017  \n",
       "  0.00723188   0.0504581     0.00545603 \n",
       " -0.027591    -0.00138503   -0.00610517 \n",
       " -0.00413959   0.00591444    0.00518982 \n",
       "  0.0114347   -0.000188067  -0.000512496\n",
       "  0.0096747    0.0110114    -0.0533344  \n",
       "  0.00549843  -0.00283792    0.00538079 \n",
       "  0.0062126   -0.00141405    0.00396359 \n",
       "  0.0113576    0.00191101   -0.0073332  \n",
       " -0.00790693   0.164142      0.0473415  \n",
       "  ⋮                                     \n",
       "  0.00654677  -0.00108529    0.00426388 \n",
       "  0.0153889   -0.00034987   -0.00502875 \n",
       "  0.00161215  -0.00106961    0.00209579 \n",
       "  0.0200719    0.00209902   -0.00247853 \n",
       " -0.0160619   -0.00327261   -0.00440509 \n",
       " -0.0130496   -0.00262594   -0.0005383  \n",
       "  0.00643634  -0.00144904    0.00412708 \n",
       "  0.0116449   -0.00163876    0.0067426  \n",
       " -0.00968557  -0.00316625    0.00068348 \n",
       " -0.00612071   0.125625      0.0352327  \n",
       " -0.00612071   0.125625      0.0352327  \n",
       "  0.10842     -0.0153866     0.0599288  ,\n",
       "\n",
       "[55.95827354915603,29.77187241862814,27.64407660498528])"
      ]
     },
     "execution_count": 38,
     "metadata": {},
     "output_type": "execute_result"
    }
   ],
   "source": [
    "# principal components using every other SNP\n",
    "pcscore, pcloading, pcvariance = pca(map4[:, 1:2:snps], 3)"
   ]
  },
  {
   "cell_type": "code",
   "execution_count": 39,
   "metadata": {
    "collapsed": false
   },
   "outputs": [
    {
     "name": "stdout",
     "output_type": "stream",
     "text": [
      "Julia Version 0.4.5\n",
      "Commit 2ac304d (2016-03-18 00:58 UTC)\n",
      "Platform Info:\n",
      "  System: Darwin (x86_64-apple-darwin13.4.0)\n",
      "  CPU: Intel(R) Core(TM) i7-3720QM CPU @ 2.60GHz\n",
      "  WORD_SIZE: 64\n",
      "  BLAS: libopenblas (USE64BITINT DYNAMIC_ARCH NO_AFFINITY Sandybridge)\n",
      "  LAPACK: libopenblas64_\n",
      "  LIBM: libopenlibm\n",
      "  LLVM: libLLVM-3.3\n"
     ]
    }
   ],
   "source": [
    "versioninfo()"
   ]
  },
  {
   "cell_type": "code",
   "execution_count": null,
   "metadata": {
    "collapsed": true
   },
   "outputs": [],
   "source": []
  }
 ],
 "metadata": {
  "kernelspec": {
   "display_name": "Julia 0.4.5",
   "language": "julia",
   "name": "julia-0.4"
  },
  "language_info": {
   "file_extension": ".jl",
   "mimetype": "application/julia",
   "name": "julia",
   "version": "0.4.5"
  }
 },
 "nbformat": 4,
 "nbformat_minor": 0
}
