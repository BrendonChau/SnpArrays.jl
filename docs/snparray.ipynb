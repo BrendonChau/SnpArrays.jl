{
 "cells": [
  {
   "cell_type": "markdown",
   "metadata": {},
   "source": [
    "# SnpArrays.jl"
   ]
  },
  {
   "cell_type": "markdown",
   "metadata": {},
   "source": [
    "The module `SnpArrays` implements the `SnpArray` type for handling biallelic genotypes. `SnpArray` is an array of `Tuple{Bool,Bool}` and adopts the same coding as the [Plink binary format](http://pngu.mgh.harvard.edu/~purcell/plink/binary.shtml). If `A1` and `A2` are the two alleles, the coding rule is  \n",
    "\n",
    "| Genotype | SnpArray |  \n",
    "|---|---|---|  \n",
    "| A1,A1 | 00 |  \n",
    "| A1,A2 | 01 |  \n",
    "| A2,A2 | 11 |  \n",
    "| missing | 10 |  \n",
    "The code `10==(true,false)` is reserved for missing genotype. Otherwise, the bit `1==true` represents one copy of allele `A2`. In a two-dimensional `SnpArray`, each row is a person and each column is a SNP.\n",
    "\n",
    "## Constructor\n",
    "\n",
    "There are various ways to initialize a `SnpArray`.  \n",
    "\n",
    "* `SnpArray` can be initialized from [Plink binary files](http://pngu.mgh.harvard.edu/~purcell/plink/binary.shtml), say the sample data set hapmap3:"
   ]
  },
  {
   "cell_type": "code",
   "execution_count": 1,
   "metadata": {
    "collapsed": false
   },
   "outputs": [
    {
     "name": "stdout",
     "output_type": "stream",
     "text": [
      "-rw-r--r--@ 1 hzhou3  staff  1128171 Jun  4  2010 hapmap3.bed\n",
      "-rw-r--r--  1 hzhou3  staff   388672 Jun  4  2010 hapmap3.bim\n",
      "-rw-r--r--@ 1 hzhou3  staff     7136 Jun  4  2010 hapmap3.fam\n",
      "-rw-r--r--@ 1 hzhou3  staff   332960 Jun  4  2010 hapmap3.map\n"
     ]
    }
   ],
   "source": [
    ";ls -al hapmap3.*"
   ]
  },
  {
   "cell_type": "code",
   "execution_count": 2,
   "metadata": {
    "collapsed": false
   },
   "outputs": [
    {
     "data": {
      "text/plain": [
       "324x13928 SnpArrays.SnpArray{2}:\n",
       " (true,true)  (true,true)   (false,false)  …  (true,true)   (true,true)\n",
       " (true,true)  (false,true)  (false,true)      (false,true)  (true,true)\n",
       " (true,true)  (true,true)   (false,true)      (true,true)   (true,true)\n",
       " (true,true)  (true,true)   (false,true)      (true,true)   (true,true)\n",
       " (true,true)  (true,true)   (false,true)      (true,true)   (true,true)\n",
       " (true,true)  (false,true)  (true,true)    …  (true,true)   (true,true)\n",
       " (true,true)  (true,true)   (true,true)       (true,true)   (true,true)\n",
       " (true,true)  (true,true)   (false,false)     (true,true)   (true,true)\n",
       " (true,true)  (true,true)   (false,true)      (true,true)   (true,true)\n",
       " (true,true)  (true,true)   (false,true)      (true,true)   (true,true)\n",
       " (true,true)  (true,true)   (false,true)   …  (true,true)   (true,true)\n",
       " (true,true)  (true,true)   (true,true)       (true,true)   (true,true)\n",
       " (true,true)  (true,true)   (false,false)     (true,true)   (true,true)\n",
       " ⋮                                         ⋱                           \n",
       " (true,true)  (true,true)   (false,true)      (true,true)   (true,true)\n",
       " (true,true)  (true,true)   (false,false)     (true,true)   (true,true)\n",
       " (true,true)  (true,true)   (false,false)     (true,true)   (true,true)\n",
       " (true,true)  (true,true)   (false,false)  …  (true,true)   (true,true)\n",
       " (true,true)  (true,true)   (false,true)      (true,true)   (true,true)\n",
       " (true,true)  (true,true)   (true,true)       (true,true)   (true,true)\n",
       " (true,true)  (true,true)   (false,true)      (true,true)   (true,true)\n",
       " (true,true)  (true,true)   (false,true)      (true,true)   (true,true)\n",
       " (true,true)  (true,true)   (false,false)  …  (true,true)   (true,true)\n",
       " (true,true)  (true,true)   (false,true)      (true,true)   (true,true)\n",
       " (true,true)  (true,true)   (false,false)     (true,true)   (true,true)\n",
       " (true,true)  (true,true)   (false,false)     (true,true)   (true,true)"
      ]
     },
     "execution_count": 2,
     "metadata": {},
     "output_type": "execute_result"
    }
   ],
   "source": [
    "include(\"../src/SnpArrays.jl\")\n",
    "using SnpArrays\n",
    "hapmap = SnpArray(\"hapmap3\")"
   ]
  },
  {
   "cell_type": "code",
   "execution_count": 3,
   "metadata": {
    "collapsed": false
   },
   "outputs": [
    {
     "data": {
      "text/plain": [
       "(324,13928)"
      ]
     },
     "execution_count": 3,
     "metadata": {},
     "output_type": "execute_result"
    }
   ],
   "source": [
    "# rows are people; columns are SNPs\n",
    "people, snps = size(hapmap)"
   ]
  },
  {
   "cell_type": "markdown",
   "metadata": {},
   "source": [
    "Internally `SnpArray` stores data as `BitArray`s and consumes approximately the same amount of memory as the Plink `bed` file size."
   ]
  },
  {
   "cell_type": "code",
   "execution_count": 4,
   "metadata": {
    "collapsed": false
   },
   "outputs": [
    {
     "data": {
      "text/plain": [
       "1128256"
      ]
     },
     "execution_count": 4,
     "metadata": {},
     "output_type": "execute_result"
    }
   ],
   "source": [
    "# memory usage\n",
    "Base.summarysize(hapmap)"
   ]
  },
  {
   "cell_type": "markdown",
   "metadata": {},
   "source": [
    "* `SnpArray` can be initialized from a matrix of A1 allele counts."
   ]
  },
  {
   "cell_type": "code",
   "execution_count": 5,
   "metadata": {
    "collapsed": false
   },
   "outputs": [
    {
     "data": {
      "text/plain": [
       "5x3 SnpArrays.SnpArray{2}:\n",
       " (false,true)   (true,true)    (false,false)\n",
       " (true,true)    (false,false)  (true,true)  \n",
       " (false,false)  (false,false)  (false,true) \n",
       " (false,true)   (false,true)   (false,false)\n",
       " (false,true)   (true,true)    (false,true) "
      ]
     },
     "execution_count": 5,
     "metadata": {},
     "output_type": "execute_result"
    }
   ],
   "source": [
    "SnpArray(rand(0:2, 5, 3))"
   ]
  },
  {
   "cell_type": "markdown",
   "metadata": {},
   "source": [
    "* `SnpArray(m, n)` generates an m by n `SnpArray` of all A1 alleles."
   ]
  },
  {
   "cell_type": "code",
   "execution_count": 6,
   "metadata": {
    "collapsed": false
   },
   "outputs": [
    {
     "data": {
      "text/plain": [
       "5x3 SnpArrays.SnpArray{2}:\n",
       " (false,false)  (false,false)  (false,false)\n",
       " (false,false)  (false,false)  (false,false)\n",
       " (false,false)  (false,false)  (false,false)\n",
       " (false,false)  (false,false)  (false,false)\n",
       " (false,false)  (false,false)  (false,false)"
      ]
     },
     "execution_count": 6,
     "metadata": {},
     "output_type": "execute_result"
    }
   ],
   "source": [
    "s = SnpArray(5, 3)"
   ]
  },
  {
   "cell_type": "markdown",
   "metadata": {},
   "source": [
    "## Summary statistics\n",
    "\n",
    "`summarize()` computes  \n",
    "* `maf`: minor allele frequencies, taking into account of missingness.  \n",
    "* `minor_allele`: a `BitVector` indicating the minor allele for each SNP. `minor_allele[j]==true` means A1 is the minor allele for SNP j; `minor_allele[j]==false` means A2 is the minor allele for SNP j.  \n",
    "* `missings_by_snp`: number of missing genotypes for each snp.  \n",
    "* `missings_by_person`: number of missing genotypes for each person."
   ]
  },
  {
   "cell_type": "code",
   "execution_count": 7,
   "metadata": {
    "collapsed": false
   },
   "outputs": [
    {
     "data": {
      "text/plain": [
       "1x13928 Array{Float64,2}:\n",
       " 0.0  0.0776398  0.324074  0.191589  …  0.00154321  0.0417957  0.00617284"
      ]
     },
     "execution_count": 7,
     "metadata": {},
     "output_type": "execute_result"
    }
   ],
   "source": [
    "maf, minor_allele, missings_by_snp, missings_by_person = summarize(hapmap)\n",
    "# minor allele frequencies\n",
    "maf'"
   ]
  },
  {
   "cell_type": "code",
   "execution_count": 8,
   "metadata": {
    "collapsed": false
   },
   "outputs": [
    {
     "data": {
      "text/plain": [
       "(11894,11894)"
      ]
     },
     "execution_count": 8,
     "metadata": {},
     "output_type": "execute_result"
    }
   ],
   "source": [
    "# total number of missing genotypes\n",
    "sum(missings_by_snp), sum(missings_by_person)"
   ]
  },
  {
   "cell_type": "markdown",
   "metadata": {},
   "source": [
    "## Random genotypes\n",
    "\n",
    "`randgeno(a1freq)` generates a random genotype according to A1 allele frequency `a1freq`."
   ]
  },
  {
   "cell_type": "code",
   "execution_count": 9,
   "metadata": {
    "collapsed": false
   },
   "outputs": [
    {
     "data": {
      "text/plain": [
       "(false,true)"
      ]
     },
     "execution_count": 9,
     "metadata": {},
     "output_type": "execute_result"
    }
   ],
   "source": [
    "randgeno(0.5)"
   ]
  },
  {
   "cell_type": "markdown",
   "metadata": {},
   "source": [
    "`randgeno(maf, minor_allele)` generates a random genotype according to minor allele frequency `maf` and whether the minor allele is A1 (`minor_allele==true`) or A2 (`minor_allele==false`)."
   ]
  },
  {
   "cell_type": "code",
   "execution_count": 10,
   "metadata": {
    "collapsed": false
   },
   "outputs": [
    {
     "data": {
      "text/plain": [
       "(true,true)"
      ]
     },
     "execution_count": 10,
     "metadata": {},
     "output_type": "execute_result"
    }
   ],
   "source": [
    "randgeno(0.25, true)"
   ]
  },
  {
   "cell_type": "markdown",
   "metadata": {},
   "source": [
    "`randgeno(n, maf, minor_allele)` generates a vector of random genotypes according to a common minor allele frequency `maf` and the minor allele."
   ]
  },
  {
   "cell_type": "code",
   "execution_count": 11,
   "metadata": {
    "collapsed": false
   },
   "outputs": [
    {
     "data": {
      "text/plain": [
       "10-element SnpArrays.SnpArray{1}:\n",
       " (false,true) \n",
       " (true,true)  \n",
       " (true,true)  \n",
       " (false,true) \n",
       " (false,true) \n",
       " (false,true) \n",
       " (true,true)  \n",
       " (false,false)\n",
       " (false,true) \n",
       " (false,true) "
      ]
     },
     "execution_count": 11,
     "metadata": {},
     "output_type": "execute_result"
    }
   ],
   "source": [
    "randgeno(10, 0.25, true)"
   ]
  },
  {
   "cell_type": "markdown",
   "metadata": {},
   "source": [
    "`randgeno(m, n, maf, minor_allele)` generates a random $m$-by-$n$ `SnpArray` according to a vector of minor allele frequencies `maf` and a minor allele indicator vector. The lengths of both vectors should be `n`."
   ]
  },
  {
   "cell_type": "code",
   "execution_count": 12,
   "metadata": {
    "collapsed": false
   },
   "outputs": [
    {
     "data": {
      "text/plain": [
       "324x13928 SnpArrays.SnpArray{2}:\n",
       " (true,true)  (true,true)    (false,true)   …  (true,true)   (true,true)\n",
       " (true,true)  (true,true)    (true,true)       (true,true)   (true,true)\n",
       " (true,true)  (false,true)   (false,true)      (true,true)   (true,true)\n",
       " (true,true)  (true,true)    (false,true)      (true,true)   (true,true)\n",
       " (true,true)  (true,true)    (true,true)       (true,true)   (true,true)\n",
       " (true,true)  (true,true)    (false,true)   …  (true,true)   (true,true)\n",
       " (true,true)  (true,true)    (true,true)       (true,true)   (true,true)\n",
       " (true,true)  (true,true)    (true,true)       (false,true)  (true,true)\n",
       " (true,true)  (true,true)    (false,false)     (true,true)   (true,true)\n",
       " (true,true)  (false,false)  (true,true)       (true,true)   (true,true)\n",
       " (true,true)  (true,true)    (false,true)   …  (true,true)   (true,true)\n",
       " (true,true)  (true,true)    (true,true)       (true,true)   (true,true)\n",
       " (true,true)  (true,true)    (false,true)      (true,true)   (true,true)\n",
       " ⋮                                          ⋱                           \n",
       " (true,true)  (true,true)    (true,true)       (true,true)   (true,true)\n",
       " (true,true)  (true,true)    (false,true)      (true,true)   (true,true)\n",
       " (true,true)  (true,true)    (false,true)      (true,true)   (true,true)\n",
       " (true,true)  (true,true)    (true,true)    …  (true,true)   (true,true)\n",
       " (true,true)  (true,true)    (false,true)      (true,true)   (true,true)\n",
       " (true,true)  (true,true)    (false,true)      (true,true)   (true,true)\n",
       " (true,true)  (true,true)    (false,true)      (true,true)   (true,true)\n",
       " (true,true)  (false,true)   (true,true)       (true,true)   (true,true)\n",
       " (true,true)  (true,true)    (false,true)   …  (true,true)   (true,true)\n",
       " (true,true)  (true,true)    (true,true)       (true,true)   (true,true)\n",
       " (true,true)  (true,true)    (false,true)      (true,true)   (true,true)\n",
       " (true,true)  (false,true)   (true,true)       (true,true)   (true,true)"
      ]
     },
     "execution_count": 12,
     "metadata": {},
     "output_type": "execute_result"
    }
   ],
   "source": [
    "# this is a random replicate of the hapmap data\n",
    "randgeno(size(hapmap), maf, minor_allele)"
   ]
  },
  {
   "cell_type": "markdown",
   "metadata": {},
   "source": [
    "## Subsetting\n",
    "\n",
    "Subsetting a `SnpArray` works the same way as subsetting any other arrays."
   ]
  },
  {
   "cell_type": "code",
   "execution_count": 13,
   "metadata": {
    "collapsed": false
   },
   "outputs": [
    {
     "data": {
      "text/plain": [
       "1x13928 SnpArrays.SnpArray{2}:\n",
       " (true,true)  (true,true)  (false,false)  …  (true,true)  (true,true)"
      ]
     },
     "execution_count": 13,
     "metadata": {},
     "output_type": "execute_result"
    }
   ],
   "source": [
    "# genotypes of the 1st person\n",
    "hapmap[1, :]"
   ]
  },
  {
   "cell_type": "code",
   "execution_count": 14,
   "metadata": {
    "collapsed": false
   },
   "outputs": [
    {
     "data": {
      "text/plain": [
       "324-element SnpArrays.SnpArray{1}:\n",
       " (true,true)  \n",
       " (true,true)  \n",
       " (false,true) \n",
       " (false,true) \n",
       " (true,true)  \n",
       " (false,false)\n",
       " (false,false)\n",
       " (true,true)  \n",
       " (true,true)  \n",
       " (true,true)  \n",
       " (true,true)  \n",
       " (true,true)  \n",
       " (false,true) \n",
       " ⋮            \n",
       " (false,false)\n",
       " (true,true)  \n",
       " (false,true) \n",
       " (true,true)  \n",
       " (true,true)  \n",
       " (true,true)  \n",
       " (true,true)  \n",
       " (true,true)  \n",
       " (false,true) \n",
       " (true,true)  \n",
       " (true,true)  \n",
       " (true,true)  "
      ]
     },
     "execution_count": 14,
     "metadata": {},
     "output_type": "execute_result"
    }
   ],
   "source": [
    "# genotypes of the 5th SNP\n",
    "hapmap[:, 5]"
   ]
  },
  {
   "cell_type": "code",
   "execution_count": 15,
   "metadata": {
    "collapsed": false
   },
   "outputs": [
    {
     "data": {
      "text/plain": [
       "5x6 SnpArrays.SnpArray{2}:\n",
       " (true,true)   (true,true)  (false,true)  …  (true,true)   (false,true)\n",
       " (true,true)   (true,true)  (true,true)      (true,true)   (false,true)\n",
       " (false,true)  (true,true)  (true,true)      (false,true)  (true,true) \n",
       " (false,true)  (true,true)  (true,true)      (true,true)   (false,true)\n",
       " (true,true)   (true,true)  (true,true)      (true,true)   (false,true)"
      ]
     },
     "execution_count": 15,
     "metadata": {},
     "output_type": "execute_result"
    }
   ],
   "source": [
    "# subsetting both persons and SNPs\n",
    "hapmap[1:5, 5:10]"
   ]
  },
  {
   "cell_type": "code",
   "execution_count": 16,
   "metadata": {
    "collapsed": false
   },
   "outputs": [
    {
     "data": {
      "text/plain": [
       "324x12085 SnpArrays.SnpArray{2}:\n",
       " (true,true)   (false,false)  (true,true)   …  (false,true)  (false,true)\n",
       " (false,true)  (false,true)   (false,true)     (true,true)   (true,true) \n",
       " (true,true)   (false,true)   (false,true)     (true,true)   (true,true) \n",
       " (true,true)   (false,true)   (true,true)      (false,true)  (false,true)\n",
       " (true,true)   (false,true)   (false,true)     (true,true)   (true,true) \n",
       " (false,true)  (true,true)    (true,true)   …  (false,true)  (false,true)\n",
       " (true,true)   (true,true)    (true,true)      (true,true)   (true,true) \n",
       " (true,true)   (false,false)  (true,true)      (true,true)   (true,true) \n",
       " (true,true)   (false,true)   (false,true)     (true,true)   (true,true) \n",
       " (true,true)   (false,true)   (true,true)      (false,true)  (false,true)\n",
       " (true,true)   (false,true)   (true,true)   …  (true,true)   (true,true) \n",
       " (true,true)   (true,true)    (false,true)     (false,true)  (false,true)\n",
       " (true,true)   (false,false)  (true,true)      (false,true)  (false,true)\n",
       " ⋮                                          ⋱                            \n",
       " (true,true)   (false,true)   (true,true)      (false,true)  (false,true)\n",
       " (true,true)   (false,false)  (true,true)      (false,true)  (false,true)\n",
       " (true,true)   (false,false)  (true,true)      (true,true)   (true,true) \n",
       " (true,true)   (false,false)  (false,true)  …  (true,true)   (true,true) \n",
       " (true,true)   (false,true)   (true,true)      (true,true)   (true,true) \n",
       " (true,true)   (true,true)    (false,true)     (false,true)  (false,true)\n",
       " (true,true)   (false,true)   (false,true)     (false,true)  (false,true)\n",
       " (true,true)   (false,true)   (true,true)      (true,true)   (true,true) \n",
       " (true,true)   (false,false)  (true,true)   …  (false,true)  (false,true)\n",
       " (true,true)   (false,true)   (false,true)     (false,true)  (false,true)\n",
       " (true,true)   (false,false)  (false,true)     (false,true)  (false,true)\n",
       " (true,true)   (false,false)  (true,true)      (true,true)   (true,true) "
      ]
     },
     "execution_count": 16,
     "metadata": {},
     "output_type": "execute_result"
    }
   ],
   "source": [
    "# filter out rare SNPs with MAF < 0.05\n",
    "hapmap[:, maf .≥ 0.05]"
   ]
  },
  {
   "cell_type": "code",
   "execution_count": 17,
   "metadata": {
    "collapsed": false
   },
   "outputs": [
    {
     "data": {
      "text/plain": [
       "220x13928 SnpArrays.SnpArray{2}:\n",
       " (true,true)  (true,true)   (false,false)  …  (true,true)   (true,true)\n",
       " (true,true)  (false,true)  (false,true)      (false,true)  (true,true)\n",
       " (true,true)  (true,true)   (false,true)      (true,true)   (true,true)\n",
       " (true,true)  (true,true)   (true,true)       (true,true)   (true,true)\n",
       " (true,true)  (true,true)   (false,false)     (true,true)   (true,true)\n",
       " (true,true)  (true,true)   (false,true)   …  (true,true)   (true,true)\n",
       " (true,true)  (true,true)   (false,true)      (true,true)   (true,true)\n",
       " (true,true)  (true,true)   (false,true)      (true,true)   (true,true)\n",
       " (true,true)  (true,true)   (false,false)     (true,true)   (true,true)\n",
       " (true,true)  (true,true)   (false,true)      (true,true)   (true,true)\n",
       " (true,true)  (false,true)  (false,true)   …  (true,true)   (true,true)\n",
       " (true,true)  (true,true)   (true,true)       (true,true)   (true,true)\n",
       " (true,true)  (true,true)   (true,true)       (true,true)   (true,true)\n",
       " ⋮                                         ⋱                           \n",
       " (true,true)  (true,true)   (false,false)     (true,true)   (true,true)\n",
       " (true,true)  (true,true)   (false,false)     (true,true)   (true,true)\n",
       " (true,true)  (true,true)   (false,false)  …  (true,true)   (true,true)\n",
       " (true,true)  (true,true)   (false,true)      (true,true)   (true,true)\n",
       " (true,true)  (true,true)   (false,false)     (true,true)   (true,true)\n",
       " (true,true)  (true,true)   (false,false)     (true,true)   (true,true)\n",
       " (true,true)  (true,true)   (false,false)     (true,true)   (true,true)\n",
       " (true,true)  (true,true)   (false,true)   …  (true,true)   (true,true)\n",
       " (true,true)  (true,true)   (false,false)     (true,true)   (true,true)\n",
       " (true,true)  (true,true)   (false,true)      (true,true)   (true,true)\n",
       " (true,true)  (true,true)   (false,false)     (true,true)   (true,true)\n",
       " (true,true)  (true,true)   (false,false)     (true,true)   (true,true)"
      ]
     },
     "execution_count": 17,
     "metadata": {},
     "output_type": "execute_result"
    }
   ],
   "source": [
    "# filter out individuals with genotyping success rate < 0.90\n",
    "hapmap[missings_by_person / people .< 0.1, :]"
   ]
  },
  {
   "cell_type": "markdown",
   "metadata": {},
   "source": [
    "`sub()` and `slice()` create views of subarray without copying data and improve efficiency in many calculations."
   ]
  },
  {
   "cell_type": "code",
   "execution_count": 18,
   "metadata": {
    "collapsed": false
   },
   "outputs": [
    {
     "data": {
      "text/plain": [
       "1x12085 Array{Float64,2}:\n",
       " 0.0776398  0.324074  0.191589  …  0.310937  0.23913  0.23913  0.23913"
      ]
     },
     "execution_count": 18,
     "metadata": {},
     "output_type": "execute_result"
    }
   ],
   "source": [
    "mafcommon, = summarize(sub(hapmap, :, maf .≥ 0.05))\n",
    "mafcommon'"
   ]
  },
  {
   "cell_type": "markdown",
   "metadata": {},
   "source": [
    "## Assignment\n",
    "\n",
    "It is possible to assign specific genotypes to a `SnpArray` entry."
   ]
  },
  {
   "cell_type": "code",
   "execution_count": 19,
   "metadata": {
    "collapsed": false
   },
   "outputs": [
    {
     "data": {
      "text/plain": [
       "(true,true)"
      ]
     },
     "execution_count": 19,
     "metadata": {},
     "output_type": "execute_result"
    }
   ],
   "source": [
    "hapmap[1, 1]"
   ]
  },
  {
   "cell_type": "code",
   "execution_count": 20,
   "metadata": {
    "collapsed": false
   },
   "outputs": [
    {
     "data": {
      "text/plain": [
       "(false,true)"
      ]
     },
     "execution_count": 20,
     "metadata": {},
     "output_type": "execute_result"
    }
   ],
   "source": [
    "hapmap[1, 1] = (false, true)\n",
    "hapmap[1, 1]"
   ]
  },
  {
   "cell_type": "code",
   "execution_count": 21,
   "metadata": {
    "collapsed": false
   },
   "outputs": [
    {
     "data": {
      "text/plain": [
       "(true,false)"
      ]
     },
     "execution_count": 21,
     "metadata": {},
     "output_type": "execute_result"
    }
   ],
   "source": [
    "hapmap[1, 1] = NaN\n",
    "hapmap[1, 1]"
   ]
  },
  {
   "cell_type": "code",
   "execution_count": 22,
   "metadata": {
    "collapsed": false
   },
   "outputs": [
    {
     "data": {
      "text/plain": [
       "(true,true)"
      ]
     },
     "execution_count": 22,
     "metadata": {},
     "output_type": "execute_result"
    }
   ],
   "source": [
    "hapmap[1, 1] = 2\n",
    "hapmap[1, 1]"
   ]
  },
  {
   "cell_type": "markdown",
   "metadata": {},
   "source": [
    "Subsetted assignment such as `map4[:, 1] = NaN` is also valid."
   ]
  },
  {
   "cell_type": "markdown",
   "metadata": {
    "collapsed": true
   },
   "source": [
    "## Copy, convert, and imputation\n",
    "\n",
    "In most analyses we convert a whole `SnpArray` or slices of it to numeric arrays for computational purposes. Keep in mind that the storage of resultant data can be up to 32 fold larger than that of the original `SnpArray`. Fortunately, rich collection of data types in `Julia` can allow us choose one that fits into memory. Below are estimates of memory usage for some common data types with `n` persons and `p` SNPs. Here MAF denotes the **average** minor allele frequencies.\n",
    "\n",
    "* `SnpArray`: $0.25np$ bytes  \n",
    "* `Matrix{Int8}`: $np$ bytes  \n",
    "* `Matrix{Float16}`: $2np$ bytes  \n",
    "* `Matrix{Float32}`: $4np$ bytes  \n",
    "* `Matrix{Float64}`: $8np$ bytes  \n",
    "* `SparseMatrixCSC{Float64,Int64}`: $16 \\cdot \\text{NNZ} + 8(p+1) \\approx 16np(2\\text{MAF}(1-\\text{MAF})+\\text{MAF}^2) + 8(p+1) = 16np \\cdot \\text{MAF}(2-\\text{MAF}) + 8(p+1)$ bytes. When the average MAF=0.25, this is about $7np$ bytes. When MAF=0.025, this is about $0.8np$ bypes, 10 fold smaller than the `Matrix{Float64}` type.  \n",
    "* `SparseMatrixCSC{Int8,UInt32}`: $5 \\cdot \\text{NNZ} + 4(p+1) \\approx 5np(2\\text{MAF}(1-\\text{MAF})+\\text{MAF}^2) + 4(p+1) = 5np \\cdot \\text{MAF}(2-\\text{MAF}) + 4(p+1)$ bytes. When the average MAF=0.25, this is about $2.2np$ bytes. When MAF=0.08, this is about $0.8np$ bypes, 10 fold smaller than `Matrix{Float64}` type.  \n",
    "* Two `SparseMatrixCSC{Bool,Int64}`: $2np \\cdot \\text{MAF} \\cdot 9 + 16(p+1) = 18 np \\cdot \\text{MAF} + 16(p+1)$ bytes. When the average MAF=0.25, this is about $4.5np$ bytes. When MAF=0.045, this is about $0.8np$ bytes, 10 fold smaller than `Matrix{Float64}` type.  \n",
    "\n",
    "To be concrete, consider 2 typical data sets:  \n",
    "* COPD (GWAS): $n = 6670$ individuals, $p = 630998$ SNPs, average MAF is 0.2454.\n",
    "* GAW19 (sequencing study): $n = 959$ individuals, $p = 8348674$ SNPs, average MAF is 0.085.  \n",
    "\n",
    "| Data Type | COPD | GAW19 |  \n",
    "|---|---|---|  \n",
    "| `SnpArray` | 1.05GB | 2GB |  \n",
    "| `Matrix{Float64}` | 33.67GB | 64.05GB |  \n",
    "| `SparseMatrixCSC{Float64,Int64}` | 29GB | 20.82GB |  \n",
    "| `SparseMatrixCSC{Bool,Int64}` | 18.6GB | 12.386GB |  \n",
    "\n",
    "Apparently for data sets with a majority of rare variants, converting to sparse matrices saves memory and often brings computational advantages too. In the `SparseMatrixCSC` format, the integer type of the row indices `rowval` and column pointer `colptr` should have maximal larger than the number of nonzeros in the matrix. The `InexactError()` error encountered during conversion often indicates that the integer type has a too small range. The utility function `estimatesize()` conveniently estimates memory usage in bytes for the input data type."
   ]
  },
  {
   "cell_type": "code",
   "execution_count": 23,
   "metadata": {
    "collapsed": false
   },
   "outputs": [
    {
     "data": {
      "text/plain": [
       "3.6101376e7"
      ]
     },
     "execution_count": 23,
     "metadata": {},
     "output_type": "execute_result"
    }
   ],
   "source": [
    "# estimated memory usage if convert to Matrix{Float64}\n",
    "estimatesize(people, snps, mean(maf), Matrix{Float64})"
   ]
  },
  {
   "cell_type": "code",
   "execution_count": 24,
   "metadata": {
    "collapsed": false
   },
   "outputs": [
    {
     "data": {
      "text/plain": [
       "324x13928 Array{Float64,2}:\n",
       " 0.0  0.0  2.0  0.0  0.0  0.0  1.0  1.0  …  1.0  1.0  1.0  1.0  0.0  0.0  0.0\n",
       " 0.0  1.0  1.0  1.0  0.0  0.0  0.0  1.0     0.0  0.0  0.0  0.0  0.0  1.0  0.0\n",
       " 0.0  0.0  1.0  1.0  1.0  0.0  0.0  2.0     1.0  0.0  0.0  0.0  0.0  0.0  0.0\n",
       " 0.0  0.0  1.0  0.0  1.0  0.0  0.0  1.0     1.0  1.0  1.0  1.0  0.0  0.0  0.0\n",
       " 0.0  0.0  1.0  1.0  0.0  0.0  0.0  2.0     0.0  0.0  0.0  0.0  0.0  0.0  0.0\n",
       " 0.0  1.0  0.0  0.0  2.0  0.0  0.0  0.0  …  2.0  1.0  1.0  1.0  0.0  0.0  0.0\n",
       " 0.0  0.0  0.0  0.0  2.0  0.0  0.0  2.0     1.0  0.0  0.0  0.0  0.0  0.0  0.0\n",
       " 0.0  0.0  2.0  0.0  0.0  0.0  0.0  1.0     0.0  0.0  0.0  0.0  0.0  0.0  0.0\n",
       " 0.0  0.0  1.0  1.0  0.0  0.0  0.0  2.0     0.0  0.0  0.0  0.0  0.0  0.0  0.0\n",
       " 0.0  0.0  1.0  0.0  0.0  0.0  0.0  2.0     1.0  1.0  1.0  1.0  0.0  0.0  0.0\n",
       " 0.0  0.0  1.0  0.0  0.0  0.0  0.0  2.0  …  0.0  0.0  0.0  0.0  0.0  0.0  0.0\n",
       " 0.0  0.0  0.0  1.0  0.0  0.0  0.0  2.0     1.0  1.0  1.0  1.0  0.0  0.0  0.0\n",
       " 0.0  0.0  2.0  0.0  1.0  0.0  0.0  1.0     2.0  1.0  1.0  1.0  0.0  0.0  0.0\n",
       " ⋮                        ⋮              ⋱                      ⋮            \n",
       " 0.0  0.0  1.0  0.0  2.0  0.0  0.0  1.0     2.0  1.0  1.0  1.0  0.0  0.0  0.0\n",
       " 0.0  0.0  2.0  0.0  0.0  0.0  0.0  2.0     2.0  1.0  1.0  1.0  0.0  0.0  0.0\n",
       " 0.0  0.0  2.0  0.0  1.0  0.0  0.0  1.0     0.0  0.0  0.0  0.0  0.0  0.0  0.0\n",
       " 0.0  0.0  2.0  1.0  0.0  0.0  0.0  1.0  …  0.0  0.0  0.0  0.0  0.0  0.0  0.0\n",
       " 0.0  0.0  1.0  0.0  0.0  0.0  0.0  1.0     1.0  0.0  0.0  0.0  0.0  0.0  0.0\n",
       " 0.0  0.0  0.0  1.0  0.0  0.0  0.0  1.0     2.0  1.0  1.0  1.0  0.0  0.0  0.0\n",
       " 0.0  0.0  1.0  1.0  0.0  0.0  0.0  2.0     1.0  1.0  1.0  1.0  0.0  0.0  0.0\n",
       " 0.0  0.0  1.0  0.0  0.0  0.0  0.0  2.0     0.0  0.0  0.0  0.0  0.0  0.0  0.0\n",
       " 0.0  0.0  2.0  0.0  1.0  0.0  0.0  1.0  …  1.0  1.0  1.0  1.0  0.0  0.0  0.0\n",
       " 0.0  0.0  1.0  1.0  0.0  0.0  0.0  1.0     1.0  1.0  1.0  1.0  0.0  0.0  0.0\n",
       " 0.0  0.0  2.0  1.0  0.0  0.0  0.0  2.0     1.0  1.0  1.0  1.0  0.0  0.0  0.0\n",
       " 0.0  0.0  2.0  0.0  0.0  0.0  0.0  2.0     0.0  0.0  0.0  0.0  0.0  0.0  0.0"
      ]
     },
     "execution_count": 24,
     "metadata": {},
     "output_type": "execute_result"
    }
   ],
   "source": [
    "# convert to Matrix{Float64}\n",
    "hapmapf64 = convert(Matrix{Float64}, hapmap)"
   ]
  },
  {
   "cell_type": "code",
   "execution_count": 25,
   "metadata": {
    "collapsed": false
   },
   "outputs": [
    {
     "data": {
      "text/plain": [
       "36101376"
      ]
     },
     "execution_count": 25,
     "metadata": {},
     "output_type": "execute_result"
    }
   ],
   "source": [
    "# actual memory usage of Matrix{Float64}\n",
    "Base.summarysize(hapmapf64)"
   ]
  },
  {
   "cell_type": "code",
   "execution_count": 26,
   "metadata": {
    "collapsed": false
   },
   "outputs": [
    {
     "data": {
      "text/plain": [
       "0.222585591341583"
      ]
     },
     "execution_count": 26,
     "metadata": {},
     "output_type": "execute_result"
    }
   ],
   "source": [
    "# average maf of the hapmap3 data set\n",
    "mean(maf)"
   ]
  },
  {
   "cell_type": "code",
   "execution_count": 27,
   "metadata": {
    "collapsed": false
   },
   "outputs": [
    {
     "data": {
      "text/plain": [
       "1.4338389205819245e7"
      ]
     },
     "execution_count": 27,
     "metadata": {},
     "output_type": "execute_result"
    }
   ],
   "source": [
    "# estimated memory usage if convert to SparseMatrixCSC{Float32, UInt32} matrix\n",
    "estimatesize(people, snps, mean(maf), SparseMatrixCSC{Float32, UInt32})"
   ]
  },
  {
   "cell_type": "code",
   "execution_count": 28,
   "metadata": {
    "collapsed": false
   },
   "outputs": [
    {
     "data": {
      "text/plain": [
       "324x13928 sparse matrix with 1614876 Float32 entries:\n",
       "\t[2    ,     2]  =  1.0\n",
       "\t[6    ,     2]  =  1.0\n",
       "\t[15   ,     2]  =  1.0\n",
       "\t[31   ,     2]  =  1.0\n",
       "\t[33   ,     2]  =  1.0\n",
       "\t[35   ,     2]  =  1.0\n",
       "\t[43   ,     2]  =  1.0\n",
       "\t[44   ,     2]  =  1.0\n",
       "\t[50   ,     2]  =  1.0\n",
       "\t[54   ,     2]  =  1.0\n",
       "\t⋮\n",
       "\t[135  , 13927]  =  1.0\n",
       "\t[148  , 13927]  =  1.0\n",
       "\t[160  , 13927]  =  1.0\n",
       "\t[164  , 13927]  =  2.0\n",
       "\t[167  , 13927]  =  1.0\n",
       "\t[185  , 13927]  =  1.0\n",
       "\t[266  , 13927]  =  1.0\n",
       "\t[280  , 13927]  =  1.0\n",
       "\t[288  , 13927]  =  1.0\n",
       "\t[118  , 13928]  =  2.0\n",
       "\t[231  , 13928]  =  2.0"
      ]
     },
     "execution_count": 28,
     "metadata": {},
     "output_type": "execute_result"
    }
   ],
   "source": [
    "# convert to SparseMatrixCSC{Float32, UInt32} matrix\n",
    "hapmapf32sp = convert(SparseMatrixCSC{Float32, UInt32}, hapmap)"
   ]
  },
  {
   "cell_type": "code",
   "execution_count": 29,
   "metadata": {
    "collapsed": false
   },
   "outputs": [
    {
     "data": {
      "text/plain": [
       "12974764"
      ]
     },
     "execution_count": 29,
     "metadata": {},
     "output_type": "execute_result"
    }
   ],
   "source": [
    "# actual memory usage if convert to SparseMatrixCSC{Float32, UInt32} matrix\n",
    "Base.summarysize(hapmapf32sp)"
   ]
  },
  {
   "cell_type": "markdown",
   "metadata": {},
   "source": [
    "By default the `convert()` method converts missing genotypes to `NaN`."
   ]
  },
  {
   "cell_type": "code",
   "execution_count": 30,
   "metadata": {
    "collapsed": false
   },
   "outputs": [
    {
     "data": {
      "text/plain": [
       "(11894,11894)"
      ]
     },
     "execution_count": 30,
     "metadata": {},
     "output_type": "execute_result"
    }
   ],
   "source": [
    "# number of missing genotypes\n",
    "countnz(isnan(hapmap)), countnz(isnan(hapmapf64))"
   ]
  },
  {
   "cell_type": "markdown",
   "metadata": {},
   "source": [
    "One can enforce *crude imputation* by setting the optional argument `impute=true`. Imputation is done by generating two random alleles according to the minor allele frequency. This is not an optimal strategy, and users should impute missing genotypes by more advanced methods."
   ]
  },
  {
   "cell_type": "code",
   "execution_count": 31,
   "metadata": {
    "collapsed": false
   },
   "outputs": [
    {
     "data": {
      "text/plain": [
       "0"
      ]
     },
     "execution_count": 31,
     "metadata": {},
     "output_type": "execute_result"
    }
   ],
   "source": [
    "hapmapf64impute = convert(Matrix{Float64}, hapmap; impute = true)\n",
    "countnz(isnan(hapmapf64impute))"
   ]
  },
  {
   "cell_type": "markdown",
   "metadata": {},
   "source": [
    "By default `convert()` translates genotypes according to the *additive* SNP model, which essentially counts the number of **minor allele** (0, 1 or 2). Other SNP models are *dominant* and *recessive*, both in terms of the **minor allele**. When `A1` is the minor allele, genotypes are translated to real number according to\n",
    "\n",
    "| Genotype | `SnpArray` | `model=:additive` | `model=:dominant` | `model=:recessive` |    \n",
    "|---|---|---|---|---|  \n",
    "| A1,A1 | 00 | 2 | 1 | 1 |  \n",
    "| A1,A2 | 01 | 1 | 1 | 0 |  \n",
    "| A2,A2 | 11 | 0 | 0 | 0 |  \n",
    "| missing | 10 | NaN | NaN | NaN | \n",
    "\n",
    "When `A2` is the minor allele, genotypes are translated according to\n",
    "\n",
    "| Genotype | `SnpArray` | `model=:additive` | `model=:dominant` | `model=:recessive` |    \n",
    "|---|---|---|---|---|  \n",
    "| A1,A1 | 00 | 0 | 0 | 0 |  \n",
    "| A1,A2 | 01 | 1 | 1 | 0 |  \n",
    "| A2,A2 | 11 | 2 | 1 | 1 |  \n",
    "| missing | 10 | NaN | NaN | NaN |"
   ]
  },
  {
   "cell_type": "code",
   "execution_count": 32,
   "metadata": {
    "collapsed": false
   },
   "outputs": [
    {
     "data": {
      "text/plain": [
       "10x3 Array{Float64,2}:\n",
       " 0.0  0.0  0.0\n",
       " 0.0  0.0  0.0\n",
       " 1.0  1.0  0.0\n",
       " 1.0  1.0  0.0\n",
       " 0.0  0.0  0.0\n",
       " 2.0  1.0  1.0\n",
       " 2.0  1.0  1.0\n",
       " 0.0  0.0  0.0\n",
       " 0.0  0.0  0.0\n",
       " 0.0  0.0  0.0"
      ]
     },
     "execution_count": 32,
     "metadata": {},
     "output_type": "execute_result"
    }
   ],
   "source": [
    "[convert(Vector{Float64}, hapmap[1:10, 5]; model = :additive) convert(Vector{Float64}, hapmap[1:10, 5]; model = :dominant) convert(Vector{Float64}, hapmap[1:10, 5]; model = :recessive)]"
   ]
  },
  {
   "cell_type": "markdown",
   "metadata": {},
   "source": [
    "By default `convert()` does **not** center and scale genotypes. Setting the optional arguments `center=true, scale=true` centers genotypes at 2MAF and scales them by $[2 \\cdot \\text{MAF} \\cdot (1 - \\text{MAF})]^{-1/2}$. Mono-allelic SNPs (MAF=0) are not scaled."
   ]
  },
  {
   "cell_type": "code",
   "execution_count": 33,
   "metadata": {
    "collapsed": false
   },
   "outputs": [
    {
     "data": {
      "text/plain": [
       "324x2 Array{Float64,2}:\n",
       " 0.0  -1.25702 \n",
       " 0.0  -1.25702 \n",
       " 1.0   0.167017\n",
       " 1.0   0.167017\n",
       " 0.0  -1.25702 \n",
       " 2.0   1.59106 \n",
       " 2.0   1.59106 \n",
       " 0.0  -1.25702 \n",
       " 0.0  -1.25702 \n",
       " 0.0  -1.25702 \n",
       " 0.0  -1.25702 \n",
       " 0.0  -1.25702 \n",
       " 1.0   0.167017\n",
       " ⋮             \n",
       " 2.0   1.59106 \n",
       " 0.0  -1.25702 \n",
       " 1.0   0.167017\n",
       " 0.0  -1.25702 \n",
       " 0.0  -1.25702 \n",
       " 0.0  -1.25702 \n",
       " 0.0  -1.25702 \n",
       " 0.0  -1.25702 \n",
       " 1.0   0.167017\n",
       " 0.0  -1.25702 \n",
       " 0.0  -1.25702 \n",
       " 0.0  -1.25702 "
      ]
     },
     "execution_count": 33,
     "metadata": {},
     "output_type": "execute_result"
    }
   ],
   "source": [
    "[convert(Vector{Float64}, hapmap[:, 5]) convert(Vector{Float64}, hapmap[:, 5]; center = true, scale = true)]"
   ]
  },
  {
   "cell_type": "markdown",
   "metadata": {},
   "source": [
    "`copy!()` is the in-place version of `convert()`. Options such as GWAS loop over SNPs and perform statistical anlaysis for each SNP. This can be achieved by"
   ]
  },
  {
   "cell_type": "code",
   "execution_count": 34,
   "metadata": {
    "collapsed": false
   },
   "outputs": [],
   "source": [
    "g = zeros(people)\n",
    "for j = 1:snps\n",
    "    copy!(g, hapmap[:, j]; model = :additive, impute = true)\n",
    "    # do statistical anlaysis\n",
    "end"
   ]
  },
  {
   "cell_type": "markdown",
   "metadata": {},
   "source": [
    "## Empirical kinship\n",
    "\n",
    "`grm()` computes the empirical kinship matrix using either the genetic relationship matrix (`model=:GRM`, default) or the method of moment method (`model=:MoM`). Missing genotypes are imputed according to minor allele frequencies on the fly."
   ]
  },
  {
   "cell_type": "code",
   "execution_count": 35,
   "metadata": {
    "collapsed": false
   },
   "outputs": [
    {
     "data": {
      "text/plain": [
       "324x324 Array{Float64,2}:\n",
       " 0.56665    0.0444068  0.0192306  …  0.0623264  0.0687138  0.0621529\n",
       " 0.0444068  0.530385   0.0313094     0.0493333  0.043195   0.0607531\n",
       " 0.0192306  0.0313094  0.512149      0.0445028  0.0289727  0.0352234\n",
       " 0.0463639  0.0352992  0.0278423     0.0573595  0.0631513  0.0573078\n",
       " 0.050616   0.0410184  0.0240404     0.0689132  0.0559018  0.0632829\n",
       " 0.0427364  0.0307082  0.036917   …  0.0685841  0.054386   0.0627686\n",
       " 0.0379976  0.0213038  0.0113966     0.04252    0.0365324  0.035521 \n",
       " 0.0396221  0.0370152  0.0206568     0.0554273  0.0525768  0.0634312\n",
       " 0.0288259  0.0296605  0.0160998     0.0321262  0.0445457  0.036432 \n",
       " 0.0378027  0.0406502  0.0251857     0.0641726  0.0554253  0.0472032\n",
       " 0.0461753  0.0437002  0.0220779  …  0.0564327  0.0644314  0.0586649\n",
       " 0.0577922  0.0376026  0.035655      0.0649134  0.0565424  0.0696148\n",
       " 0.034533   0.0423453  0.025399      0.0552979  0.0673263  0.0609964\n",
       " ⋮                                ⋱                                 \n",
       " 0.0632407  0.053043   0.0370153     0.0830343  0.0833739  0.0933386\n",
       " 0.0644707  0.0499731  0.0320236     0.08818    0.0769057  0.0855495\n",
       " 0.0655146  0.0539726  0.0372408     0.0864901  0.0809183  0.0824804\n",
       " 0.0627386  0.0553643  0.0382787  …  0.0836101  0.0732292  0.0859037\n",
       " 0.0606107  0.0540639  0.0351538     0.0761484  0.0703679  0.0785665\n",
       " 0.0620105  0.0584547  0.0382128     0.085764   0.0887779  0.0799124\n",
       " 0.059867   0.0585704  0.0378438     0.0799679  0.0814772  0.0781652\n",
       " 0.0598894  0.0607999  0.0323637     0.0893602  0.0867522  0.0830323\n",
       " 0.0633783  0.060575   0.0311988  …  0.0935607  0.0764539  0.0836796\n",
       " 0.0623264  0.0493333  0.0445028     0.606955   0.0790092  0.0867131\n",
       " 0.0687138  0.043195   0.0289727     0.0790092  0.583484   0.0792234\n",
       " 0.0621529  0.0607531  0.0352234     0.0867131  0.0792234  0.575711 "
      ]
     },
     "execution_count": 35,
     "metadata": {},
     "output_type": "execute_result"
    }
   ],
   "source": [
    "# GRM using all SNPs\n",
    "grm(hapmap)"
   ]
  },
  {
   "cell_type": "code",
   "execution_count": 36,
   "metadata": {
    "collapsed": false
   },
   "outputs": [
    {
     "data": {
      "text/plain": [
       "324x324 Array{Float64,2}:\n",
       " 0.555555   0.0416052  0.0262028  …  0.0649003  0.0711063  0.0653959\n",
       " 0.0416052  0.545878   0.0348329     0.0557821  0.0447756  0.0540233\n",
       " 0.0262028  0.0348329  0.501875      0.0372871  0.0376824  0.0453828\n",
       " 0.0433481  0.0443218  0.0262902     0.0494176  0.0586379  0.053858 \n",
       " 0.0500324  0.0461362  0.024733      0.0652841  0.0547837  0.0625221\n",
       " 0.0500905  0.0389288  0.0387807  …  0.0742584  0.0600982  0.0511295\n",
       " 0.0382626  0.0260203  0.0165299     0.0454319  0.0331971  0.0329207\n",
       " 0.0455679  0.036801   0.0250578     0.0569552  0.0555856  0.0663249\n",
       " 0.0253738  0.0219082  0.0188788     0.0323042  0.0419174  0.0345456\n",
       " 0.030921   0.0397705  0.0231814     0.0573388  0.0396666  0.0485295\n",
       " 0.046957   0.0486959  0.0202157  …  0.0604424  0.0630857  0.0514945\n",
       " 0.0600348  0.0477906  0.0388125     0.0638568  0.0621949  0.0617306\n",
       " 0.0241219  0.0414292  0.0222446     0.0526912  0.0659902  0.0609153\n",
       " ⋮                                ⋱                                 \n",
       " 0.0583051  0.0495422  0.039164      0.0841545  0.0816871  0.0982296\n",
       " 0.0639895  0.0578827  0.0298112     0.0861049  0.073497   0.0837344\n",
       " 0.0665528  0.0517748  0.0381022     0.081391   0.0786653  0.0924036\n",
       " 0.0631139  0.0564766  0.0391481  …  0.0902685  0.0742403  0.0795777\n",
       " 0.0612156  0.0605044  0.0401318     0.0701592  0.0669934  0.0841413\n",
       " 0.0637539  0.0622582  0.0397024     0.072895   0.0794446  0.0846885\n",
       " 0.0612364  0.061514   0.0297625     0.0832158  0.0887389  0.0800376\n",
       " 0.0575959  0.059889   0.0335288     0.0918437  0.0873371  0.0803552\n",
       " 0.0737545  0.0637983  0.038056   …  0.0983913  0.0723564  0.0863917\n",
       " 0.0649003  0.0557821  0.0372871     0.599325   0.0673571  0.0922062\n",
       " 0.0711063  0.0447756  0.0376824     0.0673571  0.56318    0.0736456\n",
       " 0.0653959  0.0540233  0.0453828     0.0922062  0.0736456  0.576462 "
      ]
     },
     "execution_count": 36,
     "metadata": {},
     "output_type": "execute_result"
    }
   ],
   "source": [
    "# GRM using every other SNP\n",
    "grm(sub(hapmap, :, 1:2:snps))"
   ]
  },
  {
   "cell_type": "code",
   "execution_count": 37,
   "metadata": {
    "collapsed": false
   },
   "outputs": [
    {
     "data": {
      "text/plain": [
       "324x324 Array{Float64,2}:\n",
       " 0.539568   0.0353244  0.0028497   …  0.0538645  0.0635479  0.0510303\n",
       " 0.0353244  0.518194   0.0140682      0.0424098  0.0392214  0.050558 \n",
       " 0.0028497  0.0140682  0.499417       0.0324902  0.0209174  0.0202089\n",
       " 0.0430002  0.0289475  0.0228069      0.0522112  0.0695704  0.0493771\n",
       " 0.0452439  0.0331988  0.0161938      0.0660277  0.0565806  0.0559901\n",
       " 0.0316636  0.0207993  0.02694     …  0.0589424  0.0496133  0.0493771\n",
       " 0.0249325  0.011116   0.00355824     0.0311912  0.0310732  0.024342 \n",
       " 0.0263496  0.0291837  0.00946273     0.0391033  0.0464248  0.0470153\n",
       " 0.0217441  0.0264677  0.0141863      0.0300104  0.0490228  0.0303646\n",
       " 0.0212717  0.0264677  0.0114703      0.0530379  0.0503218  0.0326083\n",
       " 0.0363872  0.033435   0.00580194  …  0.0494952  0.0553997  0.0499675\n",
       " 0.0486685  0.0331988  0.0272943      0.055872   0.0550454  0.0526836\n",
       " 0.0314274  0.0425279  0.0255229      0.0588243  0.0707513  0.0579976\n",
       " ⋮                                 ⋱                                 \n",
       " 0.0422917  0.0419374  0.0259953      0.0711056  0.0793719  0.082206 \n",
       " 0.0622489  0.0483143  0.0272943      0.0917713  0.0790176  0.083505 \n",
       " 0.0546911  0.0455982  0.0257591      0.0804347  0.0813794  0.0724046\n",
       " 0.0455982  0.0427641  0.0241059   …  0.072995   0.0629574  0.0705152\n",
       " 0.0561082  0.0536283  0.0293018      0.0780729  0.0707513  0.0741759\n",
       " 0.0513846  0.0543369  0.0307189      0.0784272  0.0857487  0.0714599\n",
       " 0.0524474  0.0515027  0.0293018      0.0779548  0.0836231  0.074294 \n",
       " 0.0490228  0.0529198  0.0207993      0.0826784  0.0842136  0.0720503\n",
       " 0.0506761  0.0484324  0.0222164   …  0.0884648  0.0738217  0.0698066\n",
       " 0.0538645  0.0424098  0.0324902      0.561651   0.0809071  0.0764196\n",
       " 0.0635479  0.0392214  0.0209174      0.0809071  0.566965   0.0690981\n",
       " 0.0510303  0.050558   0.0202089      0.0764196  0.0690981  0.533545 "
      ]
     },
     "execution_count": 37,
     "metadata": {},
     "output_type": "execute_result"
    }
   ],
   "source": [
    "# MoM using all SNPs\n",
    "grm(hapmap; method = :MoM)"
   ]
  },
  {
   "cell_type": "markdown",
   "metadata": {},
   "source": [
    "## Principal component analysis \n",
    "\n",
    "Principal compoenent analysis is widely used in genome-wide association analysis (GWAS) for adjusting population substructure. `pca(A, pcs)` computes the top `pcs` principal components based on the `SnpArray` `A`. Each SNP is centered at $2\\text{MAF}$ and scaled by $[2\\text{MAF}(1-\\text{MAF})]^{-1/2}$. The output is  \n",
    "\n",
    "* `pcscore`: top `pcs` eigen-SNPs, or principal scores, in each column  \n",
    "* `pcloading`: top `pcs` eigen-vectors, or principal loadings, in each column  \n",
    "* `pcvariance`: top `pcs` eigen-values, or principal variances\n",
    "\n",
    "Missing genotypes are imputed according the minor allele frequencies on the fly. This implies that, in the presence of missing genotypes, running the function on the same `SnpArray` twice may produce slightly different answers. For reproducibility, it is a good practice to set the random seed before each function that does imputation on the fly."
   ]
  },
  {
   "cell_type": "code",
   "execution_count": 38,
   "metadata": {
    "collapsed": false
   },
   "outputs": [
    {
     "data": {
      "text/plain": [
       "(\n",
       "324x3 Array{Float64,2}:\n",
       " -38.7231  -1.2983     -7.00541  \n",
       " -32.6096  -1.21052    -3.3232   \n",
       " -23.0215  -0.505397   12.1751   \n",
       " -35.692   -2.76103    -2.40055  \n",
       " -37.1815  -0.132498   -3.66829  \n",
       " -34.9285  -1.11368     6.14167  \n",
       " -22.0323  -5.70536     2.02968  \n",
       " -30.9994  -2.28269    -0.0893283\n",
       " -22.8432  -3.76024     7.97486  \n",
       " -32.2024  -0.239253    2.91168  \n",
       " -36.344   -0.773184   -5.31525  \n",
       " -35.886   -0.807234    0.279053 \n",
       " -33.9423  -3.78982     7.35677  \n",
       "   ⋮                             \n",
       " -49.1282   0.913683   10.4061   \n",
       " -46.9862  -0.9654     -0.435579 \n",
       " -48.5334  -1.05076    -0.15223  \n",
       " -49.0331   0.379279    5.65431  \n",
       " -47.8714  -0.406195   -7.14605  \n",
       " -48.2028  -1.41369    -0.564107 \n",
       " -46.7128  -3.36643    -4.44341  \n",
       " -48.9006  -1.69293     0.0467995\n",
       " -48.5574   1.34936    -1.89814  \n",
       " -50.2291   0.0865293  -1.94494  \n",
       " -48.9263  -2.06102     2.17374  \n",
       " -48.8627   0.274894    6.49518  ,\n",
       "\n",
       "13928x3 Array{Float64,2}:\n",
       "  9.66817e-20   7.35949e-19   5.79015e-19\n",
       "  0.00143962   -0.0042375    -0.00311816 \n",
       " -0.0183601    -0.00512036    0.00322409 \n",
       " -0.00956451   -0.004523     -0.00478078 \n",
       "  0.0211999    -0.0226285     0.0110026  \n",
       " -1.82e-19     -1.35541e-18  -1.07856e-18\n",
       " -0.00230269   -0.000231224  -0.00339487 \n",
       " -0.0202126    -0.0025855     8.10915e-5 \n",
       "  0.00631175   -0.0181213     0.00582407 \n",
       "  0.000691273  -0.00158342   -0.0121338  \n",
       " -6.34042e-19  -3.71923e-18  -2.90818e-18\n",
       "  0.0186933     7.92095e-5    0.00276918 \n",
       " -0.0127722     0.00765991    0.0134646  \n",
       "  ⋮                                      \n",
       "  0.000732677   0.000506129   0.00241864 \n",
       "  0.000632772   0.000487763   0.00243887 \n",
       " -0.000604616  -0.000224069  -0.00294191 \n",
       "  0.000769648   0.000534368   0.00250158 \n",
       "  0.000410429   0.000371501   0.00266287 \n",
       " -0.00115497   -0.00172623    0.00106324 \n",
       "  0.00051705    0.000728929   0.00249755 \n",
       "  0.000652703   0.000748617   0.0023053  \n",
       "  0.000643944  -0.000151043   0.00242307 \n",
       " -0.00149825   -0.000183435  -0.00454919 \n",
       "  0.00313326   -0.00427486   -0.0152038  \n",
       " -9.09523e-5   -0.00287777    0.0037855  ,\n",
       "\n",
       "[1841.3950939952633,225.32365874997188,70.70835685208192])"
      ]
     },
     "execution_count": 38,
     "metadata": {},
     "output_type": "execute_result"
    }
   ],
   "source": [
    "srand(123) # set seed\n",
    "pcscore, pcloading, pcvariance = pca(hapmap, 3)"
   ]
  },
  {
   "cell_type": "markdown",
   "metadata": {},
   "source": [
    "To use eigen-SNPs for plotting or covariates in GWAS, we typically scale them by their standard deviations so that they have mean zero and unit variance."
   ]
  },
  {
   "cell_type": "code",
   "execution_count": 39,
   "metadata": {
    "collapsed": false
   },
   "outputs": [
    {
     "data": {
      "text/plain": [
       "1x3 Array{Float64,2}:\n",
       " 1.0  1.0  1.0"
      ]
     },
     "execution_count": 39,
     "metadata": {},
     "output_type": "execute_result"
    }
   ],
   "source": [
    "# standardize eigen-SNPs before plotting or GWAS\n",
    "scale!(pcscore, 1.0 ./ √(pcvariance))\n",
    "std(pcscore, 1)"
   ]
  },
  {
   "cell_type": "markdown",
   "metadata": {},
   "source": [
    "Internally `pca()` converts `SnpArray` to the matrix of minor allele counts. The default format is `Matrix{Float64}`, which can easily exceed memory limit. Users have several options when the default `Matrix{Float64}` cannot fit into memory.  \n",
    "\n",
    "* Use other intermediate matrix types."
   ]
  },
  {
   "cell_type": "code",
   "execution_count": 40,
   "metadata": {
    "collapsed": false
   },
   "outputs": [
    {
     "data": {
      "text/plain": [
       "3-element Array{Float32,1}:\n",
       " 1841.39  \n",
       "  225.324 \n",
       "   70.7085"
      ]
     },
     "execution_count": 40,
     "metadata": {},
     "output_type": "execute_result"
    }
   ],
   "source": [
    "# use single precision matrix and display the principal variances\n",
    "# approximately same answer as double precision\n",
    "srand(123)\n",
    "pca(hapmap, 3, Matrix{Float32})[3]"
   ]
  },
  {
   "cell_type": "markdown",
   "metadata": {
    "collapsed": true
   },
   "source": [
    "* Use subset of SNPs"
   ]
  },
  {
   "cell_type": "code",
   "execution_count": 41,
   "metadata": {
    "collapsed": false
   },
   "outputs": [
    {
     "data": {
      "text/plain": [
       "3-element Array{Float64,1}:\n",
       " 926.622 \n",
       " 113.188 \n",
       "  36.4866"
      ]
     },
     "execution_count": 41,
     "metadata": {},
     "output_type": "execute_result"
    }
   ],
   "source": [
    "# principal components using every other SNP capture about half the variance\n",
    "srand(123)\n",
    "pca(sub(hapmap, :, 1:2:snps), 3)[3]"
   ]
  },
  {
   "cell_type": "markdown",
   "metadata": {},
   "source": [
    "* Use sparse matrix. For large data sets with majority of rare variants, `pca_sp()` is more efficient by first converting `SnpArray` to a sparse matrix (default is `SparseMatrixCSC{Float64, Int64}`) and then computing principal components using iterative algorithms. "
   ]
  },
  {
   "cell_type": "code",
   "execution_count": 42,
   "metadata": {
    "collapsed": false
   },
   "outputs": [
    {
     "data": {
      "text/plain": [
       "3-element Array{Float64,1}:\n",
       " 1841.4   \n",
       "  225.31  \n",
       "   70.7094"
      ]
     },
     "execution_count": 42,
     "metadata": {},
     "output_type": "execute_result"
    }
   ],
   "source": [
    "# approximately same answer if we use Float16 sparse matrix\n",
    "srand(123)\n",
    "pca_sp(hapmap, 3, SparseMatrixCSC{Float16, UInt32})[3]"
   ]
  },
  {
   "cell_type": "code",
   "execution_count": null,
   "metadata": {
    "collapsed": false
   },
   "outputs": [],
   "source": [
    "# approximately same answer if we use Int8 sparse matrix\n",
    "srand(123)\n",
    "pca_sp(hapmap, 3, SparseMatrixCSC{Int8, UInt32})[3]"
   ]
  },
  {
   "cell_type": "markdown",
   "metadata": {},
   "source": [
    "## SnpData\n",
    "\n"
   ]
  },
  {
   "cell_type": "code",
   "execution_count": null,
   "metadata": {
    "collapsed": false
   },
   "outputs": [],
   "source": [
    "hapmapdata = SnpData(\"hapmap3\")\n",
    "fieldnames(hapmapdata)"
   ]
  },
  {
   "cell_type": "code",
   "execution_count": null,
   "metadata": {
    "collapsed": false
   },
   "outputs": [],
   "source": [
    "hapmapdata.personid"
   ]
  },
  {
   "cell_type": "code",
   "execution_count": null,
   "metadata": {
    "collapsed": true
   },
   "outputs": [],
   "source": [
    "hapmapdata.snpid"
   ]
  },
  {
   "cell_type": "markdown",
   "metadata": {},
   "source": [
    "## TODOs\n",
    "\n",
    "* Profile `summarize()`, `grm()`, `pca()`, and `pca_sp()` using the COPD and GAW19 datasets and optimize code  \n",
    "* "
   ]
  },
  {
   "cell_type": "code",
   "execution_count": null,
   "metadata": {
    "collapsed": false
   },
   "outputs": [],
   "source": [
    "versioninfo()"
   ]
  },
  {
   "cell_type": "code",
   "execution_count": null,
   "metadata": {
    "collapsed": true
   },
   "outputs": [],
   "source": []
  }
 ],
 "metadata": {
  "kernelspec": {
   "display_name": "Julia 0.4.5",
   "language": "julia",
   "name": "julia-0.4"
  },
  "language_info": {
   "file_extension": ".jl",
   "mimetype": "application/julia",
   "name": "julia",
   "version": "0.4.5"
  }
 },
 "nbformat": 4,
 "nbformat_minor": 0
}
