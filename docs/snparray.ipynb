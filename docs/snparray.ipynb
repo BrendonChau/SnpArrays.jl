{
 "cells": [
  {
   "cell_type": "markdown",
   "metadata": {},
   "source": [
    "# SnpArrays.jl"
   ]
  },
  {
   "cell_type": "markdown",
   "metadata": {},
   "source": [
    "The module `SnpArrays` implements the `SnpArray` type for handling biallelic genotypes. `SnpArray` is an array of `Tuple{Bool,Bool}` and adopts the same coding as the [Plink binary format](http://pngu.mgh.harvard.edu/~purcell/plink/binary.shtml). If `A1` and `A2` are two alleles, the coding rule is  \n",
    "\n",
    "| Genotype | SnpArray |  \n",
    "|---|---|---|  \n",
    "| A1,A1 | 00 |  \n",
    "| A1,A2 | 01 |  \n",
    "| A2,A2 | 11 |  \n",
    "| missing | 10 |  \n",
    "The code `10==(true, false)` is reserved for missing genotype. Otherwise the bit `1==true` represents one copy of allele `A2`. For a two-dimensional `SnpArray`, it assumes each row is a person and each column is a SNP.\n",
    "\n",
    "## Constructor\n",
    "\n",
    "There are various ways to initialize a `SnpArray`.  \n",
    "\n",
    "* `SnpArray` can be initialized from [Plink binary files](http://pngu.mgh.harvard.edu/~purcell/plink/binary.shtml), say an example data set of the MAP4 gene on chromosome 3:"
   ]
  },
  {
   "cell_type": "code",
   "execution_count": 1,
   "metadata": {
    "collapsed": false
   },
   "outputs": [
    {
     "name": "stdout",
     "output_type": "stream",
     "text": [
      "-rw-r--r--  1 hzhou3  staff  215043 Jul 16  2014 chr3-map4-geno.bed\n",
      "-rw-r--r--  1 hzhou3  staff   25088 Jul 16  2014 chr3-map4-geno.bim\n",
      "-rw-r--r--  1 hzhou3  staff   39356 Jul 16  2014 chr3-map4-geno.fam\n",
      "-rw-r--r--  1 hzhou3  staff    2321 Jul 16  2014 chr3-map4-geno.log\n"
     ]
    }
   ],
   "source": [
    ";ls -al chr3-map4-geno.*"
   ]
  },
  {
   "cell_type": "code",
   "execution_count": 2,
   "metadata": {
    "collapsed": false
   },
   "outputs": [
    {
     "data": {
      "text/plain": [
       "959x896 SnpArrays.SnpArray{2}:\n",
       " (true,true)   (true,true)  (true,true)   …  (false,true)   (true,true)\n",
       " (false,true)  (true,true)  (true,true)      (false,true)   (true,true)\n",
       " (true,true)   (true,true)  (true,true)      (true,true)    (true,true)\n",
       " (false,true)  (true,true)  (true,true)      (false,true)   (true,true)\n",
       " (true,true)   (true,true)  (true,true)      (true,true)    (true,true)\n",
       " (true,true)   (true,true)  (true,true)   …  (true,true)    (true,true)\n",
       " (false,true)  (true,true)  (true,true)      (false,false)  (true,true)\n",
       " (true,true)   (true,true)  (true,true)      (false,true)   (true,true)\n",
       " (true,true)   (true,true)  (false,true)     (false,true)   (true,true)\n",
       " (true,true)   (true,true)  (true,true)      (true,true)    (true,true)\n",
       " (true,true)   (true,true)  (true,true)   …  (true,true)    (true,true)\n",
       " (true,true)   (true,true)  (true,true)      (true,true)    (true,true)\n",
       " (false,true)  (true,true)  (true,true)      (false,true)   (true,true)\n",
       " ⋮                                        ⋱                 ⋮          \n",
       " (true,true)   (true,true)  (true,true)      (true,true)    (true,true)\n",
       " (true,true)   (true,true)  (true,true)      (true,true)    (true,true)\n",
       " (true,true)   (true,true)  (true,true)      (true,true)    (true,true)\n",
       " (true,true)   (true,true)  (true,true)   …  (true,true)    (true,true)\n",
       " (false,true)  (true,true)  (true,true)      (false,true)   (true,true)\n",
       " (false,true)  (true,true)  (true,true)      (false,true)   (true,true)\n",
       " (false,true)  (true,true)  (true,true)      (false,true)   (true,true)\n",
       " (false,true)  (true,true)  (true,true)      (false,true)   (true,true)\n",
       " (false,true)  (true,true)  (true,true)   …  (false,true)   (true,true)\n",
       " (false,true)  (true,true)  (true,true)      (false,true)   (true,true)\n",
       " (true,true)   (true,true)  (true,true)      (true,true)    (true,true)\n",
       " (true,true)   (true,true)  (true,true)      (false,true)   (true,true)"
      ]
     },
     "execution_count": 2,
     "metadata": {},
     "output_type": "execute_result"
    }
   ],
   "source": [
    "include(\"../src/SnpArrays.jl\")\n",
    "using SnpArrays\n",
    "map4 = SnpArray(\"chr3-map4-geno\")"
   ]
  },
  {
   "cell_type": "code",
   "execution_count": 3,
   "metadata": {
    "collapsed": false
   },
   "outputs": [
    {
     "data": {
      "text/plain": [
       "(959,896)"
      ]
     },
     "execution_count": 3,
     "metadata": {},
     "output_type": "execute_result"
    }
   ],
   "source": [
    "# rows are persons; columns are SNPs\n",
    "persons, snps = size(map4)"
   ]
  },
  {
   "cell_type": "markdown",
   "metadata": {},
   "source": [
    "Internally `SnpArray` stores two `BitArray`s `A1` and `A2`. For $n$ individuals and $p$ SNPs, the memory usage of `SnpArray` is $0.25np$ bytes, approximately same size as the Plink `bed` file."
   ]
  },
  {
   "cell_type": "code",
   "execution_count": 4,
   "metadata": {
    "collapsed": false
   },
   "outputs": [
    {
     "data": {
      "text/plain": [
       "2-element Array{Symbol,1}:\n",
       " :A1\n",
       " :A2"
      ]
     },
     "execution_count": 4,
     "metadata": {},
     "output_type": "execute_result"
    }
   ],
   "source": [
    "# fields of a SnpArray\n",
    "fieldnames(map4)"
   ]
  },
  {
   "cell_type": "code",
   "execution_count": 5,
   "metadata": {
    "collapsed": false
   },
   "outputs": [
    {
     "data": {
      "text/plain": [
       "214896"
      ]
     },
     "execution_count": 5,
     "metadata": {},
     "output_type": "execute_result"
    }
   ],
   "source": [
    "# memory usage\n",
    "Base.summarysize(map4)"
   ]
  },
  {
   "cell_type": "markdown",
   "metadata": {},
   "source": [
    "* `SnpArray` can be initialized from a matrix of A1 allele counts."
   ]
  },
  {
   "cell_type": "code",
   "execution_count": 6,
   "metadata": {
    "collapsed": false
   },
   "outputs": [
    {
     "data": {
      "text/plain": [
       "5x3 SnpArrays.SnpArray{2}:\n",
       " (true,true)    (false,false)  (true,true)  \n",
       " (false,false)  (false,false)  (false,false)\n",
       " (false,false)  (false,false)  (false,true) \n",
       " (false,true)   (false,true)   (false,false)\n",
       " (true,true)    (false,false)  (false,false)"
      ]
     },
     "execution_count": 6,
     "metadata": {},
     "output_type": "execute_result"
    }
   ],
   "source": [
    "SnpArray(rand(0:2, 5, 3))"
   ]
  },
  {
   "cell_type": "markdown",
   "metadata": {},
   "source": [
    "* `SnpArray(m, n)` generates an m by n `SnpArray` with all A1 alleles."
   ]
  },
  {
   "cell_type": "code",
   "execution_count": 7,
   "metadata": {
    "collapsed": false
   },
   "outputs": [
    {
     "data": {
      "text/plain": [
       "5x3 SnpArrays.SnpArray{2}:\n",
       " (false,false)  (false,false)  (false,false)\n",
       " (false,false)  (false,false)  (false,false)\n",
       " (false,false)  (false,false)  (false,false)\n",
       " (false,false)  (false,false)  (false,false)\n",
       " (false,false)  (false,false)  (false,false)"
      ]
     },
     "execution_count": 7,
     "metadata": {},
     "output_type": "execute_result"
    }
   ],
   "source": [
    "s = SnpArray(5, 3)"
   ]
  },
  {
   "cell_type": "markdown",
   "metadata": {},
   "source": [
    "## Summary statistics\n",
    "\n",
    "`summarize()` computes  \n",
    "* `maf`: minor allele frequencies, taking into account of missingness.  \n",
    "* `minor_allele`: a BitVector indicating the minor allele for each SNP. `minor_allele[j]==true` means A1 is the minor allele for SNP j. \n",
    "* `missings_by_snp`: number of missing genotypes for each snp.  \n",
    "* `missing_by_person`: number of missing genotypes for each person."
   ]
  },
  {
   "cell_type": "code",
   "execution_count": 8,
   "metadata": {
    "collapsed": false
   },
   "outputs": [
    {
     "data": {
      "text/plain": [
       "1x896 Array{Float64,2}:\n",
       " 0.226799  0.00208551  0.0260688  …  0.00260688  0.382046  0.00260688"
      ]
     },
     "execution_count": 8,
     "metadata": {},
     "output_type": "execute_result"
    }
   ],
   "source": [
    "maf, minor_allele, missings_by_snp, missings_by_person = summarize(map4)\n",
    "# minor allele frequencies\n",
    "maf'"
   ]
  },
  {
   "cell_type": "code",
   "execution_count": 9,
   "metadata": {
    "collapsed": false
   },
   "outputs": [
    {
     "data": {
      "text/plain": [
       "(218,218)"
      ]
     },
     "execution_count": 9,
     "metadata": {},
     "output_type": "execute_result"
    }
   ],
   "source": [
    "# total number of missing genotypes\n",
    "sum(missings_by_snp), sum(missings_by_person)"
   ]
  },
  {
   "cell_type": "markdown",
   "metadata": {},
   "source": [
    "## Random genotypes\n",
    "\n",
    "`randgeno(a1freq)` generates a random genotype according to allele A1 frequency `a1freq`."
   ]
  },
  {
   "cell_type": "code",
   "execution_count": 10,
   "metadata": {
    "collapsed": false
   },
   "outputs": [
    {
     "data": {
      "text/plain": [
       "(true,true)"
      ]
     },
     "execution_count": 10,
     "metadata": {},
     "output_type": "execute_result"
    }
   ],
   "source": [
    "randgeno(0.5)"
   ]
  },
  {
   "cell_type": "markdown",
   "metadata": {},
   "source": [
    "`randgeno(maf, minor_allele)` generates a random genotype according to minor allele frequency `maf` and whether the minor allele is A1 (`minor_allele==true`) or A2 (`minor_allele==false`)."
   ]
  },
  {
   "cell_type": "code",
   "execution_count": 11,
   "metadata": {
    "collapsed": false
   },
   "outputs": [
    {
     "data": {
      "text/plain": [
       "(false,true)"
      ]
     },
     "execution_count": 11,
     "metadata": {},
     "output_type": "execute_result"
    }
   ],
   "source": [
    "randgeno(0.5, true)"
   ]
  },
  {
   "cell_type": "markdown",
   "metadata": {},
   "source": [
    "`randgeno(n, maf, minor_allele)` generate a vector of random genotypes according to a common minor allele frequency `maf` and the minor allele."
   ]
  },
  {
   "cell_type": "code",
   "execution_count": 12,
   "metadata": {
    "collapsed": false
   },
   "outputs": [
    {
     "data": {
      "text/plain": [
       "10-element SnpArrays.SnpArray{1}:\n",
       " (false,true)\n",
       " (true,true) \n",
       " (true,true) \n",
       " (false,true)\n",
       " (true,true) \n",
       " (false,true)\n",
       " (true,true) \n",
       " (true,true) \n",
       " (false,true)\n",
       " (false,true)"
      ]
     },
     "execution_count": 12,
     "metadata": {},
     "output_type": "execute_result"
    }
   ],
   "source": [
    "randgeno(10, 0.25, true)"
   ]
  },
  {
   "cell_type": "markdown",
   "metadata": {},
   "source": [
    "`randgeno(m, n, maf, minor_allele)` generate a random $m$-by-$n$ `SnpArray` according to a vector minor allele frequencies `maf` and a minor allele indicator vector. Lengths of both vectors should be $n$."
   ]
  },
  {
   "cell_type": "code",
   "execution_count": 13,
   "metadata": {
    "collapsed": false
   },
   "outputs": [
    {
     "data": {
      "text/plain": [
       "959x896 SnpArrays.SnpArray{2}:\n",
       " (true,true)    (true,true)   (false,true)  …  (false,true)   (true,true)\n",
       " (false,true)   (true,true)   (true,true)      (false,false)  (true,true)\n",
       " (true,true)    (true,true)   (true,true)      (true,true)    (true,true)\n",
       " (false,true)   (true,true)   (true,true)      (true,true)    (true,true)\n",
       " (true,true)    (true,true)   (true,true)      (true,true)    (true,true)\n",
       " (true,true)    (true,true)   (true,true)   …  (false,true)   (true,true)\n",
       " (false,true)   (false,true)  (true,true)      (false,true)   (true,true)\n",
       " (true,true)    (true,true)   (true,true)      (true,true)    (true,true)\n",
       " (false,true)   (true,true)   (true,true)      (false,true)   (true,true)\n",
       " (true,true)    (true,true)   (true,true)      (false,true)   (true,true)\n",
       " (false,true)   (true,true)   (true,true)   …  (false,true)   (true,true)\n",
       " (true,true)    (true,true)   (true,true)      (false,true)   (true,true)\n",
       " (true,true)    (true,true)   (true,true)      (false,true)   (true,true)\n",
       " ⋮                                          ⋱                 ⋮          \n",
       " (true,true)    (true,true)   (true,true)      (false,true)   (true,true)\n",
       " (true,true)    (true,true)   (true,true)      (false,true)   (true,true)\n",
       " (false,true)   (true,true)   (true,true)      (true,true)    (true,true)\n",
       " (true,true)    (true,true)   (true,true)   …  (true,true)    (true,true)\n",
       " (false,true)   (true,true)   (true,true)      (false,false)  (true,true)\n",
       " (false,true)   (true,true)   (true,true)      (true,true)    (true,true)\n",
       " (true,true)    (true,true)   (true,true)      (false,true)   (true,true)\n",
       " (false,true)   (true,true)   (true,true)      (false,true)   (true,true)\n",
       " (false,false)  (true,true)   (true,true)   …  (false,true)   (true,true)\n",
       " (true,true)    (true,true)   (true,true)      (false,true)   (true,true)\n",
       " (false,true)   (true,true)   (true,true)      (true,true)    (true,true)\n",
       " (false,true)   (true,true)   (true,true)      (false,true)   (true,true)"
      ]
     },
     "execution_count": 13,
     "metadata": {},
     "output_type": "execute_result"
    }
   ],
   "source": [
    "# this is a random replicate of map4 data\n",
    "randgeno(size(map4), maf, minor_allele)"
   ]
  },
  {
   "cell_type": "markdown",
   "metadata": {},
   "source": [
    "## Subsetting\n",
    "\n",
    "Subsetting a `SnpArray` works the same way as subsetting any other arrays."
   ]
  },
  {
   "cell_type": "code",
   "execution_count": 14,
   "metadata": {
    "collapsed": false
   },
   "outputs": [
    {
     "data": {
      "text/plain": [
       "1x896 SnpArrays.SnpArray{2}:\n",
       " (true,true)  (true,true)  (true,true)  …  (false,true)  (true,true)"
      ]
     },
     "execution_count": 14,
     "metadata": {},
     "output_type": "execute_result"
    }
   ],
   "source": [
    "# genotypes of the 1st individual\n",
    "map4[1, :]"
   ]
  },
  {
   "cell_type": "code",
   "execution_count": 15,
   "metadata": {
    "collapsed": false
   },
   "outputs": [
    {
     "data": {
      "text/plain": [
       "959-element SnpArrays.SnpArray{1}:\n",
       " (true,true)\n",
       " (true,true)\n",
       " (true,true)\n",
       " (true,true)\n",
       " (true,true)\n",
       " (true,true)\n",
       " (true,true)\n",
       " (true,true)\n",
       " (true,true)\n",
       " (true,true)\n",
       " (true,true)\n",
       " (true,true)\n",
       " (true,true)\n",
       " ⋮          \n",
       " (true,true)\n",
       " (true,true)\n",
       " (true,true)\n",
       " (true,true)\n",
       " (true,true)\n",
       " (true,true)\n",
       " (true,true)\n",
       " (true,true)\n",
       " (true,true)\n",
       " (true,true)\n",
       " (true,true)\n",
       " (true,true)"
      ]
     },
     "execution_count": 15,
     "metadata": {},
     "output_type": "execute_result"
    }
   ],
   "source": [
    "# genotypes of the 5th SNP\n",
    "map4[:, 5]"
   ]
  },
  {
   "cell_type": "code",
   "execution_count": 16,
   "metadata": {
    "collapsed": false
   },
   "outputs": [
    {
     "data": {
      "text/plain": [
       "5x6 SnpArrays.SnpArray{2}:\n",
       " (true,true)  (false,true)  (true,true)  …  (true,true)  (true,true)\n",
       " (true,true)  (false,true)  (true,true)     (true,true)  (true,true)\n",
       " (true,true)  (true,true)   (true,true)     (true,true)  (true,true)\n",
       " (true,true)  (false,true)  (true,true)     (true,true)  (true,true)\n",
       " (true,true)  (true,true)   (true,true)     (true,true)  (true,true)"
      ]
     },
     "execution_count": 16,
     "metadata": {},
     "output_type": "execute_result"
    }
   ],
   "source": [
    "# subsetting both individuals and SNPs\n",
    "map4[1:5, 5:10]"
   ]
  },
  {
   "cell_type": "code",
   "execution_count": 17,
   "metadata": {
    "collapsed": false
   },
   "outputs": [
    {
     "data": {
      "text/plain": [
       "959x150 SnpArrays.SnpArray{2}:\n",
       " (true,true)   (false,true)   (true,true)   …  (false,true)   (false,true) \n",
       " (false,true)  (false,true)   (false,true)     (false,true)   (false,true) \n",
       " (true,true)   (true,true)    (true,true)      (true,true)    (true,true)  \n",
       " (false,true)  (false,true)   (true,true)      (false,true)   (false,true) \n",
       " (true,true)   (true,true)    (false,true)     (true,true)    (true,true)  \n",
       " (true,true)   (true,true)    (true,true)   …  (true,true)    (true,true)  \n",
       " (false,true)  (false,false)  (true,true)      (false,false)  (false,false)\n",
       " (true,true)   (true,true)    (true,true)      (true,true)    (false,true) \n",
       " (true,true)   (false,false)  (true,true)      (false,false)  (false,true) \n",
       " (true,true)   (false,true)   (true,true)      (false,true)   (true,true)  \n",
       " (true,true)   (true,true)    (true,true)   …  (true,true)    (true,true)  \n",
       " (true,true)   (true,true)    (true,true)      (true,true)    (true,true)  \n",
       " (false,true)  (false,true)   (true,true)      (false,true)   (false,true) \n",
       " ⋮                                          ⋱                              \n",
       " (true,true)   (true,true)    (false,true)     (true,true)    (true,true)  \n",
       " (true,true)   (true,true)    (false,true)     (true,true)    (true,true)  \n",
       " (true,true)   (true,true)    (false,true)     (true,true)    (true,true)  \n",
       " (true,true)   (true,true)    (false,true)  …  (true,true)    (true,true)  \n",
       " (false,true)  (false,true)   (false,true)     (false,true)   (false,true) \n",
       " (false,true)  (false,true)   (true,true)      (false,true)   (false,true) \n",
       " (false,true)  (false,true)   (true,true)      (false,true)   (false,true) \n",
       " (false,true)  (false,true)   (true,true)      (false,true)   (false,true) \n",
       " (false,true)  (false,true)   (true,true)   …  (false,true)   (false,true) \n",
       " (false,true)  (false,true)   (true,true)      (false,true)   (false,true) \n",
       " (true,true)   (true,true)    (false,true)     (true,true)    (true,true)  \n",
       " (true,true)   (false,true)   (true,true)      (false,true)   (false,true) "
      ]
     },
     "execution_count": 17,
     "metadata": {},
     "output_type": "execute_result"
    }
   ],
   "source": [
    "# filter out rare SNPs with MAF < 0.05\n",
    "map4[:, maf .>= 0.05]"
   ]
  },
  {
   "cell_type": "code",
   "execution_count": 18,
   "metadata": {
    "collapsed": false
   },
   "outputs": [
    {
     "data": {
      "text/plain": [
       "817x896 SnpArrays.SnpArray{2}:\n",
       " (true,true)    (true,true)  (true,true)   …  (false,true)   (true,true)\n",
       " (false,true)   (true,true)  (true,true)      (false,true)   (true,true)\n",
       " (true,true)    (true,true)  (true,true)      (true,true)    (true,true)\n",
       " (false,true)   (true,true)  (true,true)      (false,true)   (true,true)\n",
       " (true,true)    (true,true)  (true,true)      (true,true)    (true,true)\n",
       " (true,true)    (true,true)  (true,true)   …  (true,true)    (true,true)\n",
       " (false,true)   (true,true)  (true,true)      (false,false)  (true,true)\n",
       " (true,true)    (true,true)  (true,true)      (false,true)   (true,true)\n",
       " (true,true)    (true,true)  (false,true)     (false,true)   (true,true)\n",
       " (true,true)    (true,true)  (true,true)      (true,true)    (true,true)\n",
       " (true,true)    (true,true)  (true,true)   …  (true,true)    (true,true)\n",
       " (false,true)   (true,true)  (true,true)      (false,true)   (true,true)\n",
       " (false,false)  (true,true)  (true,true)      (false,false)  (true,true)\n",
       " ⋮                                         ⋱                 ⋮          \n",
       " (true,true)    (true,true)  (true,true)   …  (false,true)   (true,true)\n",
       " (true,true)    (true,true)  (true,true)      (true,true)    (true,true)\n",
       " (true,true)    (true,true)  (true,true)      (true,true)    (true,true)\n",
       " (true,true)    (true,true)  (true,true)      (true,true)    (true,true)\n",
       " (true,true)    (true,true)  (true,true)      (true,true)    (true,true)\n",
       " (true,true)    (true,true)  (true,true)   …  (true,true)    (true,true)\n",
       " (false,true)   (true,true)  (true,true)      (false,true)   (true,true)\n",
       " (false,true)   (true,true)  (true,true)      (false,true)   (true,true)\n",
       " (false,true)   (true,true)  (true,true)      (false,true)   (true,true)\n",
       " (false,true)   (true,true)  (true,true)      (false,true)   (true,true)\n",
       " (true,true)    (true,true)  (true,true)   …  (true,true)    (true,true)\n",
       " (true,true)    (true,true)  (true,true)      (false,true)   (true,true)"
      ]
     },
     "execution_count": 18,
     "metadata": {},
     "output_type": "execute_result"
    }
   ],
   "source": [
    "# filter out individuals with genotyping success rate < 0.999\n",
    "map4[missings_by_person / persons .< 0.001, :]"
   ]
  },
  {
   "cell_type": "markdown",
   "metadata": {},
   "source": [
    "`sub()` and `slice()` create views of subarray without copying data and improve efficiency in many calculations."
   ]
  },
  {
   "cell_type": "code",
   "execution_count": 19,
   "metadata": {
    "collapsed": false
   },
   "outputs": [
    {
     "data": {
      "text/plain": [
       "1x150 Array{Float64,2}:\n",
       " 0.226799  0.397704  0.0630865  0.206465  …  0.354015  0.390511  0.382046"
      ]
     },
     "execution_count": 19,
     "metadata": {},
     "output_type": "execute_result"
    }
   ],
   "source": [
    "mafcommon, = summarize(sub(map4, :, maf .>= 0.05))\n",
    "mafcommon'"
   ]
  },
  {
   "cell_type": "markdown",
   "metadata": {},
   "source": [
    "## Assignment\n",
    "\n",
    "It is possible to assign specific genotypes to a `SnpArray` entry."
   ]
  },
  {
   "cell_type": "code",
   "execution_count": 20,
   "metadata": {
    "collapsed": false
   },
   "outputs": [
    {
     "data": {
      "text/plain": [
       "(true,true)"
      ]
     },
     "execution_count": 20,
     "metadata": {},
     "output_type": "execute_result"
    }
   ],
   "source": [
    "map4[1, 1]"
   ]
  },
  {
   "cell_type": "code",
   "execution_count": 21,
   "metadata": {
    "collapsed": false
   },
   "outputs": [
    {
     "data": {
      "text/plain": [
       "(false,true)"
      ]
     },
     "execution_count": 21,
     "metadata": {},
     "output_type": "execute_result"
    }
   ],
   "source": [
    "map4[1, 1] = (false, true)\n",
    "map4[1, 1]"
   ]
  },
  {
   "cell_type": "code",
   "execution_count": 22,
   "metadata": {
    "collapsed": false
   },
   "outputs": [
    {
     "data": {
      "text/plain": [
       "(true,false)"
      ]
     },
     "execution_count": 22,
     "metadata": {},
     "output_type": "execute_result"
    }
   ],
   "source": [
    "map4[1, 1] = NaN\n",
    "map4[1, 1]"
   ]
  },
  {
   "cell_type": "code",
   "execution_count": 23,
   "metadata": {
    "collapsed": false
   },
   "outputs": [
    {
     "data": {
      "text/plain": [
       "(true,true)"
      ]
     },
     "execution_count": 23,
     "metadata": {},
     "output_type": "execute_result"
    }
   ],
   "source": [
    "map4[1, 1] = 2\n",
    "map4[1, 1]"
   ]
  },
  {
   "cell_type": "markdown",
   "metadata": {},
   "source": [
    "Subsetted assignment such as `map4[:, 1] = NaN` is also valid."
   ]
  },
  {
   "cell_type": "markdown",
   "metadata": {
    "collapsed": true
   },
   "source": [
    "## Copy, convert, and imputation\n",
    "\n",
    "In most analysis we convert the whole `SnpArray` or slices of it to numeric arrays for computations. Keep in mind the storage of resultant data can be up to 32 fold that of `SnpArray`. Below are estimates of memory usage for some common data types with $n$ individuals and $p$ SNPs. Here MAF denotes the **average** minor allele frequencies.\n",
    "\n",
    "* `SnpArray`: $0.25np$ bytes  \n",
    "* `Matrix{Int8}`: $np$ bytes  \n",
    "* `Matrix{Float32}`: $4np$ bytes  \n",
    "* `Matrix{Float64}`: $8np$ bytes  \n",
    "* `SparseMatrixCSC{Float64,Int64}`: $16 \\cdot \\text{NNZ} + 8(p+1) \\approx 16np(2\\text{MAF}(1-\\text{MAF})+\\text{MAF}^2) + 8(p+1) = 16np \\cdot \\text{MAF}(2-\\text{MAF}) + 8(p+1)$ bytes. When average MAF=0.25, it is about $7np$ bytes. When MAF=0.025, it is about $0.8np$ bypes, 10 fold smaller than `Matrix{Float64}` type.  \n",
    "* `SparseMatrixCSC{Bool,Int64}`: $2np \\cdot \\text{MAF} \\cdot 9 + 16(p+1) = 18 np \\cdot \\text{MAF} + 16(p+1)$ bytes. When average MAF=0.25, it is about $4.5np$ bytes. When MAF=0.045, it is about $0.8np$ bytes, 10 fold smaller than `Matrix{Float64}` type.  \n",
    "\n",
    "To be concrete, consider 2 typical data sets:  \n",
    "* COPD (GWAS): $n = 6670$ individuals, $p = 630998$ SNPs, average MAF is 0.2454.\n",
    "* GAW19 (sequencing study): $n = 1943$ individuals, $p = 1711766$ SNPs, average MAF is 0.00499.  \n",
    "\n",
    "| Data Type | COPD | GAW19 |  \n",
    "|---|---|---|  \n",
    "| `SnpArray` | 1.05GB | 0.83GB |  \n",
    "| `Matrix{Float64}` | 33.67GB | 26.61GB |  \n",
    "| `SparseMatrixCSC{Float64,Int64}` | 29GB | 0.543GB |  \n",
    "| `SparseMatrixCSC{Bool,Int64}` | 18.6GB | 0.326GB |  \n",
    "\n",
    "Apparently for data sets with majority of rare variants, converting to sparse matrices saves memory usage and often brings computational advantages too. When choosing the integer type of the row indices `rowval` and column pointer `colptr` in the `SparseMatrixCSC` format, make sure its maximum is larger than the number of nonzeros in the matrix."
   ]
  },
  {
   "cell_type": "code",
   "execution_count": 24,
   "metadata": {
    "collapsed": false
   },
   "outputs": [
    {
     "data": {
      "text/plain": [
       "6874112"
      ]
     },
     "execution_count": 24,
     "metadata": {},
     "output_type": "execute_result"
    }
   ],
   "source": [
    "map4f64 = convert(Matrix{Float64}, map4)\n",
    "# memory usage if convert to Float64\n",
    "Base.summarysize(map4f64)"
   ]
  },
  {
   "cell_type": "code",
   "execution_count": 25,
   "metadata": {
    "collapsed": false
   },
   "outputs": [
    {
     "data": {
      "text/plain": [
       "0.059234694204908275"
      ]
     },
     "execution_count": 25,
     "metadata": {},
     "output_type": "execute_result"
    }
   ],
   "source": [
    "# average maf\n",
    "mean(maf)"
   ]
  },
  {
   "cell_type": "code",
   "execution_count": 26,
   "metadata": {
    "collapsed": false
   },
   "outputs": [
    {
     "data": {
      "text/plain": [
       "1390144"
      ]
     },
     "execution_count": 26,
     "metadata": {},
     "output_type": "execute_result"
    }
   ],
   "source": [
    "map4f64sp = convert(SparseMatrixCSC{Float64, Int64}, map4)\n",
    "# memory usage if convert to sparse Float64 matrix\n",
    "Base.summarysize(map4f64sp)"
   ]
  },
  {
   "cell_type": "code",
   "execution_count": 27,
   "metadata": {
    "collapsed": false
   },
   "outputs": [
    {
     "data": {
      "text/plain": [
       "695092"
      ]
     },
     "execution_count": 27,
     "metadata": {},
     "output_type": "execute_result"
    }
   ],
   "source": [
    "map4f32sp = convert(SparseMatrixCSC{Float32, UInt32}, map4)\n",
    "# memory usage if convert to sparse Float32 matrix\n",
    "Base.summarysize(map4f32sp)"
   ]
  },
  {
   "cell_type": "markdown",
   "metadata": {},
   "source": [
    "By default `convert()` method does **not** impute missing genotypes but convert them to `NaN`."
   ]
  },
  {
   "cell_type": "code",
   "execution_count": 28,
   "metadata": {
    "collapsed": false
   },
   "outputs": [
    {
     "data": {
      "text/plain": [
       "(218,218)"
      ]
     },
     "execution_count": 28,
     "metadata": {},
     "output_type": "execute_result"
    }
   ],
   "source": [
    "# number of missing genotypes\n",
    "countnz(isnan(map4)), countnz(isnan(map4f64))"
   ]
  },
  {
   "cell_type": "markdown",
   "metadata": {},
   "source": [
    "We can enforce imputation by setting optional argument `impute=true`. Imputation is done by generating two random alleles according to the minor allele frequency. This is not an optimal strategy and users should make sure genotypes are imputed with high quality using other advanced methods."
   ]
  },
  {
   "cell_type": "code",
   "execution_count": 29,
   "metadata": {
    "collapsed": false
   },
   "outputs": [
    {
     "data": {
      "text/plain": [
       "0"
      ]
     },
     "execution_count": 29,
     "metadata": {},
     "output_type": "execute_result"
    }
   ],
   "source": [
    "map4f64impute = convert(Matrix{Float64}, map4; impute = true)\n",
    "countnz(isnan(map4f64impute))"
   ]
  },
  {
   "cell_type": "markdown",
   "metadata": {},
   "source": [
    "By default `convert()` translates genotypes according to the *additive* SNP model, which essentially is the **minor allele** counts (0, 1 or 2). Other SNP models are *dominant* and *recessive*, both in terms of the **minor allele**. When `A1` is the minor allele, genotype is translated to real number according to\n",
    "\n",
    "| Genotype | `SnpArray` | `model=:additive` | `model=:dominant` | `model=:recessive` |    \n",
    "|---|---|---|---|---|  \n",
    "| A1,A1 | 00 | 2 | 1 | 1 |  \n",
    "| A1,A2 | 01 | 1 | 1 | 0 |  \n",
    "| A2,A2 | 11 | 0 | 0 | 0 |  \n",
    "| missing | 10 | NaN | NaN | NaN | \n",
    "\n",
    "When `A2` is the minor allele, genotype is translated according to\n",
    "\n",
    "| Genotype | `SnpArray` | `model=:additive` | `model=:dominant` | `model=:recessive` |    \n",
    "|---|---|---|---|---|  \n",
    "| A1,A1 | 00 | 0 | 0 | 0 |  \n",
    "| A1,A2 | 01 | 1 | 1 | 0 |  \n",
    "| A2,A2 | 11 | 2 | 1 | 1 |  \n",
    "| missing | 10 | NaN | NaN | NaN |"
   ]
  },
  {
   "cell_type": "code",
   "execution_count": 30,
   "metadata": {
    "collapsed": false
   },
   "outputs": [
    {
     "data": {
      "text/plain": [
       "10x3 Array{Float64,2}:\n",
       " 0.0  0.0  0.0\n",
       " 1.0  1.0  0.0\n",
       " 0.0  0.0  0.0\n",
       " 1.0  1.0  0.0\n",
       " 0.0  0.0  0.0\n",
       " 0.0  0.0  0.0\n",
       " 1.0  1.0  0.0\n",
       " 0.0  0.0  0.0\n",
       " 0.0  0.0  0.0\n",
       " 0.0  0.0  0.0"
      ]
     },
     "execution_count": 30,
     "metadata": {},
     "output_type": "execute_result"
    }
   ],
   "source": [
    "[convert(Vector{Float64}, map4[1:10, 1]; model = :additive) convert(Vector{Float64}, map4[1:10, 1]; model = :dominant) convert(Vector{Float64}, map4[1:10, 1]; model = :recessive)]"
   ]
  },
  {
   "cell_type": "markdown",
   "metadata": {},
   "source": [
    "By default `convert()` does **not** center and scale genotypes. Setting optional arguments `center=true, scale=true` centers genotypes at 2MAF and scales them by $[2 \\cdot MAF \\cdot (1 - MAF)]^{-1/2}$. Mono-allelic SNPs (MAF=0) are not scaled."
   ]
  },
  {
   "cell_type": "code",
   "execution_count": 31,
   "metadata": {
    "collapsed": false
   },
   "outputs": [
    {
     "data": {
      "text/plain": [
       "959x2 Array{Float64,2}:\n",
       " 0.0  -0.76593 \n",
       " 1.0   0.922637\n",
       " 0.0  -0.76593 \n",
       " 1.0   0.922637\n",
       " 0.0  -0.76593 \n",
       " 0.0  -0.76593 \n",
       " 1.0   0.922637\n",
       " 0.0  -0.76593 \n",
       " 0.0  -0.76593 \n",
       " 0.0  -0.76593 \n",
       " 0.0  -0.76593 \n",
       " 0.0  -0.76593 \n",
       " 1.0   0.922637\n",
       " ⋮             \n",
       " 0.0  -0.76593 \n",
       " 0.0  -0.76593 \n",
       " 0.0  -0.76593 \n",
       " 0.0  -0.76593 \n",
       " 1.0   0.922637\n",
       " 1.0   0.922637\n",
       " 1.0   0.922637\n",
       " 1.0   0.922637\n",
       " 1.0   0.922637\n",
       " 1.0   0.922637\n",
       " 0.0  -0.76593 \n",
       " 0.0  -0.76593 "
      ]
     },
     "execution_count": 31,
     "metadata": {},
     "output_type": "execute_result"
    }
   ],
   "source": [
    "[convert(Vector{Float64}, map4[:, 1]) convert(Vector{Float64}, map4[:, 1]; center = true, scale = true)]"
   ]
  },
  {
   "cell_type": "markdown",
   "metadata": {},
   "source": [
    "`copy!()` is the in-place version of `convert()`. Options such as GWAS loop over SNPs and perform statistical anlaysis for each SNP. This can be achieved by"
   ]
  },
  {
   "cell_type": "code",
   "execution_count": 32,
   "metadata": {
    "collapsed": false
   },
   "outputs": [],
   "source": [
    "g = zeros(size(map4, 1))\n",
    "for j = 1:size(map4, 2)\n",
    "    copy!(g, map4[:, j]; model = :additive, impute = true)\n",
    "    # do statistical anlaysis\n",
    "end"
   ]
  },
  {
   "cell_type": "markdown",
   "metadata": {},
   "source": [
    "## Empirical kinship\n",
    "\n",
    "`grm()` computes the empirical kinship matrix using either the genetic relationship matrix (`model=:GRM`, default) or the method of moment method (`model=:MoM`). Missing genotypes are imputed according to minor allele frequencies on the fly."
   ]
  },
  {
   "cell_type": "code",
   "execution_count": 33,
   "metadata": {
    "collapsed": false
   },
   "outputs": [
    {
     "data": {
      "text/plain": [
       "959x959 Array{Float64,2}:\n",
       "  0.380544    -0.001171     -0.0288245  …  -0.028186    0.0197438  \n",
       " -0.001171     0.0910801    -0.0226232     -0.0126247  -0.000119002\n",
       " -0.0288245   -0.0226232     0.641305       0.0814241  -0.0255233  \n",
       " -0.0050335    0.0150372    -0.0215443     -0.025145   -0.0039815  \n",
       " -0.024474    -0.022623      0.073076       0.142048   -0.0285776  \n",
       " -0.024404    -0.0256074     0.076275   …   0.0715203  -0.0285076  \n",
       "  0.0453891    0.0370275    -0.130117      -0.128325    0.0418238  \n",
       " -0.0218192   -0.0230977     0.0714131      0.0720706  -0.0243318  \n",
       "  0.032136    -0.00637036   -0.124575      -0.122782    0.016663   \n",
       " -0.00733452  -0.0426735    -0.0116094     -0.0109709  -0.0417872  \n",
       " -0.0311827   -0.0220789     0.089408   …   0.080414   -0.0266451  \n",
       " -0.0300756   -0.0226379     0.0839075      0.081521   -0.025538   \n",
       " -0.00867467   0.0113961    -0.0251854     -0.0287862  -0.00762267 \n",
       "  ⋮                                     ⋱                          \n",
       " -0.0215018   -0.0196507     0.0749234      0.0814968  -0.0256054  \n",
       " -0.0220613   -0.0202102     0.0743639      0.0809373  -0.0261649  \n",
       " -0.0220613   -0.0202102     0.0743639      0.0809373  -0.0261649  \n",
       " -0.0220613   -0.0202102     0.0743639  …   0.0809373  -0.0261649  \n",
       " -0.00552252   0.0215399    -0.0297947      0.0454225  -0.00447053 \n",
       "  0.00452624   0.0131579    -0.031806      -0.0311675  -0.00419474 \n",
       "  0.00452624   0.0131579    -0.031806      -0.0311675  -0.00419474 \n",
       " -0.00569008   0.0127146    -0.0263741     -0.0233674   0.245942   \n",
       " -0.00499065   0.013414     -0.0281089  …  -0.0251022   0.246642   \n",
       "  0.00284541   0.0114771    -0.0334868     -0.0328483  -0.00587557 \n",
       " -0.028186    -0.0126247     0.0814241      0.157856   -0.0225166  \n",
       "  0.0197438   -0.000119002  -0.0255233     -0.0225166   0.380877   "
      ]
     },
     "execution_count": 33,
     "metadata": {},
     "output_type": "execute_result"
    }
   ],
   "source": [
    "# GRM using all SNPs\n",
    "grm(map4)"
   ]
  },
  {
   "cell_type": "code",
   "execution_count": 34,
   "metadata": {
    "collapsed": false
   },
   "outputs": [
    {
     "data": {
      "text/plain": [
       "959x959 Array{Float64,2}:\n",
       "  0.07881      -0.000853301  -0.0235223  …  -0.0231723    0.0184407  \n",
       " -0.000853301   0.0354295    -0.0250093     -0.00734379  -0.000482591\n",
       " -0.0235223    -0.0250093     0.656679       0.0801822   -0.0209578  \n",
       " -0.00124231    0.0177249    -0.0253983     -0.0250484   -0.000871595\n",
       " -0.0204739    -0.0210335     0.0720974      0.123584    -0.0264231  \n",
       " -0.0174959    -0.0274966     0.0705212  …   0.0685633   -0.0234451  \n",
       "  0.0395097     0.0410407    -0.129707      -0.127049     0.0376866  \n",
       " -0.0157941    -0.0219088     0.0735532      0.0715953   -0.0178573  \n",
       "  0.0320641    -0.0128681    -0.129525      -0.126867     0.00642591 \n",
       " -0.0098777    -0.0480998    -0.0183572     -0.0180072   -0.0440483  \n",
       " -0.0189452    -0.0226958     0.0799405  …   0.0779826   -0.0186442  \n",
       " -0.0201318    -0.0238824     0.0787539      0.076796    -0.0198309  \n",
       " -0.0035757     0.0153915    -0.0277317     -0.0273818   -0.00320499 \n",
       "  ⋮                                      ⋱                           \n",
       " -0.0145687    -0.0151283     0.075753       0.0832363   -0.0205179  \n",
       " -0.0156877    -0.0162473     0.074634       0.0821173   -0.0216369  \n",
       " -0.0156877    -0.0162473     0.074634       0.0821173   -0.0216369  \n",
       " -0.0156877    -0.0162473     0.074634   …   0.0821173   -0.0216369  \n",
       " -0.00614428    0.0301385    -0.0326082      0.0313691   -0.00577357 \n",
       "  0.00408071    0.0145343    -0.0331664     -0.0328164   -0.00406228 \n",
       "  0.00408071    0.0145343    -0.0331664     -0.0328164   -0.00406228 \n",
       " -0.00236423    0.016603     -0.0265203     -0.0261703   -0.00199352 \n",
       " -0.00236423    0.016603     -0.0265203  …  -0.0261703   -0.00199352 \n",
       "  0.00295879    0.0134123    -0.0342883     -0.0339384   -0.0051842  \n",
       " -0.0231723    -0.00734379    0.0801822      0.141852    -0.0206078  \n",
       "  0.0184407    -0.000482591  -0.0209578     -0.0206078    0.135924   "
      ]
     },
     "execution_count": 34,
     "metadata": {},
     "output_type": "execute_result"
    }
   ],
   "source": [
    "# GRM using every other 3 SNP\n",
    "grm(sub(map4, :, 1:2:size(map4, 2)))"
   ]
  },
  {
   "cell_type": "code",
   "execution_count": 35,
   "metadata": {
    "collapsed": false
   },
   "outputs": [
    {
     "data": {
      "text/plain": [
       "959x959 Array{Float64,2}:\n",
       "  0.140001     -0.00682793   0.0211395    …   0.0281314     0.0281314 \n",
       " -0.00682793    0.119026     0.0630907        0.0910581    -0.0138198 \n",
       "  0.0211395     0.0630907    0.92309          0.874147      0.0281314 \n",
       " -0.0417872     0.0560988    0.049107         0.0421151    -0.0487791 \n",
       "  0.0211395     0.0281314    0.804228         0.853171     -0.00682793\n",
       "  0.0211395     0.0281314    0.81122      …   0.797236     -0.00682793\n",
       " -0.00682793   -0.00682793  -0.775933        -0.761949     -0.0417872 \n",
       "  0.0630907     0.0630907    0.81122          0.818212      0.0351232 \n",
       " -0.237559     -0.321462    -0.831867        -0.817884     -0.27951   \n",
       " -0.293494     -0.342437     0.0281314        0.0351232    -0.363413  \n",
       "  0.000163934   0.0560988    0.88813      …   0.860163      0.0141477 \n",
       "  0.00715579    0.0560988    0.867155         0.867155      0.0211395 \n",
       " -0.0837384     0.0141477    0.00715579       0.000163934  -0.0907303 \n",
       "  ⋮                                       ⋱                           \n",
       "  0.0560988     0.0630907    0.832195         0.853171      0.0281314 \n",
       "  0.049107      0.0560988    0.825203         0.846179      0.0211395 \n",
       "  0.049107      0.0560988    0.825203         0.846179      0.0211395 \n",
       "  0.049107      0.0560988    0.825203     …   0.846179      0.0211395 \n",
       " -0.055771      0.049107     0.000163934      0.0700825    -0.0627628 \n",
       "  0.0141477     0.0560988    0.00715579       0.0141477    -0.0417872 \n",
       "  0.0141477     0.0560988    0.00715579       0.0141477    -0.0417872 \n",
       " -0.0487791     0.0421151    0.0281314        0.049107     -0.0347954 \n",
       " -0.0487791     0.0421151    0.0141477    …   0.0351232    -0.0347954 \n",
       " -0.00682793    0.0351232   -0.0138198       -0.00682793   -0.0627628 \n",
       "  0.0281314     0.0910581    0.874147         0.951057      0.049107  \n",
       "  0.0281314    -0.0138198    0.0281314        0.049107      0.0910581 "
      ]
     },
     "execution_count": 35,
     "metadata": {},
     "output_type": "execute_result"
    }
   ],
   "source": [
    "# MoM using all SNPs\n",
    "grm(map4; method = :MoM)"
   ]
  },
  {
   "cell_type": "markdown",
   "metadata": {},
   "source": [
    "## PCA\n",
    "\n",
    "In progress ..."
   ]
  },
  {
   "cell_type": "code",
   "execution_count": 36,
   "metadata": {
    "collapsed": false
   },
   "outputs": [
    {
     "name": "stdout",
     "output_type": "stream",
     "text": [
      "Julia Version 0.4.5\n",
      "Commit 2ac304d (2016-03-18 00:58 UTC)\n",
      "Platform Info:\n",
      "  System: Darwin (x86_64-apple-darwin13.4.0)\n",
      "  CPU: Intel(R) Core(TM) i7-3720QM CPU @ 2.60GHz\n",
      "  WORD_SIZE: 64\n",
      "  BLAS: libopenblas (USE64BITINT DYNAMIC_ARCH NO_AFFINITY Sandybridge)\n",
      "  LAPACK: libopenblas64_\n",
      "  LIBM: libopenlibm\n",
      "  LLVM: libLLVM-3.3\n"
     ]
    }
   ],
   "source": [
    "versioninfo()"
   ]
  }
 ],
 "metadata": {
  "kernelspec": {
   "display_name": "Julia 0.4.5",
   "language": "julia",
   "name": "julia-0.4"
  },
  "language_info": {
   "file_extension": ".jl",
   "mimetype": "application/julia",
   "name": "julia",
   "version": "0.4.5"
  }
 },
 "nbformat": 4,
 "nbformat_minor": 0
}
